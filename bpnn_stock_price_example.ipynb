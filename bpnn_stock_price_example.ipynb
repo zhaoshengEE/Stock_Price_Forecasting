{
 "cells": [
  {
   "cell_type": "code",
   "execution_count": 45,
   "metadata": {},
   "outputs": [],
   "source": [
    "import numpy as np\n",
    "import pandas as pd\n",
    "import matplotlib.pyplot as plt"
   ]
  },
  {
   "cell_type": "markdown",
   "metadata": {},
   "source": [
    "### target值为第二天收盘时的价格。"
   ]
  },
  {
   "cell_type": "code",
   "execution_count": 46,
   "metadata": {},
   "outputs": [
    {
     "data": {
      "text/html": [
       "<div>\n",
       "<style scoped>\n",
       "    .dataframe tbody tr th:only-of-type {\n",
       "        vertical-align: middle;\n",
       "    }\n",
       "\n",
       "    .dataframe tbody tr th {\n",
       "        vertical-align: top;\n",
       "    }\n",
       "\n",
       "    .dataframe thead th {\n",
       "        text-align: right;\n",
       "    }\n",
       "</style>\n",
       "<table border=\"1\" class=\"dataframe\">\n",
       "  <thead>\n",
       "    <tr style=\"text-align: right;\">\n",
       "      <th></th>\n",
       "      <th>开盘</th>\n",
       "      <th>最高</th>\n",
       "      <th>最低</th>\n",
       "      <th>收盘</th>\n",
       "      <th>涨幅</th>\n",
       "      <th>振幅</th>\n",
       "      <th>总手</th>\n",
       "      <th>金额</th>\n",
       "      <th>换手%</th>\n",
       "      <th>成交次数</th>\n",
       "      <th>target</th>\n",
       "    </tr>\n",
       "  </thead>\n",
       "  <tbody>\n",
       "    <tr>\n",
       "      <th>6920</th>\n",
       "      <td>1630.46</td>\n",
       "      <td>1665.46</td>\n",
       "      <td>1614.20</td>\n",
       "      <td>1656.71</td>\n",
       "      <td>0.036</td>\n",
       "      <td>0.0321</td>\n",
       "      <td>118020026</td>\n",
       "      <td>1472909400</td>\n",
       "      <td>0.608</td>\n",
       "      <td>67052</td>\n",
       "      <td>1689.22</td>\n",
       "    </tr>\n",
       "    <tr>\n",
       "      <th>6921</th>\n",
       "      <td>1690.47</td>\n",
       "      <td>1714.22</td>\n",
       "      <td>1667.96</td>\n",
       "      <td>1689.22</td>\n",
       "      <td>0.0196</td>\n",
       "      <td>0.0279</td>\n",
       "      <td>113695774</td>\n",
       "      <td>1467535000</td>\n",
       "      <td>0.586</td>\n",
       "      <td>60751</td>\n",
       "      <td>1712.97</td>\n",
       "    </tr>\n",
       "    <tr>\n",
       "      <th>6922</th>\n",
       "      <td>1677.96</td>\n",
       "      <td>1747.98</td>\n",
       "      <td>1670.46</td>\n",
       "      <td>1712.97</td>\n",
       "      <td>0.0141</td>\n",
       "      <td>0.0459</td>\n",
       "      <td>107519243</td>\n",
       "      <td>1408651100</td>\n",
       "      <td>0.554</td>\n",
       "      <td>59522</td>\n",
       "      <td>1724.22</td>\n",
       "    </tr>\n",
       "    <tr>\n",
       "      <th>6923</th>\n",
       "      <td>1736.72</td>\n",
       "      <td>1752.98</td>\n",
       "      <td>1715.47</td>\n",
       "      <td>1724.22</td>\n",
       "      <td>0.0066</td>\n",
       "      <td>0.0219</td>\n",
       "      <td>65301888</td>\n",
       "      <td>861618660</td>\n",
       "      <td>0.337</td>\n",
       "      <td>38464</td>\n",
       "      <td>1697.97</td>\n",
       "    </tr>\n",
       "    <tr>\n",
       "      <th>6924</th>\n",
       "      <td>1686.72</td>\n",
       "      <td>1710.47</td>\n",
       "      <td>1675.46</td>\n",
       "      <td>1697.97</td>\n",
       "      <td>-0.0152</td>\n",
       "      <td>0.0203</td>\n",
       "      <td>66173879</td>\n",
       "      <td>852956240</td>\n",
       "      <td>0.341</td>\n",
       "      <td>37324</td>\n",
       "      <td>1680.46</td>\n",
       "    </tr>\n",
       "  </tbody>\n",
       "</table>\n",
       "</div>"
      ],
      "text/plain": [
       "           开盘       最高       最低       收盘      涨幅      振幅         总手  \\\n",
       "6920  1630.46  1665.46  1614.20  1656.71   0.036  0.0321  118020026   \n",
       "6921  1690.47  1714.22  1667.96  1689.22  0.0196  0.0279  113695774   \n",
       "6922  1677.96  1747.98  1670.46  1712.97  0.0141  0.0459  107519243   \n",
       "6923  1736.72  1752.98  1715.47  1724.22  0.0066  0.0219   65301888   \n",
       "6924  1686.72  1710.47  1675.46  1697.97 -0.0152  0.0203   66173879   \n",
       "\n",
       "              金额    换手%   成交次数   target  \n",
       "6920  1472909400  0.608  67052  1689.22  \n",
       "6921  1467535000  0.586  60751  1712.97  \n",
       "6922  1408651100  0.554  59522  1724.22  \n",
       "6923   861618660  0.337  38464  1697.97  \n",
       "6924   852956240  0.341  37324  1680.46  "
      ]
     },
     "execution_count": 46,
     "metadata": {},
     "output_type": "execute_result"
    }
   ],
   "source": [
    "df1=pd.read_excel('./stock-price-prediction-BPNN-LSTM/data.xlsx',0)\n",
    "df1=df1.iloc[3600:-10,1:]\n",
    "df1.tail()"
   ]
  },
  {
   "cell_type": "code",
   "execution_count": 47,
   "metadata": {},
   "outputs": [
    {
     "name": "stdout",
     "output_type": "stream",
     "text": [
      "(3325, 10)\n",
      "(3325,)\n"
     ]
    }
   ],
   "source": [
    "X=df1.iloc[:,:-1]\n",
    "y=df1['target']\n",
    "print(X.shape)\n",
    "print(y.shape)"
   ]
  },
  {
   "cell_type": "code",
   "execution_count": 49,
   "metadata": {},
   "outputs": [],
   "source": [
    "cut=10\n",
    "df_train=df1.iloc[:-cut]  ## 第一时间划分train test set\n",
    "df_test=df1.iloc[-cut:]"
   ]
  },
  {
   "cell_type": "code",
   "execution_count": null,
   "metadata": {},
   "outputs": [],
   "source": []
  },
  {
   "cell_type": "code",
   "execution_count": 41,
   "metadata": {},
   "outputs": [
    {
     "data": {
      "text/html": [
       "<div>\n",
       "<style scoped>\n",
       "    .dataframe tbody tr th:only-of-type {\n",
       "        vertical-align: middle;\n",
       "    }\n",
       "\n",
       "    .dataframe tbody tr th {\n",
       "        vertical-align: top;\n",
       "    }\n",
       "\n",
       "    .dataframe thead th {\n",
       "        text-align: right;\n",
       "    }\n",
       "</style>\n",
       "<table border=\"1\" class=\"dataframe\">\n",
       "  <thead>\n",
       "    <tr style=\"text-align: right;\">\n",
       "      <th></th>\n",
       "      <th>开盘</th>\n",
       "      <th>最高</th>\n",
       "      <th>最低</th>\n",
       "      <th>收盘</th>\n",
       "      <th>涨幅</th>\n",
       "      <th>振幅</th>\n",
       "      <th>总手</th>\n",
       "      <th>金额</th>\n",
       "      <th>换手%</th>\n",
       "      <th>成交次数</th>\n",
       "      <th>target</th>\n",
       "    </tr>\n",
       "  </thead>\n",
       "  <tbody>\n",
       "    <tr>\n",
       "      <th>0</th>\n",
       "      <td>0.000195</td>\n",
       "      <td>0.000000</td>\n",
       "      <td>0.000198</td>\n",
       "      <td>0.000586</td>\n",
       "      <td>0.543457</td>\n",
       "      <td>0.096101</td>\n",
       "      <td>0.003217</td>\n",
       "      <td>0.000000</td>\n",
       "      <td>0.026171</td>\n",
       "      <td>0.000000</td>\n",
       "      <td>0.000000</td>\n",
       "    </tr>\n",
       "    <tr>\n",
       "      <th>1</th>\n",
       "      <td>0.000586</td>\n",
       "      <td>0.000000</td>\n",
       "      <td>0.000000</td>\n",
       "      <td>0.000000</td>\n",
       "      <td>0.412587</td>\n",
       "      <td>0.126853</td>\n",
       "      <td>0.007019</td>\n",
       "      <td>0.000684</td>\n",
       "      <td>0.041722</td>\n",
       "      <td>0.001194</td>\n",
       "      <td>0.000293</td>\n",
       "    </tr>\n",
       "    <tr>\n",
       "      <th>2</th>\n",
       "      <td>0.000000</td>\n",
       "      <td>0.000096</td>\n",
       "      <td>0.000098</td>\n",
       "      <td>0.000293</td>\n",
       "      <td>0.543956</td>\n",
       "      <td>0.129599</td>\n",
       "      <td>0.006717</td>\n",
       "      <td>0.000637</td>\n",
       "      <td>0.040489</td>\n",
       "      <td>0.000437</td>\n",
       "      <td>0.000487</td>\n",
       "    </tr>\n",
       "    <tr>\n",
       "      <th>3</th>\n",
       "      <td>0.000293</td>\n",
       "      <td>0.000096</td>\n",
       "      <td>0.000395</td>\n",
       "      <td>0.000487</td>\n",
       "      <td>0.528472</td>\n",
       "      <td>0.080176</td>\n",
       "      <td>0.009546</td>\n",
       "      <td>0.001161</td>\n",
       "      <td>0.052152</td>\n",
       "      <td>0.001112</td>\n",
       "      <td>0.000389</td>\n",
       "    </tr>\n",
       "    <tr>\n",
       "      <th>4</th>\n",
       "      <td>0.000586</td>\n",
       "      <td>0.000096</td>\n",
       "      <td>0.000395</td>\n",
       "      <td>0.000389</td>\n",
       "      <td>0.485015</td>\n",
       "      <td>0.079627</td>\n",
       "      <td>0.008846</td>\n",
       "      <td>0.001027</td>\n",
       "      <td>0.049213</td>\n",
       "      <td>0.002331</td>\n",
       "      <td>0.002922</td>\n",
       "    </tr>\n",
       "  </tbody>\n",
       "</table>\n",
       "</div>"
      ],
      "text/plain": [
       "         开盘        最高        最低        收盘        涨幅        振幅        总手  \\\n",
       "0  0.000195  0.000000  0.000198  0.000586  0.543457  0.096101  0.003217   \n",
       "1  0.000586  0.000000  0.000000  0.000000  0.412587  0.126853  0.007019   \n",
       "2  0.000000  0.000096  0.000098  0.000293  0.543956  0.129599  0.006717   \n",
       "3  0.000293  0.000096  0.000395  0.000487  0.528472  0.080176  0.009546   \n",
       "4  0.000586  0.000096  0.000395  0.000389  0.485015  0.079627  0.008846   \n",
       "\n",
       "         金额       换手%      成交次数    target  \n",
       "0  0.000000  0.026171  0.000000  0.000000  \n",
       "1  0.000684  0.041722  0.001194  0.000293  \n",
       "2  0.000637  0.040489  0.000437  0.000487  \n",
       "3  0.001161  0.052152  0.001112  0.000389  \n",
       "4  0.001027  0.049213  0.002331  0.002922  "
      ]
     },
     "execution_count": 41,
     "metadata": {},
     "output_type": "execute_result"
    }
   ],
   "source": [
    "##进行数据归一化\n",
    "from sklearn import preprocessing  ## scaling\n",
    "min_max_scaler=preprocessing.MinMaxScaler()\n",
    "df0=min_max_scaler.fit_transform(df1)\n",
    "df=pd.DataFrame(df0,columns=df1.columns)\n",
    "df.head()"
   ]
  },
  {
   "cell_type": "code",
   "execution_count": 33,
   "metadata": {},
   "outputs": [],
   "source": [
    "y=pd.DataFrame(y.values,columns=['goal'])\n",
    "x=X\n",
    "cut=10 #最后10天的数据为test set\n",
    "X_train,X_test=x.iloc[:-cut],x.iloc[-cut:]\n",
    "y_train,y_test=y.iloc[:-cut],y.iloc[-cut:]\n",
    "X_train,X_test,y_train,y_test=X_train.values,X_test.values,y_train.values,y_test.values"
   ]
  },
  {
   "cell_type": "code",
   "execution_count": 34,
   "metadata": {},
   "outputs": [
    {
     "name": "stdout",
     "output_type": "stream",
     "text": [
      "33190\n",
      "100\n",
      "3319\n",
      "10\n"
     ]
    }
   ],
   "source": [
    "print(X_train.size)\n",
    "print(X_test.size)\n",
    "print(y_train.size)\n",
    "print(y_test.size)"
   ]
  },
  {
   "cell_type": "code",
   "execution_count": 35,
   "metadata": {},
   "outputs": [],
   "source": [
    "##build bp model and training\n",
    "from keras.models import Sequential\n",
    "from keras.layers.core import Dense,Activation\n",
    "from keras.optimizers import Adam"
   ]
  },
  {
   "cell_type": "code",
   "execution_count": 36,
   "metadata": {},
   "outputs": [
    {
     "name": "stdout",
     "output_type": "stream",
     "text": [
      "Epoch 1/50\n",
      "13/13 [==============================] - 0s 855us/step - loss: 5585815.5000\n",
      "Epoch 2/50\n",
      "13/13 [==============================] - 0s 839us/step - loss: 5585570.0000\n",
      "Epoch 3/50\n",
      "13/13 [==============================] - 0s 802us/step - loss: 5585278.5000\n",
      "Epoch 4/50\n",
      "13/13 [==============================] - 0s 856us/step - loss: 5584926.0000\n",
      "Epoch 5/50\n",
      "13/13 [==============================] - 0s 911us/step - loss: 5584509.0000\n",
      "Epoch 6/50\n",
      "13/13 [==============================] - 0s 798us/step - loss: 5584020.0000\n",
      "Epoch 7/50\n",
      "13/13 [==============================] - 0s 800us/step - loss: 5583470.5000\n",
      "Epoch 8/50\n",
      "13/13 [==============================] - 0s 874us/step - loss: 5582872.0000\n",
      "Epoch 9/50\n",
      "13/13 [==============================] - 0s 798us/step - loss: 5582249.5000\n",
      "Epoch 10/50\n",
      "13/13 [==============================] - 0s 954us/step - loss: 5581630.0000\n",
      "Epoch 11/50\n",
      "13/13 [==============================] - 0s 855us/step - loss: 5581034.0000\n",
      "Epoch 12/50\n",
      "13/13 [==============================] - 0s 791us/step - loss: 5580490.0000\n",
      "Epoch 13/50\n",
      "13/13 [==============================] - 0s 867us/step - loss: 5580000.5000\n",
      "Epoch 14/50\n",
      "13/13 [==============================] - 0s 819us/step - loss: 5579573.5000\n",
      "Epoch 15/50\n",
      "13/13 [==============================] - 0s 952us/step - loss: 5579198.0000\n",
      "Epoch 16/50\n",
      "13/13 [==============================] - 0s 978us/step - loss: 5578875.0000\n",
      "Epoch 17/50\n",
      "13/13 [==============================] - 0s 876us/step - loss: 5578587.0000\n",
      "Epoch 18/50\n",
      "13/13 [==============================] - 0s 820us/step - loss: 5578334.5000\n",
      "Epoch 19/50\n",
      "13/13 [==============================] - 0s 1ms/step - loss: 5578104.5000\n",
      "Epoch 20/50\n",
      "13/13 [==============================] - 0s 862us/step - loss: 5577895.5000\n",
      "Epoch 21/50\n",
      "13/13 [==============================] - 0s 814us/step - loss: 5577703.5000\n",
      "Epoch 22/50\n",
      "13/13 [==============================] - 0s 958us/step - loss: 5577523.5000\n",
      "Epoch 23/50\n",
      "13/13 [==============================] - 0s 887us/step - loss: 5577354.0000\n",
      "Epoch 24/50\n",
      "13/13 [==============================] - 0s 829us/step - loss: 5577193.5000\n",
      "Epoch 25/50\n",
      "13/13 [==============================] - 0s 950us/step - loss: 5577039.0000\n",
      "Epoch 26/50\n",
      "13/13 [==============================] - 0s 1ms/step - loss: 5576891.0000\n",
      "Epoch 27/50\n",
      "13/13 [==============================] - 0s 1ms/step - loss: 5576748.0000\n",
      "Epoch 28/50\n",
      "13/13 [==============================] - 0s 1ms/step - loss: 5576609.0000\n",
      "Epoch 29/50\n",
      "13/13 [==============================] - 0s 1ms/step - loss: 5576474.5000\n",
      "Epoch 30/50\n",
      "13/13 [==============================] - 0s 1ms/step - loss: 5576341.0000\n",
      "Epoch 31/50\n",
      "13/13 [==============================] - 0s 1ms/step - loss: 5576211.5000\n",
      "Epoch 32/50\n",
      "13/13 [==============================] - 0s 1ms/step - loss: 5576082.5000\n",
      "Epoch 33/50\n",
      "13/13 [==============================] - 0s 1ms/step - loss: 5575956.5000\n",
      "Epoch 34/50\n",
      "13/13 [==============================] - 0s 1ms/step - loss: 5575833.5000\n",
      "Epoch 35/50\n",
      "13/13 [==============================] - 0s 1ms/step - loss: 5575710.5000\n",
      "Epoch 36/50\n",
      "13/13 [==============================] - 0s 1ms/step - loss: 5575589.5000\n",
      "Epoch 37/50\n",
      "13/13 [==============================] - 0s 1ms/step - loss: 5575468.5000\n",
      "Epoch 38/50\n",
      "13/13 [==============================] - 0s 1ms/step - loss: 5575351.5000\n",
      "Epoch 39/50\n",
      "13/13 [==============================] - 0s 1ms/step - loss: 5575233.5000\n",
      "Epoch 40/50\n",
      "13/13 [==============================] - 0s 1ms/step - loss: 5575115.5000\n",
      "Epoch 41/50\n",
      "13/13 [==============================] - 0s 1ms/step - loss: 5574999.5000\n",
      "Epoch 42/50\n",
      "13/13 [==============================] - 0s 1ms/step - loss: 5574884.5000\n",
      "Epoch 43/50\n",
      "13/13 [==============================] - 0s 970us/step - loss: 5574769.5000\n",
      "Epoch 44/50\n",
      "13/13 [==============================] - 0s 896us/step - loss: 5574655.0000\n",
      "Epoch 45/50\n",
      "13/13 [==============================] - 0s 797us/step - loss: 5574542.0000\n",
      "Epoch 46/50\n",
      "13/13 [==============================] - 0s 870us/step - loss: 5574428.5000\n",
      "Epoch 47/50\n",
      "13/13 [==============================] - 0s 937us/step - loss: 5574316.0000\n",
      "Epoch 48/50\n",
      "13/13 [==============================] - 0s 1ms/step - loss: 5574203.5000\n",
      "Epoch 49/50\n",
      "13/13 [==============================] - 0s 1ms/step - loss: 5574092.5000\n",
      "Epoch 50/50\n",
      "13/13 [==============================] - 0s 872us/step - loss: 5573980.5000\n"
     ]
    },
    {
     "data": {
      "text/plain": [
       "<tensorflow.python.keras.callbacks.History at 0x7ff08f1ad8e0>"
      ]
     },
     "execution_count": 36,
     "metadata": {},
     "output_type": "execute_result"
    }
   ],
   "source": [
    "model=Sequential()  #层次（堆叠）模型\n",
    "model.add(Dense(16,input_dim=10,kernel_initializer='uniform'))\n",
    "model.add(Activation('relu')) # 添加激活函数\n",
    "model.add(Dense(4,kernel_initializer='uniform')) #中间层\n",
    "model.add(Activation('sigmoid')) # 添加激活函数\n",
    "model.add(Dense(1))  ##输出层\n",
    "model.compile(loss='mean_squared_error',optimizer='Adam') #编译模型\n",
    "model.fit(X_train,y_train,epochs=50,batch_size=256)"
   ]
  },
  {
   "cell_type": "code",
   "execution_count": 37,
   "metadata": {},
   "outputs": [
    {
     "name": "stdout",
     "output_type": "stream",
     "text": [
      "Model: \"sequential_1\"\n",
      "_________________________________________________________________\n",
      "Layer (type)                 Output Shape              Param #   \n",
      "=================================================================\n",
      "dense_3 (Dense)              (None, 16)                176       \n",
      "_________________________________________________________________\n",
      "activation_2 (Activation)    (None, 16)                0         \n",
      "_________________________________________________________________\n",
      "dense_4 (Dense)              (None, 4)                 68        \n",
      "_________________________________________________________________\n",
      "activation_3 (Activation)    (None, 4)                 0         \n",
      "_________________________________________________________________\n",
      "dense_5 (Dense)              (None, 1)                 5         \n",
      "=================================================================\n",
      "Total params: 249\n",
      "Trainable params: 249\n",
      "Non-trainable params: 0\n",
      "_________________________________________________________________\n"
     ]
    }
   ],
   "source": [
    "model.summary()"
   ]
  },
  {
   "cell_type": "code",
   "execution_count": 38,
   "metadata": {},
   "outputs": [],
   "source": [
    "y_train_predict=model.predict(X_train)"
   ]
  },
  {
   "cell_type": "code",
   "execution_count": 39,
   "metadata": {},
   "outputs": [
    {
     "data": {
      "text/plain": [
       "3319"
      ]
     },
     "execution_count": 39,
     "metadata": {},
     "output_type": "execute_result"
    }
   ],
   "source": [
    "y_train_predict=y_train_predict[:,0]\n",
    "len(y_train_predict)"
   ]
  },
  {
   "cell_type": "code",
   "execution_count": 40,
   "metadata": {},
   "outputs": [
    {
     "data": {
      "text/html": [
       "<div>\n",
       "<style scoped>\n",
       "    .dataframe tbody tr th:only-of-type {\n",
       "        vertical-align: middle;\n",
       "    }\n",
       "\n",
       "    .dataframe tbody tr th {\n",
       "        vertical-align: top;\n",
       "    }\n",
       "\n",
       "    .dataframe thead th {\n",
       "        text-align: right;\n",
       "    }\n",
       "</style>\n",
       "<table border=\"1\" class=\"dataframe\">\n",
       "  <thead>\n",
       "    <tr style=\"text-align: right;\">\n",
       "      <th></th>\n",
       "      <th>0</th>\n",
       "      <th>0</th>\n",
       "    </tr>\n",
       "  </thead>\n",
       "  <tbody>\n",
       "    <tr>\n",
       "      <th>0</th>\n",
       "      <td>185.26</td>\n",
       "      <td>2.268817</td>\n",
       "    </tr>\n",
       "    <tr>\n",
       "      <th>1</th>\n",
       "      <td>186.90</td>\n",
       "      <td>2.243911</td>\n",
       "    </tr>\n",
       "    <tr>\n",
       "      <th>2</th>\n",
       "      <td>187.99</td>\n",
       "      <td>2.282349</td>\n",
       "    </tr>\n",
       "    <tr>\n",
       "      <th>3</th>\n",
       "      <td>187.44</td>\n",
       "      <td>2.269850</td>\n",
       "    </tr>\n",
       "    <tr>\n",
       "      <th>4</th>\n",
       "      <td>201.63</td>\n",
       "      <td>2.256283</td>\n",
       "    </tr>\n",
       "    <tr>\n",
       "      <th>...</th>\n",
       "      <td>...</td>\n",
       "      <td>...</td>\n",
       "    </tr>\n",
       "    <tr>\n",
       "      <th>3314</th>\n",
       "      <td>4634.03</td>\n",
       "      <td>2.458522</td>\n",
       "    </tr>\n",
       "    <tr>\n",
       "      <th>3315</th>\n",
       "      <td>4577.73</td>\n",
       "      <td>2.457650</td>\n",
       "    </tr>\n",
       "    <tr>\n",
       "      <th>3316</th>\n",
       "      <td>4512.28</td>\n",
       "      <td>2.457775</td>\n",
       "    </tr>\n",
       "    <tr>\n",
       "      <th>3317</th>\n",
       "      <td>4393.15</td>\n",
       "      <td>2.457950</td>\n",
       "    </tr>\n",
       "    <tr>\n",
       "      <th>3318</th>\n",
       "      <td>4336.86</td>\n",
       "      <td>2.457309</td>\n",
       "    </tr>\n",
       "  </tbody>\n",
       "</table>\n",
       "<p>3319 rows × 2 columns</p>\n",
       "</div>"
      ],
      "text/plain": [
       "            0         0\n",
       "0      185.26  2.268817\n",
       "1      186.90  2.243911\n",
       "2      187.99  2.282349\n",
       "3      187.44  2.269850\n",
       "4      201.63  2.256283\n",
       "...       ...       ...\n",
       "3314  4634.03  2.458522\n",
       "3315  4577.73  2.457650\n",
       "3316  4512.28  2.457775\n",
       "3317  4393.15  2.457950\n",
       "3318  4336.86  2.457309\n",
       "\n",
       "[3319 rows x 2 columns]"
      ]
     },
     "execution_count": 40,
     "metadata": {},
     "output_type": "execute_result"
    }
   ],
   "source": [
    "draw=pd.concat([pd.DataFrame(y_train),pd.DataFrame(y_train_predict)],axis=1)\n",
    "draw"
   ]
  },
  {
   "cell_type": "code",
   "execution_count": 17,
   "metadata": {},
   "outputs": [
    {
     "data": {
      "text/plain": [
       "Text(0.5, 1.0, 'Train Data')"
      ]
     },
     "execution_count": 17,
     "metadata": {},
     "output_type": "execute_result"
    },
    {
     "data": {
      "image/png": "[encoded data removed]",
      "text/plain": [
       "<Figure size 864x432 with 1 Axes>"
      ]
     },
     "metadata": {
      "needs_background": "light"
     },
     "output_type": "display_data"
    }
   ],
   "source": [
    "draw.iloc[100:400,0].plot(figsize=(12,6))\n",
    "draw.iloc[100:400,1].plot(figsize=(12,6))\n",
    "plt.legend(('real','predict'),fontsize='15')\n",
    "plt.title('Train Data',fontsize='30')"
   ]
  },
  {
   "cell_type": "code",
   "execution_count": 18,
   "metadata": {},
   "outputs": [],
   "source": [
    "# predict the test set\n",
    "y_test_predict=model.predict(X_test)\n",
    "y_test_predict=y_test_predict[:,0]"
   ]
  },
  {
   "cell_type": "code",
   "execution_count": 19,
   "metadata": {},
   "outputs": [
    {
     "data": {
      "text/plain": [
       "Text(0.5, 1.0, 'Test Data')"
      ]
     },
     "execution_count": 19,
     "metadata": {},
     "output_type": "execute_result"
    },
    {
     "data": {
      "image/png": "[encoded data removed]",
      "text/plain": [
       "<Figure size 864x432 with 1 Axes>"
      ]
     },
     "metadata": {
      "needs_background": "light"
     },
     "output_type": "display_data"
    }
   ],
   "source": [
    "draw=pd.concat([pd.DataFrame(y_test),pd.DataFrame(y_test_predict)],axis=1)\n",
    "draw.iloc[:,0].plot(figsize=(12,6))\n",
    "draw.iloc[:,1].plot(figsize=(12,6))\n",
    "plt.legend(('real','predict'),fontsize='15')\n",
    "plt.title('Test Data',fontsize='30')"
   ]
  },
  {
   "cell_type": "code",
   "execution_count": 22,
   "metadata": {},
   "outputs": [
    {
     "name": "stdout",
     "output_type": "stream",
     "text": [
      "Training data: MAE/MSE/MAPE\n",
      "0.009530024151069759\n",
      "0.00020478714546926695\n",
      "inf\n",
      "Test data: MAE/MSE/MAPE\n",
      "0.018754584958072317\n",
      "0.000490748255466852\n",
      "3.0307287589172933\n"
     ]
    },
    {
     "name": "stderr",
     "output_type": "stream",
     "text": [
      "<ipython-input-22-720e7c2dd7bf>:7: RuntimeWarning: divide by zero encountered in true_divide\n",
      "  return np.mean(np.abs((y_pred-y_true)/y_true))*100\n"
     ]
    }
   ],
   "source": [
    "#输出结果\n",
    "\n",
    "from sklearn.metrics import mean_absolute_error\n",
    "from sklearn.metrics import mean_squared_error\n",
    "import math\n",
    "def mape(y_pred,y_true):\n",
    "    return np.mean(np.abs((y_pred-y_true)/y_true))*100\n",
    "print('Training data: MAE/MSE/MAPE')\n",
    "print(mean_absolute_error(y_train_predict, y_train))\n",
    "print(mean_squared_error(y_train_predict, y_train) )\n",
    "print(mape(y_train_predict,y_train) )\n",
    "print('Test data: MAE/MSE/MAPE')\n",
    "print(mean_absolute_error(y_test_predict, y_test))\n",
    "print(mean_squared_error(y_test_predict, y_test) )\n",
    "print(mape(y_test_predict,y_test))"
   ]
  },
  {
   "cell_type": "code",
   "execution_count": 23,
   "metadata": {},
   "outputs": [
    {
     "name": "stdout",
     "output_type": "stream",
     "text": [
      "预测涨跌正确: 0.2222222222222222\n"
     ]
    }
   ],
   "source": [
    "y_var_test=y_test[1:]-y_test[:len(y_test)-1]\n",
    "y_var_predict=y_test_predict[1:]-y_test_predict[:len(y_test_predict)-1]\n",
    "txt=np.zeros(len(y_var_test))\n",
    "for i in range(len(y_var_test)-1):\n",
    "    txt[i]=np.sign(y_var_test[i])==np.sign(y_var_predict[i])\n",
    "result=sum(txt)/len(txt)\n",
    "print('预测涨跌正确:',result)"
   ]
  },
  {
   "cell_type": "code",
   "execution_count": null,
   "metadata": {},
   "outputs": [],
   "source": []
  }
 ],
 "metadata": {
  "kernelspec": {
   "display_name": "Python 3",
   "language": "python",
   "name": "python3"
  },
  "language_info": {
   "codemirror_mode": {
    "name": "ipython",
    "version": 3
   },
   "file_extension": ".py",
   "mimetype": "text/x-python",
   "name": "python",
   "nbconvert_exporter": "python",
   "pygments_lexer": "ipython3",
   "version": "3.8.3"
  }
 },
 "nbformat": 4,
 "nbformat_minor": 4
}
