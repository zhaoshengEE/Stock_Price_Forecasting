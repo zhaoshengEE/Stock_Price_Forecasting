{
 "cells": [
  {
   "cell_type": "code",
   "execution_count": null,
   "metadata": {},
   "outputs": [],
   "source": []
  },
  {
   "cell_type": "markdown",
   "metadata": {},
   "source": [
    "***\n",
    "##### This module defines a Recurrent Neural Network (RNN) model, whose kernel function is radial basis fucntion. The main task is to train a SVR model to do stock price forecasting. \n",
    "\n",
    "##### This module split the original data set into training set and test set. After training the SVR model with the training set, this module computes the root mean square error (RMSE) and the coefficient of determination (R<sup>2</sup>) in the test set. In order to improve the data visualization, this module also plots the actual stock price and the predicted stock price on the same figure.\n",
    " \n",
    "##### Authored by Menghong Huang and Zhaosheng Li.\n",
    "***"
   ]
  },
  {
   "cell_type": "markdown",
   "metadata": {},
   "source": [
    "## Import Dependencies"
   ]
  },
  {
   "cell_type": "code",
   "execution_count": 1,
   "metadata": {},
   "outputs": [],
   "source": [
    "%matplotlib inline\n",
    "import numpy as np\n",
    "import matplotlib.pyplot as plt \n",
    "import pandas as pd             # For loading the data into dataframe\n",
    "\n",
    "# For calculating RMSE, the usage refers to https://stackoverflow.com/a/18623635 \n",
    "from sklearn.metrics import mean_squared_error\n",
    "from math import sqrt\n",
    "from math import ceil\n",
    "\n",
    "# For calculating the coefficient of determination (R^2), \n",
    "# the usage refers to https://scikit-learn.org/stable/modules/generated/sklearn.metrics.r2_score.html\n",
    "from sklearn.metrics import r2_score\n",
    "\n",
    "import matplotlib.dates as mdates # For converting the 'date' into numerical variable\n",
    "import joblib  # For saving and loading model\n",
    "\n",
    "# Apply normalization before feeding to LSTM using sklearn\n",
    "from sklearn.preprocessing import MinMaxScaler \n",
    "\n",
    "# Import some dependencies that will be used in modeling RNN\n",
    "import keras\n",
    "from keras.layers import Dense, LSTM, Dropout\n",
    "from keras.models import Sequential\n",
    "from sklearn.model_selection import train_test_split"
   ]
  },
  {
   "cell_type": "markdown",
   "metadata": {},
   "source": [
    "## Load data into dataframe"
   ]
  },
  {
   "cell_type": "code",
   "execution_count": 2,
   "metadata": {},
   "outputs": [],
   "source": [
    "df = pd.read_csv(\"data/GME_stock.csv\")"
   ]
  },
  {
   "cell_type": "code",
   "execution_count": 3,
   "metadata": {},
   "outputs": [],
   "source": [
    "df.reset_index(inplace = True)\n",
    "df.set_index(\"date\", inplace = True)"
   ]
  },
  {
   "cell_type": "code",
   "execution_count": 4,
   "metadata": {},
   "outputs": [
    {
     "data": {
      "text/html": [
       "<div>\n",
       "<style scoped>\n",
       "    .dataframe tbody tr th:only-of-type {\n",
       "        vertical-align: middle;\n",
       "    }\n",
       "\n",
       "    .dataframe tbody tr th {\n",
       "        vertical-align: top;\n",
       "    }\n",
       "\n",
       "    .dataframe thead th {\n",
       "        text-align: right;\n",
       "    }\n",
       "</style>\n",
       "<table border=\"1\" class=\"dataframe\">\n",
       "  <thead>\n",
       "    <tr style=\"text-align: right;\">\n",
       "      <th></th>\n",
       "      <th>index</th>\n",
       "      <th>open_price</th>\n",
       "      <th>high_price</th>\n",
       "      <th>low_price</th>\n",
       "      <th>close_price</th>\n",
       "      <th>volume</th>\n",
       "      <th>adjclose_price</th>\n",
       "    </tr>\n",
       "    <tr>\n",
       "      <th>date</th>\n",
       "      <th></th>\n",
       "      <th></th>\n",
       "      <th></th>\n",
       "      <th></th>\n",
       "      <th></th>\n",
       "      <th></th>\n",
       "      <th></th>\n",
       "    </tr>\n",
       "  </thead>\n",
       "  <tbody>\n",
       "    <tr>\n",
       "      <th>2002-02-13</th>\n",
       "      <td>0</td>\n",
       "      <td>9.625</td>\n",
       "      <td>10.060</td>\n",
       "      <td>9.525</td>\n",
       "      <td>10.050</td>\n",
       "      <td>19054000</td>\n",
       "      <td>6.766666</td>\n",
       "    </tr>\n",
       "    <tr>\n",
       "      <th>2002-02-14</th>\n",
       "      <td>1</td>\n",
       "      <td>10.175</td>\n",
       "      <td>10.195</td>\n",
       "      <td>9.925</td>\n",
       "      <td>10.000</td>\n",
       "      <td>2755400</td>\n",
       "      <td>6.733003</td>\n",
       "    </tr>\n",
       "    <tr>\n",
       "      <th>2002-02-15</th>\n",
       "      <td>2</td>\n",
       "      <td>10.000</td>\n",
       "      <td>10.025</td>\n",
       "      <td>9.850</td>\n",
       "      <td>9.950</td>\n",
       "      <td>2097400</td>\n",
       "      <td>6.699336</td>\n",
       "    </tr>\n",
       "    <tr>\n",
       "      <th>2002-02-19</th>\n",
       "      <td>3</td>\n",
       "      <td>9.900</td>\n",
       "      <td>9.900</td>\n",
       "      <td>9.375</td>\n",
       "      <td>9.550</td>\n",
       "      <td>1852600</td>\n",
       "      <td>6.430017</td>\n",
       "    </tr>\n",
       "    <tr>\n",
       "      <th>2002-02-20</th>\n",
       "      <td>4</td>\n",
       "      <td>9.600</td>\n",
       "      <td>9.875</td>\n",
       "      <td>9.525</td>\n",
       "      <td>9.875</td>\n",
       "      <td>1723200</td>\n",
       "      <td>6.648838</td>\n",
       "    </tr>\n",
       "  </tbody>\n",
       "</table>\n",
       "</div>"
      ],
      "text/plain": [
       "            index  open_price  high_price  low_price  close_price    volume  \\\n",
       "date                                                                          \n",
       "2002-02-13      0       9.625      10.060      9.525       10.050  19054000   \n",
       "2002-02-14      1      10.175      10.195      9.925       10.000   2755400   \n",
       "2002-02-15      2      10.000      10.025      9.850        9.950   2097400   \n",
       "2002-02-19      3       9.900       9.900      9.375        9.550   1852600   \n",
       "2002-02-20      4       9.600       9.875      9.525        9.875   1723200   \n",
       "\n",
       "            adjclose_price  \n",
       "date                        \n",
       "2002-02-13        6.766666  \n",
       "2002-02-14        6.733003  \n",
       "2002-02-15        6.699336  \n",
       "2002-02-19        6.430017  \n",
       "2002-02-20        6.648838  "
      ]
     },
     "execution_count": 4,
     "metadata": {},
     "output_type": "execute_result"
    }
   ],
   "source": [
    "df.head()"
   ]
  },
  {
   "cell_type": "code",
   "execution_count": 5,
   "metadata": {},
   "outputs": [],
   "source": [
    "dates_training = pd.to_datetime(df.index[:ceil(len(df)*0.8)])\n",
    "dates_test = pd.to_datetime(df.index[ceil(len(df)*0.8):])"
   ]
  },
  {
   "cell_type": "code",
   "execution_count": null,
   "metadata": {},
   "outputs": [],
   "source": []
  },
  {
   "cell_type": "code",
   "execution_count": null,
   "metadata": {},
   "outputs": [],
   "source": []
  },
  {
   "cell_type": "code",
   "execution_count": 6,
   "metadata": {},
   "outputs": [],
   "source": [
    "close_price = df[['close_price']]"
   ]
  },
  {
   "cell_type": "code",
   "execution_count": 7,
   "metadata": {},
   "outputs": [
    {
     "data": {
      "text/html": [
       "<div>\n",
       "<style scoped>\n",
       "    .dataframe tbody tr th:only-of-type {\n",
       "        vertical-align: middle;\n",
       "    }\n",
       "\n",
       "    .dataframe tbody tr th {\n",
       "        vertical-align: top;\n",
       "    }\n",
       "\n",
       "    .dataframe thead th {\n",
       "        text-align: right;\n",
       "    }\n",
       "</style>\n",
       "<table border=\"1\" class=\"dataframe\">\n",
       "  <thead>\n",
       "    <tr style=\"text-align: right;\">\n",
       "      <th></th>\n",
       "      <th>close_price</th>\n",
       "    </tr>\n",
       "    <tr>\n",
       "      <th>date</th>\n",
       "      <th></th>\n",
       "    </tr>\n",
       "  </thead>\n",
       "  <tbody>\n",
       "    <tr>\n",
       "      <th>2002-02-13</th>\n",
       "      <td>10.050</td>\n",
       "    </tr>\n",
       "    <tr>\n",
       "      <th>2002-02-14</th>\n",
       "      <td>10.000</td>\n",
       "    </tr>\n",
       "    <tr>\n",
       "      <th>2002-02-15</th>\n",
       "      <td>9.950</td>\n",
       "    </tr>\n",
       "    <tr>\n",
       "      <th>2002-02-19</th>\n",
       "      <td>9.550</td>\n",
       "    </tr>\n",
       "    <tr>\n",
       "      <th>2002-02-20</th>\n",
       "      <td>9.875</td>\n",
       "    </tr>\n",
       "  </tbody>\n",
       "</table>\n",
       "</div>"
      ],
      "text/plain": [
       "            close_price\n",
       "date                   \n",
       "2002-02-13       10.050\n",
       "2002-02-14       10.000\n",
       "2002-02-15        9.950\n",
       "2002-02-19        9.550\n",
       "2002-02-20        9.875"
      ]
     },
     "execution_count": 7,
     "metadata": {},
     "output_type": "execute_result"
    }
   ],
   "source": [
    "close_price.head()"
   ]
  },
  {
   "cell_type": "code",
   "execution_count": 8,
   "metadata": {},
   "outputs": [],
   "source": [
    "scaler = MinMaxScaler(feature_range = (0,1))"
   ]
  },
  {
   "cell_type": "code",
   "execution_count": 9,
   "metadata": {},
   "outputs": [],
   "source": [
    "df_scaled = scaler.fit_transform(df.values)[:, 1:]\n",
    "close_price = scaler.fit_transform(close_price.values)"
   ]
  },
  {
   "cell_type": "code",
   "execution_count": null,
   "metadata": {},
   "outputs": [],
   "source": []
  },
  {
   "cell_type": "code",
   "execution_count": 10,
   "metadata": {},
   "outputs": [],
   "source": [
    "time_steps = 30"
   ]
  },
  {
   "cell_type": "code",
   "execution_count": 11,
   "metadata": {},
   "outputs": [],
   "source": [
    "X = []\n",
    "y = []\n",
    "for index in range(time_steps, df_scaled.shape[0] - time_steps):\n",
    "    X.append(df_scaled[index - time_steps:index, :])\n",
    "    y.append(close_price[index + time_steps, :])"
   ]
  },
  {
   "cell_type": "code",
   "execution_count": 12,
   "metadata": {},
   "outputs": [
    {
     "data": {
      "text/plain": [
       "6"
      ]
     },
     "execution_count": 12,
     "metadata": {},
     "output_type": "execute_result"
    }
   ],
   "source": [
    "features = X[0].shape[1]\n",
    "features"
   ]
  },
  {
   "cell_type": "code",
   "execution_count": 48,
   "metadata": {},
   "outputs": [
    {
     "data": {
      "text/plain": [
       "4773"
      ]
     },
     "execution_count": 48,
     "metadata": {},
     "output_type": "execute_result"
    }
   ],
   "source": [
    "df_scaled.shape[0]"
   ]
  },
  {
   "cell_type": "code",
   "execution_count": 55,
   "metadata": {},
   "outputs": [
    {
     "data": {
      "text/plain": [
       "array([[ 11.02999973],\n",
       "       [ 10.75      ],\n",
       "       [ 10.39999962],\n",
       "       ...,\n",
       "       [147.9799957 ],\n",
       "       [347.5100098 ],\n",
       "       [193.6000061 ]])"
      ]
     },
     "execution_count": 55,
     "metadata": {},
     "output_type": "execute_result"
    }
   ],
   "source": [
    "scaler.inverse_transform(np.array(y))"
   ]
  },
  {
   "cell_type": "code",
   "execution_count": 13,
   "metadata": {},
   "outputs": [],
   "source": [
    "X_train, X_test, y_train, y_test = train_test_split(X, y, test_size = 0.2, shuffle = False)"
   ]
  },
  {
   "cell_type": "code",
   "execution_count": 14,
   "metadata": {},
   "outputs": [
    {
     "data": {
      "text/plain": [
       "(30, 6)"
      ]
     },
     "execution_count": 14,
     "metadata": {},
     "output_type": "execute_result"
    }
   ],
   "source": [
    "X_train[0].shape"
   ]
  },
  {
   "cell_type": "code",
   "execution_count": 15,
   "metadata": {},
   "outputs": [
    {
     "data": {
      "text/plain": [
       "3770"
      ]
     },
     "execution_count": 15,
     "metadata": {},
     "output_type": "execute_result"
    }
   ],
   "source": [
    "len(X_train)"
   ]
  },
  {
   "cell_type": "code",
   "execution_count": 16,
   "metadata": {},
   "outputs": [
    {
     "data": {
      "text/plain": [
       "943"
      ]
     },
     "execution_count": 16,
     "metadata": {},
     "output_type": "execute_result"
    }
   ],
   "source": [
    "len(X_test)"
   ]
  },
  {
   "cell_type": "code",
   "execution_count": 17,
   "metadata": {},
   "outputs": [
    {
     "data": {
      "text/plain": [
       "(1,)"
      ]
     },
     "execution_count": 17,
     "metadata": {},
     "output_type": "execute_result"
    }
   ],
   "source": [
    "y_train[0].shape"
   ]
  },
  {
   "cell_type": "code",
   "execution_count": 30,
   "metadata": {},
   "outputs": [
    {
     "name": "stdout",
     "output_type": "stream",
     "text": [
      "Model: \"sequential_1\"\n",
      "_________________________________________________________________\n",
      "Layer (type)                 Output Shape              Param #   \n",
      "=================================================================\n",
      "lstm_3 (LSTM)                (None, 30, 200)           165600    \n",
      "_________________________________________________________________\n",
      "dropout_3 (Dropout)          (None, 30, 200)           0         \n",
      "_________________________________________________________________\n",
      "lstm_4 (LSTM)                (None, 30, 200)           320800    \n",
      "_________________________________________________________________\n",
      "dropout_4 (Dropout)          (None, 30, 200)           0         \n",
      "_________________________________________________________________\n",
      "lstm_5 (LSTM)                (None, 200)               320800    \n",
      "_________________________________________________________________\n",
      "dropout_5 (Dropout)          (None, 200)               0         \n",
      "_________________________________________________________________\n",
      "dense_1 (Dense)              (None, 1)                 201       \n",
      "=================================================================\n",
      "Total params: 807,401\n",
      "Trainable params: 807,401\n",
      "Non-trainable params: 0\n",
      "_________________________________________________________________\n"
     ]
    }
   ],
   "source": [
    "model = Sequential()\n",
    "\n",
    "model.add(LSTM(units = 200, return_sequences = True, input_shape = (time_steps, features)))\n",
    "model.add(Dropout(0.2))\n",
    "model.add(LSTM(units = 200, return_sequences = True))\n",
    "model.add(Dropout(0.2))\n",
    "model.add(LSTM(units = 200))\n",
    "model.add(Dropout(0.2))\n",
    "model.add(Dense(units = 1))\n",
    "\n",
    "model.summary()\n",
    "model.compile(optimizer = 'adam', loss = 'mean_squared_error')"
   ]
  },
  {
   "cell_type": "code",
   "execution_count": 31,
   "metadata": {},
   "outputs": [
    {
     "name": "stdout",
     "output_type": "stream",
     "text": [
      "Epoch 1/100\n",
      "118/118 [==============================] - 28s 172ms/step - loss: 5.5645e-04\n",
      "Epoch 2/100\n",
      "118/118 [==============================] - 20s 169ms/step - loss: 2.1432e-04\n",
      "Epoch 3/100\n",
      "118/118 [==============================] - 20s 168ms/step - loss: 2.0437e-04\n",
      "Epoch 4/100\n",
      "118/118 [==============================] - 20s 166ms/step - loss: 2.0564e-04\n",
      "Epoch 5/100\n",
      "118/118 [==============================] - ETA: 0s - loss: 1.9176e-0 - 20s 174ms/step - loss: 1.9176e-04\n",
      "Epoch 6/100\n",
      "118/118 [==============================] - 20s 166ms/step - loss: 1.9470e-04\n",
      "Epoch 7/100\n",
      "118/118 [==============================] - 20s 165ms/step - loss: 1.8703e-04\n",
      "Epoch 8/100\n",
      "118/118 [==============================] - 20s 168ms/step - loss: 1.9209e-04\n",
      "Epoch 9/100\n",
      "118/118 [==============================] - 20s 170ms/step - loss: 1.8892e-04\n",
      "Epoch 10/100\n",
      "118/118 [==============================] - 20s 170ms/step - loss: 1.8433e-042s - lo\n",
      "Epoch 11/100\n",
      "118/118 [==============================] - 20s 172ms/step - loss: 1.9745e-04\n",
      "Epoch 12/100\n",
      "118/118 [==============================] - 20s 169ms/step - loss: 1.7545e-04\n",
      "Epoch 13/100\n",
      "118/118 [==============================] - 20s 168ms/step - loss: 1.8484e-04\n",
      "Epoch 14/100\n",
      "118/118 [==============================] - 20s 168ms/step - loss: 1.8719e-04\n",
      "Epoch 15/100\n",
      "118/118 [==============================] - 20s 170ms/step - loss: 1.7427e-047s -\n",
      "Epoch 16/100\n",
      "118/118 [==============================] - 20s 167ms/step - loss: 1.8046e-04\n",
      "Epoch 17/100\n",
      "118/118 [==============================] - 20s 167ms/step - loss: 1.6293e-04\n",
      "Epoch 18/100\n",
      "118/118 [==============================] - 20s 167ms/step - loss: 1.7246e-04\n",
      "Epoch 19/100\n",
      "118/118 [==============================] - 20s 166ms/step - loss: 1.6720e-04\n",
      "Epoch 20/100\n",
      "118/118 [==============================] - 20s 171ms/step - loss: 1.7413e-04\n",
      "Epoch 21/100\n",
      "118/118 [==============================] - 20s 168ms/step - loss: 1.6183e-04\n",
      "Epoch 22/100\n",
      "118/118 [==============================] - 20s 167ms/step - loss: 1.6770e-04\n",
      "Epoch 23/100\n",
      "118/118 [==============================] - 20s 169ms/step - loss: 1.6430e-04\n",
      "Epoch 24/100\n",
      "118/118 [==============================] - 21s 174ms/step - loss: 1.7244e-04\n",
      "Epoch 25/100\n",
      "118/118 [==============================] - 20s 168ms/step - loss: 1.7775e-04\n",
      "Epoch 26/100\n",
      "118/118 [==============================] - 20s 166ms/step - loss: 1.7805e-04\n",
      "Epoch 27/100\n",
      "118/118 [==============================] - 20s 168ms/step - loss: 1.7271e-04\n",
      "Epoch 28/100\n",
      "118/118 [==============================] - 20s 169ms/step - loss: 1.5994e-04\n",
      "Epoch 29/100\n",
      "118/118 [==============================] - 20s 169ms/step - loss: 1.6601e-041s - loss\n",
      "Epoch 30/100\n",
      "118/118 [==============================] - 20s 172ms/step - loss: 1.8203e-04\n",
      "Epoch 31/100\n",
      "118/118 [==============================] - 20s 168ms/step - loss: 1.6515e-04\n",
      "Epoch 32/100\n",
      "118/118 [==============================] - 20s 174ms/step - loss: 1.4879e-041s - loss: 1.\n",
      "Epoch 33/100\n",
      "118/118 [==============================] - 20s 166ms/step - loss: 1.7222e-04\n",
      "Epoch 34/100\n",
      "118/118 [==============================] - 20s 171ms/step - loss: 1.7258e-04\n",
      "Epoch 35/100\n",
      "118/118 [==============================] - 20s 171ms/step - loss: 1.6216e-04\n",
      "Epoch 36/100\n",
      "118/118 [==============================] - 21s 176ms/step - loss: 1.6509e-04\n",
      "Epoch 37/100\n",
      "118/118 [==============================] - 20s 169ms/step - loss: 1.5921e-04\n",
      "Epoch 38/100\n",
      "118/118 [==============================] - 20s 170ms/step - loss: 1.6446e-04\n",
      "Epoch 39/100\n",
      "118/118 [==============================] - 20s 167ms/step - loss: 1.7129e-04\n",
      "Epoch 40/100\n",
      "118/118 [==============================] - 20s 168ms/step - loss: 1.6376e-043s\n",
      "Epoch 41/100\n",
      "118/118 [==============================] - 20s 168ms/step - loss: 1.5833e-04\n",
      "Epoch 42/100\n",
      "118/118 [==============================] - 20s 167ms/step - loss: 1.5799e-04\n",
      "Epoch 43/100\n",
      "118/118 [==============================] - 20s 167ms/step - loss: 1.6842e-04\n",
      "Epoch 44/100\n",
      "118/118 [==============================] - 20s 169ms/step - loss: 1.5742e-04\n",
      "Epoch 45/100\n",
      "118/118 [==============================] - 20s 167ms/step - loss: 1.5890e-04\n",
      "Epoch 46/100\n",
      "118/118 [==============================] - 20s 168ms/step - loss: 1.6002e-04\n",
      "Epoch 47/100\n",
      "118/118 [==============================] - 20s 169ms/step - loss: 1.6400e-04\n",
      "Epoch 48/100\n",
      "118/118 [==============================] - 20s 168ms/step - loss: 1.7235e-04\n",
      "Epoch 49/100\n",
      "118/118 [==============================] - 20s 170ms/step - loss: 1.6085e-04\n",
      "Epoch 50/100\n",
      "118/118 [==============================] - 19s 165ms/step - loss: 1.6711e-04\n",
      "Epoch 51/100\n",
      "118/118 [==============================] - 18s 156ms/step - loss: 1.5489e-04\n",
      "Epoch 52/100\n",
      "118/118 [==============================] - 18s 156ms/step - loss: 1.6294e-04\n",
      "Epoch 53/100\n",
      "118/118 [==============================] - 19s 158ms/step - loss: 1.5594e-04\n",
      "Epoch 54/100\n",
      "118/118 [==============================] - 19s 158ms/step - loss: 1.6202e-04\n",
      "Epoch 55/100\n",
      "118/118 [==============================] - 19s 162ms/step - loss: 1.7144e-04\n",
      "Epoch 56/100\n",
      "118/118 [==============================] - 20s 167ms/step - loss: 1.6108e-04\n",
      "Epoch 57/100\n",
      "118/118 [==============================] - 20s 169ms/step - loss: 1.6281e-04\n",
      "Epoch 58/100\n",
      "118/118 [==============================] - 20s 168ms/step - loss: 1.6614e-04\n",
      "Epoch 59/100\n",
      "118/118 [==============================] - 20s 167ms/step - loss: 1.6300e-04\n",
      "Epoch 60/100\n",
      "118/118 [==============================] - 21s 179ms/step - loss: 1.7219e-04\n",
      "Epoch 61/100\n",
      "118/118 [==============================] - 20s 170ms/step - loss: 1.5634e-04\n",
      "Epoch 62/100\n",
      "118/118 [==============================] - 21s 174ms/step - loss: 1.5924e-04\n",
      "Epoch 63/100\n",
      "118/118 [==============================] - 20s 167ms/step - loss: 1.5842e-04\n",
      "Epoch 64/100\n",
      "118/118 [==============================] - 20s 168ms/step - loss: 1.5637e-04\n",
      "Epoch 65/100\n",
      "118/118 [==============================] - 20s 170ms/step - loss: 1.7176e-04\n",
      "Epoch 66/100\n",
      "118/118 [==============================] - 21s 175ms/step - loss: 1.5340e-04\n",
      "Epoch 67/100\n",
      "118/118 [==============================] - 20s 169ms/step - loss: 1.5671e-04\n",
      "Epoch 68/100\n",
      "118/118 [==============================] - 20s 170ms/step - loss: 1.6311e-04\n",
      "Epoch 69/100\n",
      "118/118 [==============================] - 20s 169ms/step - loss: 1.6796e-04\n",
      "Epoch 70/100\n",
      "118/118 [==============================] - 20s 169ms/step - loss: 1.5858e-04\n",
      "Epoch 71/100\n",
      "118/118 [==============================] - 20s 168ms/step - loss: 1.5389e-04\n",
      "Epoch 72/100\n",
      "118/118 [==============================] - 20s 170ms/step - loss: 1.6318e-04\n",
      "Epoch 73/100\n",
      "118/118 [==============================] - 20s 167ms/step - loss: 1.5878e-04\n",
      "Epoch 74/100\n",
      "118/118 [==============================] - 20s 168ms/step - loss: 1.6278e-04\n",
      "Epoch 75/100\n",
      "118/118 [==============================] - 20s 167ms/step - loss: 1.5215e-04\n",
      "Epoch 76/100\n",
      "118/118 [==============================] - 20s 167ms/step - loss: 1.5588e-04\n",
      "Epoch 77/100\n",
      "118/118 [==============================] - 20s 173ms/step - loss: 1.5952e-04\n",
      "Epoch 78/100\n",
      "118/118 [==============================] - 20s 168ms/step - loss: 1.5641e-04\n",
      "Epoch 79/100\n",
      "118/118 [==============================] - 20s 167ms/step - loss: 1.5811e-04\n",
      "Epoch 80/100\n",
      "118/118 [==============================] - 20s 174ms/step - loss: 1.6002e-04\n",
      "Epoch 81/100\n",
      "118/118 [==============================] - 20s 168ms/step - loss: 1.6129e-04\n",
      "Epoch 82/100\n",
      "118/118 [==============================] - 20s 167ms/step - loss: 1.6989e-04\n",
      "Epoch 83/100\n",
      "118/118 [==============================] - 20s 167ms/step - loss: 1.5912e-04\n",
      "Epoch 84/100\n",
      "118/118 [==============================] - 20s 171ms/step - loss: 1.5795e-04\n",
      "Epoch 85/100\n",
      "118/118 [==============================] - 20s 170ms/step - loss: 1.7783e-04\n",
      "Epoch 86/100\n",
      "118/118 [==============================] - 20s 167ms/step - loss: 1.6872e-04\n",
      "Epoch 87/100\n",
      "118/118 [==============================] - 20s 170ms/step - loss: 1.5306e-04\n",
      "Epoch 88/100\n",
      "118/118 [==============================] - 20s 173ms/step - loss: 1.6470e-04\n",
      "Epoch 89/100\n",
      "118/118 [==============================] - 21s 180ms/step - loss: 1.6061e-04\n",
      "Epoch 90/100\n",
      "118/118 [==============================] - 22s 185ms/step - loss: 1.5778e-04\n",
      "Epoch 91/100\n",
      "118/118 [==============================] - 21s 177ms/step - loss: 1.6892e-04\n",
      "Epoch 92/100\n",
      "118/118 [==============================] - 21s 177ms/step - loss: 1.5491e-04\n",
      "Epoch 93/100\n",
      "118/118 [==============================] - 23s 196ms/step - loss: 1.6768e-04\n",
      "Epoch 94/100\n",
      "118/118 [==============================] - 22s 184ms/step - loss: 1.4594e-04\n",
      "Epoch 95/100\n",
      "118/118 [==============================] - 20s 173ms/step - loss: 1.5483e-04\n",
      "Epoch 96/100\n",
      "118/118 [==============================] - 20s 169ms/step - loss: 1.5212e-04\n",
      "Epoch 97/100\n",
      "118/118 [==============================] - 20s 168ms/step - loss: 1.6430e-04\n",
      "Epoch 98/100\n",
      "118/118 [==============================] - 20s 167ms/step - loss: 1.4998e-04\n",
      "Epoch 99/100\n",
      "118/118 [==============================] - 20s 169ms/step - loss: 1.5982e-04\n",
      "Epoch 100/100\n",
      "118/118 [==============================] - 20s 168ms/step - loss: 1.5948e-04\n"
     ]
    },
    {
     "data": {
      "text/plain": [
       "<tensorflow.python.keras.callbacks.History at 0x1f7fa32f550>"
      ]
     },
     "execution_count": 31,
     "metadata": {},
     "output_type": "execute_result"
    }
   ],
   "source": [
    "model.fit(np.array(X_train), np.array(y_train), epochs = 100)"
   ]
  },
  {
   "cell_type": "code",
   "execution_count": 32,
   "metadata": {},
   "outputs": [],
   "source": [
    "train_predicted_value = scaler.inverse_transform(model.predict(np.array(X_train)))\n",
    "train_actual_value = scaler.inverse_transform(np.array(y_train))"
   ]
  },
  {
   "cell_type": "code",
   "execution_count": 33,
   "metadata": {},
   "outputs": [
    {
     "data": {
      "image/png": "[encoded data removed]",
      "text/plain": [
       "<Figure size 792x504 with 1 Axes>"
      ]
     },
     "metadata": {
      "needs_background": "light"
     },
     "output_type": "display_data"
    }
   ],
   "source": [
    "plt.figure(figsize = (11,7))\n",
    "plt.plot(train_actual_value, color= 'blue', label= 'Actual price')\n",
    "plt.plot(train_predicted_value, color= 'red', label= 'Predicted price') \n",
    "plt.xlabel('Date')\n",
    "plt.ylabel('Price')\n",
    "plt.legend()\n",
    "plt.show()"
   ]
  },
  {
   "cell_type": "code",
   "execution_count": null,
   "metadata": {},
   "outputs": [],
   "source": []
  },
  {
   "cell_type": "code",
   "execution_count": 34,
   "metadata": {},
   "outputs": [],
   "source": [
    "test_predicted_value = scaler.inverse_transform(model.predict(np.array(X_test)))\n",
    "test_actual_value = scaler.inverse_transform(np.array(y_test))"
   ]
  },
  {
   "cell_type": "code",
   "execution_count": 35,
   "metadata": {},
   "outputs": [
    {
     "data": {
      "image/png": "[encoded data removed]",
      "text/plain": [
       "<Figure size 792x504 with 1 Axes>"
      ]
     },
     "metadata": {
      "needs_background": "light"
     },
     "output_type": "display_data"
    }
   ],
   "source": [
    "plt.figure(figsize = (11,7))\n",
    "plt.plot(test_actual_value, color= 'blue', label= 'Actual price')\n",
    "plt.plot(test_predicted_value, color= 'red', label= 'Predicted price') \n",
    "plt.xlabel('Date')\n",
    "plt.ylabel('Price')\n",
    "plt.legend()\n",
    "plt.show()"
   ]
  },
  {
   "cell_type": "code",
   "execution_count": 36,
   "metadata": {},
   "outputs": [
    {
     "name": "stdout",
     "output_type": "stream",
     "text": [
      "The root mean square error (RMSE) for the LSTM model is 13.729860549003753\n"
     ]
    }
   ],
   "source": [
    "RMSE = sqrt(mean_squared_error(test_actual_value, test_predicted_value))\n",
    "print(f'The root mean square error (RMSE) for the LSTM model is {RMSE}')"
   ]
  },
  {
   "cell_type": "code",
   "execution_count": 37,
   "metadata": {},
   "outputs": [
    {
     "name": "stdout",
     "output_type": "stream",
     "text": [
      "The coefficient of determination (R^2) for the LSTM model is 0.14732237396974157\n"
     ]
    }
   ],
   "source": [
    "R_2 = r2_score(test_actual_value, test_predicted_value)\n",
    "print(f'The coefficient of determination (R^2) for the LSTM model is {R_2}')"
   ]
  },
  {
   "cell_type": "markdown",
   "metadata": {},
   "source": [
    "## Remove the last 10 days"
   ]
  },
  {
   "cell_type": "code",
   "execution_count": 38,
   "metadata": {},
   "outputs": [],
   "source": [
    "test_predicted_value = scaler.inverse_transform(model.predict(np.array(X_test[:-11])))\n",
    "test_actual_value = scaler.inverse_transform(np.array(y_test[:-11]))"
   ]
  },
  {
   "cell_type": "code",
   "execution_count": 39,
   "metadata": {},
   "outputs": [
    {
     "data": {
      "image/png": "[encoded data removed]",
      "text/plain": [
       "<Figure size 792x504 with 1 Axes>"
      ]
     },
     "metadata": {
      "needs_background": "light"
     },
     "output_type": "display_data"
    }
   ],
   "source": [
    "plt.figure(figsize = (11,7))\n",
    "plt.plot(test_actual_value, color= 'blue', label= 'Actual price')\n",
    "plt.plot(test_predicted_value, color= 'red', label= 'Predicted price') \n",
    "plt.xlabel('Date')\n",
    "plt.ylabel('Price')\n",
    "plt.legend()\n",
    "plt.show()"
   ]
  },
  {
   "cell_type": "code",
   "execution_count": 40,
   "metadata": {},
   "outputs": [
    {
     "name": "stdout",
     "output_type": "stream",
     "text": [
      "The root mean square error (RMSE) for the LSTM model is 3.092449570057708\n"
     ]
    }
   ],
   "source": [
    "RMSE = sqrt(mean_squared_error(test_actual_value, test_predicted_value))\n",
    "print(f'The root mean square error (RMSE) for the LSTM model is {RMSE}')"
   ]
  },
  {
   "cell_type": "code",
   "execution_count": 41,
   "metadata": {},
   "outputs": [
    {
     "name": "stdout",
     "output_type": "stream",
     "text": [
      "The coefficient of determination (R^2) for the LSTM model is 0.7366206886752624\n"
     ]
    }
   ],
   "source": [
    "R_2 = r2_score(test_actual_value, test_predicted_value)\n",
    "print(f'The coefficient of determination (R^2) for the LSTM model is {R_2}')"
   ]
  }
 ],
 "metadata": {
  "kernelspec": {
   "display_name": "Python 3",
   "language": "python",
   "name": "python3"
  },
  "language_info": {
   "codemirror_mode": {
    "name": "ipython",
    "version": 3
   },
   "file_extension": ".py",
   "mimetype": "text/x-python",
   "name": "python",
   "nbconvert_exporter": "python",
   "pygments_lexer": "ipython3",
   "version": "3.8.3"
  }
 },
 "nbformat": 4,
 "nbformat_minor": 4
}
