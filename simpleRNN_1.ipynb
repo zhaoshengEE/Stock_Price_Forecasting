{
  "nbformat": 4,
  "nbformat_minor": 0,
  "metadata": {
    "colab": {
      "name": "simpleRNN_callback4.ipynb",
      "provenance": [],
      "collapsed_sections": []
    },
    "kernelspec": {
      "name": "python3",
      "display_name": "Python 3"
    }
  },
  "cells": [
    {
      "cell_type": "code",
      "metadata": {
        "id": "xiOuLZJyyzpc"
      },
      "source": [
        "import numpy as np\n",
        "import pandas as pd\n",
        "import matplotlib.pyplot as plt\n",
        "import seaborn as sns\n",
        "from math import ceil"
      ],
      "execution_count": null,
      "outputs": []
    },
    {
      "cell_type": "code",
      "metadata": {
        "id": "8qhXbJVi6Ves"
      },
      "source": [
        "import keras\n",
        "from keras.layers import Dense,Dropout\n",
        "from keras.models import Sequential\n",
        "from keras.optimizers import Adam\n",
        "from keras.utils.vis_utils import plot_model\n",
        "from sklearn.preprocessing import MinMaxScaler,StandardScaler\n",
        "from sklearn.metrics import r2_score, mean_squared_error,mean_absolute_error"
      ],
      "execution_count": null,
      "outputs": []
    },
    {
      "cell_type": "code",
      "metadata": {
        "id": "SvnDKaWzUOQ3"
      },
      "source": [
        "from keras.models import Sequential\n",
        "from keras.layers import Dense, SimpleRNN\n",
        "from keras.callbacks import EarlyStopping"
      ],
      "execution_count": null,
      "outputs": []
    },
    {
      "cell_type": "code",
      "metadata": {
        "colab": {
          "base_uri": "https://localhost:8080/"
        },
        "id": "n4cvxS1C6v55",
        "outputId": "a8393682-9733-4b58-98db-5ecf9407536c"
      },
      "source": [
        "###mounting google drive\n",
        "from google.colab import drive\n",
        "drive.mount('/content/drive')"
      ],
      "execution_count": null,
      "outputs": [
        {
          "output_type": "stream",
          "text": [
            "Drive already mounted at /content/drive; to attempt to forcibly remount, call drive.mount(\"/content/drive\", force_remount=True).\n"
          ],
          "name": "stdout"
        }
      ]
    },
    {
      "cell_type": "markdown",
      "metadata": {
        "id": "SWSROxLE9TjF"
      },
      "source": [
        "Read the stock price data"
      ]
    },
    {
      "cell_type": "code",
      "metadata": {
        "id": "XG3lBu3f6bC-"
      },
      "source": [
        "stock_df= pd.read_csv('./drive/My Drive/Colab Notebooks/GME_stock.csv',parse_dates=[\"date\"])"
      ],
      "execution_count": null,
      "outputs": []
    },
    {
      "cell_type": "code",
      "metadata": {
        "colab": {
          "base_uri": "https://localhost:8080/",
          "height": 204
        },
        "id": "dnrXLg-T6tzl",
        "outputId": "295cb9e3-efb0-4253-93fb-8f9f00386e6f"
      },
      "source": [
        "stock_df.tail()"
      ],
      "execution_count": null,
      "outputs": [
        {
          "output_type": "execute_result",
          "data": {
            "text/html": [
              "<div>\n",
              "<style scoped>\n",
              "    .dataframe tbody tr th:only-of-type {\n",
              "        vertical-align: middle;\n",
              "    }\n",
              "\n",
              "    .dataframe tbody tr th {\n",
              "        vertical-align: top;\n",
              "    }\n",
              "\n",
              "    .dataframe thead th {\n",
              "        text-align: right;\n",
              "    }\n",
              "</style>\n",
              "<table border=\"1\" class=\"dataframe\">\n",
              "  <thead>\n",
              "    <tr style=\"text-align: right;\">\n",
              "      <th></th>\n",
              "      <th>date</th>\n",
              "      <th>open_price</th>\n",
              "      <th>high_price</th>\n",
              "      <th>low_price</th>\n",
              "      <th>close_price</th>\n",
              "      <th>volume</th>\n",
              "      <th>adjclose_price</th>\n",
              "    </tr>\n",
              "  </thead>\n",
              "  <tbody>\n",
              "    <tr>\n",
              "      <th>4768</th>\n",
              "      <td>2002-02-20</td>\n",
              "      <td>9.600</td>\n",
              "      <td>9.875</td>\n",
              "      <td>9.525</td>\n",
              "      <td>9.875</td>\n",
              "      <td>1723200.0</td>\n",
              "      <td>6.648838</td>\n",
              "    </tr>\n",
              "    <tr>\n",
              "      <th>4769</th>\n",
              "      <td>2002-02-19</td>\n",
              "      <td>9.900</td>\n",
              "      <td>9.900</td>\n",
              "      <td>9.375</td>\n",
              "      <td>9.550</td>\n",
              "      <td>1852600.0</td>\n",
              "      <td>6.430017</td>\n",
              "    </tr>\n",
              "    <tr>\n",
              "      <th>4770</th>\n",
              "      <td>2002-02-15</td>\n",
              "      <td>10.000</td>\n",
              "      <td>10.025</td>\n",
              "      <td>9.850</td>\n",
              "      <td>9.950</td>\n",
              "      <td>2097400.0</td>\n",
              "      <td>6.699336</td>\n",
              "    </tr>\n",
              "    <tr>\n",
              "      <th>4771</th>\n",
              "      <td>2002-02-14</td>\n",
              "      <td>10.175</td>\n",
              "      <td>10.195</td>\n",
              "      <td>9.925</td>\n",
              "      <td>10.000</td>\n",
              "      <td>2755400.0</td>\n",
              "      <td>6.733003</td>\n",
              "    </tr>\n",
              "    <tr>\n",
              "      <th>4772</th>\n",
              "      <td>2002-02-13</td>\n",
              "      <td>9.625</td>\n",
              "      <td>10.060</td>\n",
              "      <td>9.525</td>\n",
              "      <td>10.050</td>\n",
              "      <td>19054000.0</td>\n",
              "      <td>6.766666</td>\n",
              "    </tr>\n",
              "  </tbody>\n",
              "</table>\n",
              "</div>"
            ],
            "text/plain": [
              "           date  open_price  ...      volume  adjclose_price\n",
              "4768 2002-02-20       9.600  ...   1723200.0        6.648838\n",
              "4769 2002-02-19       9.900  ...   1852600.0        6.430017\n",
              "4770 2002-02-15      10.000  ...   2097400.0        6.699336\n",
              "4771 2002-02-14      10.175  ...   2755400.0        6.733003\n",
              "4772 2002-02-13       9.625  ...  19054000.0        6.766666\n",
              "\n",
              "[5 rows x 7 columns]"
            ]
          },
          "metadata": {
            "tags": []
          },
          "execution_count": 102
        }
      ]
    },
    {
      "cell_type": "code",
      "metadata": {
        "colab": {
          "base_uri": "https://localhost:8080/",
          "height": 204
        },
        "id": "PUXk6WFZ8-jj",
        "outputId": "70f7876d-a264-4dbc-b17c-978d51588a19"
      },
      "source": [
        "stock_df.head()"
      ],
      "execution_count": null,
      "outputs": [
        {
          "output_type": "execute_result",
          "data": {
            "text/html": [
              "<div>\n",
              "<style scoped>\n",
              "    .dataframe tbody tr th:only-of-type {\n",
              "        vertical-align: middle;\n",
              "    }\n",
              "\n",
              "    .dataframe tbody tr th {\n",
              "        vertical-align: top;\n",
              "    }\n",
              "\n",
              "    .dataframe thead th {\n",
              "        text-align: right;\n",
              "    }\n",
              "</style>\n",
              "<table border=\"1\" class=\"dataframe\">\n",
              "  <thead>\n",
              "    <tr style=\"text-align: right;\">\n",
              "      <th></th>\n",
              "      <th>date</th>\n",
              "      <th>open_price</th>\n",
              "      <th>high_price</th>\n",
              "      <th>low_price</th>\n",
              "      <th>close_price</th>\n",
              "      <th>volume</th>\n",
              "      <th>adjclose_price</th>\n",
              "    </tr>\n",
              "  </thead>\n",
              "  <tbody>\n",
              "    <tr>\n",
              "      <th>0</th>\n",
              "      <td>2021-01-28</td>\n",
              "      <td>265.000000</td>\n",
              "      <td>483.000000</td>\n",
              "      <td>112.250000</td>\n",
              "      <td>193.600006</td>\n",
              "      <td>58815800.0</td>\n",
              "      <td>193.600006</td>\n",
              "    </tr>\n",
              "    <tr>\n",
              "      <th>1</th>\n",
              "      <td>2021-01-27</td>\n",
              "      <td>354.829987</td>\n",
              "      <td>380.000000</td>\n",
              "      <td>249.000000</td>\n",
              "      <td>347.510010</td>\n",
              "      <td>93396700.0</td>\n",
              "      <td>347.510010</td>\n",
              "    </tr>\n",
              "    <tr>\n",
              "      <th>2</th>\n",
              "      <td>2021-01-26</td>\n",
              "      <td>88.559998</td>\n",
              "      <td>150.000000</td>\n",
              "      <td>80.199997</td>\n",
              "      <td>147.979996</td>\n",
              "      <td>178588000.0</td>\n",
              "      <td>147.979996</td>\n",
              "    </tr>\n",
              "    <tr>\n",
              "      <th>3</th>\n",
              "      <td>2021-01-25</td>\n",
              "      <td>96.730003</td>\n",
              "      <td>159.179993</td>\n",
              "      <td>61.130001</td>\n",
              "      <td>76.790001</td>\n",
              "      <td>177874000.0</td>\n",
              "      <td>76.790001</td>\n",
              "    </tr>\n",
              "    <tr>\n",
              "      <th>4</th>\n",
              "      <td>2021-01-22</td>\n",
              "      <td>42.590000</td>\n",
              "      <td>76.760002</td>\n",
              "      <td>42.320000</td>\n",
              "      <td>65.010002</td>\n",
              "      <td>196784300.0</td>\n",
              "      <td>65.010002</td>\n",
              "    </tr>\n",
              "  </tbody>\n",
              "</table>\n",
              "</div>"
            ],
            "text/plain": [
              "        date  open_price  high_price  ...  close_price       volume  adjclose_price\n",
              "0 2021-01-28  265.000000  483.000000  ...   193.600006   58815800.0      193.600006\n",
              "1 2021-01-27  354.829987  380.000000  ...   347.510010   93396700.0      347.510010\n",
              "2 2021-01-26   88.559998  150.000000  ...   147.979996  178588000.0      147.979996\n",
              "3 2021-01-25   96.730003  159.179993  ...    76.790001  177874000.0       76.790001\n",
              "4 2021-01-22   42.590000   76.760002  ...    65.010002  196784300.0       65.010002\n",
              "\n",
              "[5 rows x 7 columns]"
            ]
          },
          "metadata": {
            "tags": []
          },
          "execution_count": 103
        }
      ]
    },
    {
      "cell_type": "markdown",
      "metadata": {
        "id": "1dAn6WwCDsTo"
      },
      "source": [
        "The data has inverted order by date. We need to change it in  date ascending order."
      ]
    },
    {
      "cell_type": "code",
      "metadata": {
        "id": "VWBfM-nYDri7"
      },
      "source": [
        "stock_df=stock_df.sort_values(by=\"date\", ascending=True)\n",
        "stock_df.reset_index(inplace=True)\n",
        "stock_df.set_index('date',inplace=True)"
      ],
      "execution_count": null,
      "outputs": []
    },
    {
      "cell_type": "code",
      "metadata": {
        "colab": {
          "base_uri": "https://localhost:8080/",
          "height": 235
        },
        "id": "YUD8clhZMqdg",
        "outputId": "e53a2d59-50c2-46e6-b675-5e47d1a85baf"
      },
      "source": [
        "stock_df.head()"
      ],
      "execution_count": null,
      "outputs": [
        {
          "output_type": "execute_result",
          "data": {
            "text/html": [
              "<div>\n",
              "<style scoped>\n",
              "    .dataframe tbody tr th:only-of-type {\n",
              "        vertical-align: middle;\n",
              "    }\n",
              "\n",
              "    .dataframe tbody tr th {\n",
              "        vertical-align: top;\n",
              "    }\n",
              "\n",
              "    .dataframe thead th {\n",
              "        text-align: right;\n",
              "    }\n",
              "</style>\n",
              "<table border=\"1\" class=\"dataframe\">\n",
              "  <thead>\n",
              "    <tr style=\"text-align: right;\">\n",
              "      <th></th>\n",
              "      <th>index</th>\n",
              "      <th>open_price</th>\n",
              "      <th>high_price</th>\n",
              "      <th>low_price</th>\n",
              "      <th>close_price</th>\n",
              "      <th>volume</th>\n",
              "      <th>adjclose_price</th>\n",
              "    </tr>\n",
              "    <tr>\n",
              "      <th>date</th>\n",
              "      <th></th>\n",
              "      <th></th>\n",
              "      <th></th>\n",
              "      <th></th>\n",
              "      <th></th>\n",
              "      <th></th>\n",
              "      <th></th>\n",
              "    </tr>\n",
              "  </thead>\n",
              "  <tbody>\n",
              "    <tr>\n",
              "      <th>2002-02-13</th>\n",
              "      <td>4772</td>\n",
              "      <td>9.625</td>\n",
              "      <td>10.060</td>\n",
              "      <td>9.525</td>\n",
              "      <td>10.050</td>\n",
              "      <td>19054000.0</td>\n",
              "      <td>6.766666</td>\n",
              "    </tr>\n",
              "    <tr>\n",
              "      <th>2002-02-14</th>\n",
              "      <td>4771</td>\n",
              "      <td>10.175</td>\n",
              "      <td>10.195</td>\n",
              "      <td>9.925</td>\n",
              "      <td>10.000</td>\n",
              "      <td>2755400.0</td>\n",
              "      <td>6.733003</td>\n",
              "    </tr>\n",
              "    <tr>\n",
              "      <th>2002-02-15</th>\n",
              "      <td>4770</td>\n",
              "      <td>10.000</td>\n",
              "      <td>10.025</td>\n",
              "      <td>9.850</td>\n",
              "      <td>9.950</td>\n",
              "      <td>2097400.0</td>\n",
              "      <td>6.699336</td>\n",
              "    </tr>\n",
              "    <tr>\n",
              "      <th>2002-02-19</th>\n",
              "      <td>4769</td>\n",
              "      <td>9.900</td>\n",
              "      <td>9.900</td>\n",
              "      <td>9.375</td>\n",
              "      <td>9.550</td>\n",
              "      <td>1852600.0</td>\n",
              "      <td>6.430017</td>\n",
              "    </tr>\n",
              "    <tr>\n",
              "      <th>2002-02-20</th>\n",
              "      <td>4768</td>\n",
              "      <td>9.600</td>\n",
              "      <td>9.875</td>\n",
              "      <td>9.525</td>\n",
              "      <td>9.875</td>\n",
              "      <td>1723200.0</td>\n",
              "      <td>6.648838</td>\n",
              "    </tr>\n",
              "  </tbody>\n",
              "</table>\n",
              "</div>"
            ],
            "text/plain": [
              "            index  open_price  ...      volume  adjclose_price\n",
              "date                           ...                            \n",
              "2002-02-13   4772       9.625  ...  19054000.0        6.766666\n",
              "2002-02-14   4771      10.175  ...   2755400.0        6.733003\n",
              "2002-02-15   4770      10.000  ...   2097400.0        6.699336\n",
              "2002-02-19   4769       9.900  ...   1852600.0        6.430017\n",
              "2002-02-20   4768       9.600  ...   1723200.0        6.648838\n",
              "\n",
              "[5 rows x 7 columns]"
            ]
          },
          "metadata": {
            "tags": []
          },
          "execution_count": 105
        }
      ]
    },
    {
      "cell_type": "markdown",
      "metadata": {
        "id": "5YqL3pmOVyFa"
      },
      "source": [
        "data preprocessing for RNN model"
      ]
    },
    {
      "cell_type": "code",
      "metadata": {
        "colab": {
          "base_uri": "https://localhost:8080/"
        },
        "id": "bJGA19kgXykY",
        "outputId": "93593b1d-cf5d-451d-ab51-856edb18bca8"
      },
      "source": [
        "## take close_price as target\n",
        "close_price=stock_df[['close_price']]\n",
        "close_price.shape"
      ],
      "execution_count": null,
      "outputs": [
        {
          "output_type": "execute_result",
          "data": {
            "text/plain": [
              "(4773, 1)"
            ]
          },
          "metadata": {
            "tags": []
          },
          "execution_count": 155
        }
      ]
    },
    {
      "cell_type": "code",
      "metadata": {
        "id": "w7NWpLWmi3sS"
      },
      "source": [
        "scaler_X = StandardScaler()\n",
        "scaler_Y = StandardScaler()\n",
        "# scaler_X = MinMaxScaler()\n",
        "# scaler_Y = MinMaxScaler()"
      ],
      "execution_count": null,
      "outputs": []
    },
    {
      "cell_type": "code",
      "metadata": {
        "id": "x7OPfaP0Xuo3"
      },
      "source": [
        "X_scaled = scaler_X.fit_transform(stock_df)\n",
        "Y_scaled = scaler_Y.fit_transform(close_price)"
      ],
      "execution_count": null,
      "outputs": []
    },
    {
      "cell_type": "code",
      "metadata": {
        "id": "ClkkAWVlTPjO"
      },
      "source": [
        "def convert2matrix(X_data_arr,Y_data_arr,look_back):\n",
        " X, Y =[], []\n",
        " for i in range(len(X_data_arr)-look_back):\n",
        "  d=i+look_back  \n",
        "  X.append(X_data_arr[i:d,1:])\n",
        "  Y.append(Y_data_arr[d,])\n",
        " return np.array(X), np.array(Y)"
      ],
      "execution_count": null,
      "outputs": []
    },
    {
      "cell_type": "code",
      "metadata": {
        "id": "DssmmshTUvgs"
      },
      "source": [
        "look_back=4\n",
        "X,Y=convert2matrix(X_scaled,Y_scaled,look_back=look_back)  ## will look back previous 4 days' data"
      ],
      "execution_count": null,
      "outputs": []
    },
    {
      "cell_type": "code",
      "metadata": {
        "colab": {
          "base_uri": "https://localhost:8080/"
        },
        "id": "mMDMDDi_z4QO",
        "outputId": "f5e1a31c-6262-4cf1-de80-e67f1191948c"
      },
      "source": [
        "X.shape"
      ],
      "execution_count": null,
      "outputs": [
        {
          "output_type": "execute_result",
          "data": {
            "text/plain": [
              "(4769, 4, 6)"
            ]
          },
          "metadata": {
            "tags": []
          },
          "execution_count": 160
        }
      ]
    },
    {
      "cell_type": "code",
      "metadata": {
        "colab": {
          "base_uri": "https://localhost:8080/"
        },
        "id": "UMUYKHZoXWjr",
        "outputId": "73af6431-97f0-43fb-9a93-6e40ff3431d0"
      },
      "source": [
        "Y.shape"
      ],
      "execution_count": null,
      "outputs": [
        {
          "output_type": "execute_result",
          "data": {
            "text/plain": [
              "(4769, 1)"
            ]
          },
          "metadata": {
            "tags": []
          },
          "execution_count": 161
        }
      ]
    },
    {
      "cell_type": "code",
      "metadata": {
        "id": "mZZr5QuaWMUK"
      },
      "source": [
        "train_size=ceil(X.shape[0]*0.8)\n",
        "trainX,testX=X[0:train_size],X[train_size:]\n",
        "trainY,testY=Y[0:train_size],Y[train_size:]"
      ],
      "execution_count": null,
      "outputs": []
    },
    {
      "cell_type": "code",
      "metadata": {
        "colab": {
          "base_uri": "https://localhost:8080/"
        },
        "id": "jc4bMr9X6J1W",
        "outputId": "e9ee4908-b236-4511-fffc-b103115ecee2"
      },
      "source": [
        "train_size"
      ],
      "execution_count": null,
      "outputs": [
        {
          "output_type": "execute_result",
          "data": {
            "text/plain": [
              "3816"
            ]
          },
          "metadata": {
            "tags": []
          },
          "execution_count": 163
        }
      ]
    },
    {
      "cell_type": "code",
      "metadata": {
        "id": "4HimIBb_ZBG-",
        "colab": {
          "base_uri": "https://localhost:8080/"
        },
        "outputId": "34671be6-829c-4286-d477-8fa8507a1cd9"
      },
      "source": [
        "trainX.shape , trainY.shape"
      ],
      "execution_count": null,
      "outputs": [
        {
          "output_type": "execute_result",
          "data": {
            "text/plain": [
              "((3816, 4, 6), (3816, 1))"
            ]
          },
          "metadata": {
            "tags": []
          },
          "execution_count": 164
        }
      ]
    },
    {
      "cell_type": "code",
      "metadata": {
        "id": "rMLWP9cyZQf3",
        "colab": {
          "base_uri": "https://localhost:8080/"
        },
        "outputId": "10ac341a-2dce-499d-a2c0-9eb87e8b94bd"
      },
      "source": [
        "testX.shape, testY.shape"
      ],
      "execution_count": null,
      "outputs": [
        {
          "output_type": "execute_result",
          "data": {
            "text/plain": [
              "((953, 4, 6), (953, 1))"
            ]
          },
          "metadata": {
            "tags": []
          },
          "execution_count": 165
        }
      ]
    },
    {
      "cell_type": "markdown",
      "metadata": {
        "id": "lXJLts4rX_DI"
      },
      "source": [
        "Below extract the date information in training and test dataset:"
      ]
    },
    {
      "cell_type": "code",
      "metadata": {
        "id": "rSYZyGq9U1y2"
      },
      "source": [
        "dates_training = pd.to_datetime(stock_df.index[3:train_size+3])\n",
        "dates_test = pd.to_datetime(stock_df.index[train_size+3:-1])"
      ],
      "execution_count": null,
      "outputs": []
    },
    {
      "cell_type": "code",
      "metadata": {
        "colab": {
          "base_uri": "https://localhost:8080/"
        },
        "id": "UTfZpi1zZqid",
        "outputId": "904a8d36-9fa6-4db9-91a2-8ba04281fedd"
      },
      "source": [
        "dates_training.shape, dates_test.shape"
      ],
      "execution_count": null,
      "outputs": [
        {
          "output_type": "execute_result",
          "data": {
            "text/plain": [
              "((3816,), (953,))"
            ]
          },
          "metadata": {
            "tags": []
          },
          "execution_count": 118
        }
      ]
    },
    {
      "cell_type": "markdown",
      "metadata": {
        "id": "AwEp8l0Ayn88"
      },
      "source": [
        "**Build simpleRNN model**"
      ]
    },
    {
      "cell_type": "code",
      "metadata": {
        "id": "6oMlOPPhadMQ"
      },
      "source": [
        "def model_rnn(look_back):\n",
        "  model=Sequential()\n",
        "  model.add(SimpleRNN(units=64,input_shape=(look_back,6),activation='relu',return_sequences = True,recurrent_dropout=0.2))\n",
        "  model.add(SimpleRNN(units=64,activation='relu',return_sequences = True,recurrent_dropout=0.2))\n",
        "  model.add(SimpleRNN(units=64,activation='relu',recurrent_dropout=0.2))\n",
        "  model.add(Dense(1))\n",
        "  model.compile(loss='mean_squared_error',optimizer='adam',metrics=['mse','mae'])\n",
        "  return model"
      ],
      "execution_count": null,
      "outputs": []
    },
    {
      "cell_type": "code",
      "metadata": {
        "id": "ES00bIRpbh1T",
        "colab": {
          "base_uri": "https://localhost:8080/"
        },
        "outputId": "8cbd79a5-dd90-405a-bbf9-98d06ff4ff00"
      },
      "source": [
        "model=model_rnn(4)\n",
        "model.summary()\n",
        "# history=model.fit(trainX,trainY,\n",
        "#                   epochs=100,\n",
        "#                   batch_size=32,\n",
        "#                   verbose=1,\n",
        "#                   validation_data=(testX,testY),\n",
        "#                   callbacks=[EarlyStopping(monitor='val_loss', patience=10)],\n",
        "#                   shuffle=False)\n",
        "history=model.fit(trainX,trainY,\n",
        "                  epochs=100,\n",
        "                  batch_size=32,\n",
        "                  verbose=1,\n",
        "                  validation_data=(testX,testY),\n",
        "                  shuffle=False)"
      ],
      "execution_count": null,
      "outputs": [
        {
          "output_type": "stream",
          "text": [
            "Model: \"sequential_8\"\n",
            "_________________________________________________________________\n",
            "Layer (type)                 Output Shape              Param #   \n",
            "=================================================================\n",
            "simple_rnn_24 (SimpleRNN)    (None, 4, 64)             4544      \n",
            "_________________________________________________________________\n",
            "simple_rnn_25 (SimpleRNN)    (None, 4, 64)             8256      \n",
            "_________________________________________________________________\n",
            "simple_rnn_26 (SimpleRNN)    (None, 64)                8256      \n",
            "_________________________________________________________________\n",
            "dense_8 (Dense)              (None, 1)                 65        \n",
            "=================================================================\n",
            "Total params: 21,121\n",
            "Trainable params: 21,121\n",
            "Non-trainable params: 0\n",
            "_________________________________________________________________\n",
            "Epoch 1/100\n",
            "120/120 [==============================] - 4s 10ms/step - loss: 0.1622 - mse: 0.1622 - mae: 0.2858 - val_loss: 0.5820 - val_mse: 0.5820 - val_mae: 0.1518\n",
            "Epoch 2/100\n",
            "120/120 [==============================] - 1s 6ms/step - loss: 0.0300 - mse: 0.0300 - mae: 0.1218 - val_loss: 0.4592 - val_mse: 0.4592 - val_mae: 0.1418\n",
            "Epoch 3/100\n",
            "120/120 [==============================] - 1s 6ms/step - loss: 0.0178 - mse: 0.0178 - mae: 0.0946 - val_loss: 0.4370 - val_mse: 0.4370 - val_mae: 0.1186\n",
            "Epoch 4/100\n",
            "120/120 [==============================] - 1s 6ms/step - loss: 0.0191 - mse: 0.0191 - mae: 0.0919 - val_loss: 0.4330 - val_mse: 0.4330 - val_mae: 0.1275\n",
            "Epoch 5/100\n",
            "120/120 [==============================] - 1s 6ms/step - loss: 0.0110 - mse: 0.0110 - mae: 0.0747 - val_loss: 0.4077 - val_mse: 0.4077 - val_mae: 0.1255\n",
            "Epoch 6/100\n",
            "120/120 [==============================] - 1s 6ms/step - loss: 0.0095 - mse: 0.0095 - mae: 0.0698 - val_loss: 0.3905 - val_mse: 0.3905 - val_mae: 0.1265\n",
            "Epoch 7/100\n",
            "120/120 [==============================] - 1s 6ms/step - loss: 0.0082 - mse: 0.0082 - mae: 0.0653 - val_loss: 0.3814 - val_mse: 0.3814 - val_mae: 0.1193\n",
            "Epoch 8/100\n",
            "120/120 [==============================] - 1s 6ms/step - loss: 0.0068 - mse: 0.0068 - mae: 0.0575 - val_loss: 0.3821 - val_mse: 0.3821 - val_mae: 0.1209\n",
            "Epoch 9/100\n",
            "120/120 [==============================] - 1s 6ms/step - loss: 0.0062 - mse: 0.0062 - mae: 0.0555 - val_loss: 0.3734 - val_mse: 0.3734 - val_mae: 0.1219\n",
            "Epoch 10/100\n",
            "120/120 [==============================] - 1s 6ms/step - loss: 0.0146 - mse: 0.0146 - mae: 0.0700 - val_loss: 0.3720 - val_mse: 0.3720 - val_mae: 0.1470\n",
            "Epoch 11/100\n",
            "120/120 [==============================] - 1s 6ms/step - loss: 0.0084 - mse: 0.0084 - mae: 0.0601 - val_loss: 0.4015 - val_mse: 0.4015 - val_mae: 0.1407\n",
            "Epoch 12/100\n",
            "120/120 [==============================] - 1s 7ms/step - loss: 0.0060 - mse: 0.0060 - mae: 0.0521 - val_loss: 0.3671 - val_mse: 0.3671 - val_mae: 0.0925\n",
            "Epoch 13/100\n",
            "120/120 [==============================] - 1s 6ms/step - loss: 0.0064 - mse: 0.0064 - mae: 0.0507 - val_loss: 0.3733 - val_mse: 0.3733 - val_mae: 0.0867\n",
            "Epoch 14/100\n",
            "120/120 [==============================] - 1s 6ms/step - loss: 0.0065 - mse: 0.0065 - mae: 0.0507 - val_loss: 0.3720 - val_mse: 0.3720 - val_mae: 0.0859\n",
            "Epoch 15/100\n",
            "120/120 [==============================] - 1s 6ms/step - loss: 0.0069 - mse: 0.0069 - mae: 0.0525 - val_loss: 0.3680 - val_mse: 0.3680 - val_mae: 0.0767\n",
            "Epoch 16/100\n",
            "120/120 [==============================] - 1s 7ms/step - loss: 0.0073 - mse: 0.0073 - mae: 0.0525 - val_loss: 0.3536 - val_mse: 0.3536 - val_mae: 0.0747\n",
            "Epoch 17/100\n",
            "120/120 [==============================] - 1s 7ms/step - loss: 0.0069 - mse: 0.0069 - mae: 0.0500 - val_loss: 0.3398 - val_mse: 0.3398 - val_mae: 0.0680\n",
            "Epoch 18/100\n",
            "120/120 [==============================] - 1s 6ms/step - loss: 0.0068 - mse: 0.0068 - mae: 0.0493 - val_loss: 0.3380 - val_mse: 0.3380 - val_mae: 0.0780\n",
            "Epoch 19/100\n",
            "120/120 [==============================] - 1s 6ms/step - loss: 0.0059 - mse: 0.0059 - mae: 0.0467 - val_loss: 0.3339 - val_mse: 0.3339 - val_mae: 0.0547\n",
            "Epoch 20/100\n",
            "120/120 [==============================] - 1s 6ms/step - loss: 0.0059 - mse: 0.0059 - mae: 0.0498 - val_loss: 0.3229 - val_mse: 0.3229 - val_mae: 0.0713\n",
            "Epoch 21/100\n",
            "120/120 [==============================] - 1s 6ms/step - loss: 0.0054 - mse: 0.0054 - mae: 0.0451 - val_loss: 0.3138 - val_mse: 0.3138 - val_mae: 0.0560\n",
            "Epoch 22/100\n",
            "120/120 [==============================] - 1s 6ms/step - loss: 0.0056 - mse: 0.0056 - mae: 0.0457 - val_loss: 0.3075 - val_mse: 0.3075 - val_mae: 0.0555\n",
            "Epoch 23/100\n",
            "120/120 [==============================] - 1s 7ms/step - loss: 0.0057 - mse: 0.0057 - mae: 0.0483 - val_loss: 0.3195 - val_mse: 0.3195 - val_mae: 0.0586\n",
            "Epoch 24/100\n",
            "120/120 [==============================] - 1s 6ms/step - loss: 0.0054 - mse: 0.0054 - mae: 0.0474 - val_loss: 0.3093 - val_mse: 0.3093 - val_mae: 0.0699\n",
            "Epoch 25/100\n",
            "120/120 [==============================] - 1s 6ms/step - loss: 0.0049 - mse: 0.0049 - mae: 0.0418 - val_loss: 0.3119 - val_mse: 0.3119 - val_mae: 0.0567\n",
            "Epoch 26/100\n",
            "120/120 [==============================] - 1s 7ms/step - loss: 0.0048 - mse: 0.0048 - mae: 0.0423 - val_loss: 0.2996 - val_mse: 0.2996 - val_mae: 0.0626\n",
            "Epoch 27/100\n",
            "120/120 [==============================] - 1s 7ms/step - loss: 0.0049 - mse: 0.0049 - mae: 0.0470 - val_loss: 0.3016 - val_mse: 0.3016 - val_mae: 0.0624\n",
            "Epoch 28/100\n",
            "120/120 [==============================] - 1s 7ms/step - loss: 0.0044 - mse: 0.0044 - mae: 0.0389 - val_loss: 0.2999 - val_mse: 0.2999 - val_mae: 0.0603\n",
            "Epoch 29/100\n",
            "120/120 [==============================] - 1s 6ms/step - loss: 0.0052 - mse: 0.0052 - mae: 0.0470 - val_loss: 0.2977 - val_mse: 0.2977 - val_mae: 0.0565\n",
            "Epoch 30/100\n",
            "120/120 [==============================] - 1s 6ms/step - loss: 0.0050 - mse: 0.0050 - mae: 0.0459 - val_loss: 0.2987 - val_mse: 0.2987 - val_mae: 0.0562\n",
            "Epoch 31/100\n",
            "120/120 [==============================] - 1s 7ms/step - loss: 0.0047 - mse: 0.0047 - mae: 0.0436 - val_loss: 0.2992 - val_mse: 0.2992 - val_mae: 0.0562\n",
            "Epoch 32/100\n",
            "120/120 [==============================] - 1s 6ms/step - loss: 0.0047 - mse: 0.0047 - mae: 0.0435 - val_loss: 0.2946 - val_mse: 0.2946 - val_mae: 0.0573\n",
            "Epoch 33/100\n",
            "120/120 [==============================] - 1s 6ms/step - loss: 0.0046 - mse: 0.0046 - mae: 0.0425 - val_loss: 0.2949 - val_mse: 0.2949 - val_mae: 0.0554\n",
            "Epoch 34/100\n",
            "120/120 [==============================] - 1s 6ms/step - loss: 0.0041 - mse: 0.0041 - mae: 0.0411 - val_loss: 0.2900 - val_mse: 0.2900 - val_mae: 0.0583\n",
            "Epoch 35/100\n",
            "120/120 [==============================] - 1s 7ms/step - loss: 0.0041 - mse: 0.0041 - mae: 0.0411 - val_loss: 0.2866 - val_mse: 0.2866 - val_mae: 0.0700\n",
            "Epoch 36/100\n",
            "120/120 [==============================] - 1s 6ms/step - loss: 0.0048 - mse: 0.0048 - mae: 0.0474 - val_loss: 0.2890 - val_mse: 0.2890 - val_mae: 0.0635\n",
            "Epoch 37/100\n",
            "120/120 [==============================] - 1s 7ms/step - loss: 0.0048 - mse: 0.0048 - mae: 0.0448 - val_loss: 0.2931 - val_mse: 0.2931 - val_mae: 0.0545\n",
            "Epoch 38/100\n",
            "120/120 [==============================] - 1s 6ms/step - loss: 0.0039 - mse: 0.0039 - mae: 0.0385 - val_loss: 0.2842 - val_mse: 0.2842 - val_mae: 0.0593\n",
            "Epoch 39/100\n",
            "120/120 [==============================] - 1s 7ms/step - loss: 0.0045 - mse: 0.0045 - mae: 0.0426 - val_loss: 0.2817 - val_mse: 0.2817 - val_mae: 0.0726\n",
            "Epoch 40/100\n",
            "120/120 [==============================] - 1s 7ms/step - loss: 0.0049 - mse: 0.0049 - mae: 0.0486 - val_loss: 0.2798 - val_mse: 0.2798 - val_mae: 0.0696\n",
            "Epoch 41/100\n",
            "120/120 [==============================] - 1s 7ms/step - loss: 0.0045 - mse: 0.0045 - mae: 0.0455 - val_loss: 0.2767 - val_mse: 0.2767 - val_mae: 0.0547\n",
            "Epoch 42/100\n",
            "120/120 [==============================] - 1s 6ms/step - loss: 0.0038 - mse: 0.0038 - mae: 0.0379 - val_loss: 0.2719 - val_mse: 0.2719 - val_mae: 0.0565\n",
            "Epoch 43/100\n",
            "120/120 [==============================] - 1s 7ms/step - loss: 0.0039 - mse: 0.0039 - mae: 0.0402 - val_loss: 0.2766 - val_mse: 0.2766 - val_mae: 0.0629\n",
            "Epoch 44/100\n",
            "120/120 [==============================] - 1s 7ms/step - loss: 0.0041 - mse: 0.0041 - mae: 0.0420 - val_loss: 0.2773 - val_mse: 0.2773 - val_mae: 0.0660\n",
            "Epoch 45/100\n",
            "120/120 [==============================] - 1s 7ms/step - loss: 0.0043 - mse: 0.0043 - mae: 0.0433 - val_loss: 0.2754 - val_mse: 0.2754 - val_mae: 0.0579\n",
            "Epoch 46/100\n",
            "120/120 [==============================] - 1s 6ms/step - loss: 0.0039 - mse: 0.0039 - mae: 0.0395 - val_loss: 0.2715 - val_mse: 0.2715 - val_mae: 0.0650\n",
            "Epoch 47/100\n",
            "120/120 [==============================] - 1s 7ms/step - loss: 0.0045 - mse: 0.0045 - mae: 0.0442 - val_loss: 0.2698 - val_mse: 0.2698 - val_mae: 0.0648\n",
            "Epoch 48/100\n",
            "120/120 [==============================] - 1s 7ms/step - loss: 0.0045 - mse: 0.0045 - mae: 0.0447 - val_loss: 0.2638 - val_mse: 0.2638 - val_mae: 0.0634\n",
            "Epoch 49/100\n",
            "120/120 [==============================] - 1s 7ms/step - loss: 0.0044 - mse: 0.0044 - mae: 0.0439 - val_loss: 0.2717 - val_mse: 0.2717 - val_mae: 0.0663\n",
            "Epoch 50/100\n",
            "120/120 [==============================] - 1s 7ms/step - loss: 0.0046 - mse: 0.0046 - mae: 0.0448 - val_loss: 0.2769 - val_mse: 0.2769 - val_mae: 0.0604\n",
            "Epoch 51/100\n",
            "120/120 [==============================] - 1s 7ms/step - loss: 0.0043 - mse: 0.0043 - mae: 0.0419 - val_loss: 0.2775 - val_mse: 0.2775 - val_mae: 0.0603\n",
            "Epoch 52/100\n",
            "120/120 [==============================] - 1s 7ms/step - loss: 0.0039 - mse: 0.0039 - mae: 0.0403 - val_loss: 0.2735 - val_mse: 0.2735 - val_mae: 0.0725\n",
            "Epoch 53/100\n",
            "120/120 [==============================] - 1s 7ms/step - loss: 0.0045 - mse: 0.0045 - mae: 0.0462 - val_loss: 0.2825 - val_mse: 0.2825 - val_mae: 0.0618\n",
            "Epoch 54/100\n",
            "120/120 [==============================] - 1s 6ms/step - loss: 0.0038 - mse: 0.0038 - mae: 0.0398 - val_loss: 0.2806 - val_mse: 0.2806 - val_mae: 0.0573\n",
            "Epoch 55/100\n",
            "120/120 [==============================] - 1s 6ms/step - loss: 0.0039 - mse: 0.0039 - mae: 0.0384 - val_loss: 0.2807 - val_mse: 0.2807 - val_mae: 0.0652\n",
            "Epoch 56/100\n",
            "120/120 [==============================] - 1s 6ms/step - loss: 0.0040 - mse: 0.0040 - mae: 0.0413 - val_loss: 0.2816 - val_mse: 0.2816 - val_mae: 0.0767\n",
            "Epoch 57/100\n",
            "120/120 [==============================] - 1s 7ms/step - loss: 0.0043 - mse: 0.0043 - mae: 0.0446 - val_loss: 0.2740 - val_mse: 0.2740 - val_mae: 0.0598\n",
            "Epoch 58/100\n",
            "120/120 [==============================] - 1s 7ms/step - loss: 0.0039 - mse: 0.0039 - mae: 0.0398 - val_loss: 0.2729 - val_mse: 0.2729 - val_mae: 0.0598\n",
            "Epoch 59/100\n",
            "120/120 [==============================] - 1s 7ms/step - loss: 0.0038 - mse: 0.0038 - mae: 0.0394 - val_loss: 0.2693 - val_mse: 0.2693 - val_mae: 0.0662\n",
            "Epoch 60/100\n",
            "120/120 [==============================] - 1s 6ms/step - loss: 0.0043 - mse: 0.0043 - mae: 0.0416 - val_loss: 0.2719 - val_mse: 0.2719 - val_mae: 0.0655\n",
            "Epoch 61/100\n",
            "120/120 [==============================] - 1s 7ms/step - loss: 0.0040 - mse: 0.0040 - mae: 0.0416 - val_loss: 0.2779 - val_mse: 0.2779 - val_mae: 0.0641\n",
            "Epoch 62/100\n",
            "120/120 [==============================] - 1s 7ms/step - loss: 0.0039 - mse: 0.0039 - mae: 0.0399 - val_loss: 0.2847 - val_mse: 0.2847 - val_mae: 0.0594\n",
            "Epoch 63/100\n",
            "120/120 [==============================] - 1s 7ms/step - loss: 0.0039 - mse: 0.0039 - mae: 0.0400 - val_loss: 0.2774 - val_mse: 0.2774 - val_mae: 0.0675\n",
            "Epoch 64/100\n",
            "120/120 [==============================] - 1s 7ms/step - loss: 0.0041 - mse: 0.0041 - mae: 0.0415 - val_loss: 0.2741 - val_mse: 0.2741 - val_mae: 0.0674\n",
            "Epoch 65/100\n",
            "120/120 [==============================] - 1s 7ms/step - loss: 0.0038 - mse: 0.0038 - mae: 0.0409 - val_loss: 0.2712 - val_mse: 0.2712 - val_mae: 0.0577\n",
            "Epoch 66/100\n",
            "120/120 [==============================] - 1s 7ms/step - loss: 0.0036 - mse: 0.0036 - mae: 0.0368 - val_loss: 0.2800 - val_mse: 0.2800 - val_mae: 0.0589\n",
            "Epoch 67/100\n",
            "120/120 [==============================] - 1s 7ms/step - loss: 0.0036 - mse: 0.0036 - mae: 0.0376 - val_loss: 0.2671 - val_mse: 0.2671 - val_mae: 0.0595\n",
            "Epoch 68/100\n",
            "120/120 [==============================] - 1s 7ms/step - loss: 0.0039 - mse: 0.0039 - mae: 0.0375 - val_loss: 0.2718 - val_mse: 0.2718 - val_mae: 0.0755\n",
            "Epoch 69/100\n",
            "120/120 [==============================] - 1s 7ms/step - loss: 0.0043 - mse: 0.0043 - mae: 0.0443 - val_loss: 0.2741 - val_mse: 0.2741 - val_mae: 0.0580\n",
            "Epoch 70/100\n",
            "120/120 [==============================] - 1s 7ms/step - loss: 0.0038 - mse: 0.0038 - mae: 0.0371 - val_loss: 0.2782 - val_mse: 0.2782 - val_mae: 0.0681\n",
            "Epoch 71/100\n",
            "120/120 [==============================] - 1s 7ms/step - loss: 0.0037 - mse: 0.0037 - mae: 0.0407 - val_loss: 0.2773 - val_mse: 0.2773 - val_mae: 0.0580\n",
            "Epoch 72/100\n",
            "120/120 [==============================] - 1s 6ms/step - loss: 0.0034 - mse: 0.0034 - mae: 0.0364 - val_loss: 0.2774 - val_mse: 0.2774 - val_mae: 0.0595\n",
            "Epoch 73/100\n",
            "120/120 [==============================] - 1s 7ms/step - loss: 0.0033 - mse: 0.0033 - mae: 0.0348 - val_loss: 0.2800 - val_mse: 0.2800 - val_mae: 0.0591\n",
            "Epoch 74/100\n",
            "120/120 [==============================] - 1s 7ms/step - loss: 0.0036 - mse: 0.0036 - mae: 0.0382 - val_loss: 0.2866 - val_mse: 0.2866 - val_mae: 0.0563\n",
            "Epoch 75/100\n",
            "120/120 [==============================] - 1s 7ms/step - loss: 0.0034 - mse: 0.0034 - mae: 0.0370 - val_loss: 0.2825 - val_mse: 0.2825 - val_mae: 0.0570\n",
            "Epoch 76/100\n",
            "120/120 [==============================] - 1s 7ms/step - loss: 0.0033 - mse: 0.0033 - mae: 0.0346 - val_loss: 0.2775 - val_mse: 0.2775 - val_mae: 0.0658\n",
            "Epoch 77/100\n",
            "120/120 [==============================] - 1s 7ms/step - loss: 0.0040 - mse: 0.0040 - mae: 0.0414 - val_loss: 0.2712 - val_mse: 0.2712 - val_mae: 0.0560\n",
            "Epoch 78/100\n",
            "120/120 [==============================] - 1s 6ms/step - loss: 0.0037 - mse: 0.0037 - mae: 0.0368 - val_loss: 0.2734 - val_mse: 0.2734 - val_mae: 0.0567\n",
            "Epoch 79/100\n",
            "120/120 [==============================] - 1s 7ms/step - loss: 0.0033 - mse: 0.0033 - mae: 0.0360 - val_loss: 0.2791 - val_mse: 0.2791 - val_mae: 0.0576\n",
            "Epoch 80/100\n",
            "120/120 [==============================] - 1s 7ms/step - loss: 0.0034 - mse: 0.0034 - mae: 0.0359 - val_loss: 0.2759 - val_mse: 0.2759 - val_mae: 0.0571\n",
            "Epoch 81/100\n",
            "120/120 [==============================] - 1s 7ms/step - loss: 0.0033 - mse: 0.0033 - mae: 0.0364 - val_loss: 0.2780 - val_mse: 0.2780 - val_mae: 0.0567\n",
            "Epoch 82/100\n",
            "120/120 [==============================] - 1s 7ms/step - loss: 0.0036 - mse: 0.0036 - mae: 0.0391 - val_loss: 0.2765 - val_mse: 0.2765 - val_mae: 0.0560\n",
            "Epoch 83/100\n",
            "120/120 [==============================] - 1s 7ms/step - loss: 0.0034 - mse: 0.0034 - mae: 0.0356 - val_loss: 0.2748 - val_mse: 0.2748 - val_mae: 0.0558\n",
            "Epoch 84/100\n",
            "120/120 [==============================] - 1s 7ms/step - loss: 0.0035 - mse: 0.0035 - mae: 0.0362 - val_loss: 0.2819 - val_mse: 0.2819 - val_mae: 0.0565\n",
            "Epoch 85/100\n",
            "120/120 [==============================] - 1s 7ms/step - loss: 0.0036 - mse: 0.0036 - mae: 0.0383 - val_loss: 0.2769 - val_mse: 0.2769 - val_mae: 0.0560\n",
            "Epoch 86/100\n",
            "120/120 [==============================] - 1s 7ms/step - loss: 0.0035 - mse: 0.0035 - mae: 0.0364 - val_loss: 0.2736 - val_mse: 0.2736 - val_mae: 0.0573\n",
            "Epoch 87/100\n",
            "120/120 [==============================] - 1s 7ms/step - loss: 0.0036 - mse: 0.0036 - mae: 0.0389 - val_loss: 0.2902 - val_mse: 0.2902 - val_mae: 0.1441\n",
            "Epoch 88/100\n",
            "120/120 [==============================] - 1s 7ms/step - loss: 0.0071 - mse: 0.0071 - mae: 0.0633 - val_loss: 0.2765 - val_mse: 0.2765 - val_mae: 0.0756\n",
            "Epoch 89/100\n",
            "120/120 [==============================] - 1s 7ms/step - loss: 0.0031 - mse: 0.0031 - mae: 0.0348 - val_loss: 0.2909 - val_mse: 0.2909 - val_mae: 0.1060\n",
            "Epoch 90/100\n",
            "120/120 [==============================] - 1s 7ms/step - loss: 0.0035 - mse: 0.0035 - mae: 0.0389 - val_loss: 0.2782 - val_mse: 0.2782 - val_mae: 0.1017\n",
            "Epoch 91/100\n",
            "120/120 [==============================] - 1s 7ms/step - loss: 0.0037 - mse: 0.0037 - mae: 0.0384 - val_loss: 0.2836 - val_mse: 0.2836 - val_mae: 0.0977\n",
            "Epoch 92/100\n",
            "120/120 [==============================] - 1s 7ms/step - loss: 0.0035 - mse: 0.0035 - mae: 0.0370 - val_loss: 0.2844 - val_mse: 0.2844 - val_mae: 0.0968\n",
            "Epoch 93/100\n",
            "120/120 [==============================] - 1s 6ms/step - loss: 0.0035 - mse: 0.0035 - mae: 0.0370 - val_loss: 0.2797 - val_mse: 0.2797 - val_mae: 0.0895\n",
            "Epoch 94/100\n",
            "120/120 [==============================] - 1s 6ms/step - loss: 0.0032 - mse: 0.0032 - mae: 0.0348 - val_loss: 0.2794 - val_mse: 0.2794 - val_mae: 0.0845\n",
            "Epoch 95/100\n",
            "120/120 [==============================] - 1s 7ms/step - loss: 0.0032 - mse: 0.0032 - mae: 0.0346 - val_loss: 0.2761 - val_mse: 0.2761 - val_mae: 0.0777\n",
            "Epoch 96/100\n",
            "120/120 [==============================] - 1s 7ms/step - loss: 0.0033 - mse: 0.0033 - mae: 0.0336 - val_loss: 0.2819 - val_mse: 0.2819 - val_mae: 0.0763\n",
            "Epoch 97/100\n",
            "120/120 [==============================] - 1s 7ms/step - loss: 0.0033 - mse: 0.0033 - mae: 0.0343 - val_loss: 0.2840 - val_mse: 0.2840 - val_mae: 0.0662\n",
            "Epoch 98/100\n",
            "120/120 [==============================] - 1s 7ms/step - loss: 0.0030 - mse: 0.0030 - mae: 0.0328 - val_loss: 0.2925 - val_mse: 0.2925 - val_mae: 0.0666\n",
            "Epoch 99/100\n",
            "120/120 [==============================] - 1s 7ms/step - loss: 0.0028 - mse: 0.0028 - mae: 0.0320 - val_loss: 0.2828 - val_mse: 0.2828 - val_mae: 0.0592\n",
            "Epoch 100/100\n",
            "120/120 [==============================] - 1s 7ms/step - loss: 0.0032 - mse: 0.0032 - mae: 0.0348 - val_loss: 0.2819 - val_mse: 0.2819 - val_mae: 0.0590\n"
          ],
          "name": "stdout"
        }
      ]
    },
    {
      "cell_type": "code",
      "metadata": {
        "id": "GejE55rK81o4"
      },
      "source": [
        "##model.save('/content/drive/MyDrive/simpleRNN_Model/RNN_1_model.h5')"
      ],
      "execution_count": null,
      "outputs": []
    },
    {
      "cell_type": "code",
      "metadata": {
        "id": "-7TOBGf0cxXU"
      },
      "source": [
        "def model_loss(history):\n",
        "  plt.figure(figsize=(8,4))\n",
        "  plt.plot(history.history['loss'], label='Train Loss')\n",
        "  plt.plot(history.history['val_loss'], label='Test Loss')\n",
        "  plt.title('model loss')\n",
        "  plt.ylabel('loss')\n",
        "  plt.xlabel('epochs')\n",
        "  plt.legend(loc='upper right')\n",
        "  plt.show()"
      ],
      "execution_count": null,
      "outputs": []
    },
    {
      "cell_type": "code",
      "metadata": {
        "id": "wQT9YhWIeVRM",
        "colab": {
          "base_uri": "https://localhost:8080/",
          "height": 329
        },
        "outputId": "58aadf8f-fa33-4641-d9b7-6b6c5223d002"
      },
      "source": [
        "train_score = model.evaluate(trainX,trainY, verbose=0)  \n",
        "print('Train Root Mean Squared Error(RMSE): %.2f; Train Mean Absolute Error(MAE) : %.2f ' \n",
        "% (np.sqrt(train_score[1]), train_score[2]))  ###这里用了np.sqrt()\n",
        "test_score = model.evaluate(testX,testY, verbose=0)\n",
        "print('Test Root Mean Squared Error(RMSE): %.2f; Test Mean Absolute Error(MAE) : %.2f ' \n",
        "% (np.sqrt(test_score[1]), test_score[2]))\n",
        "model_loss(history)"
      ],
      "execution_count": null,
      "outputs": [
        {
          "output_type": "stream",
          "text": [
            "Train Root Mean Squared Error(RMSE): 0.09; Train Mean Absolute Error(MAE) : 0.07 \n",
            "Test Root Mean Squared Error(RMSE): 0.53; Test Mean Absolute Error(MAE) : 0.06 \n"
          ],
          "name": "stdout"
        },
        {
          "output_type": "display_data",
          "data": {
            "image/png": "[encoded data removed]",
            "text/plain": [
              "<Figure size 576x288 with 1 Axes>"
            ]
          },
          "metadata": {
            "tags": [],
            "needs_background": "light"
          }
        }
      ]
    },
    {
      "cell_type": "code",
      "metadata": {
        "id": "iPYudtjWjKu0"
      },
      "source": [
        "def prediction_plot(Y_actual,Y_predict,title,dates):\n",
        "  plt.figure(figsize=(11,7))\n",
        "  Y_actual=pd.DataFrame(Y_actual,index=dates)\n",
        "  Y_predict=pd.DataFrame(Y_predict,index=dates)\n",
        "  plt.plot(Y_actual,color= 'blue',label='actual')\n",
        "  plt.plot(Y_predict, color= 'red',label='prediction')\n",
        "  #plt.tight_layout()\n",
        "  #sns.despine(top=True)\n",
        "  #plt.subplots_adjust(left=0.07)\n",
        "  plt.ylabel('stock_price',size=15)\n",
        "  plt.xlabel('Date',size=15)\n",
        "  plt.legend(fontsize=15)\n",
        "  plt.title('Tomorrow Stock Price Forecasting_'+title+'_via simpleRNN\\n',size=15)\n",
        "  plt.show()"
      ],
      "execution_count": null,
      "outputs": []
    },
    {
      "cell_type": "code",
      "metadata": {
        "id": "KP0TR6vXexXn",
        "colab": {
          "base_uri": "https://localhost:8080/",
          "height": 484
        },
        "outputId": "e16929fc-2303-49fd-ec02-41ac05131077"
      },
      "source": [
        "train_predict=model.predict(trainX)\n",
        "trainY_predict_value=scaler_Y.inverse_transform(train_predict)\n",
        "trainY_actual_value=scaler_Y.inverse_transform(trainY)\n",
        "prediction_plot(trainY_actual_value,trainY_predict_value,'Train Data',dates_training)\n"
      ],
      "execution_count": null,
      "outputs": [
        {
          "output_type": "display_data",
          "data": {
            "image/png": "[encoded data removed]",
            "text/plain": [
              "<Figure size 792x504 with 1 Axes>"
            ]
          },
          "metadata": {
            "tags": [],
            "needs_background": "light"
          }
        }
      ]
    },
    {
      "cell_type": "code",
      "metadata": {
        "colab": {
          "base_uri": "https://localhost:8080/",
          "height": 484
        },
        "id": "gR1evUVjVe0r",
        "outputId": "80c91f74-a09f-4561-e731-03ca3f53e678"
      },
      "source": [
        "test_predict=model.predict(testX)\n",
        "testY_predict_value=scaler_Y.inverse_transform(test_predict)\n",
        "testY_actual_value=scaler_Y.inverse_transform(testY)\n",
        "prediction_plot(testY_actual_value,testY_predict_value,'Test Data',dates_test)\n"
      ],
      "execution_count": null,
      "outputs": [
        {
          "output_type": "display_data",
          "data": {
            "image/png": "[encoded data removed]",
            "text/plain": [
              "<Figure size 792x504 with 1 Axes>"
            ]
          },
          "metadata": {
            "tags": [],
            "needs_background": "light"
          }
        }
      ]
    },
    {
      "cell_type": "code",
      "metadata": {
        "colab": {
          "base_uri": "https://localhost:8080/"
        },
        "id": "Hy_NfPSyXWtI",
        "outputId": "d0d82f7e-6640-405f-afcb-ab19c080f3fd"
      },
      "source": [
        "testY_actual_value[0]"
      ],
      "execution_count": null,
      "outputs": [
        {
          "output_type": "execute_result",
          "data": {
            "text/plain": [
              "array([22.84000015])"
            ]
          },
          "metadata": {
            "tags": []
          },
          "execution_count": 58
        }
      ]
    },
    {
      "cell_type": "code",
      "metadata": {
        "colab": {
          "base_uri": "https://localhost:8080/",
          "height": 173
        },
        "id": "6sOgU1wIXbZr",
        "outputId": "a091b7fb-0379-47f7-adce-b469b3611da3"
      },
      "source": [
        "close_price[3816+3: 3822]"
      ],
      "execution_count": null,
      "outputs": [
        {
          "output_type": "execute_result",
          "data": {
            "text/html": [
              "<div>\n",
              "<style scoped>\n",
              "    .dataframe tbody tr th:only-of-type {\n",
              "        vertical-align: middle;\n",
              "    }\n",
              "\n",
              "    .dataframe tbody tr th {\n",
              "        vertical-align: top;\n",
              "    }\n",
              "\n",
              "    .dataframe thead th {\n",
              "        text-align: right;\n",
              "    }\n",
              "</style>\n",
              "<table border=\"1\" class=\"dataframe\">\n",
              "  <thead>\n",
              "    <tr style=\"text-align: right;\">\n",
              "      <th></th>\n",
              "      <th>close_price</th>\n",
              "    </tr>\n",
              "    <tr>\n",
              "      <th>date</th>\n",
              "      <th></th>\n",
              "    </tr>\n",
              "  </thead>\n",
              "  <tbody>\n",
              "    <tr>\n",
              "      <th>2017-04-17</th>\n",
              "      <td>22.889999</td>\n",
              "    </tr>\n",
              "    <tr>\n",
              "      <th>2017-04-18</th>\n",
              "      <td>22.840000</td>\n",
              "    </tr>\n",
              "    <tr>\n",
              "      <th>2017-04-19</th>\n",
              "      <td>22.780001</td>\n",
              "    </tr>\n",
              "  </tbody>\n",
              "</table>\n",
              "</div>"
            ],
            "text/plain": [
              "            close_price\n",
              "date                   \n",
              "2017-04-17    22.889999\n",
              "2017-04-18    22.840000\n",
              "2017-04-19    22.780001"
            ]
          },
          "metadata": {
            "tags": []
          },
          "execution_count": 78
        }
      ]
    },
    {
      "cell_type": "markdown",
      "metadata": {
        "id": "S2aXl69V_ot8"
      },
      "source": [
        "The Three metrics:"
      ]
    },
    {
      "cell_type": "code",
      "metadata": {
        "colab": {
          "base_uri": "https://localhost:8080/"
        },
        "id": "G61CrKha_tN-",
        "outputId": "8cf3010d-11a3-4d76-fb7d-ccde2678c594"
      },
      "source": [
        "RMSE_train = np.sqrt(mean_squared_error(trainY_actual_value,trainY_predict_value))\n",
        "RMSE_test = np.sqrt(mean_squared_error(testY_actual_value,testY_predict_value))\n",
        "print('The root mean square error (RMSE) for the train data is %.3f'%RMSE_train)\n",
        "print('The root mean square error (RMSE) for the test data is %.3f'%RMSE_test)"
      ],
      "execution_count": null,
      "outputs": [
        {
          "output_type": "stream",
          "text": [
            "The root mean square error (RMSE) for the train data is 1.311\n",
            "The root mean square error (RMSE) for the test data is 7.705\n"
          ],
          "name": "stdout"
        }
      ]
    },
    {
      "cell_type": "code",
      "metadata": {
        "colab": {
          "base_uri": "https://localhost:8080/"
        },
        "id": "dZVoFPWN_8mU",
        "outputId": "56d5f9f3-4074-40f1-dbc7-247f04540aa5"
      },
      "source": [
        "MAE_train = mean_absolute_error(trainY_actual_value,trainY_predict_value)\n",
        "MAE_test = mean_absolute_error(testY_actual_value,testY_predict_value)\n",
        "print('The mean absolute error (MAE) for the train data is %.3f'%MAE_train)\n",
        "print('The mean absolute error (MAE) for the test data is %.3f'%MAE_test)"
      ],
      "execution_count": null,
      "outputs": [
        {
          "output_type": "stream",
          "text": [
            "The mean absolute error (MAE) for the train data is 0.945\n",
            "The mean absolute error (MAE) for the test data is 0.856\n"
          ],
          "name": "stdout"
        }
      ]
    },
    {
      "cell_type": "code",
      "metadata": {
        "colab": {
          "base_uri": "https://localhost:8080/"
        },
        "id": "ltXJAVElPejE",
        "outputId": "1678e620-817b-4ac1-c90a-88a016d78b04"
      },
      "source": [
        "R2_train = r2_score(trainY_actual_value,trainY_predict_value)\n",
        "R2_test = r2_score(testY_actual_value,testY_predict_value)\n",
        "print('The coefficient of determination (R^2) for the train data is %.3f'% R2_train)\n",
        "print('The coefficient of determination (R^2) for the test data is %.3f'% R2_test)"
      ],
      "execution_count": null,
      "outputs": [
        {
          "output_type": "stream",
          "text": [
            "The coefficient of determination (R^2) for the train data is 0.990\n",
            "The coefficient of determination (R^2) for the test data is 0.730\n"
          ],
          "name": "stdout"
        }
      ]
    },
    {
      "cell_type": "code",
      "metadata": {
        "id": "bmORmQlQlT3j",
        "colab": {
          "base_uri": "https://localhost:8080/"
        },
        "outputId": "d00bdd02-c600-496d-f5fe-176019c7dd47"
      },
      "source": [
        "y_var_test=testY_actual_value[1:]-testY_actual_value[:len(testY_actual_value)-1]\n",
        "y_var_predict=testY_predict_value[1:]-testY_predict_value[:len(testY_predict_value)-1]\n",
        "txt=np.zeros(len(y_var_test))\n",
        "for i in range(len(y_var_test)-1):\n",
        "    txt[i]=np.sign(y_var_test[i])==np.sign(y_var_predict[i])\n",
        "result=sum(txt)/len(txt)\n",
        "print('Accuracy of price changing direction:',result)\n"
      ],
      "execution_count": null,
      "outputs": [
        {
          "output_type": "stream",
          "text": [
            "Accuracy of price changing direction: 0.509453781512605\n"
          ],
          "name": "stdout"
        }
      ]
    },
    {
      "cell_type": "code",
      "metadata": {
        "id": "dBOIQzTQAa5c"
      },
      "source": [
        ""
      ],
      "execution_count": null,
      "outputs": []
    },
    {
      "cell_type": "markdown",
      "metadata": {
        "id": "-Yt4WUxbCJ-Y"
      },
      "source": [
        "**Remove the last 11 data (they are increased suddenly)**"
      ]
    },
    {
      "cell_type": "code",
      "metadata": {
        "colab": {
          "base_uri": "https://localhost:8080/",
          "height": 484
        },
        "id": "9HBUk-lhCLZ9",
        "outputId": "4ef23d54-93a4-4302-e663-433cc5004cc2"
      },
      "source": [
        "prediction_plot(testY_actual_value[:-11],testY_predict_value[:-11],'Test Data_without last 11 data',dates_test[:-11])"
      ],
      "execution_count": null,
      "outputs": [
        {
          "output_type": "display_data",
          "data": {
            "image/png": "[encoded data removed]",
            "text/plain": [
              "<Figure size 792x504 with 1 Axes>"
            ]
          },
          "metadata": {
            "tags": [],
            "needs_background": "light"
          }
        }
      ]
    },
    {
      "cell_type": "code",
      "metadata": {
        "colab": {
          "base_uri": "https://localhost:8080/"
        },
        "id": "zCTGJVkRCUOb",
        "outputId": "c87bf220-6986-4086-9eff-7f7ccb77b1e7"
      },
      "source": [
        "RMSE_test = np.sqrt(mean_squared_error(testY_actual_value[:-11],testY_predict_value[:-11]))\n",
        "print('The root mean square error (RMSE) for the test data(without last 11 data) is %.3f'%RMSE_test)"
      ],
      "execution_count": null,
      "outputs": [
        {
          "output_type": "stream",
          "text": [
            "The root mean square error (RMSE) for the test data(without last 11 data) is 0.669\n"
          ],
          "name": "stdout"
        }
      ]
    },
    {
      "cell_type": "code",
      "metadata": {
        "colab": {
          "base_uri": "https://localhost:8080/"
        },
        "id": "0pmqELP7Cd5s",
        "outputId": "36b7cc74-df7e-4d92-d427-16e9215d72ce"
      },
      "source": [
        "MAE_test = mean_absolute_error(testY_actual_value[:-11],testY_predict_value[:-11])\n",
        "print('The mean absolute error (MAE) for the test data(without last 11 data) is %.3f'%MAE_test)"
      ],
      "execution_count": null,
      "outputs": [
        {
          "output_type": "stream",
          "text": [
            "The mean absolute error (MAE) for the test data(without last 11 data) is 0.388\n"
          ],
          "name": "stdout"
        }
      ]
    },
    {
      "cell_type": "code",
      "metadata": {
        "colab": {
          "base_uri": "https://localhost:8080/"
        },
        "id": "QgJ4_-YPCh_9",
        "outputId": "8ddbba02-c936-4cbb-f5d0-365406c21d30"
      },
      "source": [
        "\n",
        "\n",
        "R2_test = r2_score(testY_actual_value[:-11],testY_predict_value[:-11])\n",
        "print('The coefficient of determination (R^2) for the test data(without last 11 data) is %.3f'% R2_test)"
      ],
      "execution_count": null,
      "outputs": [
        {
          "output_type": "stream",
          "text": [
            "The coefficient of determination (R^2) for the test data(without last 11 data) is 0.988\n"
          ],
          "name": "stdout"
        }
      ]
    },
    {
      "cell_type": "code",
      "metadata": {
        "id": "liJj4CTACkRO",
        "colab": {
          "base_uri": "https://localhost:8080/"
        },
        "outputId": "8115488a-0de4-43de-bf84-ed18a46a70f0"
      },
      "source": [
        "testY_actual_value=testY_actual_value[:-11]\n",
        "testY_predict_value=testY_predict_value[:-11]\n",
        "y_var_test=testY_actual_value[1:]-testY_actual_value[:len(testY_actual_value)-1]\n",
        "y_var_predict=testY_predict_value[1:]-testY_predict_value[:len(testY_predict_value)-1]\n",
        "txt=np.zeros(len(y_var_test))\n",
        "for i in range(len(y_var_test)-1):\n",
        "    txt[i]=np.sign(y_var_test[i])==np.sign(y_var_predict[i])\n",
        "result=sum(txt)/len(txt)\n",
        "print('Accuracy of price changing direction:',result)"
      ],
      "execution_count": null,
      "outputs": [
        {
          "output_type": "stream",
          "text": [
            "Accuracy of price changing direction: 0.5090329436769394\n"
          ],
          "name": "stdout"
        }
      ]
    },
    {
      "cell_type": "code",
      "metadata": {
        "id": "3RH-fNQ2F-eK"
      },
      "source": [
        ""
      ],
      "execution_count": null,
      "outputs": []
    }
  ]
}