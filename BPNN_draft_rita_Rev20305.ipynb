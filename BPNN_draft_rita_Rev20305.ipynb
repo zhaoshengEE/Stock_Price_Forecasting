{
  "nbformat": 4,
  "nbformat_minor": 0,
  "metadata": {
    "colab": {
      "name": "“BPNN_draft_rita_0305.ipynb”的副本",
      "provenance": [],
      "collapsed_sections": []
    },
    "kernelspec": {
      "name": "python3",
      "display_name": "Python 3"
    }
  },
  "cells": [
    {
      "cell_type": "code",
      "metadata": {
        "id": "xiOuLZJyyzpc"
      },
      "source": [
        "import numpy as np\n",
        "import pandas as pd\n",
        "import matplotlib.pyplot as plt\n",
        "import seaborn as sns"
      ],
      "execution_count": 104,
      "outputs": []
    },
    {
      "cell_type": "code",
      "metadata": {
        "id": "8qhXbJVi6Ves"
      },
      "source": [
        "import keras\n",
        "from keras.layers import Dense,Dropout\n",
        "from keras.models import Sequential\n",
        "from keras.optimizers import Adam\n",
        "from keras.utils.vis_utils import plot_model\n",
        "from sklearn.preprocessing import MinMaxScaler"
      ],
      "execution_count": 2,
      "outputs": []
    },
    {
      "cell_type": "code",
      "metadata": {
        "colab": {
          "base_uri": "https://localhost:8080/"
        },
        "id": "n4cvxS1C6v55",
        "outputId": "775b8aa0-7eee-455b-b7a6-c20d4e347350"
      },
      "source": [
        "###mounting google drive\n",
        "from google.colab import drive\n",
        "drive.mount('/content/drive')"
      ],
      "execution_count": 3,
      "outputs": [
        {
          "output_type": "stream",
          "text": [
            "Drive already mounted at /content/drive; to attempt to forcibly remount, call drive.mount(\"/content/drive\", force_remount=True).\n"
          ],
          "name": "stdout"
        }
      ]
    },
    {
      "cell_type": "markdown",
      "metadata": {
        "id": "SWSROxLE9TjF"
      },
      "source": [
        "Read the stock price data"
      ]
    },
    {
      "cell_type": "code",
      "metadata": {
        "id": "XG3lBu3f6bC-"
      },
      "source": [
        "stock_df= pd.read_csv('./drive/My Drive/Colab Notebooks/GME_stock.csv',parse_dates=[\"date\"])"
      ],
      "execution_count": 4,
      "outputs": []
    },
    {
      "cell_type": "code",
      "metadata": {
        "colab": {
          "base_uri": "https://localhost:8080/",
          "height": 204
        },
        "id": "dnrXLg-T6tzl",
        "outputId": "50a77602-da29-49cb-de17-1a4ac6e533b4"
      },
      "source": [
        "stock_df.tail()"
      ],
      "execution_count": 5,
      "outputs": [
        {
          "output_type": "execute_result",
          "data": {
            "text/html": [
              "<div>\n",
              "<style scoped>\n",
              "    .dataframe tbody tr th:only-of-type {\n",
              "        vertical-align: middle;\n",
              "    }\n",
              "\n",
              "    .dataframe tbody tr th {\n",
              "        vertical-align: top;\n",
              "    }\n",
              "\n",
              "    .dataframe thead th {\n",
              "        text-align: right;\n",
              "    }\n",
              "</style>\n",
              "<table border=\"1\" class=\"dataframe\">\n",
              "  <thead>\n",
              "    <tr style=\"text-align: right;\">\n",
              "      <th></th>\n",
              "      <th>date</th>\n",
              "      <th>open_price</th>\n",
              "      <th>high_price</th>\n",
              "      <th>low_price</th>\n",
              "      <th>close_price</th>\n",
              "      <th>volume</th>\n",
              "      <th>adjclose_price</th>\n",
              "    </tr>\n",
              "  </thead>\n",
              "  <tbody>\n",
              "    <tr>\n",
              "      <th>4768</th>\n",
              "      <td>2002-02-20</td>\n",
              "      <td>9.600</td>\n",
              "      <td>9.875</td>\n",
              "      <td>9.525</td>\n",
              "      <td>9.875</td>\n",
              "      <td>1723200.0</td>\n",
              "      <td>6.648838</td>\n",
              "    </tr>\n",
              "    <tr>\n",
              "      <th>4769</th>\n",
              "      <td>2002-02-19</td>\n",
              "      <td>9.900</td>\n",
              "      <td>9.900</td>\n",
              "      <td>9.375</td>\n",
              "      <td>9.550</td>\n",
              "      <td>1852600.0</td>\n",
              "      <td>6.430017</td>\n",
              "    </tr>\n",
              "    <tr>\n",
              "      <th>4770</th>\n",
              "      <td>2002-02-15</td>\n",
              "      <td>10.000</td>\n",
              "      <td>10.025</td>\n",
              "      <td>9.850</td>\n",
              "      <td>9.950</td>\n",
              "      <td>2097400.0</td>\n",
              "      <td>6.699336</td>\n",
              "    </tr>\n",
              "    <tr>\n",
              "      <th>4771</th>\n",
              "      <td>2002-02-14</td>\n",
              "      <td>10.175</td>\n",
              "      <td>10.195</td>\n",
              "      <td>9.925</td>\n",
              "      <td>10.000</td>\n",
              "      <td>2755400.0</td>\n",
              "      <td>6.733003</td>\n",
              "    </tr>\n",
              "    <tr>\n",
              "      <th>4772</th>\n",
              "      <td>2002-02-13</td>\n",
              "      <td>9.625</td>\n",
              "      <td>10.060</td>\n",
              "      <td>9.525</td>\n",
              "      <td>10.050</td>\n",
              "      <td>19054000.0</td>\n",
              "      <td>6.766666</td>\n",
              "    </tr>\n",
              "  </tbody>\n",
              "</table>\n",
              "</div>"
            ],
            "text/plain": [
              "           date  open_price  ...      volume  adjclose_price\n",
              "4768 2002-02-20       9.600  ...   1723200.0        6.648838\n",
              "4769 2002-02-19       9.900  ...   1852600.0        6.430017\n",
              "4770 2002-02-15      10.000  ...   2097400.0        6.699336\n",
              "4771 2002-02-14      10.175  ...   2755400.0        6.733003\n",
              "4772 2002-02-13       9.625  ...  19054000.0        6.766666\n",
              "\n",
              "[5 rows x 7 columns]"
            ]
          },
          "metadata": {
            "tags": []
          },
          "execution_count": 5
        }
      ]
    },
    {
      "cell_type": "code",
      "metadata": {
        "colab": {
          "base_uri": "https://localhost:8080/",
          "height": 204
        },
        "id": "PUXk6WFZ8-jj",
        "outputId": "b2e49862-0563-41ea-954e-fa002ae905e5"
      },
      "source": [
        "stock_df.head()"
      ],
      "execution_count": 6,
      "outputs": [
        {
          "output_type": "execute_result",
          "data": {
            "text/html": [
              "<div>\n",
              "<style scoped>\n",
              "    .dataframe tbody tr th:only-of-type {\n",
              "        vertical-align: middle;\n",
              "    }\n",
              "\n",
              "    .dataframe tbody tr th {\n",
              "        vertical-align: top;\n",
              "    }\n",
              "\n",
              "    .dataframe thead th {\n",
              "        text-align: right;\n",
              "    }\n",
              "</style>\n",
              "<table border=\"1\" class=\"dataframe\">\n",
              "  <thead>\n",
              "    <tr style=\"text-align: right;\">\n",
              "      <th></th>\n",
              "      <th>date</th>\n",
              "      <th>open_price</th>\n",
              "      <th>high_price</th>\n",
              "      <th>low_price</th>\n",
              "      <th>close_price</th>\n",
              "      <th>volume</th>\n",
              "      <th>adjclose_price</th>\n",
              "    </tr>\n",
              "  </thead>\n",
              "  <tbody>\n",
              "    <tr>\n",
              "      <th>0</th>\n",
              "      <td>2021-01-28</td>\n",
              "      <td>265.000000</td>\n",
              "      <td>483.000000</td>\n",
              "      <td>112.250000</td>\n",
              "      <td>193.600006</td>\n",
              "      <td>58815800.0</td>\n",
              "      <td>193.600006</td>\n",
              "    </tr>\n",
              "    <tr>\n",
              "      <th>1</th>\n",
              "      <td>2021-01-27</td>\n",
              "      <td>354.829987</td>\n",
              "      <td>380.000000</td>\n",
              "      <td>249.000000</td>\n",
              "      <td>347.510010</td>\n",
              "      <td>93396700.0</td>\n",
              "      <td>347.510010</td>\n",
              "    </tr>\n",
              "    <tr>\n",
              "      <th>2</th>\n",
              "      <td>2021-01-26</td>\n",
              "      <td>88.559998</td>\n",
              "      <td>150.000000</td>\n",
              "      <td>80.199997</td>\n",
              "      <td>147.979996</td>\n",
              "      <td>178588000.0</td>\n",
              "      <td>147.979996</td>\n",
              "    </tr>\n",
              "    <tr>\n",
              "      <th>3</th>\n",
              "      <td>2021-01-25</td>\n",
              "      <td>96.730003</td>\n",
              "      <td>159.179993</td>\n",
              "      <td>61.130001</td>\n",
              "      <td>76.790001</td>\n",
              "      <td>177874000.0</td>\n",
              "      <td>76.790001</td>\n",
              "    </tr>\n",
              "    <tr>\n",
              "      <th>4</th>\n",
              "      <td>2021-01-22</td>\n",
              "      <td>42.590000</td>\n",
              "      <td>76.760002</td>\n",
              "      <td>42.320000</td>\n",
              "      <td>65.010002</td>\n",
              "      <td>196784300.0</td>\n",
              "      <td>65.010002</td>\n",
              "    </tr>\n",
              "  </tbody>\n",
              "</table>\n",
              "</div>"
            ],
            "text/plain": [
              "        date  open_price  high_price  ...  close_price       volume  adjclose_price\n",
              "0 2021-01-28  265.000000  483.000000  ...   193.600006   58815800.0      193.600006\n",
              "1 2021-01-27  354.829987  380.000000  ...   347.510010   93396700.0      347.510010\n",
              "2 2021-01-26   88.559998  150.000000  ...   147.979996  178588000.0      147.979996\n",
              "3 2021-01-25   96.730003  159.179993  ...    76.790001  177874000.0       76.790001\n",
              "4 2021-01-22   42.590000   76.760002  ...    65.010002  196784300.0       65.010002\n",
              "\n",
              "[5 rows x 7 columns]"
            ]
          },
          "metadata": {
            "tags": []
          },
          "execution_count": 6
        }
      ]
    },
    {
      "cell_type": "markdown",
      "metadata": {
        "id": "1dAn6WwCDsTo"
      },
      "source": [
        "The data has inverted order by date. We need to change it in  date ascending order."
      ]
    },
    {
      "cell_type": "code",
      "metadata": {
        "id": "VWBfM-nYDri7"
      },
      "source": [
        "stock_df=stock_df.sort_values(by=\"date\", ascending=True)"
      ],
      "execution_count": 7,
      "outputs": []
    },
    {
      "cell_type": "code",
      "metadata": {
        "colab": {
          "base_uri": "https://localhost:8080/",
          "height": 204
        },
        "id": "YUD8clhZMqdg",
        "outputId": "17812b98-a052-414d-e2e3-83e185a16e58"
      },
      "source": [
        "stock_df.head()"
      ],
      "execution_count": 8,
      "outputs": [
        {
          "output_type": "execute_result",
          "data": {
            "text/html": [
              "<div>\n",
              "<style scoped>\n",
              "    .dataframe tbody tr th:only-of-type {\n",
              "        vertical-align: middle;\n",
              "    }\n",
              "\n",
              "    .dataframe tbody tr th {\n",
              "        vertical-align: top;\n",
              "    }\n",
              "\n",
              "    .dataframe thead th {\n",
              "        text-align: right;\n",
              "    }\n",
              "</style>\n",
              "<table border=\"1\" class=\"dataframe\">\n",
              "  <thead>\n",
              "    <tr style=\"text-align: right;\">\n",
              "      <th></th>\n",
              "      <th>date</th>\n",
              "      <th>open_price</th>\n",
              "      <th>high_price</th>\n",
              "      <th>low_price</th>\n",
              "      <th>close_price</th>\n",
              "      <th>volume</th>\n",
              "      <th>adjclose_price</th>\n",
              "    </tr>\n",
              "  </thead>\n",
              "  <tbody>\n",
              "    <tr>\n",
              "      <th>4772</th>\n",
              "      <td>2002-02-13</td>\n",
              "      <td>9.625</td>\n",
              "      <td>10.060</td>\n",
              "      <td>9.525</td>\n",
              "      <td>10.050</td>\n",
              "      <td>19054000.0</td>\n",
              "      <td>6.766666</td>\n",
              "    </tr>\n",
              "    <tr>\n",
              "      <th>4771</th>\n",
              "      <td>2002-02-14</td>\n",
              "      <td>10.175</td>\n",
              "      <td>10.195</td>\n",
              "      <td>9.925</td>\n",
              "      <td>10.000</td>\n",
              "      <td>2755400.0</td>\n",
              "      <td>6.733003</td>\n",
              "    </tr>\n",
              "    <tr>\n",
              "      <th>4770</th>\n",
              "      <td>2002-02-15</td>\n",
              "      <td>10.000</td>\n",
              "      <td>10.025</td>\n",
              "      <td>9.850</td>\n",
              "      <td>9.950</td>\n",
              "      <td>2097400.0</td>\n",
              "      <td>6.699336</td>\n",
              "    </tr>\n",
              "    <tr>\n",
              "      <th>4769</th>\n",
              "      <td>2002-02-19</td>\n",
              "      <td>9.900</td>\n",
              "      <td>9.900</td>\n",
              "      <td>9.375</td>\n",
              "      <td>9.550</td>\n",
              "      <td>1852600.0</td>\n",
              "      <td>6.430017</td>\n",
              "    </tr>\n",
              "    <tr>\n",
              "      <th>4768</th>\n",
              "      <td>2002-02-20</td>\n",
              "      <td>9.600</td>\n",
              "      <td>9.875</td>\n",
              "      <td>9.525</td>\n",
              "      <td>9.875</td>\n",
              "      <td>1723200.0</td>\n",
              "      <td>6.648838</td>\n",
              "    </tr>\n",
              "  </tbody>\n",
              "</table>\n",
              "</div>"
            ],
            "text/plain": [
              "           date  open_price  ...      volume  adjclose_price\n",
              "4772 2002-02-13       9.625  ...  19054000.0        6.766666\n",
              "4771 2002-02-14      10.175  ...   2755400.0        6.733003\n",
              "4770 2002-02-15      10.000  ...   2097400.0        6.699336\n",
              "4769 2002-02-19       9.900  ...   1852600.0        6.430017\n",
              "4768 2002-02-20       9.600  ...   1723200.0        6.648838\n",
              "\n",
              "[5 rows x 7 columns]"
            ]
          },
          "metadata": {
            "tags": []
          },
          "execution_count": 8
        }
      ]
    },
    {
      "cell_type": "markdown",
      "metadata": {
        "id": "8HVHrXutkjEG"
      },
      "source": [
        "Based on what I have learned in CPSC330 as below, the stock price prediction shoulbe be a lag_based features. Because in stock market analysis,we always use historical data to predict next week or next day prices.\n",
        "I'll try lag=5 first and target take the tomorrow's close_price\n",
        "\n",
        "**Lag-based features**\n",
        "> Currently we're using features about today to predict tomorrow's rainfall.\n",
        "\n",
        "> But, what if tomorrow's rainfall is also related to yesterday's features, or the day before?\n",
        "> This is called a lagged feature."
      ]
    },
    {
      "cell_type": "code",
      "metadata": {
        "id": "THoVZIN4lzMw"
      },
      "source": [
        "def create_lag_feature(df,orig_feature,lag):\n",
        "  new_df=df.copy()\n",
        "  new_feature_name= \"%s_lag%d\" %(orig_feature, lag)\n",
        "  new_df[new_feature_name]=np.nan\n",
        "  new_df.loc[df.index[lag:],new_feature_name]=df.iloc[:-lag][orig_feature].values\n",
        "  return new_df"
      ],
      "execution_count": 9,
      "outputs": []
    },
    {
      "cell_type": "code",
      "metadata": {
        "id": "8DbTZyE-weOZ"
      },
      "source": [
        "def create_after_days_target(df,orig_column,days_after):\n",
        "  new_df= df.copy()\n",
        "  target_column='%s_after_%d_days'%(orig_column, days_after)\n",
        "  if days_after==1:\n",
        "    target_column=orig_column +\"_tomorrow\"\n",
        "  new_df[target_column]=np.nan\n",
        "  new_df.loc[df.index[:-days_after],target_column]=df.iloc[days_after:][orig_column].values\n",
        "  return new_df"
      ],
      "execution_count": 10,
      "outputs": []
    },
    {
      "cell_type": "code",
      "metadata": {
        "id": "CwqgPHqZuf2f"
      },
      "source": [
        "stock_df=create_lag_feature(stock_df,'close_price',1) ## add feture: yesterday close_price"
      ],
      "execution_count": 11,
      "outputs": []
    },
    {
      "cell_type": "code",
      "metadata": {
        "id": "x6mOWp70u2WS"
      },
      "source": [
        "stock_df=create_lag_feature(stock_df,'close_price',2) ## add feture: close_price of 2 days before "
      ],
      "execution_count": 12,
      "outputs": []
    },
    {
      "cell_type": "code",
      "metadata": {
        "id": "QCZkUWpUv56H"
      },
      "source": [
        "stock_df=create_lag_feature(stock_df,'close_price',3)  ## add feture: close_price of 3 days before "
      ],
      "execution_count": 13,
      "outputs": []
    },
    {
      "cell_type": "code",
      "metadata": {
        "id": "sLNt9vT3wO4i"
      },
      "source": [
        "## create target column \"close_price_tomorrow\"\n",
        "stock_df=create_after_days_target(stock_df,'close_price',1)"
      ],
      "execution_count": 14,
      "outputs": []
    },
    {
      "cell_type": "code",
      "metadata": {
        "colab": {
          "base_uri": "https://localhost:8080/",
          "height": 309
        },
        "id": "c_tGV6XMy9sS",
        "outputId": "c8508f04-06e3-4004-8cf8-00cb6b6b856b"
      },
      "source": [
        "stock_df.head()"
      ],
      "execution_count": 15,
      "outputs": [
        {
          "output_type": "execute_result",
          "data": {
            "text/html": [
              "<div>\n",
              "<style scoped>\n",
              "    .dataframe tbody tr th:only-of-type {\n",
              "        vertical-align: middle;\n",
              "    }\n",
              "\n",
              "    .dataframe tbody tr th {\n",
              "        vertical-align: top;\n",
              "    }\n",
              "\n",
              "    .dataframe thead th {\n",
              "        text-align: right;\n",
              "    }\n",
              "</style>\n",
              "<table border=\"1\" class=\"dataframe\">\n",
              "  <thead>\n",
              "    <tr style=\"text-align: right;\">\n",
              "      <th></th>\n",
              "      <th>date</th>\n",
              "      <th>open_price</th>\n",
              "      <th>high_price</th>\n",
              "      <th>low_price</th>\n",
              "      <th>close_price</th>\n",
              "      <th>volume</th>\n",
              "      <th>adjclose_price</th>\n",
              "      <th>close_price_lag1</th>\n",
              "      <th>close_price_lag2</th>\n",
              "      <th>close_price_lag3</th>\n",
              "      <th>close_price_tomorrow</th>\n",
              "    </tr>\n",
              "  </thead>\n",
              "  <tbody>\n",
              "    <tr>\n",
              "      <th>4772</th>\n",
              "      <td>2002-02-13</td>\n",
              "      <td>9.625</td>\n",
              "      <td>10.060</td>\n",
              "      <td>9.525</td>\n",
              "      <td>10.050</td>\n",
              "      <td>19054000.0</td>\n",
              "      <td>6.766666</td>\n",
              "      <td>NaN</td>\n",
              "      <td>NaN</td>\n",
              "      <td>NaN</td>\n",
              "      <td>10.000</td>\n",
              "    </tr>\n",
              "    <tr>\n",
              "      <th>4771</th>\n",
              "      <td>2002-02-14</td>\n",
              "      <td>10.175</td>\n",
              "      <td>10.195</td>\n",
              "      <td>9.925</td>\n",
              "      <td>10.000</td>\n",
              "      <td>2755400.0</td>\n",
              "      <td>6.733003</td>\n",
              "      <td>10.05</td>\n",
              "      <td>NaN</td>\n",
              "      <td>NaN</td>\n",
              "      <td>9.950</td>\n",
              "    </tr>\n",
              "    <tr>\n",
              "      <th>4770</th>\n",
              "      <td>2002-02-15</td>\n",
              "      <td>10.000</td>\n",
              "      <td>10.025</td>\n",
              "      <td>9.850</td>\n",
              "      <td>9.950</td>\n",
              "      <td>2097400.0</td>\n",
              "      <td>6.699336</td>\n",
              "      <td>10.00</td>\n",
              "      <td>10.05</td>\n",
              "      <td>NaN</td>\n",
              "      <td>9.550</td>\n",
              "    </tr>\n",
              "    <tr>\n",
              "      <th>4769</th>\n",
              "      <td>2002-02-19</td>\n",
              "      <td>9.900</td>\n",
              "      <td>9.900</td>\n",
              "      <td>9.375</td>\n",
              "      <td>9.550</td>\n",
              "      <td>1852600.0</td>\n",
              "      <td>6.430017</td>\n",
              "      <td>9.95</td>\n",
              "      <td>10.00</td>\n",
              "      <td>10.05</td>\n",
              "      <td>9.875</td>\n",
              "    </tr>\n",
              "    <tr>\n",
              "      <th>4768</th>\n",
              "      <td>2002-02-20</td>\n",
              "      <td>9.600</td>\n",
              "      <td>9.875</td>\n",
              "      <td>9.525</td>\n",
              "      <td>9.875</td>\n",
              "      <td>1723200.0</td>\n",
              "      <td>6.648838</td>\n",
              "      <td>9.55</td>\n",
              "      <td>9.95</td>\n",
              "      <td>10.00</td>\n",
              "      <td>9.850</td>\n",
              "    </tr>\n",
              "  </tbody>\n",
              "</table>\n",
              "</div>"
            ],
            "text/plain": [
              "           date  open_price  ...  close_price_lag3  close_price_tomorrow\n",
              "4772 2002-02-13       9.625  ...               NaN                10.000\n",
              "4771 2002-02-14      10.175  ...               NaN                 9.950\n",
              "4770 2002-02-15      10.000  ...               NaN                 9.550\n",
              "4769 2002-02-19       9.900  ...             10.05                 9.875\n",
              "4768 2002-02-20       9.600  ...             10.00                 9.850\n",
              "\n",
              "[5 rows x 11 columns]"
            ]
          },
          "metadata": {
            "tags": []
          },
          "execution_count": 15
        }
      ]
    },
    {
      "cell_type": "code",
      "metadata": {
        "colab": {
          "base_uri": "https://localhost:8080/",
          "height": 309
        },
        "id": "xUWjX-DazevS",
        "outputId": "74750c91-ea3c-4951-a053-7c90a18e7931"
      },
      "source": [
        "stock_df.tail()"
      ],
      "execution_count": 16,
      "outputs": [
        {
          "output_type": "execute_result",
          "data": {
            "text/html": [
              "<div>\n",
              "<style scoped>\n",
              "    .dataframe tbody tr th:only-of-type {\n",
              "        vertical-align: middle;\n",
              "    }\n",
              "\n",
              "    .dataframe tbody tr th {\n",
              "        vertical-align: top;\n",
              "    }\n",
              "\n",
              "    .dataframe thead th {\n",
              "        text-align: right;\n",
              "    }\n",
              "</style>\n",
              "<table border=\"1\" class=\"dataframe\">\n",
              "  <thead>\n",
              "    <tr style=\"text-align: right;\">\n",
              "      <th></th>\n",
              "      <th>date</th>\n",
              "      <th>open_price</th>\n",
              "      <th>high_price</th>\n",
              "      <th>low_price</th>\n",
              "      <th>close_price</th>\n",
              "      <th>volume</th>\n",
              "      <th>adjclose_price</th>\n",
              "      <th>close_price_lag1</th>\n",
              "      <th>close_price_lag2</th>\n",
              "      <th>close_price_lag3</th>\n",
              "      <th>close_price_tomorrow</th>\n",
              "    </tr>\n",
              "  </thead>\n",
              "  <tbody>\n",
              "    <tr>\n",
              "      <th>4</th>\n",
              "      <td>2021-01-22</td>\n",
              "      <td>42.590000</td>\n",
              "      <td>76.760002</td>\n",
              "      <td>42.320000</td>\n",
              "      <td>65.010002</td>\n",
              "      <td>196784300.0</td>\n",
              "      <td>65.010002</td>\n",
              "      <td>43.029999</td>\n",
              "      <td>39.119999</td>\n",
              "      <td>39.360001</td>\n",
              "      <td>76.790001</td>\n",
              "    </tr>\n",
              "    <tr>\n",
              "      <th>3</th>\n",
              "      <td>2021-01-25</td>\n",
              "      <td>96.730003</td>\n",
              "      <td>159.179993</td>\n",
              "      <td>61.130001</td>\n",
              "      <td>76.790001</td>\n",
              "      <td>177874000.0</td>\n",
              "      <td>76.790001</td>\n",
              "      <td>65.010002</td>\n",
              "      <td>43.029999</td>\n",
              "      <td>39.119999</td>\n",
              "      <td>147.979996</td>\n",
              "    </tr>\n",
              "    <tr>\n",
              "      <th>2</th>\n",
              "      <td>2021-01-26</td>\n",
              "      <td>88.559998</td>\n",
              "      <td>150.000000</td>\n",
              "      <td>80.199997</td>\n",
              "      <td>147.979996</td>\n",
              "      <td>178588000.0</td>\n",
              "      <td>147.979996</td>\n",
              "      <td>76.790001</td>\n",
              "      <td>65.010002</td>\n",
              "      <td>43.029999</td>\n",
              "      <td>347.510010</td>\n",
              "    </tr>\n",
              "    <tr>\n",
              "      <th>1</th>\n",
              "      <td>2021-01-27</td>\n",
              "      <td>354.829987</td>\n",
              "      <td>380.000000</td>\n",
              "      <td>249.000000</td>\n",
              "      <td>347.510010</td>\n",
              "      <td>93396700.0</td>\n",
              "      <td>347.510010</td>\n",
              "      <td>147.979996</td>\n",
              "      <td>76.790001</td>\n",
              "      <td>65.010002</td>\n",
              "      <td>193.600006</td>\n",
              "    </tr>\n",
              "    <tr>\n",
              "      <th>0</th>\n",
              "      <td>2021-01-28</td>\n",
              "      <td>265.000000</td>\n",
              "      <td>483.000000</td>\n",
              "      <td>112.250000</td>\n",
              "      <td>193.600006</td>\n",
              "      <td>58815800.0</td>\n",
              "      <td>193.600006</td>\n",
              "      <td>347.510010</td>\n",
              "      <td>147.979996</td>\n",
              "      <td>76.790001</td>\n",
              "      <td>NaN</td>\n",
              "    </tr>\n",
              "  </tbody>\n",
              "</table>\n",
              "</div>"
            ],
            "text/plain": [
              "        date  open_price  ...  close_price_lag3  close_price_tomorrow\n",
              "4 2021-01-22   42.590000  ...         39.360001             76.790001\n",
              "3 2021-01-25   96.730003  ...         39.119999            147.979996\n",
              "2 2021-01-26   88.559998  ...         43.029999            347.510010\n",
              "1 2021-01-27  354.829987  ...         65.010002            193.600006\n",
              "0 2021-01-28  265.000000  ...         76.790001                   NaN\n",
              "\n",
              "[5 rows x 11 columns]"
            ]
          },
          "metadata": {
            "tags": []
          },
          "execution_count": 16
        }
      ]
    },
    {
      "cell_type": "markdown",
      "metadata": {
        "id": "dnrGpEF99p-D"
      },
      "source": [
        "Split the dataframe into training set and test set\n",
        "\n",
        "\n",
        "> there are some NaN values when we create new features and target columns. one way is to delete these column. the other way is to use SimpleImputer.\n",
        "<br> lets just delete them first\n",
        "<br> TODO, add SimpleImputer in preprocessing pipeline.\n",
        "\n"
      ]
    },
    {
      "cell_type": "code",
      "metadata": {
        "id": "tF0irFm59BTD"
      },
      "source": [
        "training_data = stock_df[3:3773]  # from index 0 to 3772, NOT 3773  ### not include the first 3 row\n",
        "test_data = stock_df[3773:4772]   # from index 3773 to 4772         ### not include the last row"
      ],
      "execution_count": 17,
      "outputs": []
    },
    {
      "cell_type": "code",
      "metadata": {
        "colab": {
          "base_uri": "https://localhost:8080/",
          "height": 309
        },
        "id": "PPPAnwRrMWtG",
        "outputId": "dd59d33f-b6a4-470a-9a6c-5e8fa31cc3be"
      },
      "source": [
        "training_data.head()"
      ],
      "execution_count": 18,
      "outputs": [
        {
          "output_type": "execute_result",
          "data": {
            "text/html": [
              "<div>\n",
              "<style scoped>\n",
              "    .dataframe tbody tr th:only-of-type {\n",
              "        vertical-align: middle;\n",
              "    }\n",
              "\n",
              "    .dataframe tbody tr th {\n",
              "        vertical-align: top;\n",
              "    }\n",
              "\n",
              "    .dataframe thead th {\n",
              "        text-align: right;\n",
              "    }\n",
              "</style>\n",
              "<table border=\"1\" class=\"dataframe\">\n",
              "  <thead>\n",
              "    <tr style=\"text-align: right;\">\n",
              "      <th></th>\n",
              "      <th>date</th>\n",
              "      <th>open_price</th>\n",
              "      <th>high_price</th>\n",
              "      <th>low_price</th>\n",
              "      <th>close_price</th>\n",
              "      <th>volume</th>\n",
              "      <th>adjclose_price</th>\n",
              "      <th>close_price_lag1</th>\n",
              "      <th>close_price_lag2</th>\n",
              "      <th>close_price_lag3</th>\n",
              "      <th>close_price_tomorrow</th>\n",
              "    </tr>\n",
              "  </thead>\n",
              "  <tbody>\n",
              "    <tr>\n",
              "      <th>4769</th>\n",
              "      <td>2002-02-19</td>\n",
              "      <td>9.900</td>\n",
              "      <td>9.900</td>\n",
              "      <td>9.375</td>\n",
              "      <td>9.550</td>\n",
              "      <td>1852600.0</td>\n",
              "      <td>6.430017</td>\n",
              "      <td>9.950</td>\n",
              "      <td>10.000</td>\n",
              "      <td>10.050</td>\n",
              "      <td>9.875</td>\n",
              "    </tr>\n",
              "    <tr>\n",
              "      <th>4768</th>\n",
              "      <td>2002-02-20</td>\n",
              "      <td>9.600</td>\n",
              "      <td>9.875</td>\n",
              "      <td>9.525</td>\n",
              "      <td>9.875</td>\n",
              "      <td>1723200.0</td>\n",
              "      <td>6.648838</td>\n",
              "      <td>9.550</td>\n",
              "      <td>9.950</td>\n",
              "      <td>10.000</td>\n",
              "      <td>9.850</td>\n",
              "    </tr>\n",
              "    <tr>\n",
              "      <th>4767</th>\n",
              "      <td>2002-02-21</td>\n",
              "      <td>9.840</td>\n",
              "      <td>9.925</td>\n",
              "      <td>9.750</td>\n",
              "      <td>9.850</td>\n",
              "      <td>1744200.0</td>\n",
              "      <td>6.632006</td>\n",
              "      <td>9.875</td>\n",
              "      <td>9.550</td>\n",
              "      <td>9.950</td>\n",
              "      <td>9.675</td>\n",
              "    </tr>\n",
              "    <tr>\n",
              "      <th>4766</th>\n",
              "      <td>2002-02-22</td>\n",
              "      <td>9.925</td>\n",
              "      <td>9.925</td>\n",
              "      <td>9.600</td>\n",
              "      <td>9.675</td>\n",
              "      <td>881400.0</td>\n",
              "      <td>6.514178</td>\n",
              "      <td>9.850</td>\n",
              "      <td>9.875</td>\n",
              "      <td>9.550</td>\n",
              "      <td>9.750</td>\n",
              "    </tr>\n",
              "    <tr>\n",
              "      <th>4765</th>\n",
              "      <td>2002-02-25</td>\n",
              "      <td>9.650</td>\n",
              "      <td>9.825</td>\n",
              "      <td>9.540</td>\n",
              "      <td>9.750</td>\n",
              "      <td>863400.0</td>\n",
              "      <td>6.564678</td>\n",
              "      <td>9.675</td>\n",
              "      <td>9.850</td>\n",
              "      <td>9.875</td>\n",
              "      <td>9.750</td>\n",
              "    </tr>\n",
              "  </tbody>\n",
              "</table>\n",
              "</div>"
            ],
            "text/plain": [
              "           date  open_price  ...  close_price_lag3  close_price_tomorrow\n",
              "4769 2002-02-19       9.900  ...            10.050                 9.875\n",
              "4768 2002-02-20       9.600  ...            10.000                 9.850\n",
              "4767 2002-02-21       9.840  ...             9.950                 9.675\n",
              "4766 2002-02-22       9.925  ...             9.550                 9.750\n",
              "4765 2002-02-25       9.650  ...             9.875                 9.750\n",
              "\n",
              "[5 rows x 11 columns]"
            ]
          },
          "metadata": {
            "tags": []
          },
          "execution_count": 18
        }
      ]
    },
    {
      "cell_type": "code",
      "metadata": {
        "colab": {
          "base_uri": "https://localhost:8080/",
          "height": 394
        },
        "id": "NLMyWqHQM7wZ",
        "outputId": "30477789-913d-4c1b-f077-9bd501e2c696"
      },
      "source": [
        "training_data.tail()"
      ],
      "execution_count": 19,
      "outputs": [
        {
          "output_type": "execute_result",
          "data": {
            "text/html": [
              "<div>\n",
              "<style scoped>\n",
              "    .dataframe tbody tr th:only-of-type {\n",
              "        vertical-align: middle;\n",
              "    }\n",
              "\n",
              "    .dataframe tbody tr th {\n",
              "        vertical-align: top;\n",
              "    }\n",
              "\n",
              "    .dataframe thead th {\n",
              "        text-align: right;\n",
              "    }\n",
              "</style>\n",
              "<table border=\"1\" class=\"dataframe\">\n",
              "  <thead>\n",
              "    <tr style=\"text-align: right;\">\n",
              "      <th></th>\n",
              "      <th>date</th>\n",
              "      <th>open_price</th>\n",
              "      <th>high_price</th>\n",
              "      <th>low_price</th>\n",
              "      <th>close_price</th>\n",
              "      <th>volume</th>\n",
              "      <th>adjclose_price</th>\n",
              "      <th>close_price_lag1</th>\n",
              "      <th>close_price_lag2</th>\n",
              "      <th>close_price_lag3</th>\n",
              "      <th>close_price_tomorrow</th>\n",
              "    </tr>\n",
              "  </thead>\n",
              "  <tbody>\n",
              "    <tr>\n",
              "      <th>1004</th>\n",
              "      <td>2017-02-01</td>\n",
              "      <td>24.490000</td>\n",
              "      <td>24.639999</td>\n",
              "      <td>24.080000</td>\n",
              "      <td>24.299999</td>\n",
              "      <td>1752900.0</td>\n",
              "      <td>19.761581</td>\n",
              "      <td>24.490000</td>\n",
              "      <td>24.180000</td>\n",
              "      <td>24.309999</td>\n",
              "      <td>24.379999</td>\n",
              "    </tr>\n",
              "    <tr>\n",
              "      <th>1003</th>\n",
              "      <td>2017-02-02</td>\n",
              "      <td>24.389999</td>\n",
              "      <td>24.580000</td>\n",
              "      <td>24.270000</td>\n",
              "      <td>24.379999</td>\n",
              "      <td>1651800.0</td>\n",
              "      <td>19.826637</td>\n",
              "      <td>24.299999</td>\n",
              "      <td>24.490000</td>\n",
              "      <td>24.180000</td>\n",
              "      <td>24.740000</td>\n",
              "    </tr>\n",
              "    <tr>\n",
              "      <th>1002</th>\n",
              "      <td>2017-02-03</td>\n",
              "      <td>24.350000</td>\n",
              "      <td>24.900000</td>\n",
              "      <td>24.280001</td>\n",
              "      <td>24.740000</td>\n",
              "      <td>2242700.0</td>\n",
              "      <td>20.119406</td>\n",
              "      <td>24.379999</td>\n",
              "      <td>24.299999</td>\n",
              "      <td>24.490000</td>\n",
              "      <td>24.680000</td>\n",
              "    </tr>\n",
              "    <tr>\n",
              "      <th>1001</th>\n",
              "      <td>2017-02-06</td>\n",
              "      <td>24.740000</td>\n",
              "      <td>24.950001</td>\n",
              "      <td>24.520000</td>\n",
              "      <td>24.680000</td>\n",
              "      <td>1704600.0</td>\n",
              "      <td>20.070614</td>\n",
              "      <td>24.740000</td>\n",
              "      <td>24.379999</td>\n",
              "      <td>24.299999</td>\n",
              "      <td>24.629999</td>\n",
              "    </tr>\n",
              "    <tr>\n",
              "      <th>1000</th>\n",
              "      <td>2017-02-07</td>\n",
              "      <td>24.700001</td>\n",
              "      <td>25.000000</td>\n",
              "      <td>24.510000</td>\n",
              "      <td>24.629999</td>\n",
              "      <td>2179600.0</td>\n",
              "      <td>20.029951</td>\n",
              "      <td>24.680000</td>\n",
              "      <td>24.740000</td>\n",
              "      <td>24.379999</td>\n",
              "      <td>24.790001</td>\n",
              "    </tr>\n",
              "  </tbody>\n",
              "</table>\n",
              "</div>"
            ],
            "text/plain": [
              "           date  open_price  ...  close_price_lag3  close_price_tomorrow\n",
              "1004 2017-02-01   24.490000  ...         24.309999             24.379999\n",
              "1003 2017-02-02   24.389999  ...         24.180000             24.740000\n",
              "1002 2017-02-03   24.350000  ...         24.490000             24.680000\n",
              "1001 2017-02-06   24.740000  ...         24.299999             24.629999\n",
              "1000 2017-02-07   24.700001  ...         24.379999             24.790001\n",
              "\n",
              "[5 rows x 11 columns]"
            ]
          },
          "metadata": {
            "tags": []
          },
          "execution_count": 19
        }
      ]
    },
    {
      "cell_type": "code",
      "metadata": {
        "id": "fpU9oRLf-vhR"
      },
      "source": [
        "X_train = training_data.drop(columns=['close_price_tomorrow','date'])  #revision1: 先把date给drop掉 TODO：transform date to a day_since value\n",
        "y_train =training_data[['close_price_tomorrow']]"
      ],
      "execution_count": 20,
      "outputs": []
    },
    {
      "cell_type": "code",
      "metadata": {
        "colab": {
          "base_uri": "https://localhost:8080/",
          "height": 419
        },
        "id": "dP9txj_MOhJ5",
        "outputId": "018f97b5-cca0-40dc-a5d8-d3568464f83f"
      },
      "source": [
        "y_train"
      ],
      "execution_count": 21,
      "outputs": [
        {
          "output_type": "execute_result",
          "data": {
            "text/html": [
              "<div>\n",
              "<style scoped>\n",
              "    .dataframe tbody tr th:only-of-type {\n",
              "        vertical-align: middle;\n",
              "    }\n",
              "\n",
              "    .dataframe tbody tr th {\n",
              "        vertical-align: top;\n",
              "    }\n",
              "\n",
              "    .dataframe thead th {\n",
              "        text-align: right;\n",
              "    }\n",
              "</style>\n",
              "<table border=\"1\" class=\"dataframe\">\n",
              "  <thead>\n",
              "    <tr style=\"text-align: right;\">\n",
              "      <th></th>\n",
              "      <th>close_price_tomorrow</th>\n",
              "    </tr>\n",
              "  </thead>\n",
              "  <tbody>\n",
              "    <tr>\n",
              "      <th>4769</th>\n",
              "      <td>9.875000</td>\n",
              "    </tr>\n",
              "    <tr>\n",
              "      <th>4768</th>\n",
              "      <td>9.850000</td>\n",
              "    </tr>\n",
              "    <tr>\n",
              "      <th>4767</th>\n",
              "      <td>9.675000</td>\n",
              "    </tr>\n",
              "    <tr>\n",
              "      <th>4766</th>\n",
              "      <td>9.750000</td>\n",
              "    </tr>\n",
              "    <tr>\n",
              "      <th>4765</th>\n",
              "      <td>9.750000</td>\n",
              "    </tr>\n",
              "    <tr>\n",
              "      <th>...</th>\n",
              "      <td>...</td>\n",
              "    </tr>\n",
              "    <tr>\n",
              "      <th>1004</th>\n",
              "      <td>24.379999</td>\n",
              "    </tr>\n",
              "    <tr>\n",
              "      <th>1003</th>\n",
              "      <td>24.740000</td>\n",
              "    </tr>\n",
              "    <tr>\n",
              "      <th>1002</th>\n",
              "      <td>24.680000</td>\n",
              "    </tr>\n",
              "    <tr>\n",
              "      <th>1001</th>\n",
              "      <td>24.629999</td>\n",
              "    </tr>\n",
              "    <tr>\n",
              "      <th>1000</th>\n",
              "      <td>24.790001</td>\n",
              "    </tr>\n",
              "  </tbody>\n",
              "</table>\n",
              "<p>3770 rows × 1 columns</p>\n",
              "</div>"
            ],
            "text/plain": [
              "      close_price_tomorrow\n",
              "4769              9.875000\n",
              "4768              9.850000\n",
              "4767              9.675000\n",
              "4766              9.750000\n",
              "4765              9.750000\n",
              "...                    ...\n",
              "1004             24.379999\n",
              "1003             24.740000\n",
              "1002             24.680000\n",
              "1001             24.629999\n",
              "1000             24.790001\n",
              "\n",
              "[3770 rows x 1 columns]"
            ]
          },
          "metadata": {
            "tags": []
          },
          "execution_count": 21
        }
      ]
    },
    {
      "cell_type": "code",
      "metadata": {
        "id": "C9P-f2d1_Azd"
      },
      "source": [
        "X_test = test_data.drop(columns=['close_price_tomorrow','date'])\n",
        "y_test = test_data[['close_price_tomorrow']]"
      ],
      "execution_count": 22,
      "outputs": []
    },
    {
      "cell_type": "code",
      "metadata": {
        "colab": {
          "base_uri": "https://localhost:8080/",
          "height": 204
        },
        "id": "xQzkaJX4OnPo",
        "outputId": "901c0e88-c092-4fd0-fe8c-f758d6dc29d4"
      },
      "source": [
        "y_test.tail()"
      ],
      "execution_count": 23,
      "outputs": [
        {
          "output_type": "execute_result",
          "data": {
            "text/html": [
              "<div>\n",
              "<style scoped>\n",
              "    .dataframe tbody tr th:only-of-type {\n",
              "        vertical-align: middle;\n",
              "    }\n",
              "\n",
              "    .dataframe tbody tr th {\n",
              "        vertical-align: top;\n",
              "    }\n",
              "\n",
              "    .dataframe thead th {\n",
              "        text-align: right;\n",
              "    }\n",
              "</style>\n",
              "<table border=\"1\" class=\"dataframe\">\n",
              "  <thead>\n",
              "    <tr style=\"text-align: right;\">\n",
              "      <th></th>\n",
              "      <th>close_price_tomorrow</th>\n",
              "    </tr>\n",
              "  </thead>\n",
              "  <tbody>\n",
              "    <tr>\n",
              "      <th>5</th>\n",
              "      <td>65.010002</td>\n",
              "    </tr>\n",
              "    <tr>\n",
              "      <th>4</th>\n",
              "      <td>76.790001</td>\n",
              "    </tr>\n",
              "    <tr>\n",
              "      <th>3</th>\n",
              "      <td>147.979996</td>\n",
              "    </tr>\n",
              "    <tr>\n",
              "      <th>2</th>\n",
              "      <td>347.510010</td>\n",
              "    </tr>\n",
              "    <tr>\n",
              "      <th>1</th>\n",
              "      <td>193.600006</td>\n",
              "    </tr>\n",
              "  </tbody>\n",
              "</table>\n",
              "</div>"
            ],
            "text/plain": [
              "   close_price_tomorrow\n",
              "5             65.010002\n",
              "4             76.790001\n",
              "3            147.979996\n",
              "2            347.510010\n",
              "1            193.600006"
            ]
          },
          "metadata": {
            "tags": []
          },
          "execution_count": 23
        }
      ]
    },
    {
      "cell_type": "markdown",
      "metadata": {
        "id": "OBUo4uxI-l4C"
      },
      "source": [
        "MinMaxScaler on both training and test data:"
      ]
    },
    {
      "cell_type": "code",
      "metadata": {
        "id": "Al7fjghR98rM"
      },
      "source": [
        "x_train_scaler = MinMaxScaler()\n",
        "x_test_scaler = MinMaxScaler()\n",
        "y_train_scaler = MinMaxScaler()\n",
        "y_test_scaler = MinMaxScaler()\n",
        "\n",
        "X_train_scaled= x_train_scaler.fit_transform(X_train)\n",
        "y_train_scaled= y_train_scaler.fit_transform(y_train)\n",
        "\n",
        "X_test_scaled= x_test_scaler.fit_transform(X_test)\n",
        "y_test_scaled= y_test_scaler.fit_transform(y_test)"
      ],
      "execution_count": 24,
      "outputs": []
    },
    {
      "cell_type": "code",
      "metadata": {
        "colab": {
          "base_uri": "https://localhost:8080/"
        },
        "id": "9DSJ56C71yur",
        "outputId": "34115fd2-7aa1-494b-d11b-04091a6245e2"
      },
      "source": [
        "X_train_scaled.shape"
      ],
      "execution_count": 25,
      "outputs": [
        {
          "output_type": "execute_result",
          "data": {
            "text/plain": [
              "(3770, 9)"
            ]
          },
          "metadata": {
            "tags": []
          },
          "execution_count": 25
        }
      ]
    },
    {
      "cell_type": "markdown",
      "metadata": {
        "id": "Q7l0J9fgJBJc"
      },
      "source": [
        "Build the BPNN model"
      ]
    },
    {
      "cell_type": "code",
      "metadata": {
        "colab": {
          "base_uri": "https://localhost:8080/"
        },
        "id": "vqi3sue0-Acp",
        "outputId": "733654bb-6670-4ee1-c173-72fbadde8873"
      },
      "source": [
        "model=Sequential()  \n",
        "model.add(Dense(16,input_dim=9,kernel_initializer='uniform',activation='relu'))\n",
        "model.add(Dense(4,kernel_initializer='uniform',activation='relu')) #中间层\n",
        "model.add(Dense(1,activation='linear'))  ##输出层\n",
        "model.compile(loss='mean_squared_error',optimizer=keras.optimizers.Adam(lr=0.01),metrics = ['mse', 'mae']) #编译模型\n",
        "model.fit(X_train_scaled,\n",
        "          y_train_scaled,\n",
        "          epochs=200,\n",
        "          batch_size=256,\n",
        "          validation_data=(X_test_scaled,y_test_scaled))\n",
        "\n",
        "# model.fit(X_train,\n",
        "#           y_train,\n",
        "#           epochs=50,\n",
        "#           batch_size=256,\n",
        "#           validation_data=(X_test_scaled,Y_test_scaled))"
      ],
      "execution_count": 27,
      "outputs": [
        {
          "output_type": "stream",
          "text": [
            "Epoch 1/200\n",
            "15/15 [==============================] - 1s 20ms/step - loss: 0.1166 - mse: 0.1166 - mae: 0.2693 - val_loss: 0.0806 - val_mse: 0.0806 - val_mae: 0.2837\n",
            "Epoch 2/200\n",
            "15/15 [==============================] - 0s 5ms/step - loss: 0.0195 - mse: 0.0195 - mae: 0.1179 - val_loss: 0.0340 - val_mse: 0.0340 - val_mae: 0.1836\n",
            "Epoch 3/200\n",
            "15/15 [==============================] - 0s 4ms/step - loss: 0.0069 - mse: 0.0069 - mae: 0.0712 - val_loss: 0.0074 - val_mse: 0.0074 - val_mae: 0.0833\n",
            "Epoch 4/200\n",
            "15/15 [==============================] - 0s 4ms/step - loss: 9.6579e-04 - mse: 9.6579e-04 - mae: 0.0241 - val_loss: 0.0021 - val_mse: 0.0021 - val_mae: 0.0391\n",
            "Epoch 5/200\n",
            "15/15 [==============================] - 0s 4ms/step - loss: 3.9430e-04 - mse: 3.9430e-04 - mae: 0.0155 - val_loss: 0.0020 - val_mse: 0.0020 - val_mae: 0.0372\n",
            "Epoch 6/200\n",
            "15/15 [==============================] - 0s 4ms/step - loss: 3.2126e-04 - mse: 3.2126e-04 - mae: 0.0134 - val_loss: 0.0028 - val_mse: 0.0028 - val_mae: 0.0472\n",
            "Epoch 7/200\n",
            "15/15 [==============================] - 0s 4ms/step - loss: 2.5462e-04 - mse: 2.5462e-04 - mae: 0.0110 - val_loss: 0.0031 - val_mse: 0.0031 - val_mae: 0.0504\n",
            "Epoch 8/200\n",
            "15/15 [==============================] - 0s 5ms/step - loss: 2.6568e-04 - mse: 2.6568e-04 - mae: 0.0110 - val_loss: 0.0029 - val_mse: 0.0029 - val_mae: 0.0481\n",
            "Epoch 9/200\n",
            "15/15 [==============================] - 0s 5ms/step - loss: 2.4725e-04 - mse: 2.4725e-04 - mae: 0.0107 - val_loss: 0.0027 - val_mse: 0.0027 - val_mae: 0.0463\n",
            "Epoch 10/200\n",
            "15/15 [==============================] - 0s 5ms/step - loss: 2.4674e-04 - mse: 2.4674e-04 - mae: 0.0107 - val_loss: 0.0027 - val_mse: 0.0027 - val_mae: 0.0457\n",
            "Epoch 11/200\n",
            "15/15 [==============================] - 0s 5ms/step - loss: 2.5658e-04 - mse: 2.5658e-04 - mae: 0.0106 - val_loss: 0.0027 - val_mse: 0.0027 - val_mae: 0.0459\n",
            "Epoch 12/200\n",
            "15/15 [==============================] - 0s 5ms/step - loss: 2.5677e-04 - mse: 2.5677e-04 - mae: 0.0107 - val_loss: 0.0026 - val_mse: 0.0026 - val_mae: 0.0448\n",
            "Epoch 13/200\n",
            "15/15 [==============================] - 0s 4ms/step - loss: 2.4471e-04 - mse: 2.4471e-04 - mae: 0.0106 - val_loss: 0.0027 - val_mse: 0.0027 - val_mae: 0.0453\n",
            "Epoch 14/200\n",
            "15/15 [==============================] - 0s 4ms/step - loss: 2.4406e-04 - mse: 2.4406e-04 - mae: 0.0105 - val_loss: 0.0027 - val_mse: 0.0027 - val_mae: 0.0455\n",
            "Epoch 15/200\n",
            "15/15 [==============================] - 0s 5ms/step - loss: 2.3341e-04 - mse: 2.3341e-04 - mae: 0.0103 - val_loss: 0.0025 - val_mse: 0.0025 - val_mae: 0.0435\n",
            "Epoch 16/200\n",
            "15/15 [==============================] - 0s 6ms/step - loss: 2.2561e-04 - mse: 2.2561e-04 - mae: 0.0103 - val_loss: 0.0026 - val_mse: 0.0026 - val_mae: 0.0444\n",
            "Epoch 17/200\n",
            "15/15 [==============================] - 0s 5ms/step - loss: 2.3231e-04 - mse: 2.3231e-04 - mae: 0.0103 - val_loss: 0.0026 - val_mse: 0.0026 - val_mae: 0.0440\n",
            "Epoch 18/200\n",
            "15/15 [==============================] - 0s 4ms/step - loss: 2.2248e-04 - mse: 2.2248e-04 - mae: 0.0102 - val_loss: 0.0026 - val_mse: 0.0026 - val_mae: 0.0445\n",
            "Epoch 19/200\n",
            "15/15 [==============================] - 0s 5ms/step - loss: 2.5134e-04 - mse: 2.5134e-04 - mae: 0.0107 - val_loss: 0.0025 - val_mse: 0.0025 - val_mae: 0.0436\n",
            "Epoch 20/200\n",
            "15/15 [==============================] - 0s 4ms/step - loss: 2.3939e-04 - mse: 2.3939e-04 - mae: 0.0105 - val_loss: 0.0025 - val_mse: 0.0025 - val_mae: 0.0429\n",
            "Epoch 21/200\n",
            "15/15 [==============================] - 0s 5ms/step - loss: 2.5288e-04 - mse: 2.5288e-04 - mae: 0.0104 - val_loss: 0.0025 - val_mse: 0.0025 - val_mae: 0.0435\n",
            "Epoch 22/200\n",
            "15/15 [==============================] - 0s 5ms/step - loss: 2.5576e-04 - mse: 2.5576e-04 - mae: 0.0108 - val_loss: 0.0024 - val_mse: 0.0024 - val_mae: 0.0418\n",
            "Epoch 23/200\n",
            "15/15 [==============================] - 0s 5ms/step - loss: 2.3470e-04 - mse: 2.3470e-04 - mae: 0.0104 - val_loss: 0.0024 - val_mse: 0.0024 - val_mae: 0.0417\n",
            "Epoch 24/200\n",
            "15/15 [==============================] - 0s 5ms/step - loss: 2.2896e-04 - mse: 2.2896e-04 - mae: 0.0102 - val_loss: 0.0024 - val_mse: 0.0024 - val_mae: 0.0414\n",
            "Epoch 25/200\n",
            "15/15 [==============================] - 0s 4ms/step - loss: 2.3742e-04 - mse: 2.3742e-04 - mae: 0.0104 - val_loss: 0.0023 - val_mse: 0.0023 - val_mae: 0.0412\n",
            "Epoch 26/200\n",
            "15/15 [==============================] - 0s 5ms/step - loss: 2.4532e-04 - mse: 2.4532e-04 - mae: 0.0104 - val_loss: 0.0023 - val_mse: 0.0023 - val_mae: 0.0407\n",
            "Epoch 27/200\n",
            "15/15 [==============================] - 0s 5ms/step - loss: 2.2594e-04 - mse: 2.2594e-04 - mae: 0.0101 - val_loss: 0.0023 - val_mse: 0.0023 - val_mae: 0.0404\n",
            "Epoch 28/200\n",
            "15/15 [==============================] - 0s 5ms/step - loss: 2.2801e-04 - mse: 2.2801e-04 - mae: 0.0101 - val_loss: 0.0023 - val_mse: 0.0023 - val_mae: 0.0408\n",
            "Epoch 29/200\n",
            "15/15 [==============================] - 0s 4ms/step - loss: 2.4329e-04 - mse: 2.4329e-04 - mae: 0.0104 - val_loss: 0.0022 - val_mse: 0.0022 - val_mae: 0.0396\n",
            "Epoch 30/200\n",
            "15/15 [==============================] - 0s 5ms/step - loss: 2.1828e-04 - mse: 2.1828e-04 - mae: 0.0101 - val_loss: 0.0022 - val_mse: 0.0022 - val_mae: 0.0393\n",
            "Epoch 31/200\n",
            "15/15 [==============================] - 0s 4ms/step - loss: 2.4524e-04 - mse: 2.4524e-04 - mae: 0.0104 - val_loss: 0.0022 - val_mse: 0.0022 - val_mae: 0.0397\n",
            "Epoch 32/200\n",
            "15/15 [==============================] - 0s 4ms/step - loss: 2.4493e-04 - mse: 2.4493e-04 - mae: 0.0103 - val_loss: 0.0021 - val_mse: 0.0021 - val_mae: 0.0385\n",
            "Epoch 33/200\n",
            "15/15 [==============================] - 0s 5ms/step - loss: 2.2556e-04 - mse: 2.2556e-04 - mae: 0.0100 - val_loss: 0.0022 - val_mse: 0.0022 - val_mae: 0.0387\n",
            "Epoch 34/200\n",
            "15/15 [==============================] - 0s 5ms/step - loss: 2.1638e-04 - mse: 2.1638e-04 - mae: 0.0101 - val_loss: 0.0022 - val_mse: 0.0022 - val_mae: 0.0390\n",
            "Epoch 35/200\n",
            "15/15 [==============================] - 0s 4ms/step - loss: 2.3598e-04 - mse: 2.3598e-04 - mae: 0.0101 - val_loss: 0.0021 - val_mse: 0.0021 - val_mae: 0.0379\n",
            "Epoch 36/200\n",
            "15/15 [==============================] - 0s 4ms/step - loss: 2.3465e-04 - mse: 2.3465e-04 - mae: 0.0102 - val_loss: 0.0021 - val_mse: 0.0021 - val_mae: 0.0378\n",
            "Epoch 37/200\n",
            "15/15 [==============================] - 0s 4ms/step - loss: 2.3191e-04 - mse: 2.3191e-04 - mae: 0.0101 - val_loss: 0.0020 - val_mse: 0.0020 - val_mae: 0.0367\n",
            "Epoch 38/200\n",
            "15/15 [==============================] - 0s 5ms/step - loss: 2.3559e-04 - mse: 2.3559e-04 - mae: 0.0101 - val_loss: 0.0021 - val_mse: 0.0021 - val_mae: 0.0372\n",
            "Epoch 39/200\n",
            "15/15 [==============================] - 0s 5ms/step - loss: 2.1857e-04 - mse: 2.1857e-04 - mae: 0.0100 - val_loss: 0.0021 - val_mse: 0.0021 - val_mae: 0.0375\n",
            "Epoch 40/200\n",
            "15/15 [==============================] - 0s 5ms/step - loss: 2.3287e-04 - mse: 2.3287e-04 - mae: 0.0102 - val_loss: 0.0019 - val_mse: 0.0019 - val_mae: 0.0352\n",
            "Epoch 41/200\n",
            "15/15 [==============================] - 0s 6ms/step - loss: 2.4062e-04 - mse: 2.4062e-04 - mae: 0.0101 - val_loss: 0.0020 - val_mse: 0.0020 - val_mae: 0.0359\n",
            "Epoch 42/200\n",
            "15/15 [==============================] - 0s 5ms/step - loss: 2.4361e-04 - mse: 2.4361e-04 - mae: 0.0102 - val_loss: 0.0019 - val_mse: 0.0019 - val_mae: 0.0355\n",
            "Epoch 43/200\n",
            "15/15 [==============================] - 0s 6ms/step - loss: 2.2564e-04 - mse: 2.2564e-04 - mae: 0.0101 - val_loss: 0.0020 - val_mse: 0.0020 - val_mae: 0.0364\n",
            "Epoch 44/200\n",
            "15/15 [==============================] - 0s 5ms/step - loss: 2.3562e-04 - mse: 2.3562e-04 - mae: 0.0102 - val_loss: 0.0019 - val_mse: 0.0019 - val_mae: 0.0355\n",
            "Epoch 45/200\n",
            "15/15 [==============================] - 0s 5ms/step - loss: 2.2221e-04 - mse: 2.2221e-04 - mae: 0.0100 - val_loss: 0.0019 - val_mse: 0.0019 - val_mae: 0.0350\n",
            "Epoch 46/200\n",
            "15/15 [==============================] - 0s 6ms/step - loss: 2.3236e-04 - mse: 2.3236e-04 - mae: 0.0101 - val_loss: 0.0018 - val_mse: 0.0018 - val_mae: 0.0341\n",
            "Epoch 47/200\n",
            "15/15 [==============================] - 0s 5ms/step - loss: 2.2227e-04 - mse: 2.2227e-04 - mae: 0.0100 - val_loss: 0.0017 - val_mse: 0.0017 - val_mae: 0.0330\n",
            "Epoch 48/200\n",
            "15/15 [==============================] - 0s 6ms/step - loss: 2.4162e-04 - mse: 2.4162e-04 - mae: 0.0102 - val_loss: 0.0018 - val_mse: 0.0018 - val_mae: 0.0337\n",
            "Epoch 49/200\n",
            "15/15 [==============================] - 0s 5ms/step - loss: 2.0692e-04 - mse: 2.0692e-04 - mae: 0.0097 - val_loss: 0.0018 - val_mse: 0.0018 - val_mae: 0.0339\n",
            "Epoch 50/200\n",
            "15/15 [==============================] - 0s 5ms/step - loss: 2.3398e-04 - mse: 2.3398e-04 - mae: 0.0099 - val_loss: 0.0018 - val_mse: 0.0018 - val_mae: 0.0332\n",
            "Epoch 51/200\n",
            "15/15 [==============================] - 0s 5ms/step - loss: 2.2353e-04 - mse: 2.2353e-04 - mae: 0.0101 - val_loss: 0.0017 - val_mse: 0.0017 - val_mae: 0.0330\n",
            "Epoch 52/200\n",
            "15/15 [==============================] - 0s 5ms/step - loss: 2.2958e-04 - mse: 2.2958e-04 - mae: 0.0099 - val_loss: 0.0017 - val_mse: 0.0017 - val_mae: 0.0317\n",
            "Epoch 53/200\n",
            "15/15 [==============================] - 0s 7ms/step - loss: 2.4301e-04 - mse: 2.4301e-04 - mae: 0.0101 - val_loss: 0.0017 - val_mse: 0.0017 - val_mae: 0.0318\n",
            "Epoch 54/200\n",
            "15/15 [==============================] - 0s 6ms/step - loss: 2.5031e-04 - mse: 2.5031e-04 - mae: 0.0103 - val_loss: 0.0017 - val_mse: 0.0017 - val_mae: 0.0317\n",
            "Epoch 55/200\n",
            "15/15 [==============================] - 0s 5ms/step - loss: 2.2122e-04 - mse: 2.2122e-04 - mae: 0.0100 - val_loss: 0.0016 - val_mse: 0.0016 - val_mae: 0.0307\n",
            "Epoch 56/200\n",
            "15/15 [==============================] - 0s 4ms/step - loss: 2.2553e-04 - mse: 2.2553e-04 - mae: 0.0101 - val_loss: 0.0017 - val_mse: 0.0017 - val_mae: 0.0316\n",
            "Epoch 57/200\n",
            "15/15 [==============================] - 0s 4ms/step - loss: 2.1529e-04 - mse: 2.1529e-04 - mae: 0.0098 - val_loss: 0.0016 - val_mse: 0.0016 - val_mae: 0.0314\n",
            "Epoch 58/200\n",
            "15/15 [==============================] - 0s 5ms/step - loss: 2.1329e-04 - mse: 2.1329e-04 - mae: 0.0099 - val_loss: 0.0016 - val_mse: 0.0016 - val_mae: 0.0309\n",
            "Epoch 59/200\n",
            "15/15 [==============================] - 0s 6ms/step - loss: 2.0694e-04 - mse: 2.0694e-04 - mae: 0.0097 - val_loss: 0.0015 - val_mse: 0.0015 - val_mae: 0.0300\n",
            "Epoch 60/200\n",
            "15/15 [==============================] - 0s 4ms/step - loss: 2.2106e-04 - mse: 2.2106e-04 - mae: 0.0100 - val_loss: 0.0015 - val_mse: 0.0015 - val_mae: 0.0294\n",
            "Epoch 61/200\n",
            "15/15 [==============================] - 0s 6ms/step - loss: 2.1995e-04 - mse: 2.1995e-04 - mae: 0.0098 - val_loss: 0.0016 - val_mse: 0.0016 - val_mae: 0.0312\n",
            "Epoch 62/200\n",
            "15/15 [==============================] - 0s 5ms/step - loss: 2.2025e-04 - mse: 2.2025e-04 - mae: 0.0098 - val_loss: 0.0015 - val_mse: 0.0015 - val_mae: 0.0295\n",
            "Epoch 63/200\n",
            "15/15 [==============================] - 0s 5ms/step - loss: 2.0060e-04 - mse: 2.0060e-04 - mae: 0.0096 - val_loss: 0.0015 - val_mse: 0.0015 - val_mae: 0.0288\n",
            "Epoch 64/200\n",
            "15/15 [==============================] - 0s 6ms/step - loss: 2.0913e-04 - mse: 2.0913e-04 - mae: 0.0096 - val_loss: 0.0016 - val_mse: 0.0016 - val_mae: 0.0307\n",
            "Epoch 65/200\n",
            "15/15 [==============================] - 0s 5ms/step - loss: 2.2377e-04 - mse: 2.2377e-04 - mae: 0.0099 - val_loss: 0.0014 - val_mse: 0.0014 - val_mae: 0.0285\n",
            "Epoch 66/200\n",
            "15/15 [==============================] - 0s 5ms/step - loss: 2.3611e-04 - mse: 2.3611e-04 - mae: 0.0103 - val_loss: 0.0013 - val_mse: 0.0013 - val_mae: 0.0268\n",
            "Epoch 67/200\n",
            "15/15 [==============================] - 0s 6ms/step - loss: 2.2653e-04 - mse: 2.2653e-04 - mae: 0.0101 - val_loss: 0.0014 - val_mse: 0.0014 - val_mae: 0.0279\n",
            "Epoch 68/200\n",
            "15/15 [==============================] - 0s 5ms/step - loss: 2.3298e-04 - mse: 2.3298e-04 - mae: 0.0100 - val_loss: 0.0014 - val_mse: 0.0014 - val_mae: 0.0279\n",
            "Epoch 69/200\n",
            "15/15 [==============================] - 0s 5ms/step - loss: 2.1805e-04 - mse: 2.1805e-04 - mae: 0.0096 - val_loss: 0.0014 - val_mse: 0.0014 - val_mae: 0.0269\n",
            "Epoch 70/200\n",
            "15/15 [==============================] - 0s 5ms/step - loss: 2.0877e-04 - mse: 2.0877e-04 - mae: 0.0096 - val_loss: 0.0014 - val_mse: 0.0014 - val_mae: 0.0277\n",
            "Epoch 71/200\n",
            "15/15 [==============================] - 0s 5ms/step - loss: 2.1000e-04 - mse: 2.1000e-04 - mae: 0.0097 - val_loss: 0.0013 - val_mse: 0.0013 - val_mae: 0.0264\n",
            "Epoch 72/200\n",
            "15/15 [==============================] - 0s 6ms/step - loss: 2.2721e-04 - mse: 2.2721e-04 - mae: 0.0098 - val_loss: 0.0013 - val_mse: 0.0013 - val_mae: 0.0261\n",
            "Epoch 73/200\n",
            "15/15 [==============================] - 0s 5ms/step - loss: 2.1946e-04 - mse: 2.1946e-04 - mae: 0.0096 - val_loss: 0.0014 - val_mse: 0.0014 - val_mae: 0.0269\n",
            "Epoch 74/200\n",
            "15/15 [==============================] - 0s 6ms/step - loss: 2.0912e-04 - mse: 2.0912e-04 - mae: 0.0094 - val_loss: 0.0013 - val_mse: 0.0013 - val_mae: 0.0268\n",
            "Epoch 75/200\n",
            "15/15 [==============================] - 0s 6ms/step - loss: 2.2870e-04 - mse: 2.2870e-04 - mae: 0.0098 - val_loss: 0.0013 - val_mse: 0.0013 - val_mae: 0.0258\n",
            "Epoch 76/200\n",
            "15/15 [==============================] - 0s 6ms/step - loss: 2.3227e-04 - mse: 2.3227e-04 - mae: 0.0099 - val_loss: 0.0013 - val_mse: 0.0013 - val_mae: 0.0257\n",
            "Epoch 77/200\n",
            "15/15 [==============================] - 0s 5ms/step - loss: 1.9711e-04 - mse: 1.9711e-04 - mae: 0.0095 - val_loss: 0.0012 - val_mse: 0.0012 - val_mae: 0.0244\n",
            "Epoch 78/200\n",
            "15/15 [==============================] - 0s 6ms/step - loss: 2.2142e-04 - mse: 2.2142e-04 - mae: 0.0099 - val_loss: 0.0013 - val_mse: 0.0013 - val_mae: 0.0256\n",
            "Epoch 79/200\n",
            "15/15 [==============================] - 0s 4ms/step - loss: 2.4127e-04 - mse: 2.4127e-04 - mae: 0.0102 - val_loss: 0.0013 - val_mse: 0.0013 - val_mae: 0.0259\n",
            "Epoch 80/200\n",
            "15/15 [==============================] - 0s 6ms/step - loss: 2.2305e-04 - mse: 2.2305e-04 - mae: 0.0099 - val_loss: 0.0011 - val_mse: 0.0011 - val_mae: 0.0224\n",
            "Epoch 81/200\n",
            "15/15 [==============================] - 0s 5ms/step - loss: 2.1636e-04 - mse: 2.1636e-04 - mae: 0.0099 - val_loss: 0.0012 - val_mse: 0.0012 - val_mae: 0.0238\n",
            "Epoch 82/200\n",
            "15/15 [==============================] - 0s 5ms/step - loss: 2.1763e-04 - mse: 2.1763e-04 - mae: 0.0097 - val_loss: 0.0012 - val_mse: 0.0012 - val_mae: 0.0235\n",
            "Epoch 83/200\n",
            "15/15 [==============================] - 0s 5ms/step - loss: 2.3326e-04 - mse: 2.3326e-04 - mae: 0.0100 - val_loss: 0.0011 - val_mse: 0.0011 - val_mae: 0.0223\n",
            "Epoch 84/200\n",
            "15/15 [==============================] - 0s 5ms/step - loss: 1.9723e-04 - mse: 1.9723e-04 - mae: 0.0093 - val_loss: 0.0011 - val_mse: 0.0011 - val_mae: 0.0230\n",
            "Epoch 85/200\n",
            "15/15 [==============================] - 0s 5ms/step - loss: 1.9929e-04 - mse: 1.9929e-04 - mae: 0.0094 - val_loss: 0.0011 - val_mse: 0.0011 - val_mae: 0.0227\n",
            "Epoch 86/200\n",
            "15/15 [==============================] - 0s 5ms/step - loss: 1.9882e-04 - mse: 1.9882e-04 - mae: 0.0094 - val_loss: 0.0011 - val_mse: 0.0011 - val_mae: 0.0225\n",
            "Epoch 87/200\n",
            "15/15 [==============================] - 0s 5ms/step - loss: 2.1768e-04 - mse: 2.1768e-04 - mae: 0.0095 - val_loss: 0.0011 - val_mse: 0.0011 - val_mae: 0.0218\n",
            "Epoch 88/200\n",
            "15/15 [==============================] - 0s 6ms/step - loss: 2.0889e-04 - mse: 2.0889e-04 - mae: 0.0094 - val_loss: 0.0011 - val_mse: 0.0011 - val_mae: 0.0226\n",
            "Epoch 89/200\n",
            "15/15 [==============================] - 0s 4ms/step - loss: 2.0483e-04 - mse: 2.0483e-04 - mae: 0.0094 - val_loss: 0.0010 - val_mse: 0.0010 - val_mae: 0.0213\n",
            "Epoch 90/200\n",
            "15/15 [==============================] - 0s 5ms/step - loss: 2.0946e-04 - mse: 2.0946e-04 - mae: 0.0094 - val_loss: 0.0011 - val_mse: 0.0011 - val_mae: 0.0216\n",
            "Epoch 91/200\n",
            "15/15 [==============================] - 0s 5ms/step - loss: 2.0399e-04 - mse: 2.0399e-04 - mae: 0.0095 - val_loss: 9.7308e-04 - val_mse: 9.7308e-04 - val_mae: 0.0198\n",
            "Epoch 92/200\n",
            "15/15 [==============================] - 0s 5ms/step - loss: 2.0937e-04 - mse: 2.0937e-04 - mae: 0.0097 - val_loss: 0.0010 - val_mse: 0.0010 - val_mae: 0.0206\n",
            "Epoch 93/200\n",
            "15/15 [==============================] - 0s 4ms/step - loss: 2.0217e-04 - mse: 2.0217e-04 - mae: 0.0093 - val_loss: 9.5991e-04 - val_mse: 9.5991e-04 - val_mae: 0.0193\n",
            "Epoch 94/200\n",
            "15/15 [==============================] - 0s 5ms/step - loss: 2.0120e-04 - mse: 2.0120e-04 - mae: 0.0094 - val_loss: 0.0010 - val_mse: 0.0010 - val_mae: 0.0208\n",
            "Epoch 95/200\n",
            "15/15 [==============================] - 0s 5ms/step - loss: 1.9312e-04 - mse: 1.9312e-04 - mae: 0.0091 - val_loss: 0.0010 - val_mse: 0.0010 - val_mae: 0.0204\n",
            "Epoch 96/200\n",
            "15/15 [==============================] - 0s 5ms/step - loss: 2.0661e-04 - mse: 2.0661e-04 - mae: 0.0093 - val_loss: 9.6132e-04 - val_mse: 9.6132e-04 - val_mae: 0.0194\n",
            "Epoch 97/200\n",
            "15/15 [==============================] - 0s 5ms/step - loss: 1.8850e-04 - mse: 1.8850e-04 - mae: 0.0092 - val_loss: 9.4511e-04 - val_mse: 9.4511e-04 - val_mae: 0.0191\n",
            "Epoch 98/200\n",
            "15/15 [==============================] - 0s 6ms/step - loss: 2.0872e-04 - mse: 2.0872e-04 - mae: 0.0095 - val_loss: 0.0010 - val_mse: 0.0010 - val_mae: 0.0205\n",
            "Epoch 99/200\n",
            "15/15 [==============================] - 0s 5ms/step - loss: 2.1150e-04 - mse: 2.1150e-04 - mae: 0.0097 - val_loss: 9.0833e-04 - val_mse: 9.0833e-04 - val_mae: 0.0181\n",
            "Epoch 100/200\n",
            "15/15 [==============================] - 0s 5ms/step - loss: 2.0164e-04 - mse: 2.0164e-04 - mae: 0.0092 - val_loss: 9.4277e-04 - val_mse: 9.4277e-04 - val_mae: 0.0190\n",
            "Epoch 101/200\n",
            "15/15 [==============================] - 0s 5ms/step - loss: 2.0149e-04 - mse: 2.0149e-04 - mae: 0.0093 - val_loss: 8.3841e-04 - val_mse: 8.3841e-04 - val_mae: 0.0163\n",
            "Epoch 102/200\n",
            "15/15 [==============================] - 0s 5ms/step - loss: 1.9899e-04 - mse: 1.9899e-04 - mae: 0.0094 - val_loss: 9.2906e-04 - val_mse: 9.2906e-04 - val_mae: 0.0187\n",
            "Epoch 103/200\n",
            "15/15 [==============================] - 0s 7ms/step - loss: 2.1400e-04 - mse: 2.1400e-04 - mae: 0.0096 - val_loss: 8.8450e-04 - val_mse: 8.8450e-04 - val_mae: 0.0175\n",
            "Epoch 104/200\n",
            "15/15 [==============================] - 0s 6ms/step - loss: 2.0550e-04 - mse: 2.0550e-04 - mae: 0.0092 - val_loss: 9.0057e-04 - val_mse: 9.0057e-04 - val_mae: 0.0180\n",
            "Epoch 105/200\n",
            "15/15 [==============================] - 0s 6ms/step - loss: 1.9958e-04 - mse: 1.9958e-04 - mae: 0.0096 - val_loss: 8.8377e-04 - val_mse: 8.8377e-04 - val_mae: 0.0174\n",
            "Epoch 106/200\n",
            "15/15 [==============================] - 0s 7ms/step - loss: 2.1030e-04 - mse: 2.1030e-04 - mae: 0.0096 - val_loss: 9.0750e-04 - val_mse: 9.0750e-04 - val_mae: 0.0181\n",
            "Epoch 107/200\n",
            "15/15 [==============================] - 0s 5ms/step - loss: 2.0730e-04 - mse: 2.0730e-04 - mae: 0.0097 - val_loss: 7.7422e-04 - val_mse: 7.7422e-04 - val_mae: 0.0142\n",
            "Epoch 108/200\n",
            "15/15 [==============================] - 0s 5ms/step - loss: 2.0124e-04 - mse: 2.0124e-04 - mae: 0.0093 - val_loss: 8.1703e-04 - val_mse: 8.1703e-04 - val_mae: 0.0157\n",
            "Epoch 109/200\n",
            "15/15 [==============================] - 0s 5ms/step - loss: 1.9465e-04 - mse: 1.9465e-04 - mae: 0.0093 - val_loss: 8.1239e-04 - val_mse: 8.1239e-04 - val_mae: 0.0154\n",
            "Epoch 110/200\n",
            "15/15 [==============================] - 0s 6ms/step - loss: 1.8343e-04 - mse: 1.8343e-04 - mae: 0.0089 - val_loss: 8.3215e-04 - val_mse: 8.3215e-04 - val_mae: 0.0160\n",
            "Epoch 111/200\n",
            "15/15 [==============================] - 0s 6ms/step - loss: 1.9380e-04 - mse: 1.9380e-04 - mae: 0.0093 - val_loss: 7.7255e-04 - val_mse: 7.7255e-04 - val_mae: 0.0141\n",
            "Epoch 112/200\n",
            "15/15 [==============================] - 0s 7ms/step - loss: 2.1175e-04 - mse: 2.1175e-04 - mae: 0.0095 - val_loss: 7.9604e-04 - val_mse: 7.9604e-04 - val_mae: 0.0153\n",
            "Epoch 113/200\n",
            "15/15 [==============================] - 0s 5ms/step - loss: 1.9159e-04 - mse: 1.9159e-04 - mae: 0.0092 - val_loss: 7.5104e-04 - val_mse: 7.5104e-04 - val_mae: 0.0135\n",
            "Epoch 114/200\n",
            "15/15 [==============================] - 0s 5ms/step - loss: 2.0210e-04 - mse: 2.0210e-04 - mae: 0.0093 - val_loss: 7.5865e-04 - val_mse: 7.5865e-04 - val_mae: 0.0138\n",
            "Epoch 115/200\n",
            "15/15 [==============================] - 0s 5ms/step - loss: 1.9211e-04 - mse: 1.9211e-04 - mae: 0.0091 - val_loss: 7.8665e-04 - val_mse: 7.8665e-04 - val_mae: 0.0148\n",
            "Epoch 116/200\n",
            "15/15 [==============================] - 0s 6ms/step - loss: 1.8296e-04 - mse: 1.8296e-04 - mae: 0.0089 - val_loss: 8.2954e-04 - val_mse: 8.2954e-04 - val_mae: 0.0159\n",
            "Epoch 117/200\n",
            "15/15 [==============================] - 0s 5ms/step - loss: 2.1379e-04 - mse: 2.1379e-04 - mae: 0.0099 - val_loss: 7.6907e-04 - val_mse: 7.6907e-04 - val_mae: 0.0138\n",
            "Epoch 118/200\n",
            "15/15 [==============================] - 0s 4ms/step - loss: 2.0058e-04 - mse: 2.0058e-04 - mae: 0.0095 - val_loss: 7.5447e-04 - val_mse: 7.5447e-04 - val_mae: 0.0136\n",
            "Epoch 119/200\n",
            "15/15 [==============================] - 0s 5ms/step - loss: 1.9120e-04 - mse: 1.9120e-04 - mae: 0.0089 - val_loss: 7.5339e-04 - val_mse: 7.5339e-04 - val_mae: 0.0135\n",
            "Epoch 120/200\n",
            "15/15 [==============================] - 0s 5ms/step - loss: 1.8469e-04 - mse: 1.8469e-04 - mae: 0.0090 - val_loss: 7.6794e-04 - val_mse: 7.6794e-04 - val_mae: 0.0140\n",
            "Epoch 121/200\n",
            "15/15 [==============================] - 0s 6ms/step - loss: 2.0461e-04 - mse: 2.0461e-04 - mae: 0.0093 - val_loss: 7.4078e-04 - val_mse: 7.4078e-04 - val_mae: 0.0131\n",
            "Epoch 122/200\n",
            "15/15 [==============================] - 0s 5ms/step - loss: 1.8988e-04 - mse: 1.8988e-04 - mae: 0.0091 - val_loss: 7.1084e-04 - val_mse: 7.1084e-04 - val_mae: 0.0117\n",
            "Epoch 123/200\n",
            "15/15 [==============================] - 0s 5ms/step - loss: 1.8577e-04 - mse: 1.8577e-04 - mae: 0.0089 - val_loss: 7.0005e-04 - val_mse: 7.0005e-04 - val_mae: 0.0111\n",
            "Epoch 124/200\n",
            "15/15 [==============================] - 0s 5ms/step - loss: 1.8975e-04 - mse: 1.8975e-04 - mae: 0.0091 - val_loss: 7.3076e-04 - val_mse: 7.3076e-04 - val_mae: 0.0126\n",
            "Epoch 125/200\n",
            "15/15 [==============================] - 0s 5ms/step - loss: 1.8714e-04 - mse: 1.8714e-04 - mae: 0.0090 - val_loss: 6.9724e-04 - val_mse: 6.9724e-04 - val_mae: 0.0112\n",
            "Epoch 126/200\n",
            "15/15 [==============================] - 0s 6ms/step - loss: 1.8368e-04 - mse: 1.8368e-04 - mae: 0.0089 - val_loss: 7.0243e-04 - val_mse: 7.0243e-04 - val_mae: 0.0114\n",
            "Epoch 127/200\n",
            "15/15 [==============================] - 0s 6ms/step - loss: 1.8180e-04 - mse: 1.8180e-04 - mae: 0.0088 - val_loss: 6.9257e-04 - val_mse: 6.9257e-04 - val_mae: 0.0108\n",
            "Epoch 128/200\n",
            "15/15 [==============================] - 0s 5ms/step - loss: 1.8916e-04 - mse: 1.8916e-04 - mae: 0.0090 - val_loss: 7.0337e-04 - val_mse: 7.0337e-04 - val_mae: 0.0113\n",
            "Epoch 129/200\n",
            "15/15 [==============================] - 0s 6ms/step - loss: 1.8375e-04 - mse: 1.8375e-04 - mae: 0.0089 - val_loss: 7.3414e-04 - val_mse: 7.3414e-04 - val_mae: 0.0126\n",
            "Epoch 130/200\n",
            "15/15 [==============================] - 0s 5ms/step - loss: 2.1199e-04 - mse: 2.1199e-04 - mae: 0.0097 - val_loss: 7.2461e-04 - val_mse: 7.2461e-04 - val_mae: 0.0122\n",
            "Epoch 131/200\n",
            "15/15 [==============================] - 0s 5ms/step - loss: 2.5978e-04 - mse: 2.5978e-04 - mae: 0.0110 - val_loss: 6.9986e-04 - val_mse: 6.9986e-04 - val_mae: 0.0110\n",
            "Epoch 132/200\n",
            "15/15 [==============================] - 0s 5ms/step - loss: 2.0920e-04 - mse: 2.0920e-04 - mae: 0.0097 - val_loss: 7.0696e-04 - val_mse: 7.0696e-04 - val_mae: 0.0115\n",
            "Epoch 133/200\n",
            "15/15 [==============================] - 0s 6ms/step - loss: 2.1625e-04 - mse: 2.1625e-04 - mae: 0.0098 - val_loss: 6.8720e-04 - val_mse: 6.8720e-04 - val_mae: 0.0105\n",
            "Epoch 134/200\n",
            "15/15 [==============================] - 0s 5ms/step - loss: 2.0404e-04 - mse: 2.0404e-04 - mae: 0.0092 - val_loss: 7.0480e-04 - val_mse: 7.0480e-04 - val_mae: 0.0114\n",
            "Epoch 135/200\n",
            "15/15 [==============================] - 0s 6ms/step - loss: 2.0360e-04 - mse: 2.0360e-04 - mae: 0.0094 - val_loss: 7.1744e-04 - val_mse: 7.1744e-04 - val_mae: 0.0121\n",
            "Epoch 136/200\n",
            "15/15 [==============================] - 0s 5ms/step - loss: 2.4242e-04 - mse: 2.4242e-04 - mae: 0.0105 - val_loss: 7.0162e-04 - val_mse: 7.0162e-04 - val_mae: 0.0109\n",
            "Epoch 137/200\n",
            "15/15 [==============================] - 0s 4ms/step - loss: 2.5511e-04 - mse: 2.5511e-04 - mae: 0.0106 - val_loss: 7.2585e-04 - val_mse: 7.2585e-04 - val_mae: 0.0124\n",
            "Epoch 138/200\n",
            "15/15 [==============================] - 0s 6ms/step - loss: 2.1607e-04 - mse: 2.1607e-04 - mae: 0.0098 - val_loss: 6.7889e-04 - val_mse: 6.7889e-04 - val_mae: 0.0102\n",
            "Epoch 139/200\n",
            "15/15 [==============================] - 0s 5ms/step - loss: 2.0247e-04 - mse: 2.0247e-04 - mae: 0.0092 - val_loss: 6.6754e-04 - val_mse: 6.6754e-04 - val_mae: 0.0094\n",
            "Epoch 140/200\n",
            "15/15 [==============================] - 0s 5ms/step - loss: 1.8784e-04 - mse: 1.8784e-04 - mae: 0.0089 - val_loss: 6.6612e-04 - val_mse: 6.6612e-04 - val_mae: 0.0096\n",
            "Epoch 141/200\n",
            "15/15 [==============================] - 0s 5ms/step - loss: 1.8584e-04 - mse: 1.8584e-04 - mae: 0.0089 - val_loss: 7.1512e-04 - val_mse: 7.1512e-04 - val_mae: 0.0119\n",
            "Epoch 142/200\n",
            "15/15 [==============================] - 0s 4ms/step - loss: 2.1853e-04 - mse: 2.1853e-04 - mae: 0.0098 - val_loss: 6.8394e-04 - val_mse: 6.8394e-04 - val_mae: 0.0101\n",
            "Epoch 143/200\n",
            "15/15 [==============================] - 0s 5ms/step - loss: 2.1515e-04 - mse: 2.1515e-04 - mae: 0.0095 - val_loss: 6.7901e-04 - val_mse: 6.7901e-04 - val_mae: 0.0102\n",
            "Epoch 144/200\n",
            "15/15 [==============================] - 0s 6ms/step - loss: 2.0884e-04 - mse: 2.0884e-04 - mae: 0.0094 - val_loss: 6.8297e-04 - val_mse: 6.8297e-04 - val_mae: 0.0103\n",
            "Epoch 145/200\n",
            "15/15 [==============================] - 0s 6ms/step - loss: 1.9497e-04 - mse: 1.9497e-04 - mae: 0.0089 - val_loss: 6.6474e-04 - val_mse: 6.6474e-04 - val_mae: 0.0090\n",
            "Epoch 146/200\n",
            "15/15 [==============================] - 0s 5ms/step - loss: 1.8159e-04 - mse: 1.8159e-04 - mae: 0.0088 - val_loss: 6.5571e-04 - val_mse: 6.5571e-04 - val_mae: 0.0088\n",
            "Epoch 147/200\n",
            "15/15 [==============================] - 0s 6ms/step - loss: 2.0139e-04 - mse: 2.0139e-04 - mae: 0.0095 - val_loss: 6.9471e-04 - val_mse: 6.9471e-04 - val_mae: 0.0109\n",
            "Epoch 148/200\n",
            "15/15 [==============================] - 0s 5ms/step - loss: 1.9457e-04 - mse: 1.9457e-04 - mae: 0.0093 - val_loss: 6.4836e-04 - val_mse: 6.4836e-04 - val_mae: 0.0080\n",
            "Epoch 149/200\n",
            "15/15 [==============================] - 0s 6ms/step - loss: 1.6942e-04 - mse: 1.6942e-04 - mae: 0.0086 - val_loss: 6.5094e-04 - val_mse: 6.5094e-04 - val_mae: 0.0080\n",
            "Epoch 150/200\n",
            "15/15 [==============================] - 0s 6ms/step - loss: 1.8613e-04 - mse: 1.8613e-04 - mae: 0.0089 - val_loss: 6.6867e-04 - val_mse: 6.6867e-04 - val_mae: 0.0095\n",
            "Epoch 151/200\n",
            "15/15 [==============================] - 0s 6ms/step - loss: 1.8854e-04 - mse: 1.8854e-04 - mae: 0.0091 - val_loss: 6.7932e-04 - val_mse: 6.7932e-04 - val_mae: 0.0100\n",
            "Epoch 152/200\n",
            "15/15 [==============================] - 0s 6ms/step - loss: 1.8613e-04 - mse: 1.8613e-04 - mae: 0.0090 - val_loss: 6.5921e-04 - val_mse: 6.5921e-04 - val_mae: 0.0089\n",
            "Epoch 153/200\n",
            "15/15 [==============================] - 0s 5ms/step - loss: 1.7941e-04 - mse: 1.7941e-04 - mae: 0.0087 - val_loss: 6.4573e-04 - val_mse: 6.4573e-04 - val_mae: 0.0076\n",
            "Epoch 154/200\n",
            "15/15 [==============================] - 0s 6ms/step - loss: 2.0301e-04 - mse: 2.0301e-04 - mae: 0.0095 - val_loss: 6.3508e-04 - val_mse: 6.3508e-04 - val_mae: 0.0067\n",
            "Epoch 155/200\n",
            "15/15 [==============================] - 0s 5ms/step - loss: 1.8657e-04 - mse: 1.8657e-04 - mae: 0.0089 - val_loss: 6.9463e-04 - val_mse: 6.9463e-04 - val_mae: 0.0106\n",
            "Epoch 156/200\n",
            "15/15 [==============================] - 0s 5ms/step - loss: 2.2644e-04 - mse: 2.2644e-04 - mae: 0.0101 - val_loss: 6.1340e-04 - val_mse: 6.1340e-04 - val_mae: 0.0048\n",
            "Epoch 157/200\n",
            "15/15 [==============================] - 0s 7ms/step - loss: 2.4697e-04 - mse: 2.4697e-04 - mae: 0.0108 - val_loss: 6.3369e-04 - val_mse: 6.3369e-04 - val_mae: 0.0063\n",
            "Epoch 158/200\n",
            "15/15 [==============================] - 0s 5ms/step - loss: 1.8324e-04 - mse: 1.8324e-04 - mae: 0.0089 - val_loss: 6.5720e-04 - val_mse: 6.5720e-04 - val_mae: 0.0086\n",
            "Epoch 159/200\n",
            "15/15 [==============================] - 0s 6ms/step - loss: 1.9941e-04 - mse: 1.9941e-04 - mae: 0.0090 - val_loss: 6.8086e-04 - val_mse: 6.8086e-04 - val_mae: 0.0101\n",
            "Epoch 160/200\n",
            "15/15 [==============================] - 0s 6ms/step - loss: 2.0042e-04 - mse: 2.0042e-04 - mae: 0.0093 - val_loss: 6.3278e-04 - val_mse: 6.3278e-04 - val_mae: 0.0064\n",
            "Epoch 161/200\n",
            "15/15 [==============================] - 0s 5ms/step - loss: 1.9078e-04 - mse: 1.9078e-04 - mae: 0.0089 - val_loss: 6.3884e-04 - val_mse: 6.3884e-04 - val_mae: 0.0075\n",
            "Epoch 162/200\n",
            "15/15 [==============================] - 0s 7ms/step - loss: 1.9298e-04 - mse: 1.9298e-04 - mae: 0.0089 - val_loss: 6.2637e-04 - val_mse: 6.2637e-04 - val_mae: 0.0060\n",
            "Epoch 163/200\n",
            "15/15 [==============================] - 0s 6ms/step - loss: 1.9697e-04 - mse: 1.9697e-04 - mae: 0.0092 - val_loss: 6.5433e-04 - val_mse: 6.5433e-04 - val_mae: 0.0083\n",
            "Epoch 164/200\n",
            "15/15 [==============================] - 0s 6ms/step - loss: 2.0236e-04 - mse: 2.0236e-04 - mae: 0.0091 - val_loss: 6.4747e-04 - val_mse: 6.4747e-04 - val_mae: 0.0077\n",
            "Epoch 165/200\n",
            "15/15 [==============================] - 0s 5ms/step - loss: 1.8937e-04 - mse: 1.8937e-04 - mae: 0.0090 - val_loss: 6.1711e-04 - val_mse: 6.1711e-04 - val_mae: 0.0043\n",
            "Epoch 166/200\n",
            "15/15 [==============================] - 0s 5ms/step - loss: 2.4107e-04 - mse: 2.4107e-04 - mae: 0.0108 - val_loss: 6.7536e-04 - val_mse: 6.7536e-04 - val_mae: 0.0095\n",
            "Epoch 167/200\n",
            "15/15 [==============================] - 0s 6ms/step - loss: 2.2817e-04 - mse: 2.2817e-04 - mae: 0.0102 - val_loss: 6.4637e-04 - val_mse: 6.4637e-04 - val_mae: 0.0073\n",
            "Epoch 168/200\n",
            "15/15 [==============================] - 0s 6ms/step - loss: 1.9454e-04 - mse: 1.9454e-04 - mae: 0.0088 - val_loss: 6.2182e-04 - val_mse: 6.2182e-04 - val_mae: 0.0058\n",
            "Epoch 169/200\n",
            "15/15 [==============================] - 0s 5ms/step - loss: 2.0047e-04 - mse: 2.0047e-04 - mae: 0.0092 - val_loss: 6.6009e-04 - val_mse: 6.6009e-04 - val_mae: 0.0086\n",
            "Epoch 170/200\n",
            "15/15 [==============================] - 0s 5ms/step - loss: 1.8505e-04 - mse: 1.8505e-04 - mae: 0.0091 - val_loss: 6.4001e-04 - val_mse: 6.4001e-04 - val_mae: 0.0072\n",
            "Epoch 171/200\n",
            "15/15 [==============================] - 0s 5ms/step - loss: 1.8488e-04 - mse: 1.8488e-04 - mae: 0.0088 - val_loss: 6.4429e-04 - val_mse: 6.4429e-04 - val_mae: 0.0074\n",
            "Epoch 172/200\n",
            "15/15 [==============================] - 0s 6ms/step - loss: 1.8727e-04 - mse: 1.8727e-04 - mae: 0.0088 - val_loss: 6.5481e-04 - val_mse: 6.5481e-04 - val_mae: 0.0081\n",
            "Epoch 173/200\n",
            "15/15 [==============================] - 0s 6ms/step - loss: 1.9320e-04 - mse: 1.9320e-04 - mae: 0.0091 - val_loss: 6.3089e-04 - val_mse: 6.3089e-04 - val_mae: 0.0063\n",
            "Epoch 174/200\n",
            "15/15 [==============================] - 0s 6ms/step - loss: 2.0731e-04 - mse: 2.0731e-04 - mae: 0.0096 - val_loss: 6.4112e-04 - val_mse: 6.4112e-04 - val_mae: 0.0071\n",
            "Epoch 175/200\n",
            "15/15 [==============================] - 0s 5ms/step - loss: 1.8025e-04 - mse: 1.8025e-04 - mae: 0.0088 - val_loss: 6.2160e-04 - val_mse: 6.2160e-04 - val_mae: 0.0048\n",
            "Epoch 176/200\n",
            "15/15 [==============================] - 0s 4ms/step - loss: 2.0175e-04 - mse: 2.0175e-04 - mae: 0.0090 - val_loss: 6.2184e-04 - val_mse: 6.2184e-04 - val_mae: 0.0049\n",
            "Epoch 177/200\n",
            "15/15 [==============================] - 0s 5ms/step - loss: 1.9884e-04 - mse: 1.9884e-04 - mae: 0.0094 - val_loss: 6.4779e-04 - val_mse: 6.4779e-04 - val_mae: 0.0078\n",
            "Epoch 178/200\n",
            "15/15 [==============================] - 0s 5ms/step - loss: 2.4170e-04 - mse: 2.4170e-04 - mae: 0.0100 - val_loss: 6.3124e-04 - val_mse: 6.3124e-04 - val_mae: 0.0061\n",
            "Epoch 179/200\n",
            "15/15 [==============================] - 0s 6ms/step - loss: 1.8163e-04 - mse: 1.8163e-04 - mae: 0.0087 - val_loss: 6.5073e-04 - val_mse: 6.5073e-04 - val_mae: 0.0077\n",
            "Epoch 180/200\n",
            "15/15 [==============================] - 0s 5ms/step - loss: 1.8145e-04 - mse: 1.8145e-04 - mae: 0.0087 - val_loss: 6.4648e-04 - val_mse: 6.4648e-04 - val_mae: 0.0075\n",
            "Epoch 181/200\n",
            "15/15 [==============================] - 0s 6ms/step - loss: 1.9244e-04 - mse: 1.9244e-04 - mae: 0.0086 - val_loss: 6.4034e-04 - val_mse: 6.4034e-04 - val_mae: 0.0072\n",
            "Epoch 182/200\n",
            "15/15 [==============================] - 0s 6ms/step - loss: 2.2602e-04 - mse: 2.2602e-04 - mae: 0.0098 - val_loss: 6.1476e-04 - val_mse: 6.1476e-04 - val_mae: 0.0035\n",
            "Epoch 183/200\n",
            "15/15 [==============================] - 0s 5ms/step - loss: 2.4654e-04 - mse: 2.4654e-04 - mae: 0.0109 - val_loss: 6.8152e-04 - val_mse: 6.8152e-04 - val_mae: 0.0101\n",
            "Epoch 184/200\n",
            "15/15 [==============================] - 0s 5ms/step - loss: 1.9984e-04 - mse: 1.9984e-04 - mae: 0.0093 - val_loss: 6.4525e-04 - val_mse: 6.4525e-04 - val_mae: 0.0078\n",
            "Epoch 185/200\n",
            "15/15 [==============================] - 0s 7ms/step - loss: 1.9262e-04 - mse: 1.9262e-04 - mae: 0.0091 - val_loss: 6.5224e-04 - val_mse: 6.5224e-04 - val_mae: 0.0080\n",
            "Epoch 186/200\n",
            "15/15 [==============================] - 0s 6ms/step - loss: 1.8120e-04 - mse: 1.8120e-04 - mae: 0.0089 - val_loss: 6.3490e-04 - val_mse: 6.3490e-04 - val_mae: 0.0068\n",
            "Epoch 187/200\n",
            "15/15 [==============================] - 0s 6ms/step - loss: 1.8328e-04 - mse: 1.8328e-04 - mae: 0.0089 - val_loss: 6.3201e-04 - val_mse: 6.3201e-04 - val_mae: 0.0065\n",
            "Epoch 188/200\n",
            "15/15 [==============================] - 0s 5ms/step - loss: 1.9063e-04 - mse: 1.9063e-04 - mae: 0.0088 - val_loss: 6.3363e-04 - val_mse: 6.3363e-04 - val_mae: 0.0068\n",
            "Epoch 189/200\n",
            "15/15 [==============================] - 0s 5ms/step - loss: 1.7827e-04 - mse: 1.7827e-04 - mae: 0.0086 - val_loss: 6.1393e-04 - val_mse: 6.1393e-04 - val_mae: 0.0043\n",
            "Epoch 190/200\n",
            "15/15 [==============================] - 0s 6ms/step - loss: 2.1843e-04 - mse: 2.1843e-04 - mae: 0.0102 - val_loss: 6.5054e-04 - val_mse: 6.5054e-04 - val_mae: 0.0080\n",
            "Epoch 191/200\n",
            "15/15 [==============================] - 0s 5ms/step - loss: 1.7288e-04 - mse: 1.7288e-04 - mae: 0.0087 - val_loss: 6.4313e-04 - val_mse: 6.4313e-04 - val_mae: 0.0071\n",
            "Epoch 192/200\n",
            "15/15 [==============================] - 0s 5ms/step - loss: 1.7850e-04 - mse: 1.7850e-04 - mae: 0.0087 - val_loss: 6.1642e-04 - val_mse: 6.1642e-04 - val_mae: 0.0045\n",
            "Epoch 193/200\n",
            "15/15 [==============================] - 0s 5ms/step - loss: 1.8316e-04 - mse: 1.8316e-04 - mae: 0.0089 - val_loss: 6.2587e-04 - val_mse: 6.2587e-04 - val_mae: 0.0057\n",
            "Epoch 194/200\n",
            "15/15 [==============================] - 0s 5ms/step - loss: 1.9861e-04 - mse: 1.9861e-04 - mae: 0.0090 - val_loss: 6.1962e-04 - val_mse: 6.1962e-04 - val_mae: 0.0042\n",
            "Epoch 195/200\n",
            "15/15 [==============================] - 0s 5ms/step - loss: 2.0103e-04 - mse: 2.0103e-04 - mae: 0.0095 - val_loss: 6.1648e-04 - val_mse: 6.1648e-04 - val_mae: 0.0035\n",
            "Epoch 196/200\n",
            "15/15 [==============================] - 0s 5ms/step - loss: 2.0779e-04 - mse: 2.0779e-04 - mae: 0.0095 - val_loss: 6.3785e-04 - val_mse: 6.3785e-04 - val_mae: 0.0066\n",
            "Epoch 197/200\n",
            "15/15 [==============================] - 0s 6ms/step - loss: 1.7908e-04 - mse: 1.7908e-04 - mae: 0.0088 - val_loss: 6.3651e-04 - val_mse: 6.3651e-04 - val_mae: 0.0070\n",
            "Epoch 198/200\n",
            "15/15 [==============================] - 0s 5ms/step - loss: 1.9795e-04 - mse: 1.9795e-04 - mae: 0.0090 - val_loss: 6.4447e-04 - val_mse: 6.4447e-04 - val_mae: 0.0077\n",
            "Epoch 199/200\n",
            "15/15 [==============================] - 0s 5ms/step - loss: 1.8703e-04 - mse: 1.8703e-04 - mae: 0.0089 - val_loss: 6.3460e-04 - val_mse: 6.3460e-04 - val_mae: 0.0070\n",
            "Epoch 200/200\n",
            "15/15 [==============================] - 0s 5ms/step - loss: 2.2219e-04 - mse: 2.2219e-04 - mae: 0.0097 - val_loss: 6.1093e-04 - val_mse: 6.1093e-04 - val_mae: 0.0031\n"
          ],
          "name": "stdout"
        },
        {
          "output_type": "execute_result",
          "data": {
            "text/plain": [
              "<tensorflow.python.keras.callbacks.History at 0x7fed7e762f10>"
            ]
          },
          "metadata": {
            "tags": []
          },
          "execution_count": 27
        }
      ]
    },
    {
      "cell_type": "code",
      "metadata": {
        "colab": {
          "base_uri": "https://localhost:8080/"
        },
        "id": "Si7BD0xUKZzm",
        "outputId": "c7fc8e55-26da-4263-9002-64ef121dd525"
      },
      "source": [
        "model.summary()"
      ],
      "execution_count": 28,
      "outputs": [
        {
          "output_type": "stream",
          "text": [
            "Model: \"sequential_1\"\n",
            "_________________________________________________________________\n",
            "Layer (type)                 Output Shape              Param #   \n",
            "=================================================================\n",
            "dense_3 (Dense)              (None, 16)                160       \n",
            "_________________________________________________________________\n",
            "dense_4 (Dense)              (None, 4)                 68        \n",
            "_________________________________________________________________\n",
            "dense_5 (Dense)              (None, 1)                 5         \n",
            "=================================================================\n",
            "Total params: 233\n",
            "Trainable params: 233\n",
            "Non-trainable params: 0\n",
            "_________________________________________________________________\n"
          ],
          "name": "stdout"
        }
      ]
    },
    {
      "cell_type": "code",
      "metadata": {
        "id": "LUZZskliK74g"
      },
      "source": [
        "y_train_predict=model.predict(X_train_scaled)"
      ],
      "execution_count": 29,
      "outputs": []
    },
    {
      "cell_type": "markdown",
      "metadata": {
        "id": "F0xxZzvhaNGK"
      },
      "source": [
        "Use scaler.inverse_transform to convert scaled y value to true price value"
      ]
    },
    {
      "cell_type": "code",
      "metadata": {
        "id": "TBtpr2YsLUPr"
      },
      "source": [
        "y_pred_train=y_train_scaler.inverse_transform(y_train_predict)\n",
        "y_actual_train=y_train_scaler.inverse_transform(y_train_scaled)"
      ],
      "execution_count": 30,
      "outputs": []
    },
    {
      "cell_type": "code",
      "metadata": {
        "colab": {
          "base_uri": "https://localhost:8080/",
          "height": 419
        },
        "id": "6SJAkTp1L_De",
        "outputId": "9770bc1b-631f-4757-e59c-9327477b4f2e"
      },
      "source": [
        "true_predict_train=pd.concat([pd.DataFrame(y_actual_train),pd.DataFrame(y_pred_train)],axis=1)\n",
        "true_predict_train.columns=['y_actual_train','y_pred_train']\n",
        "true_predict_train"
      ],
      "execution_count": 31,
      "outputs": [
        {
          "output_type": "execute_result",
          "data": {
            "text/html": [
              "<div>\n",
              "<style scoped>\n",
              "    .dataframe tbody tr th:only-of-type {\n",
              "        vertical-align: middle;\n",
              "    }\n",
              "\n",
              "    .dataframe tbody tr th {\n",
              "        vertical-align: top;\n",
              "    }\n",
              "\n",
              "    .dataframe thead th {\n",
              "        text-align: right;\n",
              "    }\n",
              "</style>\n",
              "<table border=\"1\" class=\"dataframe\">\n",
              "  <thead>\n",
              "    <tr style=\"text-align: right;\">\n",
              "      <th></th>\n",
              "      <th>y_actual_train</th>\n",
              "      <th>y_pred_train</th>\n",
              "    </tr>\n",
              "  </thead>\n",
              "  <tbody>\n",
              "    <tr>\n",
              "      <th>0</th>\n",
              "      <td>9.875000</td>\n",
              "      <td>9.220109</td>\n",
              "    </tr>\n",
              "    <tr>\n",
              "      <th>1</th>\n",
              "      <td>9.850000</td>\n",
              "      <td>9.408079</td>\n",
              "    </tr>\n",
              "    <tr>\n",
              "      <th>2</th>\n",
              "      <td>9.675000</td>\n",
              "      <td>9.467639</td>\n",
              "    </tr>\n",
              "    <tr>\n",
              "      <th>3</th>\n",
              "      <td>9.750000</td>\n",
              "      <td>9.343623</td>\n",
              "    </tr>\n",
              "    <tr>\n",
              "      <th>4</th>\n",
              "      <td>9.750000</td>\n",
              "      <td>9.341774</td>\n",
              "    </tr>\n",
              "    <tr>\n",
              "      <th>...</th>\n",
              "      <td>...</td>\n",
              "      <td>...</td>\n",
              "    </tr>\n",
              "    <tr>\n",
              "      <th>3765</th>\n",
              "      <td>24.379999</td>\n",
              "      <td>23.704681</td>\n",
              "    </tr>\n",
              "    <tr>\n",
              "      <th>3766</th>\n",
              "      <td>24.740000</td>\n",
              "      <td>23.769789</td>\n",
              "    </tr>\n",
              "    <tr>\n",
              "      <th>3767</th>\n",
              "      <td>24.680000</td>\n",
              "      <td>24.031782</td>\n",
              "    </tr>\n",
              "    <tr>\n",
              "      <th>3768</th>\n",
              "      <td>24.629999</td>\n",
              "      <td>24.074646</td>\n",
              "    </tr>\n",
              "    <tr>\n",
              "      <th>3769</th>\n",
              "      <td>24.790001</td>\n",
              "      <td>24.052828</td>\n",
              "    </tr>\n",
              "  </tbody>\n",
              "</table>\n",
              "<p>3770 rows × 2 columns</p>\n",
              "</div>"
            ],
            "text/plain": [
              "      y_actual_train  y_pred_train\n",
              "0           9.875000      9.220109\n",
              "1           9.850000      9.408079\n",
              "2           9.675000      9.467639\n",
              "3           9.750000      9.343623\n",
              "4           9.750000      9.341774\n",
              "...              ...           ...\n",
              "3765       24.379999     23.704681\n",
              "3766       24.740000     23.769789\n",
              "3767       24.680000     24.031782\n",
              "3768       24.629999     24.074646\n",
              "3769       24.790001     24.052828\n",
              "\n",
              "[3770 rows x 2 columns]"
            ]
          },
          "metadata": {
            "tags": []
          },
          "execution_count": 31
        }
      ]
    },
    {
      "cell_type": "code",
      "metadata": {
        "colab": {
          "base_uri": "https://localhost:8080/",
          "height": 311
        },
        "id": "Mj6bJ5KcSnER",
        "outputId": "94e3a417-d5bd-4f29-f08d-98d161d29542"
      },
      "source": [
        "true_predict_train.iloc[-200:,:].plot()\n",
        "plt.title('Train Data',fontsize='30')"
      ],
      "execution_count": 32,
      "outputs": [
        {
          "output_type": "execute_result",
          "data": {
            "text/plain": [
              "Text(0.5, 1.0, 'Train Data')"
            ]
          },
          "metadata": {
            "tags": []
          },
          "execution_count": 32
        },
        {
          "output_type": "display_data",
          "data": {
            "image/png": "[encoded data removed]",
            "text/plain": [
              "<Figure size 432x288 with 1 Axes>"
            ]
          },
          "metadata": {
            "tags": [],
            "needs_background": "light"
          }
        }
      ]
    },
    {
      "cell_type": "markdown",
      "metadata": {
        "id": "Kf03xqwwbZSW"
      },
      "source": [
        "As above,seems overfit\n",
        "\n",
        "> Then, predict test data"
      ]
    },
    {
      "cell_type": "code",
      "metadata": {
        "id": "k19ya97rSvKE"
      },
      "source": [
        "y_test_predict=model.predict(X_test_scaled)\n",
        "y_pred_test=y_test_scaler.inverse_transform(y_test_predict)\n",
        "y_actual_test=y_test_scaler.inverse_transform(y_test_scaled)"
      ],
      "execution_count": 33,
      "outputs": []
    },
    {
      "cell_type": "code",
      "metadata": {
        "colab": {
          "base_uri": "https://localhost:8080/",
          "height": 419
        },
        "id": "4XFPU-aactHS",
        "outputId": "9747ace4-7c65-48c1-f144-f91b6284b681"
      },
      "source": [
        "true_predict_test=pd.concat([pd.DataFrame(y_actual_test),pd.DataFrame(y_pred_test)],axis=1)\n",
        "true_predict_test.columns=['y_actual_test','y_pred_test']\n",
        "true_predict_test"
      ],
      "execution_count": 34,
      "outputs": [
        {
          "output_type": "execute_result",
          "data": {
            "text/html": [
              "<div>\n",
              "<style scoped>\n",
              "    .dataframe tbody tr th:only-of-type {\n",
              "        vertical-align: middle;\n",
              "    }\n",
              "\n",
              "    .dataframe tbody tr th {\n",
              "        vertical-align: top;\n",
              "    }\n",
              "\n",
              "    .dataframe thead th {\n",
              "        text-align: right;\n",
              "    }\n",
              "</style>\n",
              "<table border=\"1\" class=\"dataframe\">\n",
              "  <thead>\n",
              "    <tr style=\"text-align: right;\">\n",
              "      <th></th>\n",
              "      <th>y_actual_test</th>\n",
              "      <th>y_pred_test</th>\n",
              "    </tr>\n",
              "  </thead>\n",
              "  <tbody>\n",
              "    <tr>\n",
              "      <th>0</th>\n",
              "      <td>25.389999</td>\n",
              "      <td>25.006643</td>\n",
              "    </tr>\n",
              "    <tr>\n",
              "      <th>1</th>\n",
              "      <td>25.660000</td>\n",
              "      <td>25.455439</td>\n",
              "    </tr>\n",
              "    <tr>\n",
              "      <th>2</th>\n",
              "      <td>25.370001</td>\n",
              "      <td>25.834095</td>\n",
              "    </tr>\n",
              "    <tr>\n",
              "      <th>3</th>\n",
              "      <td>25.740000</td>\n",
              "      <td>25.737995</td>\n",
              "    </tr>\n",
              "    <tr>\n",
              "      <th>4</th>\n",
              "      <td>25.780001</td>\n",
              "      <td>25.912561</td>\n",
              "    </tr>\n",
              "    <tr>\n",
              "      <th>...</th>\n",
              "      <td>...</td>\n",
              "      <td>...</td>\n",
              "    </tr>\n",
              "    <tr>\n",
              "      <th>994</th>\n",
              "      <td>65.010002</td>\n",
              "      <td>41.663986</td>\n",
              "    </tr>\n",
              "    <tr>\n",
              "      <th>995</th>\n",
              "      <td>76.790001</td>\n",
              "      <td>60.708626</td>\n",
              "    </tr>\n",
              "    <tr>\n",
              "      <th>996</th>\n",
              "      <td>147.979996</td>\n",
              "      <td>90.953850</td>\n",
              "    </tr>\n",
              "    <tr>\n",
              "      <th>997</th>\n",
              "      <td>347.510010</td>\n",
              "      <td>130.622726</td>\n",
              "    </tr>\n",
              "    <tr>\n",
              "      <th>998</th>\n",
              "      <td>193.600006</td>\n",
              "      <td>336.552643</td>\n",
              "    </tr>\n",
              "  </tbody>\n",
              "</table>\n",
              "<p>999 rows × 2 columns</p>\n",
              "</div>"
            ],
            "text/plain": [
              "     y_actual_test  y_pred_test\n",
              "0        25.389999    25.006643\n",
              "1        25.660000    25.455439\n",
              "2        25.370001    25.834095\n",
              "3        25.740000    25.737995\n",
              "4        25.780001    25.912561\n",
              "..             ...          ...\n",
              "994      65.010002    41.663986\n",
              "995      76.790001    60.708626\n",
              "996     147.979996    90.953850\n",
              "997     347.510010   130.622726\n",
              "998     193.600006   336.552643\n",
              "\n",
              "[999 rows x 2 columns]"
            ]
          },
          "metadata": {
            "tags": []
          },
          "execution_count": 34
        }
      ]
    },
    {
      "cell_type": "code",
      "metadata": {
        "colab": {
          "base_uri": "https://localhost:8080/",
          "height": 311
        },
        "id": "j_bBBghndSfQ",
        "outputId": "47029ac9-f933-4ae2-e191-a27d76bb7355"
      },
      "source": [
        "true_predict_test.iloc[-50:,:].plot()\n",
        "plt.title('Test Data',fontsize='30')"
      ],
      "execution_count": 35,
      "outputs": [
        {
          "output_type": "execute_result",
          "data": {
            "text/plain": [
              "Text(0.5, 1.0, 'Test Data')"
            ]
          },
          "metadata": {
            "tags": []
          },
          "execution_count": 35
        },
        {
          "output_type": "display_data",
          "data": {
            "image/png": "[encoded data removed]",
            "text/plain": [
              "<Figure size 432x288 with 1 Axes>"
            ]
          },
          "metadata": {
            "tags": [],
            "needs_background": "light"
          }
        }
      ]
    },
    {
      "cell_type": "code",
      "metadata": {
        "colab": {
          "base_uri": "https://localhost:8080/"
        },
        "id": "X1vqNcQsf0j6",
        "outputId": "a5e79fca-3941-428a-d6cf-ba8ebf0909aa"
      },
      "source": [
        "from sklearn.metrics import mean_absolute_error\n",
        "from sklearn.metrics import mean_squared_error\n",
        "import math\n",
        "def mape(y_pred,y_true):\n",
        "    return np.mean(np.abs((y_pred-y_true)/y_true))*100\n",
        "print('Training data: MAE/MSE/MAPE')\n",
        "print(mean_absolute_error(y_pred_train, y_actual_train))\n",
        "print(mean_squared_error(y_pred_train, y_actual_train) )\n",
        "print(mape(y_pred_train, y_actual_train) )\n",
        "print('Test data: MAE/MSE/MAPE')\n",
        "print(mean_absolute_error(y_pred_test, y_actual_test))\n",
        "print(mean_squared_error(y_pred_test, y_actual_test))\n",
        "print(mape(y_pred_test, y_actual_test) )"
      ],
      "execution_count": 36,
      "outputs": [
        {
          "output_type": "stream",
          "text": [
            "Training data: MAE/MSE/MAPE\n",
            "0.8528065316556935\n",
            "1.2528235439742923\n",
            "3.5219478313520973\n",
            "Test data: MAE/MSE/MAPE\n",
            "1.0853000290997632\n",
            "72.59355013025112\n",
            "9.40758248587283\n"
          ],
          "name": "stdout"
        }
      ]
    },
    {
      "cell_type": "markdown",
      "metadata": {
        "id": "jE6fqXAJ6HgV"
      },
      "source": [
        "确实overfitting."
      ]
    },
    {
      "cell_type": "markdown",
      "metadata": {
        "id": "3lRGvkgie8M5"
      },
      "source": [
        "\n",
        "TODO2: to understand keras.optimizer.sgd 随机梯度下降的用法； 找到比较好的model设置。\n",
        "\n",
        "<br>从数值上粗略判断 当天的close_price对明天的预测结果影响较大！"
      ]
    },
    {
      "cell_type": "code",
      "metadata": {
        "id": "4rVuUWnKdoZB",
        "colab": {
          "base_uri": "https://localhost:8080/"
        },
        "outputId": "b2885659-3cf0-4b68-d0ce-6c284604a3cc"
      },
      "source": [
        "y_var_test=y_actual_test[1:]-y_actual_test[:len(y_actual_test)-1]\n",
        "y_var_predict=y_pred_test[1:]-y_pred_test[:len(y_pred_test)-1]\n",
        "txt=np.zeros(len(y_var_test))\n",
        "for i in range(len(y_var_test)-1):\n",
        "    txt[i]=np.sign(y_var_test[i])==np.sign(y_var_predict[i])\n",
        "result=sum(txt)/len(txt)\n",
        "print('预测涨跌正确:',result)"
      ],
      "execution_count": 37,
      "outputs": [
        {
          "output_type": "stream",
          "text": [
            "预测涨跌正确: 0.3687374749498998\n"
          ],
          "name": "stdout"
        }
      ]
    },
    {
      "cell_type": "code",
      "metadata": {
        "id": "S4sJ1nVx6wqg"
      },
      "source": [
        ""
      ],
      "execution_count": null,
      "outputs": []
    },
    {
      "cell_type": "code",
      "metadata": {
        "id": "tkQeM9YOTPgz"
      },
      "source": [
        ""
      ],
      "execution_count": null,
      "outputs": []
    },
    {
      "cell_type": "code",
      "metadata": {
        "id": "ClkkAWVlTPjO"
      },
      "source": [
        "def convert2matrix(data_arr, look_back):\n",
        " X, Y =[], []\n",
        " for i in range(len(data_arr)-look_back):\n",
        "  d=i+look_back  \n",
        "  X.append(data_arr[i:d,0])\n",
        "  Y.append(data_arr[d,0])\n",
        " return np.array(X), np.array(Y)"
      ],
      "execution_count": 38,
      "outputs": []
    },
    {
      "cell_type": "code",
      "metadata": {
        "id": "ihQFlk8eTQdG"
      },
      "source": [
        "df=stock_df['close_price']"
      ],
      "execution_count": 81,
      "outputs": []
    },
    {
      "cell_type": "code",
      "metadata": {
        "id": "AMkEtIheTVRM"
      },
      "source": [
        "arr_train = np.array(df_train).reshape(-1,1)\n",
        "# test=[10.05000019, 10.        ,  9.94999981,  9.55000019,  9.875     ,\n",
        "#         9.85000038,  9.67500019,  9.75      ,  9.75      ,  9.57499981]\n",
        "# test=np.array(test).reshape(-1,1)  ###非常有用！"
      ],
      "execution_count": 82,
      "outputs": []
    },
    {
      "cell_type": "code",
      "metadata": {
        "id": "l8p2ASzETvCj"
      },
      "source": [
        "X,Y= convert2matrix(arr_train, 30)"
      ],
      "execution_count": 83,
      "outputs": []
    },
    {
      "cell_type": "code",
      "metadata": {
        "id": "53RCWPi_TWWc"
      },
      "source": [
        "test_df=pd.concat([pd.DataFrame(X),pd.DataFrame(Y)],axis=1)"
      ],
      "execution_count": 84,
      "outputs": []
    },
    {
      "cell_type": "code",
      "metadata": {
        "colab": {
          "base_uri": "https://localhost:8080/",
          "height": 439
        },
        "id": "spN4RV4sV9P8",
        "outputId": "9bd11880-2abc-45db-8428-930b6b315de6"
      },
      "source": [
        "test_df"
      ],
      "execution_count": 85,
      "outputs": [
        {
          "output_type": "execute_result",
          "data": {
            "text/html": [
              "<div>\n",
              "<style scoped>\n",
              "    .dataframe tbody tr th:only-of-type {\n",
              "        vertical-align: middle;\n",
              "    }\n",
              "\n",
              "    .dataframe tbody tr th {\n",
              "        vertical-align: top;\n",
              "    }\n",
              "\n",
              "    .dataframe thead th {\n",
              "        text-align: right;\n",
              "    }\n",
              "</style>\n",
              "<table border=\"1\" class=\"dataframe\">\n",
              "  <thead>\n",
              "    <tr style=\"text-align: right;\">\n",
              "      <th></th>\n",
              "      <th>0</th>\n",
              "      <th>1</th>\n",
              "      <th>2</th>\n",
              "      <th>3</th>\n",
              "      <th>4</th>\n",
              "      <th>5</th>\n",
              "      <th>6</th>\n",
              "      <th>7</th>\n",
              "      <th>8</th>\n",
              "      <th>9</th>\n",
              "      <th>10</th>\n",
              "      <th>11</th>\n",
              "      <th>12</th>\n",
              "      <th>13</th>\n",
              "      <th>14</th>\n",
              "      <th>15</th>\n",
              "      <th>16</th>\n",
              "      <th>17</th>\n",
              "      <th>18</th>\n",
              "      <th>19</th>\n",
              "      <th>20</th>\n",
              "      <th>21</th>\n",
              "      <th>22</th>\n",
              "      <th>23</th>\n",
              "      <th>24</th>\n",
              "      <th>25</th>\n",
              "      <th>26</th>\n",
              "      <th>27</th>\n",
              "      <th>28</th>\n",
              "      <th>29</th>\n",
              "      <th>0</th>\n",
              "    </tr>\n",
              "  </thead>\n",
              "  <tbody>\n",
              "    <tr>\n",
              "      <th>0</th>\n",
              "      <td>9.550000</td>\n",
              "      <td>9.875000</td>\n",
              "      <td>9.850000</td>\n",
              "      <td>9.675000</td>\n",
              "      <td>9.750000</td>\n",
              "      <td>9.750000</td>\n",
              "      <td>9.575000</td>\n",
              "      <td>9.550000</td>\n",
              "      <td>9.685000</td>\n",
              "      <td>9.850000</td>\n",
              "      <td>9.625000</td>\n",
              "      <td>9.675000</td>\n",
              "      <td>10.210000</td>\n",
              "      <td>10.450000</td>\n",
              "      <td>10.585000</td>\n",
              "      <td>10.600000</td>\n",
              "      <td>10.510000</td>\n",
              "      <td>10.500000</td>\n",
              "      <td>10.175000</td>\n",
              "      <td>9.650000</td>\n",
              "      <td>9.350000</td>\n",
              "      <td>9.010000</td>\n",
              "      <td>9.375000</td>\n",
              "      <td>9.650000</td>\n",
              "      <td>9.860000</td>\n",
              "      <td>9.990000</td>\n",
              "      <td>10.300000</td>\n",
              "      <td>10.100000</td>\n",
              "      <td>9.525000</td>\n",
              "      <td>9.320000</td>\n",
              "      <td>9.300000</td>\n",
              "    </tr>\n",
              "    <tr>\n",
              "      <th>1</th>\n",
              "      <td>9.875000</td>\n",
              "      <td>9.850000</td>\n",
              "      <td>9.675000</td>\n",
              "      <td>9.750000</td>\n",
              "      <td>9.750000</td>\n",
              "      <td>9.575000</td>\n",
              "      <td>9.550000</td>\n",
              "      <td>9.685000</td>\n",
              "      <td>9.850000</td>\n",
              "      <td>9.625000</td>\n",
              "      <td>9.675000</td>\n",
              "      <td>10.210000</td>\n",
              "      <td>10.450000</td>\n",
              "      <td>10.585000</td>\n",
              "      <td>10.600000</td>\n",
              "      <td>10.510000</td>\n",
              "      <td>10.500000</td>\n",
              "      <td>10.175000</td>\n",
              "      <td>9.650000</td>\n",
              "      <td>9.350000</td>\n",
              "      <td>9.010000</td>\n",
              "      <td>9.375000</td>\n",
              "      <td>9.650000</td>\n",
              "      <td>9.860000</td>\n",
              "      <td>9.990000</td>\n",
              "      <td>10.300000</td>\n",
              "      <td>10.100000</td>\n",
              "      <td>9.525000</td>\n",
              "      <td>9.320000</td>\n",
              "      <td>9.300000</td>\n",
              "      <td>9.475000</td>\n",
              "    </tr>\n",
              "    <tr>\n",
              "      <th>2</th>\n",
              "      <td>9.850000</td>\n",
              "      <td>9.675000</td>\n",
              "      <td>9.750000</td>\n",
              "      <td>9.750000</td>\n",
              "      <td>9.575000</td>\n",
              "      <td>9.550000</td>\n",
              "      <td>9.685000</td>\n",
              "      <td>9.850000</td>\n",
              "      <td>9.625000</td>\n",
              "      <td>9.675000</td>\n",
              "      <td>10.210000</td>\n",
              "      <td>10.450000</td>\n",
              "      <td>10.585000</td>\n",
              "      <td>10.600000</td>\n",
              "      <td>10.510000</td>\n",
              "      <td>10.500000</td>\n",
              "      <td>10.175000</td>\n",
              "      <td>9.650000</td>\n",
              "      <td>9.350000</td>\n",
              "      <td>9.010000</td>\n",
              "      <td>9.375000</td>\n",
              "      <td>9.650000</td>\n",
              "      <td>9.860000</td>\n",
              "      <td>9.990000</td>\n",
              "      <td>10.300000</td>\n",
              "      <td>10.100000</td>\n",
              "      <td>9.525000</td>\n",
              "      <td>9.320000</td>\n",
              "      <td>9.300000</td>\n",
              "      <td>9.475000</td>\n",
              "      <td>9.245000</td>\n",
              "    </tr>\n",
              "    <tr>\n",
              "      <th>3</th>\n",
              "      <td>9.675000</td>\n",
              "      <td>9.750000</td>\n",
              "      <td>9.750000</td>\n",
              "      <td>9.575000</td>\n",
              "      <td>9.550000</td>\n",
              "      <td>9.685000</td>\n",
              "      <td>9.850000</td>\n",
              "      <td>9.625000</td>\n",
              "      <td>9.675000</td>\n",
              "      <td>10.210000</td>\n",
              "      <td>10.450000</td>\n",
              "      <td>10.585000</td>\n",
              "      <td>10.600000</td>\n",
              "      <td>10.510000</td>\n",
              "      <td>10.500000</td>\n",
              "      <td>10.175000</td>\n",
              "      <td>9.650000</td>\n",
              "      <td>9.350000</td>\n",
              "      <td>9.010000</td>\n",
              "      <td>9.375000</td>\n",
              "      <td>9.650000</td>\n",
              "      <td>9.860000</td>\n",
              "      <td>9.990000</td>\n",
              "      <td>10.300000</td>\n",
              "      <td>10.100000</td>\n",
              "      <td>9.525000</td>\n",
              "      <td>9.320000</td>\n",
              "      <td>9.300000</td>\n",
              "      <td>9.475000</td>\n",
              "      <td>9.245000</td>\n",
              "      <td>9.150000</td>\n",
              "    </tr>\n",
              "    <tr>\n",
              "      <th>4</th>\n",
              "      <td>9.750000</td>\n",
              "      <td>9.750000</td>\n",
              "      <td>9.575000</td>\n",
              "      <td>9.550000</td>\n",
              "      <td>9.685000</td>\n",
              "      <td>9.850000</td>\n",
              "      <td>9.625000</td>\n",
              "      <td>9.675000</td>\n",
              "      <td>10.210000</td>\n",
              "      <td>10.450000</td>\n",
              "      <td>10.585000</td>\n",
              "      <td>10.600000</td>\n",
              "      <td>10.510000</td>\n",
              "      <td>10.500000</td>\n",
              "      <td>10.175000</td>\n",
              "      <td>9.650000</td>\n",
              "      <td>9.350000</td>\n",
              "      <td>9.010000</td>\n",
              "      <td>9.375000</td>\n",
              "      <td>9.650000</td>\n",
              "      <td>9.860000</td>\n",
              "      <td>9.990000</td>\n",
              "      <td>10.300000</td>\n",
              "      <td>10.100000</td>\n",
              "      <td>9.525000</td>\n",
              "      <td>9.320000</td>\n",
              "      <td>9.300000</td>\n",
              "      <td>9.475000</td>\n",
              "      <td>9.245000</td>\n",
              "      <td>9.150000</td>\n",
              "      <td>9.475000</td>\n",
              "    </tr>\n",
              "    <tr>\n",
              "      <th>...</th>\n",
              "      <td>...</td>\n",
              "      <td>...</td>\n",
              "      <td>...</td>\n",
              "      <td>...</td>\n",
              "      <td>...</td>\n",
              "      <td>...</td>\n",
              "      <td>...</td>\n",
              "      <td>...</td>\n",
              "      <td>...</td>\n",
              "      <td>...</td>\n",
              "      <td>...</td>\n",
              "      <td>...</td>\n",
              "      <td>...</td>\n",
              "      <td>...</td>\n",
              "      <td>...</td>\n",
              "      <td>...</td>\n",
              "      <td>...</td>\n",
              "      <td>...</td>\n",
              "      <td>...</td>\n",
              "      <td>...</td>\n",
              "      <td>...</td>\n",
              "      <td>...</td>\n",
              "      <td>...</td>\n",
              "      <td>...</td>\n",
              "      <td>...</td>\n",
              "      <td>...</td>\n",
              "      <td>...</td>\n",
              "      <td>...</td>\n",
              "      <td>...</td>\n",
              "      <td>...</td>\n",
              "      <td>...</td>\n",
              "    </tr>\n",
              "    <tr>\n",
              "      <th>3735</th>\n",
              "      <td>25.420000</td>\n",
              "      <td>25.900000</td>\n",
              "      <td>26.120001</td>\n",
              "      <td>26.389999</td>\n",
              "      <td>25.059999</td>\n",
              "      <td>25.410000</td>\n",
              "      <td>25.950001</td>\n",
              "      <td>25.270000</td>\n",
              "      <td>25.340000</td>\n",
              "      <td>25.260000</td>\n",
              "      <td>25.370001</td>\n",
              "      <td>25.920000</td>\n",
              "      <td>25.000000</td>\n",
              "      <td>24.520000</td>\n",
              "      <td>24.490000</td>\n",
              "      <td>24.639999</td>\n",
              "      <td>24.610001</td>\n",
              "      <td>24.719999</td>\n",
              "      <td>22.730000</td>\n",
              "      <td>23.340000</td>\n",
              "      <td>23.490000</td>\n",
              "      <td>23.309999</td>\n",
              "      <td>23.580000</td>\n",
              "      <td>23.930000</td>\n",
              "      <td>23.870001</td>\n",
              "      <td>24.170000</td>\n",
              "      <td>24.219999</td>\n",
              "      <td>24.309999</td>\n",
              "      <td>24.180000</td>\n",
              "      <td>24.490000</td>\n",
              "      <td>24.299999</td>\n",
              "    </tr>\n",
              "    <tr>\n",
              "      <th>3736</th>\n",
              "      <td>25.900000</td>\n",
              "      <td>26.120001</td>\n",
              "      <td>26.389999</td>\n",
              "      <td>25.059999</td>\n",
              "      <td>25.410000</td>\n",
              "      <td>25.950001</td>\n",
              "      <td>25.270000</td>\n",
              "      <td>25.340000</td>\n",
              "      <td>25.260000</td>\n",
              "      <td>25.370001</td>\n",
              "      <td>25.920000</td>\n",
              "      <td>25.000000</td>\n",
              "      <td>24.520000</td>\n",
              "      <td>24.490000</td>\n",
              "      <td>24.639999</td>\n",
              "      <td>24.610001</td>\n",
              "      <td>24.719999</td>\n",
              "      <td>22.730000</td>\n",
              "      <td>23.340000</td>\n",
              "      <td>23.490000</td>\n",
              "      <td>23.309999</td>\n",
              "      <td>23.580000</td>\n",
              "      <td>23.930000</td>\n",
              "      <td>23.870001</td>\n",
              "      <td>24.170000</td>\n",
              "      <td>24.219999</td>\n",
              "      <td>24.309999</td>\n",
              "      <td>24.180000</td>\n",
              "      <td>24.490000</td>\n",
              "      <td>24.299999</td>\n",
              "      <td>24.379999</td>\n",
              "    </tr>\n",
              "    <tr>\n",
              "      <th>3737</th>\n",
              "      <td>26.120001</td>\n",
              "      <td>26.389999</td>\n",
              "      <td>25.059999</td>\n",
              "      <td>25.410000</td>\n",
              "      <td>25.950001</td>\n",
              "      <td>25.270000</td>\n",
              "      <td>25.340000</td>\n",
              "      <td>25.260000</td>\n",
              "      <td>25.370001</td>\n",
              "      <td>25.920000</td>\n",
              "      <td>25.000000</td>\n",
              "      <td>24.520000</td>\n",
              "      <td>24.490000</td>\n",
              "      <td>24.639999</td>\n",
              "      <td>24.610001</td>\n",
              "      <td>24.719999</td>\n",
              "      <td>22.730000</td>\n",
              "      <td>23.340000</td>\n",
              "      <td>23.490000</td>\n",
              "      <td>23.309999</td>\n",
              "      <td>23.580000</td>\n",
              "      <td>23.930000</td>\n",
              "      <td>23.870001</td>\n",
              "      <td>24.170000</td>\n",
              "      <td>24.219999</td>\n",
              "      <td>24.309999</td>\n",
              "      <td>24.180000</td>\n",
              "      <td>24.490000</td>\n",
              "      <td>24.299999</td>\n",
              "      <td>24.379999</td>\n",
              "      <td>24.740000</td>\n",
              "    </tr>\n",
              "    <tr>\n",
              "      <th>3738</th>\n",
              "      <td>26.389999</td>\n",
              "      <td>25.059999</td>\n",
              "      <td>25.410000</td>\n",
              "      <td>25.950001</td>\n",
              "      <td>25.270000</td>\n",
              "      <td>25.340000</td>\n",
              "      <td>25.260000</td>\n",
              "      <td>25.370001</td>\n",
              "      <td>25.920000</td>\n",
              "      <td>25.000000</td>\n",
              "      <td>24.520000</td>\n",
              "      <td>24.490000</td>\n",
              "      <td>24.639999</td>\n",
              "      <td>24.610001</td>\n",
              "      <td>24.719999</td>\n",
              "      <td>22.730000</td>\n",
              "      <td>23.340000</td>\n",
              "      <td>23.490000</td>\n",
              "      <td>23.309999</td>\n",
              "      <td>23.580000</td>\n",
              "      <td>23.930000</td>\n",
              "      <td>23.870001</td>\n",
              "      <td>24.170000</td>\n",
              "      <td>24.219999</td>\n",
              "      <td>24.309999</td>\n",
              "      <td>24.180000</td>\n",
              "      <td>24.490000</td>\n",
              "      <td>24.299999</td>\n",
              "      <td>24.379999</td>\n",
              "      <td>24.740000</td>\n",
              "      <td>24.680000</td>\n",
              "    </tr>\n",
              "    <tr>\n",
              "      <th>3739</th>\n",
              "      <td>25.059999</td>\n",
              "      <td>25.410000</td>\n",
              "      <td>25.950001</td>\n",
              "      <td>25.270000</td>\n",
              "      <td>25.340000</td>\n",
              "      <td>25.260000</td>\n",
              "      <td>25.370001</td>\n",
              "      <td>25.920000</td>\n",
              "      <td>25.000000</td>\n",
              "      <td>24.520000</td>\n",
              "      <td>24.490000</td>\n",
              "      <td>24.639999</td>\n",
              "      <td>24.610001</td>\n",
              "      <td>24.719999</td>\n",
              "      <td>22.730000</td>\n",
              "      <td>23.340000</td>\n",
              "      <td>23.490000</td>\n",
              "      <td>23.309999</td>\n",
              "      <td>23.580000</td>\n",
              "      <td>23.930000</td>\n",
              "      <td>23.870001</td>\n",
              "      <td>24.170000</td>\n",
              "      <td>24.219999</td>\n",
              "      <td>24.309999</td>\n",
              "      <td>24.180000</td>\n",
              "      <td>24.490000</td>\n",
              "      <td>24.299999</td>\n",
              "      <td>24.379999</td>\n",
              "      <td>24.740000</td>\n",
              "      <td>24.680000</td>\n",
              "      <td>24.629999</td>\n",
              "    </tr>\n",
              "  </tbody>\n",
              "</table>\n",
              "<p>3740 rows × 31 columns</p>\n",
              "</div>"
            ],
            "text/plain": [
              "             0          1          2   ...         28         29         0 \n",
              "0      9.550000   9.875000   9.850000  ...   9.525000   9.320000   9.300000\n",
              "1      9.875000   9.850000   9.675000  ...   9.320000   9.300000   9.475000\n",
              "2      9.850000   9.675000   9.750000  ...   9.300000   9.475000   9.245000\n",
              "3      9.675000   9.750000   9.750000  ...   9.475000   9.245000   9.150000\n",
              "4      9.750000   9.750000   9.575000  ...   9.245000   9.150000   9.475000\n",
              "...         ...        ...        ...  ...        ...        ...        ...\n",
              "3735  25.420000  25.900000  26.120001  ...  24.180000  24.490000  24.299999\n",
              "3736  25.900000  26.120001  26.389999  ...  24.490000  24.299999  24.379999\n",
              "3737  26.120001  26.389999  25.059999  ...  24.299999  24.379999  24.740000\n",
              "3738  26.389999  25.059999  25.410000  ...  24.379999  24.740000  24.680000\n",
              "3739  25.059999  25.410000  25.950001  ...  24.740000  24.680000  24.629999\n",
              "\n",
              "[3740 rows x 31 columns]"
            ]
          },
          "metadata": {
            "tags": []
          },
          "execution_count": 85
        }
      ]
    },
    {
      "cell_type": "code",
      "metadata": {
        "id": "mZZr5QuaWMUK"
      },
      "source": [
        "train_size=2992\n",
        "train,test=test_df[0:train_size],test_df[train_size:]"
      ],
      "execution_count": 87,
      "outputs": []
    },
    {
      "cell_type": "code",
      "metadata": {
        "colab": {
          "base_uri": "https://localhost:8080/"
        },
        "id": "4HimIBb_ZBG-",
        "outputId": "f8907d43-0a6e-47e9-905c-e30cfb335754"
      },
      "source": [
        "train.shape"
      ],
      "execution_count": 88,
      "outputs": [
        {
          "output_type": "execute_result",
          "data": {
            "text/plain": [
              "(2992, 31)"
            ]
          },
          "metadata": {
            "tags": []
          },
          "execution_count": 88
        }
      ]
    },
    {
      "cell_type": "code",
      "metadata": {
        "colab": {
          "base_uri": "https://localhost:8080/"
        },
        "id": "rMLWP9cyZQf3",
        "outputId": "d2a90d9a-5808-4d9b-e127-2cf8a4797e5e"
      },
      "source": [
        "test.shape"
      ],
      "execution_count": 89,
      "outputs": [
        {
          "output_type": "execute_result",
          "data": {
            "text/plain": [
              "(748, 31)"
            ]
          },
          "metadata": {
            "tags": []
          },
          "execution_count": 89
        }
      ]
    },
    {
      "cell_type": "code",
      "metadata": {
        "id": "-CDDiaIWZSj-"
      },
      "source": [
        "trainX=train.iloc[:,:-1]\n",
        "trainY=train.iloc[:,-1:]\n",
        "testX=test.iloc[:,:-1]\n",
        "testY=test.iloc[:,-1:]"
      ],
      "execution_count": 96,
      "outputs": []
    },
    {
      "cell_type": "code",
      "metadata": {
        "id": "YFyjpo25aC8q"
      },
      "source": [
        "from keras.models import Sequential\n",
        "from keras.layers import Dense\n",
        "def model_dnn(look_back):\n",
        "  model=Sequential()\n",
        "  model.add(Dense(units=32,input_dim=look_back,activation='relu'))\n",
        "  model.add(Dense(8,activation='relu'))\n",
        "  model.add(Dense(1))\n",
        "  model.compile(loss='mean_squared_error',optimizer='adam',metrics=['mse','mae'])\n",
        "  return model"
      ],
      "execution_count": 95,
      "outputs": []
    },
    {
      "cell_type": "code",
      "metadata": {
        "colab": {
          "base_uri": "https://localhost:8080/"
        },
        "id": "ES00bIRpbh1T",
        "outputId": "0821da99-db76-4807-e900-d56d21120578"
      },
      "source": [
        "model=model_dnn(30)\n",
        "history=model.fit(trainX,trainY,\n",
        "                  epochs=100,\n",
        "                  batch_size=30,\n",
        "                  verbose=1,\n",
        "                  validation_data=(testX,testY),\n",
        "                  shuffle=False)"
      ],
      "execution_count": 99,
      "outputs": [
        {
          "output_type": "stream",
          "text": [
            "Epoch 1/100\n",
            "100/100 [==============================] - 1s 5ms/step - loss: 4.5371 - mse: 4.5371 - mae: 1.4964 - val_loss: 22.0055 - val_mse: 22.0055 - val_mae: 4.1957\n",
            "Epoch 2/100\n",
            "100/100 [==============================] - 0s 2ms/step - loss: 4.6509 - mse: 4.6509 - mae: 1.6883 - val_loss: 15.5386 - val_mse: 15.5386 - val_mae: 3.4715\n",
            "Epoch 3/100\n",
            "100/100 [==============================] - 0s 2ms/step - loss: 3.4100 - mse: 3.4100 - mae: 1.3895 - val_loss: 13.5846 - val_mse: 13.5846 - val_mae: 3.2345\n",
            "Epoch 4/100\n",
            "100/100 [==============================] - 0s 2ms/step - loss: 2.7102 - mse: 2.7102 - mae: 1.1771 - val_loss: 12.1712 - val_mse: 12.1712 - val_mae: 3.0539\n",
            "Epoch 5/100\n",
            "100/100 [==============================] - 0s 2ms/step - loss: 2.3313 - mse: 2.3313 - mae: 1.0565 - val_loss: 9.5517 - val_mse: 9.5517 - val_mae: 2.6606\n",
            "Epoch 6/100\n",
            "100/100 [==============================] - 0s 2ms/step - loss: 1.9918 - mse: 1.9918 - mae: 0.9202 - val_loss: 7.9597 - val_mse: 7.9597 - val_mae: 2.3962\n",
            "Epoch 7/100\n",
            "100/100 [==============================] - 0s 2ms/step - loss: 1.7639 - mse: 1.7639 - mae: 0.8437 - val_loss: 6.2501 - val_mse: 6.2501 - val_mae: 2.0771\n",
            "Epoch 8/100\n",
            "100/100 [==============================] - 0s 2ms/step - loss: 1.6496 - mse: 1.6496 - mae: 0.8053 - val_loss: 5.3789 - val_mse: 5.3789 - val_mae: 1.9036\n",
            "Epoch 9/100\n",
            "100/100 [==============================] - 0s 2ms/step - loss: 1.5502 - mse: 1.5502 - mae: 0.7768 - val_loss: 4.5119 - val_mse: 4.5119 - val_mae: 1.7207\n",
            "Epoch 10/100\n",
            "100/100 [==============================] - 0s 2ms/step - loss: 1.4912 - mse: 1.4912 - mae: 0.7671 - val_loss: 3.9294 - val_mse: 3.9294 - val_mae: 1.5912\n",
            "Epoch 11/100\n",
            "100/100 [==============================] - 0s 2ms/step - loss: 1.4304 - mse: 1.4304 - mae: 0.7591 - val_loss: 3.6623 - val_mse: 3.6623 - val_mae: 1.5316\n",
            "Epoch 12/100\n",
            "100/100 [==============================] - 0s 2ms/step - loss: 1.4422 - mse: 1.4422 - mae: 0.7633 - val_loss: 3.4805 - val_mse: 3.4805 - val_mae: 1.4898\n",
            "Epoch 13/100\n",
            "100/100 [==============================] - 0s 2ms/step - loss: 1.3521 - mse: 1.3521 - mae: 0.7454 - val_loss: 3.3374 - val_mse: 3.3374 - val_mae: 1.4568\n",
            "Epoch 14/100\n",
            "100/100 [==============================] - 0s 2ms/step - loss: 1.2939 - mse: 1.2939 - mae: 0.7374 - val_loss: 3.3591 - val_mse: 3.3591 - val_mae: 1.4649\n",
            "Epoch 15/100\n",
            "100/100 [==============================] - 0s 2ms/step - loss: 1.2424 - mse: 1.2424 - mae: 0.7299 - val_loss: 3.4081 - val_mse: 3.4081 - val_mae: 1.4796\n",
            "Epoch 16/100\n",
            "100/100 [==============================] - 0s 2ms/step - loss: 1.1890 - mse: 1.1890 - mae: 0.7206 - val_loss: 3.8432 - val_mse: 3.8432 - val_mae: 1.5891\n",
            "Epoch 17/100\n",
            "100/100 [==============================] - 0s 2ms/step - loss: 1.1383 - mse: 1.1383 - mae: 0.7101 - val_loss: 3.6405 - val_mse: 3.6405 - val_mae: 1.5413\n",
            "Epoch 18/100\n",
            "100/100 [==============================] - 0s 2ms/step - loss: 1.1241 - mse: 1.1241 - mae: 0.7115 - val_loss: 3.7097 - val_mse: 3.7097 - val_mae: 1.5605\n",
            "Epoch 19/100\n",
            "100/100 [==============================] - 0s 2ms/step - loss: 1.1094 - mse: 1.1094 - mae: 0.7109 - val_loss: 3.8054 - val_mse: 3.8054 - val_mae: 1.5858\n",
            "Epoch 20/100\n",
            "100/100 [==============================] - 0s 2ms/step - loss: 1.1133 - mse: 1.1133 - mae: 0.7161 - val_loss: 3.7446 - val_mse: 3.7446 - val_mae: 1.5726\n",
            "Epoch 21/100\n",
            "100/100 [==============================] - 0s 2ms/step - loss: 1.1063 - mse: 1.1063 - mae: 0.7211 - val_loss: 4.4332 - val_mse: 4.4332 - val_mae: 1.7422\n",
            "Epoch 22/100\n",
            "100/100 [==============================] - 0s 2ms/step - loss: 1.0919 - mse: 1.0919 - mae: 0.7141 - val_loss: 3.7911 - val_mse: 3.7911 - val_mae: 1.5876\n",
            "Epoch 23/100\n",
            "100/100 [==============================] - 0s 2ms/step - loss: 1.1040 - mse: 1.1040 - mae: 0.7295 - val_loss: 4.2266 - val_mse: 4.2266 - val_mae: 1.6960\n",
            "Epoch 24/100\n",
            "100/100 [==============================] - 0s 2ms/step - loss: 1.1055 - mse: 1.1055 - mae: 0.7303 - val_loss: 3.3310 - val_mse: 3.3310 - val_mae: 1.4717\n",
            "Epoch 25/100\n",
            "100/100 [==============================] - 0s 2ms/step - loss: 1.1231 - mse: 1.1231 - mae: 0.7539 - val_loss: 4.0896 - val_mse: 4.0896 - val_mae: 1.6655\n",
            "Epoch 26/100\n",
            "100/100 [==============================] - 0s 2ms/step - loss: 1.1042 - mse: 1.1042 - mae: 0.7404 - val_loss: 3.7090 - val_mse: 3.7090 - val_mae: 1.5726\n",
            "Epoch 27/100\n",
            "100/100 [==============================] - 0s 3ms/step - loss: 1.1241 - mse: 1.1241 - mae: 0.7559 - val_loss: 3.5344 - val_mse: 3.5344 - val_mae: 1.5293\n",
            "Epoch 28/100\n",
            "100/100 [==============================] - 0s 2ms/step - loss: 1.1199 - mse: 1.1199 - mae: 0.7593 - val_loss: 3.3443 - val_mse: 3.3443 - val_mae: 1.4784\n",
            "Epoch 29/100\n",
            "100/100 [==============================] - 0s 2ms/step - loss: 1.1215 - mse: 1.1215 - mae: 0.7655 - val_loss: 3.5068 - val_mse: 3.5068 - val_mae: 1.5232\n",
            "Epoch 30/100\n",
            "100/100 [==============================] - 0s 2ms/step - loss: 1.1135 - mse: 1.1135 - mae: 0.7651 - val_loss: 3.4375 - val_mse: 3.4375 - val_mae: 1.5056\n",
            "Epoch 31/100\n",
            "100/100 [==============================] - 0s 2ms/step - loss: 1.1153 - mse: 1.1153 - mae: 0.7672 - val_loss: 2.5709 - val_mse: 2.5709 - val_mae: 1.2676\n",
            "Epoch 32/100\n",
            "100/100 [==============================] - 0s 2ms/step - loss: 1.1468 - mse: 1.1468 - mae: 0.8019 - val_loss: 3.2455 - val_mse: 3.2455 - val_mae: 1.4561\n",
            "Epoch 33/100\n",
            "100/100 [==============================] - 0s 2ms/step - loss: 1.1019 - mse: 1.1019 - mae: 0.7751 - val_loss: 2.9137 - val_mse: 2.9137 - val_mae: 1.3646\n",
            "Epoch 34/100\n",
            "100/100 [==============================] - 0s 2ms/step - loss: 1.1099 - mse: 1.1099 - mae: 0.7870 - val_loss: 3.0346 - val_mse: 3.0346 - val_mae: 1.3996\n",
            "Epoch 35/100\n",
            "100/100 [==============================] - 0s 2ms/step - loss: 1.1173 - mse: 1.1173 - mae: 0.7906 - val_loss: 2.4819 - val_mse: 2.4819 - val_mae: 1.2429\n",
            "Epoch 36/100\n",
            "100/100 [==============================] - 0s 2ms/step - loss: 1.1363 - mse: 1.1363 - mae: 0.8130 - val_loss: 2.9562 - val_mse: 2.9562 - val_mae: 1.3791\n",
            "Epoch 37/100\n",
            "100/100 [==============================] - 0s 2ms/step - loss: 1.1094 - mse: 1.1094 - mae: 0.7954 - val_loss: 2.4257 - val_mse: 2.4257 - val_mae: 1.2264\n",
            "Epoch 38/100\n",
            "100/100 [==============================] - 0s 2ms/step - loss: 1.1318 - mse: 1.1318 - mae: 0.8183 - val_loss: 2.8997 - val_mse: 2.8997 - val_mae: 1.3642\n",
            "Epoch 39/100\n",
            "100/100 [==============================] - 0s 2ms/step - loss: 1.1050 - mse: 1.1050 - mae: 0.7996 - val_loss: 2.3507 - val_mse: 2.3507 - val_mae: 1.2041\n",
            "Epoch 40/100\n",
            "100/100 [==============================] - 0s 2ms/step - loss: 1.1343 - mse: 1.1343 - mae: 0.8259 - val_loss: 2.6591 - val_mse: 2.6591 - val_mae: 1.2955\n",
            "Epoch 41/100\n",
            "100/100 [==============================] - 0s 2ms/step - loss: 1.1113 - mse: 1.1113 - mae: 0.8128 - val_loss: 2.2213 - val_mse: 2.2213 - val_mae: 1.1656\n",
            "Epoch 42/100\n",
            "100/100 [==============================] - 0s 2ms/step - loss: 1.1438 - mse: 1.1438 - mae: 0.8374 - val_loss: 2.6608 - val_mse: 2.6608 - val_mae: 1.2964\n",
            "Epoch 43/100\n",
            "100/100 [==============================] - 0s 2ms/step - loss: 1.1054 - mse: 1.1054 - mae: 0.8153 - val_loss: 2.0630 - val_mse: 2.0630 - val_mae: 1.1174\n",
            "Epoch 44/100\n",
            "100/100 [==============================] - 0s 2ms/step - loss: 1.1625 - mse: 1.1625 - mae: 0.8530 - val_loss: 2.5792 - val_mse: 2.5792 - val_mae: 1.2722\n",
            "Epoch 45/100\n",
            "100/100 [==============================] - 0s 2ms/step - loss: 1.1208 - mse: 1.1208 - mae: 0.8286 - val_loss: 2.1275 - val_mse: 2.1275 - val_mae: 1.1367\n",
            "Epoch 46/100\n",
            "100/100 [==============================] - 0s 2ms/step - loss: 1.1678 - mse: 1.1678 - mae: 0.8583 - val_loss: 2.1755 - val_mse: 2.1755 - val_mae: 1.1509\n",
            "Epoch 47/100\n",
            "100/100 [==============================] - 0s 2ms/step - loss: 1.1433 - mse: 1.1433 - mae: 0.8488 - val_loss: 2.2065 - val_mse: 2.2065 - val_mae: 1.1603\n",
            "Epoch 48/100\n",
            "100/100 [==============================] - 0s 2ms/step - loss: 1.1318 - mse: 1.1318 - mae: 0.8462 - val_loss: 2.1151 - val_mse: 2.1151 - val_mae: 1.1330\n",
            "Epoch 49/100\n",
            "100/100 [==============================] - 0s 2ms/step - loss: 1.1512 - mse: 1.1512 - mae: 0.8578 - val_loss: 2.0393 - val_mse: 2.0393 - val_mae: 1.1102\n",
            "Epoch 50/100\n",
            "100/100 [==============================] - 0s 2ms/step - loss: 1.1637 - mse: 1.1637 - mae: 0.8664 - val_loss: 2.0066 - val_mse: 2.0066 - val_mae: 1.1002\n",
            "Epoch 51/100\n",
            "100/100 [==============================] - 0s 2ms/step - loss: 1.1744 - mse: 1.1744 - mae: 0.8739 - val_loss: 2.0303 - val_mse: 2.0303 - val_mae: 1.1078\n",
            "Epoch 52/100\n",
            "100/100 [==============================] - 0s 2ms/step - loss: 1.1934 - mse: 1.1934 - mae: 0.8801 - val_loss: 1.9734 - val_mse: 1.9734 - val_mae: 1.0902\n",
            "Epoch 53/100\n",
            "100/100 [==============================] - 0s 2ms/step - loss: 1.2194 - mse: 1.2194 - mae: 0.8952 - val_loss: 1.9670 - val_mse: 1.9670 - val_mae: 1.0883\n",
            "Epoch 54/100\n",
            "100/100 [==============================] - 0s 2ms/step - loss: 1.2275 - mse: 1.2275 - mae: 0.9001 - val_loss: 1.8589 - val_mse: 1.8589 - val_mae: 1.0552\n",
            "Epoch 55/100\n",
            "100/100 [==============================] - 0s 2ms/step - loss: 1.2276 - mse: 1.2276 - mae: 0.9048 - val_loss: 1.9761 - val_mse: 1.9761 - val_mae: 1.0917\n",
            "Epoch 56/100\n",
            "100/100 [==============================] - 0s 2ms/step - loss: 1.2197 - mse: 1.2197 - mae: 0.8986 - val_loss: 1.8108 - val_mse: 1.8108 - val_mae: 1.0413\n",
            "Epoch 57/100\n",
            "100/100 [==============================] - 0s 2ms/step - loss: 1.2687 - mse: 1.2687 - mae: 0.9232 - val_loss: 1.9731 - val_mse: 1.9731 - val_mae: 1.0919\n",
            "Epoch 58/100\n",
            "100/100 [==============================] - 0s 2ms/step - loss: 1.2991 - mse: 1.2991 - mae: 0.9265 - val_loss: 1.9477 - val_mse: 1.9477 - val_mae: 1.0834\n",
            "Epoch 59/100\n",
            "100/100 [==============================] - 0s 2ms/step - loss: 1.4381 - mse: 1.4381 - mae: 0.9680 - val_loss: 1.9823 - val_mse: 1.9823 - val_mae: 1.0927\n",
            "Epoch 60/100\n",
            "100/100 [==============================] - 0s 2ms/step - loss: 1.5934 - mse: 1.5934 - mae: 1.0103 - val_loss: 2.2284 - val_mse: 2.2284 - val_mae: 1.1669\n",
            "Epoch 61/100\n",
            "100/100 [==============================] - 0s 2ms/step - loss: 2.0454 - mse: 2.0454 - mae: 1.1034 - val_loss: 4.1441 - val_mse: 4.1441 - val_mae: 1.6997\n",
            "Epoch 62/100\n",
            "100/100 [==============================] - 0s 2ms/step - loss: 1.8163 - mse: 1.8163 - mae: 1.0074 - val_loss: 4.5866 - val_mse: 4.5866 - val_mae: 1.8176\n",
            "Epoch 63/100\n",
            "100/100 [==============================] - 0s 3ms/step - loss: 1.5289 - mse: 1.5289 - mae: 0.9331 - val_loss: 3.3292 - val_mse: 3.3292 - val_mae: 1.4995\n",
            "Epoch 64/100\n",
            "100/100 [==============================] - 0s 2ms/step - loss: 1.5987 - mse: 1.5987 - mae: 0.9707 - val_loss: 2.7419 - val_mse: 2.7419 - val_mae: 1.3310\n",
            "Epoch 65/100\n",
            "100/100 [==============================] - 0s 2ms/step - loss: 1.6093 - mse: 1.6093 - mae: 0.9881 - val_loss: 2.1571 - val_mse: 2.1571 - val_mae: 1.1508\n",
            "Epoch 66/100\n",
            "100/100 [==============================] - 0s 2ms/step - loss: 1.7145 - mse: 1.7145 - mae: 1.0242 - val_loss: 2.0479 - val_mse: 2.0479 - val_mae: 1.1158\n",
            "Epoch 67/100\n",
            "100/100 [==============================] - 0s 2ms/step - loss: 1.6990 - mse: 1.6990 - mae: 1.0334 - val_loss: 1.7629 - val_mse: 1.7629 - val_mae: 1.0244\n",
            "Epoch 68/100\n",
            "100/100 [==============================] - 0s 2ms/step - loss: 1.8039 - mse: 1.8039 - mae: 1.0644 - val_loss: 1.7995 - val_mse: 1.7995 - val_mae: 1.0361\n",
            "Epoch 69/100\n",
            "100/100 [==============================] - 0s 2ms/step - loss: 1.8044 - mse: 1.8044 - mae: 1.0733 - val_loss: 1.5094 - val_mse: 1.5094 - val_mae: 0.9389\n",
            "Epoch 70/100\n",
            "100/100 [==============================] - 0s 2ms/step - loss: 1.9022 - mse: 1.9022 - mae: 1.1058 - val_loss: 1.5512 - val_mse: 1.5512 - val_mae: 0.9537\n",
            "Epoch 71/100\n",
            "100/100 [==============================] - 0s 2ms/step - loss: 1.9199 - mse: 1.9199 - mae: 1.1177 - val_loss: 1.3436 - val_mse: 1.3436 - val_mae: 0.8841\n",
            "Epoch 72/100\n",
            "100/100 [==============================] - 0s 2ms/step - loss: 2.0335 - mse: 2.0335 - mae: 1.1561 - val_loss: 1.3641 - val_mse: 1.3641 - val_mae: 0.8892\n",
            "Epoch 73/100\n",
            "100/100 [==============================] - 0s 2ms/step - loss: 2.0805 - mse: 2.0805 - mae: 1.1736 - val_loss: 1.3842 - val_mse: 1.3842 - val_mae: 0.8999\n",
            "Epoch 74/100\n",
            "100/100 [==============================] - 0s 2ms/step - loss: 2.1561 - mse: 2.1561 - mae: 1.2033 - val_loss: 1.5305 - val_mse: 1.5305 - val_mae: 0.9547\n",
            "Epoch 75/100\n",
            "100/100 [==============================] - 0s 2ms/step - loss: 2.2382 - mse: 2.2382 - mae: 1.2272 - val_loss: 1.5822 - val_mse: 1.5822 - val_mae: 0.9733\n",
            "Epoch 76/100\n",
            "100/100 [==============================] - 0s 2ms/step - loss: 2.2915 - mse: 2.2915 - mae: 1.2475 - val_loss: 1.9344 - val_mse: 1.9344 - val_mae: 1.0964\n",
            "Epoch 77/100\n",
            "100/100 [==============================] - 0s 2ms/step - loss: 2.3343 - mse: 2.3343 - mae: 1.2576 - val_loss: 1.9930 - val_mse: 1.9930 - val_mae: 1.1171\n",
            "Epoch 78/100\n",
            "100/100 [==============================] - 0s 2ms/step - loss: 2.3132 - mse: 2.3132 - mae: 1.2452 - val_loss: 2.0270 - val_mse: 2.0270 - val_mae: 1.1284\n",
            "Epoch 79/100\n",
            "100/100 [==============================] - 0s 2ms/step - loss: 2.3780 - mse: 2.3780 - mae: 1.2694 - val_loss: 2.1824 - val_mse: 2.1824 - val_mae: 1.1825\n",
            "Epoch 80/100\n",
            "100/100 [==============================] - 0s 2ms/step - loss: 2.3357 - mse: 2.3357 - mae: 1.2522 - val_loss: 2.2011 - val_mse: 2.2011 - val_mae: 1.1884\n",
            "Epoch 81/100\n",
            "100/100 [==============================] - 0s 2ms/step - loss: 2.3501 - mse: 2.3501 - mae: 1.2568 - val_loss: 2.1007 - val_mse: 2.1007 - val_mae: 1.1554\n",
            "Epoch 82/100\n",
            "100/100 [==============================] - 0s 2ms/step - loss: 2.3518 - mse: 2.3518 - mae: 1.2591 - val_loss: 2.3246 - val_mse: 2.3246 - val_mae: 1.2307\n",
            "Epoch 83/100\n",
            "100/100 [==============================] - 0s 3ms/step - loss: 2.3395 - mse: 2.3395 - mae: 1.2532 - val_loss: 2.4007 - val_mse: 2.4007 - val_mae: 1.2563\n",
            "Epoch 84/100\n",
            "100/100 [==============================] - 0s 3ms/step - loss: 2.3444 - mse: 2.3444 - mae: 1.2552 - val_loss: 2.5750 - val_mse: 2.5750 - val_mae: 1.3124\n",
            "Epoch 85/100\n",
            "100/100 [==============================] - 0s 3ms/step - loss: 2.3714 - mse: 2.3714 - mae: 1.2641 - val_loss: 2.4637 - val_mse: 2.4637 - val_mae: 1.2766\n",
            "Epoch 86/100\n",
            "100/100 [==============================] - 0s 2ms/step - loss: 2.3396 - mse: 2.3396 - mae: 1.2562 - val_loss: 2.3867 - val_mse: 2.3867 - val_mae: 1.2521\n",
            "Epoch 87/100\n",
            "100/100 [==============================] - 0s 2ms/step - loss: 2.2998 - mse: 2.2998 - mae: 1.2444 - val_loss: 2.4440 - val_mse: 2.4440 - val_mae: 1.2714\n",
            "Epoch 88/100\n",
            "100/100 [==============================] - 0s 2ms/step - loss: 2.2816 - mse: 2.2816 - mae: 1.2384 - val_loss: 2.3166 - val_mse: 2.3166 - val_mae: 1.2281\n",
            "Epoch 89/100\n",
            "100/100 [==============================] - 0s 2ms/step - loss: 2.2471 - mse: 2.2471 - mae: 1.2285 - val_loss: 2.4313 - val_mse: 2.4313 - val_mae: 1.2650\n",
            "Epoch 90/100\n",
            "100/100 [==============================] - 0s 2ms/step - loss: 2.2400 - mse: 2.2400 - mae: 1.2272 - val_loss: 2.1970 - val_mse: 2.1970 - val_mae: 1.1834\n",
            "Epoch 91/100\n",
            "100/100 [==============================] - 0s 3ms/step - loss: 2.1592 - mse: 2.1592 - mae: 1.2031 - val_loss: 2.0746 - val_mse: 2.0746 - val_mae: 1.1460\n",
            "Epoch 92/100\n",
            "100/100 [==============================] - 0s 3ms/step - loss: 2.0168 - mse: 2.0168 - mae: 1.1620 - val_loss: 2.0376 - val_mse: 2.0376 - val_mae: 1.1322\n",
            "Epoch 93/100\n",
            "100/100 [==============================] - 0s 3ms/step - loss: 2.1284 - mse: 2.1284 - mae: 1.1920 - val_loss: 2.2549 - val_mse: 2.2549 - val_mae: 1.2032\n",
            "Epoch 94/100\n",
            "100/100 [==============================] - 0s 2ms/step - loss: 2.0810 - mse: 2.0810 - mae: 1.1854 - val_loss: 2.2350 - val_mse: 2.2350 - val_mae: 1.1966\n",
            "Epoch 95/100\n",
            "100/100 [==============================] - 0s 2ms/step - loss: 2.0702 - mse: 2.0702 - mae: 1.1818 - val_loss: 2.2130 - val_mse: 2.2130 - val_mae: 1.1889\n",
            "Epoch 96/100\n",
            "100/100 [==============================] - 0s 2ms/step - loss: 2.0307 - mse: 2.0307 - mae: 1.1706 - val_loss: 2.2480 - val_mse: 2.2480 - val_mae: 1.1976\n",
            "Epoch 97/100\n",
            "100/100 [==============================] - 0s 2ms/step - loss: 2.0368 - mse: 2.0368 - mae: 1.1746 - val_loss: 2.1280 - val_mse: 2.1280 - val_mae: 1.1590\n",
            "Epoch 98/100\n",
            "100/100 [==============================] - 0s 2ms/step - loss: 1.9611 - mse: 1.9611 - mae: 1.1490 - val_loss: 2.1691 - val_mse: 2.1691 - val_mae: 1.1734\n",
            "Epoch 99/100\n",
            "100/100 [==============================] - 0s 2ms/step - loss: 1.8889 - mse: 1.8889 - mae: 1.1305 - val_loss: 2.0574 - val_mse: 2.0574 - val_mae: 1.1351\n",
            "Epoch 100/100\n",
            "100/100 [==============================] - 0s 2ms/step - loss: 1.9156 - mse: 1.9156 - mae: 1.1311 - val_loss: 2.1329 - val_mse: 2.1329 - val_mae: 1.1607\n"
          ],
          "name": "stdout"
        }
      ]
    },
    {
      "cell_type": "code",
      "metadata": {
        "id": "-7TOBGf0cxXU"
      },
      "source": [
        "def model_loss(history):\n",
        "  plt.figure(figsize=(8,4))\n",
        "  plt.plot(history.history['loss'], label='Train Loss')\n",
        "  plt.plot(history.history['val_loss'], label='Test Loss')\n",
        "  plt.title('model loss')\n",
        "  plt.ylabel('loss')\n",
        "  plt.xlabel('epochs')\n",
        "  plt.legend(loc='upper right')\n",
        "  plt.show();\n"
      ],
      "execution_count": 100,
      "outputs": []
    },
    {
      "cell_type": "code",
      "metadata": {
        "colab": {
          "base_uri": "https://localhost:8080/",
          "height": 329
        },
        "id": "wQT9YhWIeVRM",
        "outputId": "062c9045-df0e-48cb-ce32-609d59de36ba"
      },
      "source": [
        "train_score = model.evaluate(trainX, trainY, verbose=0)  ##model.evaluate要用起来！\n",
        "print('Train Root Mean Squared Error(RMSE): %.2f; Train Mean Absolute Error(MAE) : %.2f ' \n",
        "% (np.sqrt(train_score[1]), train_score[2]))  ###这里用了np.sqrt()\n",
        "test_score = model.evaluate(testX, testY, verbose=0)\n",
        "print('Test Root Mean Squared Error(RMSE): %.2f; Test Mean Absolute Error(MAE) : %.2f ' \n",
        "% (np.sqrt(test_score[1]), test_score[2]))\n",
        "model_loss(history)"
      ],
      "execution_count": 101,
      "outputs": [
        {
          "output_type": "stream",
          "text": [
            "Train Root Mean Squared Error(RMSE): 1.72; Train Mean Absolute Error(MAE) : 1.54 \n",
            "Test Root Mean Squared Error(RMSE): 1.46; Test Mean Absolute Error(MAE) : 1.16 \n"
          ],
          "name": "stdout"
        },
        {
          "output_type": "display_data",
          "data": {
            "image/png": "[encoded data removed]",
            "text/plain": [
              "<Figure size 576x288 with 1 Axes>"
            ]
          },
          "metadata": {
            "tags": [],
            "needs_background": "light"
          }
        }
      ]
    },
    {
      "cell_type": "code",
      "metadata": {
        "id": "iPYudtjWjKu0"
      },
      "source": [
        "def prediction_plot(testY,test_predict):\n",
        "  len_prediction=[x for x in range(len(testY))]\n",
        "  plt.figure(figsize=(8,4))\n",
        "  plt.plot(len_prediction[-200:],testY[-200:],marker='.',label='actual')\n",
        "  plt.plot(len_prediction[-200:], test_predict[-200:],'r',label='prediction')\n",
        "  plt.tight_layout()\n",
        "  sns.despine(top=True)\n",
        "  plt.subplots_adjust(left=0.07)\n",
        "  plt.ylabel('stock_price',size=15)\n",
        "  plt.xlabel('Time step',size=15)\n",
        "  plt.legend(fontsize=15)\n",
        "  plt.title('Prediction VS Actual Stock Price after 30 days_Test data')\n",
        "  plt.show()"
      ],
      "execution_count": 111,
      "outputs": []
    },
    {
      "cell_type": "code",
      "metadata": {
        "colab": {
          "base_uri": "https://localhost:8080/",
          "height": 332
        },
        "id": "KP0TR6vXexXn",
        "outputId": "18e88128-1858-41bc-cadd-99239098290a"
      },
      "source": [
        "test_predict=model.predict(testX)\n",
        "prediction_plot(testY,test_predict)"
      ],
      "execution_count": 112,
      "outputs": [
        {
          "output_type": "display_data",
          "data": {
            "image/png": "[encoded data removed]",
            "text/plain": [
              "<Figure size 576x288 with 1 Axes>"
            ]
          },
          "metadata": {
            "tags": [],
            "needs_background": "light"
          }
        }
      ]
    },
    {
      "cell_type": "code",
      "metadata": {
        "colab": {
          "base_uri": "https://localhost:8080/"
        },
        "id": "bmORmQlQlT3j",
        "outputId": "c14915ec-cdfa-4015-dab3-d18612214da1"
      },
      "source": [
        "testY= np.array(testY).reshape(-1,1)\n",
        "y_var_test=testY[1:]-testY[:len(testY)-1]\n",
        "y_var_predict=test_predict[1:]-test_predict[:len(test_predict)-1]\n",
        "txt=np.zeros(len(y_var_test))\n",
        "for i in range(len(y_var_test)-1):\n",
        "    txt[i]=np.sign(y_var_test[i])==np.sign(y_var_predict[i])\n",
        "result=sum(txt)/len(txt)\n",
        "print('预测涨跌正确:',result)\n"
      ],
      "execution_count": 124,
      "outputs": [
        {
          "output_type": "stream",
          "text": [
            "预测涨跌正确: 0.48460508701472554\n"
          ],
          "name": "stdout"
        }
      ]
    },
    {
      "cell_type": "code",
      "metadata": {
        "id": "EzjUwBIGoh1O"
      },
      "source": [
        ""
      ],
      "execution_count": null,
      "outputs": []
    },
    {
      "cell_type": "markdown",
      "metadata": {
        "id": "TzvXEfn9o47O"
      },
      "source": [
        "**Use RNN(Recurrent Neural Network) model**"
      ]
    },
    {
      "cell_type": "code",
      "metadata": {
        "id": "d2KtTTEx1Exl"
      },
      "source": [
        "from keras.models import Sequential\n",
        "from keras.layers import Dense, SimpleRNN\n",
        "from keras.callbacks import EarlyStopping\n",
        "def model_rnn(look_back):\n",
        "  model=Sequential()\n",
        "  model.add(SimpleRNN(units=32,input_shape=(1,look_back),activation='relu'))\n",
        "  model.add(Dense(8,activation='relu'))\n",
        "  model.add(Dense(1))\n",
        "  model.compile(loss='mean_squared_error',optimizer='adam',metrics=['mse','mae'])\n",
        "  return model"
      ],
      "execution_count": 134,
      "outputs": []
    },
    {
      "cell_type": "code",
      "metadata": {
        "id": "_eSJPS5F5SLW"
      },
      "source": [
        "model=model_rnn(30)"
      ],
      "execution_count": 135,
      "outputs": []
    },
    {
      "cell_type": "code",
      "metadata": {
        "colab": {
          "base_uri": "https://localhost:8080/"
        },
        "id": "-ZVmSNZc7Y-G",
        "outputId": "a2f606fe-df70-4d95-e685-4882ace7eca4"
      },
      "source": [
        "trainX.shape"
      ],
      "execution_count": 130,
      "outputs": [
        {
          "output_type": "execute_result",
          "data": {
            "text/plain": [
              "(2992, 30)"
            ]
          },
          "metadata": {
            "tags": []
          },
          "execution_count": 130
        }
      ]
    },
    {
      "cell_type": "code",
      "metadata": {
        "colab": {
          "base_uri": "https://localhost:8080/",
          "height": 419
        },
        "id": "DKZhDa467fUz",
        "outputId": "df6c91c9-b83c-4205-e6fb-dafc8a472a20"
      },
      "source": [
        "trainY"
      ],
      "execution_count": 131,
      "outputs": [
        {
          "output_type": "execute_result",
          "data": {
            "text/html": [
              "<div>\n",
              "<style scoped>\n",
              "    .dataframe tbody tr th:only-of-type {\n",
              "        vertical-align: middle;\n",
              "    }\n",
              "\n",
              "    .dataframe tbody tr th {\n",
              "        vertical-align: top;\n",
              "    }\n",
              "\n",
              "    .dataframe thead th {\n",
              "        text-align: right;\n",
              "    }\n",
              "</style>\n",
              "<table border=\"1\" class=\"dataframe\">\n",
              "  <thead>\n",
              "    <tr style=\"text-align: right;\">\n",
              "      <th></th>\n",
              "      <th>0</th>\n",
              "    </tr>\n",
              "  </thead>\n",
              "  <tbody>\n",
              "    <tr>\n",
              "      <th>0</th>\n",
              "      <td>9.300000</td>\n",
              "    </tr>\n",
              "    <tr>\n",
              "      <th>1</th>\n",
              "      <td>9.475000</td>\n",
              "    </tr>\n",
              "    <tr>\n",
              "      <th>2</th>\n",
              "      <td>9.245000</td>\n",
              "    </tr>\n",
              "    <tr>\n",
              "      <th>3</th>\n",
              "      <td>9.150000</td>\n",
              "    </tr>\n",
              "    <tr>\n",
              "      <th>4</th>\n",
              "      <td>9.475000</td>\n",
              "    </tr>\n",
              "    <tr>\n",
              "      <th>...</th>\n",
              "      <td>...</td>\n",
              "    </tr>\n",
              "    <tr>\n",
              "      <th>2987</th>\n",
              "      <td>36.509998</td>\n",
              "    </tr>\n",
              "    <tr>\n",
              "      <th>2988</th>\n",
              "      <td>35.860001</td>\n",
              "    </tr>\n",
              "    <tr>\n",
              "      <th>2989</th>\n",
              "      <td>35.610001</td>\n",
              "    </tr>\n",
              "    <tr>\n",
              "      <th>2990</th>\n",
              "      <td>36.139999</td>\n",
              "    </tr>\n",
              "    <tr>\n",
              "      <th>2991</th>\n",
              "      <td>35.599998</td>\n",
              "    </tr>\n",
              "  </tbody>\n",
              "</table>\n",
              "<p>2992 rows × 1 columns</p>\n",
              "</div>"
            ],
            "text/plain": [
              "              0\n",
              "0      9.300000\n",
              "1      9.475000\n",
              "2      9.245000\n",
              "3      9.150000\n",
              "4      9.475000\n",
              "...         ...\n",
              "2987  36.509998\n",
              "2988  35.860001\n",
              "2989  35.610001\n",
              "2990  36.139999\n",
              "2991  35.599998\n",
              "\n",
              "[2992 rows x 1 columns]"
            ]
          },
          "metadata": {
            "tags": []
          },
          "execution_count": 131
        }
      ]
    },
    {
      "cell_type": "code",
      "metadata": {
        "colab": {
          "base_uri": "https://localhost:8080/",
          "height": 736
        },
        "id": "BP5gsVJf5egw",
        "outputId": "e90e58df-79aa-47fc-e1a6-0be468bd6b18"
      },
      "source": [
        "history=model.fit(trainX,trainY,\n",
        "                  epochs=100,\n",
        "                  batch_size=30,\n",
        "                  verbose=1,\n",
        "                  validation_data=(testX,testY),\n",
        "                  callbacks=[EarlyStopping(monitor='val_loss', patience=10)],shuffle=False)"
      ],
      "execution_count": 136,
      "outputs": [
        {
          "output_type": "stream",
          "text": [
            "Epoch 1/100\n"
          ],
          "name": "stdout"
        },
        {
          "output_type": "error",
          "ename": "ValueError",
          "evalue": "ignored",
          "traceback": [
            "\u001b[0;31m---------------------------------------------------------------------------\u001b[0m",
            "\u001b[0;31mValueError\u001b[0m                                Traceback (most recent call last)",
            "\u001b[0;32m<ipython-input-136-c9fd9e77c907>\u001b[0m in \u001b[0;36m<module>\u001b[0;34m()\u001b[0m\n\u001b[1;32m      4\u001b[0m                   \u001b[0mverbose\u001b[0m\u001b[0;34m=\u001b[0m\u001b[0;36m1\u001b[0m\u001b[0;34m,\u001b[0m\u001b[0;34m\u001b[0m\u001b[0;34m\u001b[0m\u001b[0m\n\u001b[1;32m      5\u001b[0m                   \u001b[0mvalidation_data\u001b[0m\u001b[0;34m=\u001b[0m\u001b[0;34m(\u001b[0m\u001b[0mtestX\u001b[0m\u001b[0;34m,\u001b[0m\u001b[0mtestY\u001b[0m\u001b[0;34m)\u001b[0m\u001b[0;34m,\u001b[0m\u001b[0;34m\u001b[0m\u001b[0;34m\u001b[0m\u001b[0m\n\u001b[0;32m----> 6\u001b[0;31m                   callbacks=[EarlyStopping(monitor='val_loss', patience=10)],shuffle=False)\n\u001b[0m",
            "\u001b[0;32m/usr/local/lib/python3.7/dist-packages/tensorflow/python/keras/engine/training.py\u001b[0m in \u001b[0;36mfit\u001b[0;34m(self, x, y, batch_size, epochs, verbose, callbacks, validation_split, validation_data, shuffle, class_weight, sample_weight, initial_epoch, steps_per_epoch, validation_steps, validation_batch_size, validation_freq, max_queue_size, workers, use_multiprocessing)\u001b[0m\n\u001b[1;32m   1098\u001b[0m                 _r=1):\n\u001b[1;32m   1099\u001b[0m               \u001b[0mcallbacks\u001b[0m\u001b[0;34m.\u001b[0m\u001b[0mon_train_batch_begin\u001b[0m\u001b[0;34m(\u001b[0m\u001b[0mstep\u001b[0m\u001b[0;34m)\u001b[0m\u001b[0;34m\u001b[0m\u001b[0;34m\u001b[0m\u001b[0m\n\u001b[0;32m-> 1100\u001b[0;31m               \u001b[0mtmp_logs\u001b[0m \u001b[0;34m=\u001b[0m \u001b[0mself\u001b[0m\u001b[0;34m.\u001b[0m\u001b[0mtrain_function\u001b[0m\u001b[0;34m(\u001b[0m\u001b[0miterator\u001b[0m\u001b[0;34m)\u001b[0m\u001b[0;34m\u001b[0m\u001b[0;34m\u001b[0m\u001b[0m\n\u001b[0m\u001b[1;32m   1101\u001b[0m               \u001b[0;32mif\u001b[0m \u001b[0mdata_handler\u001b[0m\u001b[0;34m.\u001b[0m\u001b[0mshould_sync\u001b[0m\u001b[0;34m:\u001b[0m\u001b[0;34m\u001b[0m\u001b[0;34m\u001b[0m\u001b[0m\n\u001b[1;32m   1102\u001b[0m                 \u001b[0mcontext\u001b[0m\u001b[0;34m.\u001b[0m\u001b[0masync_wait\u001b[0m\u001b[0;34m(\u001b[0m\u001b[0;34m)\u001b[0m\u001b[0;34m\u001b[0m\u001b[0;34m\u001b[0m\u001b[0m\n",
            "\u001b[0;32m/usr/local/lib/python3.7/dist-packages/tensorflow/python/eager/def_function.py\u001b[0m in \u001b[0;36m__call__\u001b[0;34m(self, *args, **kwds)\u001b[0m\n\u001b[1;32m    826\u001b[0m     \u001b[0mtracing_count\u001b[0m \u001b[0;34m=\u001b[0m \u001b[0mself\u001b[0m\u001b[0;34m.\u001b[0m\u001b[0mexperimental_get_tracing_count\u001b[0m\u001b[0;34m(\u001b[0m\u001b[0;34m)\u001b[0m\u001b[0;34m\u001b[0m\u001b[0;34m\u001b[0m\u001b[0m\n\u001b[1;32m    827\u001b[0m     \u001b[0;32mwith\u001b[0m \u001b[0mtrace\u001b[0m\u001b[0;34m.\u001b[0m\u001b[0mTrace\u001b[0m\u001b[0;34m(\u001b[0m\u001b[0mself\u001b[0m\u001b[0;34m.\u001b[0m\u001b[0m_name\u001b[0m\u001b[0;34m)\u001b[0m \u001b[0;32mas\u001b[0m \u001b[0mtm\u001b[0m\u001b[0;34m:\u001b[0m\u001b[0;34m\u001b[0m\u001b[0;34m\u001b[0m\u001b[0m\n\u001b[0;32m--> 828\u001b[0;31m       \u001b[0mresult\u001b[0m \u001b[0;34m=\u001b[0m \u001b[0mself\u001b[0m\u001b[0;34m.\u001b[0m\u001b[0m_call\u001b[0m\u001b[0;34m(\u001b[0m\u001b[0;34m*\u001b[0m\u001b[0margs\u001b[0m\u001b[0;34m,\u001b[0m \u001b[0;34m**\u001b[0m\u001b[0mkwds\u001b[0m\u001b[0;34m)\u001b[0m\u001b[0;34m\u001b[0m\u001b[0;34m\u001b[0m\u001b[0m\n\u001b[0m\u001b[1;32m    829\u001b[0m       \u001b[0mcompiler\u001b[0m \u001b[0;34m=\u001b[0m \u001b[0;34m\"xla\"\u001b[0m \u001b[0;32mif\u001b[0m \u001b[0mself\u001b[0m\u001b[0;34m.\u001b[0m\u001b[0m_experimental_compile\u001b[0m \u001b[0;32melse\u001b[0m \u001b[0;34m\"nonXla\"\u001b[0m\u001b[0;34m\u001b[0m\u001b[0;34m\u001b[0m\u001b[0m\n\u001b[1;32m    830\u001b[0m       \u001b[0mnew_tracing_count\u001b[0m \u001b[0;34m=\u001b[0m \u001b[0mself\u001b[0m\u001b[0;34m.\u001b[0m\u001b[0mexperimental_get_tracing_count\u001b[0m\u001b[0;34m(\u001b[0m\u001b[0;34m)\u001b[0m\u001b[0;34m\u001b[0m\u001b[0;34m\u001b[0m\u001b[0m\n",
            "\u001b[0;32m/usr/local/lib/python3.7/dist-packages/tensorflow/python/eager/def_function.py\u001b[0m in \u001b[0;36m_call\u001b[0;34m(self, *args, **kwds)\u001b[0m\n\u001b[1;32m    869\u001b[0m       \u001b[0;31m# This is the first call of __call__, so we have to initialize.\u001b[0m\u001b[0;34m\u001b[0m\u001b[0;34m\u001b[0m\u001b[0;34m\u001b[0m\u001b[0m\n\u001b[1;32m    870\u001b[0m       \u001b[0minitializers\u001b[0m \u001b[0;34m=\u001b[0m \u001b[0;34m[\u001b[0m\u001b[0;34m]\u001b[0m\u001b[0;34m\u001b[0m\u001b[0;34m\u001b[0m\u001b[0m\n\u001b[0;32m--> 871\u001b[0;31m       \u001b[0mself\u001b[0m\u001b[0;34m.\u001b[0m\u001b[0m_initialize\u001b[0m\u001b[0;34m(\u001b[0m\u001b[0margs\u001b[0m\u001b[0;34m,\u001b[0m \u001b[0mkwds\u001b[0m\u001b[0;34m,\u001b[0m \u001b[0madd_initializers_to\u001b[0m\u001b[0;34m=\u001b[0m\u001b[0minitializers\u001b[0m\u001b[0;34m)\u001b[0m\u001b[0;34m\u001b[0m\u001b[0;34m\u001b[0m\u001b[0m\n\u001b[0m\u001b[1;32m    872\u001b[0m     \u001b[0;32mfinally\u001b[0m\u001b[0;34m:\u001b[0m\u001b[0;34m\u001b[0m\u001b[0;34m\u001b[0m\u001b[0m\n\u001b[1;32m    873\u001b[0m       \u001b[0;31m# At this point we know that the initialization is complete (or less\u001b[0m\u001b[0;34m\u001b[0m\u001b[0;34m\u001b[0m\u001b[0;34m\u001b[0m\u001b[0m\n",
            "\u001b[0;32m/usr/local/lib/python3.7/dist-packages/tensorflow/python/eager/def_function.py\u001b[0m in \u001b[0;36m_initialize\u001b[0;34m(self, args, kwds, add_initializers_to)\u001b[0m\n\u001b[1;32m    724\u001b[0m     self._concrete_stateful_fn = (\n\u001b[1;32m    725\u001b[0m         self._stateful_fn._get_concrete_function_internal_garbage_collected(  # pylint: disable=protected-access\n\u001b[0;32m--> 726\u001b[0;31m             *args, **kwds))\n\u001b[0m\u001b[1;32m    727\u001b[0m \u001b[0;34m\u001b[0m\u001b[0m\n\u001b[1;32m    728\u001b[0m     \u001b[0;32mdef\u001b[0m \u001b[0minvalid_creator_scope\u001b[0m\u001b[0;34m(\u001b[0m\u001b[0;34m*\u001b[0m\u001b[0munused_args\u001b[0m\u001b[0;34m,\u001b[0m \u001b[0;34m**\u001b[0m\u001b[0munused_kwds\u001b[0m\u001b[0;34m)\u001b[0m\u001b[0;34m:\u001b[0m\u001b[0;34m\u001b[0m\u001b[0;34m\u001b[0m\u001b[0m\n",
            "\u001b[0;32m/usr/local/lib/python3.7/dist-packages/tensorflow/python/eager/function.py\u001b[0m in \u001b[0;36m_get_concrete_function_internal_garbage_collected\u001b[0;34m(self, *args, **kwargs)\u001b[0m\n\u001b[1;32m   2967\u001b[0m       \u001b[0margs\u001b[0m\u001b[0;34m,\u001b[0m \u001b[0mkwargs\u001b[0m \u001b[0;34m=\u001b[0m \u001b[0;32mNone\u001b[0m\u001b[0;34m,\u001b[0m \u001b[0;32mNone\u001b[0m\u001b[0;34m\u001b[0m\u001b[0;34m\u001b[0m\u001b[0m\n\u001b[1;32m   2968\u001b[0m     \u001b[0;32mwith\u001b[0m \u001b[0mself\u001b[0m\u001b[0;34m.\u001b[0m\u001b[0m_lock\u001b[0m\u001b[0;34m:\u001b[0m\u001b[0;34m\u001b[0m\u001b[0;34m\u001b[0m\u001b[0m\n\u001b[0;32m-> 2969\u001b[0;31m       \u001b[0mgraph_function\u001b[0m\u001b[0;34m,\u001b[0m \u001b[0m_\u001b[0m \u001b[0;34m=\u001b[0m \u001b[0mself\u001b[0m\u001b[0;34m.\u001b[0m\u001b[0m_maybe_define_function\u001b[0m\u001b[0;34m(\u001b[0m\u001b[0margs\u001b[0m\u001b[0;34m,\u001b[0m \u001b[0mkwargs\u001b[0m\u001b[0;34m)\u001b[0m\u001b[0;34m\u001b[0m\u001b[0;34m\u001b[0m\u001b[0m\n\u001b[0m\u001b[1;32m   2970\u001b[0m     \u001b[0;32mreturn\u001b[0m \u001b[0mgraph_function\u001b[0m\u001b[0;34m\u001b[0m\u001b[0;34m\u001b[0m\u001b[0m\n\u001b[1;32m   2971\u001b[0m \u001b[0;34m\u001b[0m\u001b[0m\n",
            "\u001b[0;32m/usr/local/lib/python3.7/dist-packages/tensorflow/python/eager/function.py\u001b[0m in \u001b[0;36m_maybe_define_function\u001b[0;34m(self, args, kwargs)\u001b[0m\n\u001b[1;32m   3359\u001b[0m \u001b[0;34m\u001b[0m\u001b[0m\n\u001b[1;32m   3360\u001b[0m           \u001b[0mself\u001b[0m\u001b[0;34m.\u001b[0m\u001b[0m_function_cache\u001b[0m\u001b[0;34m.\u001b[0m\u001b[0mmissed\u001b[0m\u001b[0;34m.\u001b[0m\u001b[0madd\u001b[0m\u001b[0;34m(\u001b[0m\u001b[0mcall_context_key\u001b[0m\u001b[0;34m)\u001b[0m\u001b[0;34m\u001b[0m\u001b[0;34m\u001b[0m\u001b[0m\n\u001b[0;32m-> 3361\u001b[0;31m           \u001b[0mgraph_function\u001b[0m \u001b[0;34m=\u001b[0m \u001b[0mself\u001b[0m\u001b[0;34m.\u001b[0m\u001b[0m_create_graph_function\u001b[0m\u001b[0;34m(\u001b[0m\u001b[0margs\u001b[0m\u001b[0;34m,\u001b[0m \u001b[0mkwargs\u001b[0m\u001b[0;34m)\u001b[0m\u001b[0;34m\u001b[0m\u001b[0;34m\u001b[0m\u001b[0m\n\u001b[0m\u001b[1;32m   3362\u001b[0m           \u001b[0mself\u001b[0m\u001b[0;34m.\u001b[0m\u001b[0m_function_cache\u001b[0m\u001b[0;34m.\u001b[0m\u001b[0mprimary\u001b[0m\u001b[0;34m[\u001b[0m\u001b[0mcache_key\u001b[0m\u001b[0;34m]\u001b[0m \u001b[0;34m=\u001b[0m \u001b[0mgraph_function\u001b[0m\u001b[0;34m\u001b[0m\u001b[0;34m\u001b[0m\u001b[0m\n\u001b[1;32m   3363\u001b[0m \u001b[0;34m\u001b[0m\u001b[0m\n",
            "\u001b[0;32m/usr/local/lib/python3.7/dist-packages/tensorflow/python/eager/function.py\u001b[0m in \u001b[0;36m_create_graph_function\u001b[0;34m(self, args, kwargs, override_flat_arg_shapes)\u001b[0m\n\u001b[1;32m   3204\u001b[0m             \u001b[0marg_names\u001b[0m\u001b[0;34m=\u001b[0m\u001b[0marg_names\u001b[0m\u001b[0;34m,\u001b[0m\u001b[0;34m\u001b[0m\u001b[0;34m\u001b[0m\u001b[0m\n\u001b[1;32m   3205\u001b[0m             \u001b[0moverride_flat_arg_shapes\u001b[0m\u001b[0;34m=\u001b[0m\u001b[0moverride_flat_arg_shapes\u001b[0m\u001b[0;34m,\u001b[0m\u001b[0;34m\u001b[0m\u001b[0;34m\u001b[0m\u001b[0m\n\u001b[0;32m-> 3206\u001b[0;31m             capture_by_value=self._capture_by_value),\n\u001b[0m\u001b[1;32m   3207\u001b[0m         \u001b[0mself\u001b[0m\u001b[0;34m.\u001b[0m\u001b[0m_function_attributes\u001b[0m\u001b[0;34m,\u001b[0m\u001b[0;34m\u001b[0m\u001b[0;34m\u001b[0m\u001b[0m\n\u001b[1;32m   3208\u001b[0m         \u001b[0mfunction_spec\u001b[0m\u001b[0;34m=\u001b[0m\u001b[0mself\u001b[0m\u001b[0;34m.\u001b[0m\u001b[0mfunction_spec\u001b[0m\u001b[0;34m,\u001b[0m\u001b[0;34m\u001b[0m\u001b[0;34m\u001b[0m\u001b[0m\n",
            "\u001b[0;32m/usr/local/lib/python3.7/dist-packages/tensorflow/python/framework/func_graph.py\u001b[0m in \u001b[0;36mfunc_graph_from_py_func\u001b[0;34m(name, python_func, args, kwargs, signature, func_graph, autograph, autograph_options, add_control_dependencies, arg_names, op_return_value, collections, capture_by_value, override_flat_arg_shapes)\u001b[0m\n\u001b[1;32m    988\u001b[0m         \u001b[0m_\u001b[0m\u001b[0;34m,\u001b[0m \u001b[0moriginal_func\u001b[0m \u001b[0;34m=\u001b[0m \u001b[0mtf_decorator\u001b[0m\u001b[0;34m.\u001b[0m\u001b[0munwrap\u001b[0m\u001b[0;34m(\u001b[0m\u001b[0mpython_func\u001b[0m\u001b[0;34m)\u001b[0m\u001b[0;34m\u001b[0m\u001b[0;34m\u001b[0m\u001b[0m\n\u001b[1;32m    989\u001b[0m \u001b[0;34m\u001b[0m\u001b[0m\n\u001b[0;32m--> 990\u001b[0;31m       \u001b[0mfunc_outputs\u001b[0m \u001b[0;34m=\u001b[0m \u001b[0mpython_func\u001b[0m\u001b[0;34m(\u001b[0m\u001b[0;34m*\u001b[0m\u001b[0mfunc_args\u001b[0m\u001b[0;34m,\u001b[0m \u001b[0;34m**\u001b[0m\u001b[0mfunc_kwargs\u001b[0m\u001b[0;34m)\u001b[0m\u001b[0;34m\u001b[0m\u001b[0;34m\u001b[0m\u001b[0m\n\u001b[0m\u001b[1;32m    991\u001b[0m \u001b[0;34m\u001b[0m\u001b[0m\n\u001b[1;32m    992\u001b[0m       \u001b[0;31m# invariant: `func_outputs` contains only Tensors, CompositeTensors,\u001b[0m\u001b[0;34m\u001b[0m\u001b[0;34m\u001b[0m\u001b[0;34m\u001b[0m\u001b[0m\n",
            "\u001b[0;32m/usr/local/lib/python3.7/dist-packages/tensorflow/python/eager/def_function.py\u001b[0m in \u001b[0;36mwrapped_fn\u001b[0;34m(*args, **kwds)\u001b[0m\n\u001b[1;32m    632\u001b[0m             \u001b[0mxla_context\u001b[0m\u001b[0;34m.\u001b[0m\u001b[0mExit\u001b[0m\u001b[0;34m(\u001b[0m\u001b[0;34m)\u001b[0m\u001b[0;34m\u001b[0m\u001b[0;34m\u001b[0m\u001b[0m\n\u001b[1;32m    633\u001b[0m         \u001b[0;32melse\u001b[0m\u001b[0;34m:\u001b[0m\u001b[0;34m\u001b[0m\u001b[0;34m\u001b[0m\u001b[0m\n\u001b[0;32m--> 634\u001b[0;31m           \u001b[0mout\u001b[0m \u001b[0;34m=\u001b[0m \u001b[0mweak_wrapped_fn\u001b[0m\u001b[0;34m(\u001b[0m\u001b[0;34m)\u001b[0m\u001b[0;34m.\u001b[0m\u001b[0m__wrapped__\u001b[0m\u001b[0;34m(\u001b[0m\u001b[0;34m*\u001b[0m\u001b[0margs\u001b[0m\u001b[0;34m,\u001b[0m \u001b[0;34m**\u001b[0m\u001b[0mkwds\u001b[0m\u001b[0;34m)\u001b[0m\u001b[0;34m\u001b[0m\u001b[0;34m\u001b[0m\u001b[0m\n\u001b[0m\u001b[1;32m    635\u001b[0m         \u001b[0;32mreturn\u001b[0m \u001b[0mout\u001b[0m\u001b[0;34m\u001b[0m\u001b[0;34m\u001b[0m\u001b[0m\n\u001b[1;32m    636\u001b[0m \u001b[0;34m\u001b[0m\u001b[0m\n",
            "\u001b[0;32m/usr/local/lib/python3.7/dist-packages/tensorflow/python/framework/func_graph.py\u001b[0m in \u001b[0;36mwrapper\u001b[0;34m(*args, **kwargs)\u001b[0m\n\u001b[1;32m    975\u001b[0m           \u001b[0;32mexcept\u001b[0m \u001b[0mException\u001b[0m \u001b[0;32mas\u001b[0m \u001b[0me\u001b[0m\u001b[0;34m:\u001b[0m  \u001b[0;31m# pylint:disable=broad-except\u001b[0m\u001b[0;34m\u001b[0m\u001b[0;34m\u001b[0m\u001b[0m\n\u001b[1;32m    976\u001b[0m             \u001b[0;32mif\u001b[0m \u001b[0mhasattr\u001b[0m\u001b[0;34m(\u001b[0m\u001b[0me\u001b[0m\u001b[0;34m,\u001b[0m \u001b[0;34m\"ag_error_metadata\"\u001b[0m\u001b[0;34m)\u001b[0m\u001b[0;34m:\u001b[0m\u001b[0;34m\u001b[0m\u001b[0;34m\u001b[0m\u001b[0m\n\u001b[0;32m--> 977\u001b[0;31m               \u001b[0;32mraise\u001b[0m \u001b[0me\u001b[0m\u001b[0;34m.\u001b[0m\u001b[0mag_error_metadata\u001b[0m\u001b[0;34m.\u001b[0m\u001b[0mto_exception\u001b[0m\u001b[0;34m(\u001b[0m\u001b[0me\u001b[0m\u001b[0;34m)\u001b[0m\u001b[0;34m\u001b[0m\u001b[0;34m\u001b[0m\u001b[0m\n\u001b[0m\u001b[1;32m    978\u001b[0m             \u001b[0;32melse\u001b[0m\u001b[0;34m:\u001b[0m\u001b[0;34m\u001b[0m\u001b[0;34m\u001b[0m\u001b[0m\n\u001b[1;32m    979\u001b[0m               \u001b[0;32mraise\u001b[0m\u001b[0;34m\u001b[0m\u001b[0;34m\u001b[0m\u001b[0m\n",
            "\u001b[0;31mValueError\u001b[0m: in user code:\n\n    /usr/local/lib/python3.7/dist-packages/tensorflow/python/keras/engine/training.py:805 train_function  *\n        return step_function(self, iterator)\n    /usr/local/lib/python3.7/dist-packages/tensorflow/python/keras/engine/training.py:795 step_function  **\n        outputs = model.distribute_strategy.run(run_step, args=(data,))\n    /usr/local/lib/python3.7/dist-packages/tensorflow/python/distribute/distribute_lib.py:1259 run\n        return self._extended.call_for_each_replica(fn, args=args, kwargs=kwargs)\n    /usr/local/lib/python3.7/dist-packages/tensorflow/python/distribute/distribute_lib.py:2730 call_for_each_replica\n        return self._call_for_each_replica(fn, args, kwargs)\n    /usr/local/lib/python3.7/dist-packages/tensorflow/python/distribute/distribute_lib.py:3417 _call_for_each_replica\n        return fn(*args, **kwargs)\n    /usr/local/lib/python3.7/dist-packages/tensorflow/python/keras/engine/training.py:788 run_step  **\n        outputs = model.train_step(data)\n    /usr/local/lib/python3.7/dist-packages/tensorflow/python/keras/engine/training.py:754 train_step\n        y_pred = self(x, training=True)\n    /usr/local/lib/python3.7/dist-packages/tensorflow/python/keras/engine/base_layer.py:998 __call__\n        input_spec.assert_input_compatibility(self.input_spec, inputs, self.name)\n    /usr/local/lib/python3.7/dist-packages/tensorflow/python/keras/engine/input_spec.py:223 assert_input_compatibility\n        str(tuple(shape)))\n\n    ValueError: Input 0 of layer sequential_6 is incompatible with the layer: expected ndim=3, found ndim=2. Full shape received: (None, 30)\n"
          ]
        }
      ]
    },
    {
      "cell_type": "code",
      "metadata": {
        "id": "dbWo8YFx6phY"
      },
      "source": [
        ""
      ],
      "execution_count": null,
      "outputs": []
    }
  ]
}