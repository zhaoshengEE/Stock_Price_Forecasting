{
  "nbformat": 4,
  "nbformat_minor": 0,
  "metadata": {
    "colab": {
      "name": "BPNN_1",
      "provenance": [],
      "collapsed_sections": []
    },
    "kernelspec": {
      "name": "python3",
      "display_name": "Python 3"
    }
  },
  "cells": [
    {
      "cell_type": "code",
      "metadata": {
        "id": "xiOuLZJyyzpc"
      },
      "source": [
        "import numpy as np\n",
        "import pandas as pd\n",
        "import matplotlib.pyplot as plt\n",
        "import seaborn as sns\n",
        "from math import ceil"
      ],
      "execution_count": 1,
      "outputs": []
    },
    {
      "cell_type": "code",
      "metadata": {
        "id": "8qhXbJVi6Ves"
      },
      "source": [
        "import keras\n",
        "from keras.layers import Dense,Dropout\n",
        "from keras.models import Sequential\n",
        "from keras.optimizers import Adam\n",
        "from keras.utils.vis_utils import plot_model\n",
        "from sklearn.preprocessing import MinMaxScaler,StandardScaler\n",
        "from sklearn.metrics import r2_score, mean_squared_error,mean_absolute_error"
      ],
      "execution_count": 2,
      "outputs": []
    },
    {
      "cell_type": "code",
      "metadata": {
        "colab": {
          "base_uri": "https://localhost:8080/"
        },
        "id": "n4cvxS1C6v55",
        "outputId": "d0303a43-b766-4047-cfd9-5cf8d401055b"
      },
      "source": [
        "###mounting google drive\n",
        "from google.colab import drive\n",
        "drive.mount('/content/drive')"
      ],
      "execution_count": 3,
      "outputs": [
        {
          "output_type": "stream",
          "text": [
            "Drive already mounted at /content/drive; to attempt to forcibly remount, call drive.mount(\"/content/drive\", force_remount=True).\n"
          ],
          "name": "stdout"
        }
      ]
    },
    {
      "cell_type": "markdown",
      "metadata": {
        "id": "SWSROxLE9TjF"
      },
      "source": [
        "Read the stock price data"
      ]
    },
    {
      "cell_type": "code",
      "metadata": {
        "id": "XG3lBu3f6bC-"
      },
      "source": [
        "stock_df= pd.read_csv('./drive/My Drive/Colab Notebooks/GME_stock.csv',parse_dates=[\"date\"])"
      ],
      "execution_count": 4,
      "outputs": []
    },
    {
      "cell_type": "code",
      "metadata": {
        "colab": {
          "base_uri": "https://localhost:8080/",
          "height": 204
        },
        "id": "dnrXLg-T6tzl",
        "outputId": "696124e7-c011-4c77-9c4d-0a5cc7610c94"
      },
      "source": [
        "stock_df.tail()"
      ],
      "execution_count": 5,
      "outputs": [
        {
          "output_type": "execute_result",
          "data": {
            "text/html": [
              "<div>\n",
              "<style scoped>\n",
              "    .dataframe tbody tr th:only-of-type {\n",
              "        vertical-align: middle;\n",
              "    }\n",
              "\n",
              "    .dataframe tbody tr th {\n",
              "        vertical-align: top;\n",
              "    }\n",
              "\n",
              "    .dataframe thead th {\n",
              "        text-align: right;\n",
              "    }\n",
              "</style>\n",
              "<table border=\"1\" class=\"dataframe\">\n",
              "  <thead>\n",
              "    <tr style=\"text-align: right;\">\n",
              "      <th></th>\n",
              "      <th>date</th>\n",
              "      <th>open_price</th>\n",
              "      <th>high_price</th>\n",
              "      <th>low_price</th>\n",
              "      <th>close_price</th>\n",
              "      <th>volume</th>\n",
              "      <th>adjclose_price</th>\n",
              "    </tr>\n",
              "  </thead>\n",
              "  <tbody>\n",
              "    <tr>\n",
              "      <th>4768</th>\n",
              "      <td>2002-02-20</td>\n",
              "      <td>9.600</td>\n",
              "      <td>9.875</td>\n",
              "      <td>9.525</td>\n",
              "      <td>9.875</td>\n",
              "      <td>1723200.0</td>\n",
              "      <td>6.648838</td>\n",
              "    </tr>\n",
              "    <tr>\n",
              "      <th>4769</th>\n",
              "      <td>2002-02-19</td>\n",
              "      <td>9.900</td>\n",
              "      <td>9.900</td>\n",
              "      <td>9.375</td>\n",
              "      <td>9.550</td>\n",
              "      <td>1852600.0</td>\n",
              "      <td>6.430017</td>\n",
              "    </tr>\n",
              "    <tr>\n",
              "      <th>4770</th>\n",
              "      <td>2002-02-15</td>\n",
              "      <td>10.000</td>\n",
              "      <td>10.025</td>\n",
              "      <td>9.850</td>\n",
              "      <td>9.950</td>\n",
              "      <td>2097400.0</td>\n",
              "      <td>6.699336</td>\n",
              "    </tr>\n",
              "    <tr>\n",
              "      <th>4771</th>\n",
              "      <td>2002-02-14</td>\n",
              "      <td>10.175</td>\n",
              "      <td>10.195</td>\n",
              "      <td>9.925</td>\n",
              "      <td>10.000</td>\n",
              "      <td>2755400.0</td>\n",
              "      <td>6.733003</td>\n",
              "    </tr>\n",
              "    <tr>\n",
              "      <th>4772</th>\n",
              "      <td>2002-02-13</td>\n",
              "      <td>9.625</td>\n",
              "      <td>10.060</td>\n",
              "      <td>9.525</td>\n",
              "      <td>10.050</td>\n",
              "      <td>19054000.0</td>\n",
              "      <td>6.766666</td>\n",
              "    </tr>\n",
              "  </tbody>\n",
              "</table>\n",
              "</div>"
            ],
            "text/plain": [
              "           date  open_price  ...      volume  adjclose_price\n",
              "4768 2002-02-20       9.600  ...   1723200.0        6.648838\n",
              "4769 2002-02-19       9.900  ...   1852600.0        6.430017\n",
              "4770 2002-02-15      10.000  ...   2097400.0        6.699336\n",
              "4771 2002-02-14      10.175  ...   2755400.0        6.733003\n",
              "4772 2002-02-13       9.625  ...  19054000.0        6.766666\n",
              "\n",
              "[5 rows x 7 columns]"
            ]
          },
          "metadata": {
            "tags": []
          },
          "execution_count": 5
        }
      ]
    },
    {
      "cell_type": "code",
      "metadata": {
        "colab": {
          "base_uri": "https://localhost:8080/",
          "height": 204
        },
        "id": "PUXk6WFZ8-jj",
        "outputId": "8b2e0e84-4d59-47b8-f71c-7d982b231b70"
      },
      "source": [
        "stock_df.head()"
      ],
      "execution_count": 6,
      "outputs": [
        {
          "output_type": "execute_result",
          "data": {
            "text/html": [
              "<div>\n",
              "<style scoped>\n",
              "    .dataframe tbody tr th:only-of-type {\n",
              "        vertical-align: middle;\n",
              "    }\n",
              "\n",
              "    .dataframe tbody tr th {\n",
              "        vertical-align: top;\n",
              "    }\n",
              "\n",
              "    .dataframe thead th {\n",
              "        text-align: right;\n",
              "    }\n",
              "</style>\n",
              "<table border=\"1\" class=\"dataframe\">\n",
              "  <thead>\n",
              "    <tr style=\"text-align: right;\">\n",
              "      <th></th>\n",
              "      <th>date</th>\n",
              "      <th>open_price</th>\n",
              "      <th>high_price</th>\n",
              "      <th>low_price</th>\n",
              "      <th>close_price</th>\n",
              "      <th>volume</th>\n",
              "      <th>adjclose_price</th>\n",
              "    </tr>\n",
              "  </thead>\n",
              "  <tbody>\n",
              "    <tr>\n",
              "      <th>0</th>\n",
              "      <td>2021-01-28</td>\n",
              "      <td>265.000000</td>\n",
              "      <td>483.000000</td>\n",
              "      <td>112.250000</td>\n",
              "      <td>193.600006</td>\n",
              "      <td>58815800.0</td>\n",
              "      <td>193.600006</td>\n",
              "    </tr>\n",
              "    <tr>\n",
              "      <th>1</th>\n",
              "      <td>2021-01-27</td>\n",
              "      <td>354.829987</td>\n",
              "      <td>380.000000</td>\n",
              "      <td>249.000000</td>\n",
              "      <td>347.510010</td>\n",
              "      <td>93396700.0</td>\n",
              "      <td>347.510010</td>\n",
              "    </tr>\n",
              "    <tr>\n",
              "      <th>2</th>\n",
              "      <td>2021-01-26</td>\n",
              "      <td>88.559998</td>\n",
              "      <td>150.000000</td>\n",
              "      <td>80.199997</td>\n",
              "      <td>147.979996</td>\n",
              "      <td>178588000.0</td>\n",
              "      <td>147.979996</td>\n",
              "    </tr>\n",
              "    <tr>\n",
              "      <th>3</th>\n",
              "      <td>2021-01-25</td>\n",
              "      <td>96.730003</td>\n",
              "      <td>159.179993</td>\n",
              "      <td>61.130001</td>\n",
              "      <td>76.790001</td>\n",
              "      <td>177874000.0</td>\n",
              "      <td>76.790001</td>\n",
              "    </tr>\n",
              "    <tr>\n",
              "      <th>4</th>\n",
              "      <td>2021-01-22</td>\n",
              "      <td>42.590000</td>\n",
              "      <td>76.760002</td>\n",
              "      <td>42.320000</td>\n",
              "      <td>65.010002</td>\n",
              "      <td>196784300.0</td>\n",
              "      <td>65.010002</td>\n",
              "    </tr>\n",
              "  </tbody>\n",
              "</table>\n",
              "</div>"
            ],
            "text/plain": [
              "        date  open_price  high_price  ...  close_price       volume  adjclose_price\n",
              "0 2021-01-28  265.000000  483.000000  ...   193.600006   58815800.0      193.600006\n",
              "1 2021-01-27  354.829987  380.000000  ...   347.510010   93396700.0      347.510010\n",
              "2 2021-01-26   88.559998  150.000000  ...   147.979996  178588000.0      147.979996\n",
              "3 2021-01-25   96.730003  159.179993  ...    76.790001  177874000.0       76.790001\n",
              "4 2021-01-22   42.590000   76.760002  ...    65.010002  196784300.0       65.010002\n",
              "\n",
              "[5 rows x 7 columns]"
            ]
          },
          "metadata": {
            "tags": []
          },
          "execution_count": 6
        }
      ]
    },
    {
      "cell_type": "markdown",
      "metadata": {
        "id": "1dAn6WwCDsTo"
      },
      "source": [
        "The data has inverted order by date. We need to change it in  date ascending order."
      ]
    },
    {
      "cell_type": "code",
      "metadata": {
        "id": "VWBfM-nYDri7"
      },
      "source": [
        "stock_df=stock_df.sort_values(by=\"date\", ascending=True)\n",
        "stock_df.reset_index(inplace=True)\n",
        "stock_df.set_index('date',inplace=True)"
      ],
      "execution_count": 7,
      "outputs": []
    },
    {
      "cell_type": "code",
      "metadata": {
        "colab": {
          "base_uri": "https://localhost:8080/",
          "height": 235
        },
        "id": "YUD8clhZMqdg",
        "outputId": "51c7b6f3-a60d-43d3-aa56-2f5bb0635f6b"
      },
      "source": [
        "stock_df.head()"
      ],
      "execution_count": 8,
      "outputs": [
        {
          "output_type": "execute_result",
          "data": {
            "text/html": [
              "<div>\n",
              "<style scoped>\n",
              "    .dataframe tbody tr th:only-of-type {\n",
              "        vertical-align: middle;\n",
              "    }\n",
              "\n",
              "    .dataframe tbody tr th {\n",
              "        vertical-align: top;\n",
              "    }\n",
              "\n",
              "    .dataframe thead th {\n",
              "        text-align: right;\n",
              "    }\n",
              "</style>\n",
              "<table border=\"1\" class=\"dataframe\">\n",
              "  <thead>\n",
              "    <tr style=\"text-align: right;\">\n",
              "      <th></th>\n",
              "      <th>index</th>\n",
              "      <th>open_price</th>\n",
              "      <th>high_price</th>\n",
              "      <th>low_price</th>\n",
              "      <th>close_price</th>\n",
              "      <th>volume</th>\n",
              "      <th>adjclose_price</th>\n",
              "    </tr>\n",
              "    <tr>\n",
              "      <th>date</th>\n",
              "      <th></th>\n",
              "      <th></th>\n",
              "      <th></th>\n",
              "      <th></th>\n",
              "      <th></th>\n",
              "      <th></th>\n",
              "      <th></th>\n",
              "    </tr>\n",
              "  </thead>\n",
              "  <tbody>\n",
              "    <tr>\n",
              "      <th>2002-02-13</th>\n",
              "      <td>4772</td>\n",
              "      <td>9.625</td>\n",
              "      <td>10.060</td>\n",
              "      <td>9.525</td>\n",
              "      <td>10.050</td>\n",
              "      <td>19054000.0</td>\n",
              "      <td>6.766666</td>\n",
              "    </tr>\n",
              "    <tr>\n",
              "      <th>2002-02-14</th>\n",
              "      <td>4771</td>\n",
              "      <td>10.175</td>\n",
              "      <td>10.195</td>\n",
              "      <td>9.925</td>\n",
              "      <td>10.000</td>\n",
              "      <td>2755400.0</td>\n",
              "      <td>6.733003</td>\n",
              "    </tr>\n",
              "    <tr>\n",
              "      <th>2002-02-15</th>\n",
              "      <td>4770</td>\n",
              "      <td>10.000</td>\n",
              "      <td>10.025</td>\n",
              "      <td>9.850</td>\n",
              "      <td>9.950</td>\n",
              "      <td>2097400.0</td>\n",
              "      <td>6.699336</td>\n",
              "    </tr>\n",
              "    <tr>\n",
              "      <th>2002-02-19</th>\n",
              "      <td>4769</td>\n",
              "      <td>9.900</td>\n",
              "      <td>9.900</td>\n",
              "      <td>9.375</td>\n",
              "      <td>9.550</td>\n",
              "      <td>1852600.0</td>\n",
              "      <td>6.430017</td>\n",
              "    </tr>\n",
              "    <tr>\n",
              "      <th>2002-02-20</th>\n",
              "      <td>4768</td>\n",
              "      <td>9.600</td>\n",
              "      <td>9.875</td>\n",
              "      <td>9.525</td>\n",
              "      <td>9.875</td>\n",
              "      <td>1723200.0</td>\n",
              "      <td>6.648838</td>\n",
              "    </tr>\n",
              "  </tbody>\n",
              "</table>\n",
              "</div>"
            ],
            "text/plain": [
              "            index  open_price  ...      volume  adjclose_price\n",
              "date                           ...                            \n",
              "2002-02-13   4772       9.625  ...  19054000.0        6.766666\n",
              "2002-02-14   4771      10.175  ...   2755400.0        6.733003\n",
              "2002-02-15   4770      10.000  ...   2097400.0        6.699336\n",
              "2002-02-19   4769       9.900  ...   1852600.0        6.430017\n",
              "2002-02-20   4768       9.600  ...   1723200.0        6.648838\n",
              "\n",
              "[5 rows x 7 columns]"
            ]
          },
          "metadata": {
            "tags": []
          },
          "execution_count": 8
        }
      ]
    },
    {
      "cell_type": "code",
      "metadata": {
        "id": "THoVZIN4lzMw"
      },
      "source": [
        "def create_lag_feature(df,orig_feature,lag):\n",
        "  new_df=df.copy()\n",
        "  new_feature_name= \"%s_lag%d\" %(orig_feature, lag)\n",
        "  new_df[new_feature_name]=np.nan\n",
        "  new_df.loc[df.index[lag:],new_feature_name]=df.iloc[:-lag][orig_feature].values\n",
        "  return new_df"
      ],
      "execution_count": 9,
      "outputs": []
    },
    {
      "cell_type": "code",
      "metadata": {
        "id": "8DbTZyE-weOZ"
      },
      "source": [
        "def create_after_days_target(df,orig_column,days_after):\n",
        "  new_df= df.copy()\n",
        "  target_column='%s_after_%d_days'%(orig_column, days_after)\n",
        "  if days_after==1:\n",
        "    target_column=orig_column +\"_tomorrow\"\n",
        "  new_df[target_column]=np.nan\n",
        "  new_df.loc[df.index[:-days_after],target_column]=df.iloc[days_after:][orig_column].values\n",
        "  return new_df"
      ],
      "execution_count": 10,
      "outputs": []
    },
    {
      "cell_type": "code",
      "metadata": {
        "id": "CwqgPHqZuf2f"
      },
      "source": [
        "stock_df=create_lag_feature(stock_df,'close_price',1) ## add feture: yesterday close_price"
      ],
      "execution_count": 11,
      "outputs": []
    },
    {
      "cell_type": "code",
      "metadata": {
        "id": "x6mOWp70u2WS"
      },
      "source": [
        "stock_df=create_lag_feature(stock_df,'close_price',2) ## add feture: close_price of 2 days before "
      ],
      "execution_count": 12,
      "outputs": []
    },
    {
      "cell_type": "code",
      "metadata": {
        "id": "QCZkUWpUv56H"
      },
      "source": [
        "stock_df=create_lag_feature(stock_df,'close_price',3)  ## add feture: close_price of 3 days before "
      ],
      "execution_count": 13,
      "outputs": []
    },
    {
      "cell_type": "code",
      "metadata": {
        "id": "m5gzx221Hbbe"
      },
      "source": [
        "#stock_df=create_lag_feature(stock_df,'close_price',4)  ## add feture: close_price of 4 days before"
      ],
      "execution_count": 14,
      "outputs": []
    },
    {
      "cell_type": "code",
      "metadata": {
        "id": "sLNt9vT3wO4i"
      },
      "source": [
        "## create target column \"close_price_tomorrow\"\n",
        "stock_df=create_after_days_target(stock_df,'close_price',1)"
      ],
      "execution_count": 15,
      "outputs": []
    },
    {
      "cell_type": "code",
      "metadata": {
        "colab": {
          "base_uri": "https://localhost:8080/",
          "height": 340
        },
        "id": "c_tGV6XMy9sS",
        "outputId": "6be7f5f0-9119-4372-f7c2-5ffc0c70d436"
      },
      "source": [
        "stock_df.head()"
      ],
      "execution_count": 16,
      "outputs": [
        {
          "output_type": "execute_result",
          "data": {
            "text/html": [
              "<div>\n",
              "<style scoped>\n",
              "    .dataframe tbody tr th:only-of-type {\n",
              "        vertical-align: middle;\n",
              "    }\n",
              "\n",
              "    .dataframe tbody tr th {\n",
              "        vertical-align: top;\n",
              "    }\n",
              "\n",
              "    .dataframe thead th {\n",
              "        text-align: right;\n",
              "    }\n",
              "</style>\n",
              "<table border=\"1\" class=\"dataframe\">\n",
              "  <thead>\n",
              "    <tr style=\"text-align: right;\">\n",
              "      <th></th>\n",
              "      <th>index</th>\n",
              "      <th>open_price</th>\n",
              "      <th>high_price</th>\n",
              "      <th>low_price</th>\n",
              "      <th>close_price</th>\n",
              "      <th>volume</th>\n",
              "      <th>adjclose_price</th>\n",
              "      <th>close_price_lag1</th>\n",
              "      <th>close_price_lag2</th>\n",
              "      <th>close_price_lag3</th>\n",
              "      <th>close_price_tomorrow</th>\n",
              "    </tr>\n",
              "    <tr>\n",
              "      <th>date</th>\n",
              "      <th></th>\n",
              "      <th></th>\n",
              "      <th></th>\n",
              "      <th></th>\n",
              "      <th></th>\n",
              "      <th></th>\n",
              "      <th></th>\n",
              "      <th></th>\n",
              "      <th></th>\n",
              "      <th></th>\n",
              "      <th></th>\n",
              "    </tr>\n",
              "  </thead>\n",
              "  <tbody>\n",
              "    <tr>\n",
              "      <th>2002-02-13</th>\n",
              "      <td>4772</td>\n",
              "      <td>9.625</td>\n",
              "      <td>10.060</td>\n",
              "      <td>9.525</td>\n",
              "      <td>10.050</td>\n",
              "      <td>19054000.0</td>\n",
              "      <td>6.766666</td>\n",
              "      <td>NaN</td>\n",
              "      <td>NaN</td>\n",
              "      <td>NaN</td>\n",
              "      <td>10.000</td>\n",
              "    </tr>\n",
              "    <tr>\n",
              "      <th>2002-02-14</th>\n",
              "      <td>4771</td>\n",
              "      <td>10.175</td>\n",
              "      <td>10.195</td>\n",
              "      <td>9.925</td>\n",
              "      <td>10.000</td>\n",
              "      <td>2755400.0</td>\n",
              "      <td>6.733003</td>\n",
              "      <td>10.05</td>\n",
              "      <td>NaN</td>\n",
              "      <td>NaN</td>\n",
              "      <td>9.950</td>\n",
              "    </tr>\n",
              "    <tr>\n",
              "      <th>2002-02-15</th>\n",
              "      <td>4770</td>\n",
              "      <td>10.000</td>\n",
              "      <td>10.025</td>\n",
              "      <td>9.850</td>\n",
              "      <td>9.950</td>\n",
              "      <td>2097400.0</td>\n",
              "      <td>6.699336</td>\n",
              "      <td>10.00</td>\n",
              "      <td>10.05</td>\n",
              "      <td>NaN</td>\n",
              "      <td>9.550</td>\n",
              "    </tr>\n",
              "    <tr>\n",
              "      <th>2002-02-19</th>\n",
              "      <td>4769</td>\n",
              "      <td>9.900</td>\n",
              "      <td>9.900</td>\n",
              "      <td>9.375</td>\n",
              "      <td>9.550</td>\n",
              "      <td>1852600.0</td>\n",
              "      <td>6.430017</td>\n",
              "      <td>9.95</td>\n",
              "      <td>10.00</td>\n",
              "      <td>10.05</td>\n",
              "      <td>9.875</td>\n",
              "    </tr>\n",
              "    <tr>\n",
              "      <th>2002-02-20</th>\n",
              "      <td>4768</td>\n",
              "      <td>9.600</td>\n",
              "      <td>9.875</td>\n",
              "      <td>9.525</td>\n",
              "      <td>9.875</td>\n",
              "      <td>1723200.0</td>\n",
              "      <td>6.648838</td>\n",
              "      <td>9.55</td>\n",
              "      <td>9.95</td>\n",
              "      <td>10.00</td>\n",
              "      <td>9.850</td>\n",
              "    </tr>\n",
              "  </tbody>\n",
              "</table>\n",
              "</div>"
            ],
            "text/plain": [
              "            index  open_price  ...  close_price_lag3  close_price_tomorrow\n",
              "date                           ...                                        \n",
              "2002-02-13   4772       9.625  ...               NaN                10.000\n",
              "2002-02-14   4771      10.175  ...               NaN                 9.950\n",
              "2002-02-15   4770      10.000  ...               NaN                 9.550\n",
              "2002-02-19   4769       9.900  ...             10.05                 9.875\n",
              "2002-02-20   4768       9.600  ...             10.00                 9.850\n",
              "\n",
              "[5 rows x 11 columns]"
            ]
          },
          "metadata": {
            "tags": []
          },
          "execution_count": 16
        }
      ]
    },
    {
      "cell_type": "markdown",
      "metadata": {
        "id": "dnrGpEF99p-D"
      },
      "source": [
        "Split the dataframe into training set and test set\n",
        "\n",
        "\n",
        "> there are some NaN values when we create new features and target columns. one way is to delete these column. the other way is to use SimpleImputer.\n",
        "<br> lets just delete them first\n",
        "<br> TODO, add SimpleImputer in preprocessing pipeline.\n",
        "\n"
      ]
    },
    {
      "cell_type": "code",
      "metadata": {
        "id": "PHpweIH6k2Ks"
      },
      "source": [
        "X=stock_df.iloc[4:4772,1:-1] ### not include the first 3 row and last raw with NAN values\n",
        "Y=stock_df.iloc[4:4772,-1:]"
      ],
      "execution_count": 17,
      "outputs": []
    },
    {
      "cell_type": "code",
      "metadata": {
        "id": "MPE_a3KCNkGD"
      },
      "source": [
        "# scaler_X = StandardScaler()\n",
        "# scaler_Y = StandardScaler()\n",
        "scaler_X = MinMaxScaler()\n",
        "scaler_Y = MinMaxScaler()"
      ],
      "execution_count": 18,
      "outputs": []
    },
    {
      "cell_type": "code",
      "metadata": {
        "id": "dSpRtBRLkw5z"
      },
      "source": [
        "X_scaled=scaler_X.fit_transform(X)\n",
        "Y_scaled=scaler_Y.fit_transform(Y)"
      ],
      "execution_count": 19,
      "outputs": []
    },
    {
      "cell_type": "code",
      "metadata": {
        "colab": {
          "base_uri": "https://localhost:8080/"
        },
        "id": "V6e9IhahmHt5",
        "outputId": "0bb66337-2fe2-46ab-e723-04844e2a3f17"
      },
      "source": [
        "X_scaled.shape"
      ],
      "execution_count": 20,
      "outputs": [
        {
          "output_type": "execute_result",
          "data": {
            "text/plain": [
              "(4768, 9)"
            ]
          },
          "metadata": {
            "tags": []
          },
          "execution_count": 20
        }
      ]
    },
    {
      "cell_type": "code",
      "metadata": {
        "colab": {
          "base_uri": "https://localhost:8080/"
        },
        "id": "7dlhbpQY6xxs",
        "outputId": "1c2fa1a0-4070-4e32-9790-99eed77b52e5"
      },
      "source": [
        "train_size=ceil(X_scaled.shape[0]*0.8)\n",
        "train_size"
      ],
      "execution_count": 21,
      "outputs": [
        {
          "output_type": "execute_result",
          "data": {
            "text/plain": [
              "3815"
            ]
          },
          "metadata": {
            "tags": []
          },
          "execution_count": 21
        }
      ]
    },
    {
      "cell_type": "code",
      "metadata": {
        "colab": {
          "base_uri": "https://localhost:8080/",
          "height": 340
        },
        "id": "OmbdUKkopCt3",
        "outputId": "b9abc9d6-c6ab-4454-b57e-b5f780b2f8ea"
      },
      "source": [
        "stock_df.head()"
      ],
      "execution_count": 22,
      "outputs": [
        {
          "output_type": "execute_result",
          "data": {
            "text/html": [
              "<div>\n",
              "<style scoped>\n",
              "    .dataframe tbody tr th:only-of-type {\n",
              "        vertical-align: middle;\n",
              "    }\n",
              "\n",
              "    .dataframe tbody tr th {\n",
              "        vertical-align: top;\n",
              "    }\n",
              "\n",
              "    .dataframe thead th {\n",
              "        text-align: right;\n",
              "    }\n",
              "</style>\n",
              "<table border=\"1\" class=\"dataframe\">\n",
              "  <thead>\n",
              "    <tr style=\"text-align: right;\">\n",
              "      <th></th>\n",
              "      <th>index</th>\n",
              "      <th>open_price</th>\n",
              "      <th>high_price</th>\n",
              "      <th>low_price</th>\n",
              "      <th>close_price</th>\n",
              "      <th>volume</th>\n",
              "      <th>adjclose_price</th>\n",
              "      <th>close_price_lag1</th>\n",
              "      <th>close_price_lag2</th>\n",
              "      <th>close_price_lag3</th>\n",
              "      <th>close_price_tomorrow</th>\n",
              "    </tr>\n",
              "    <tr>\n",
              "      <th>date</th>\n",
              "      <th></th>\n",
              "      <th></th>\n",
              "      <th></th>\n",
              "      <th></th>\n",
              "      <th></th>\n",
              "      <th></th>\n",
              "      <th></th>\n",
              "      <th></th>\n",
              "      <th></th>\n",
              "      <th></th>\n",
              "      <th></th>\n",
              "    </tr>\n",
              "  </thead>\n",
              "  <tbody>\n",
              "    <tr>\n",
              "      <th>2002-02-13</th>\n",
              "      <td>4772</td>\n",
              "      <td>9.625</td>\n",
              "      <td>10.060</td>\n",
              "      <td>9.525</td>\n",
              "      <td>10.050</td>\n",
              "      <td>19054000.0</td>\n",
              "      <td>6.766666</td>\n",
              "      <td>NaN</td>\n",
              "      <td>NaN</td>\n",
              "      <td>NaN</td>\n",
              "      <td>10.000</td>\n",
              "    </tr>\n",
              "    <tr>\n",
              "      <th>2002-02-14</th>\n",
              "      <td>4771</td>\n",
              "      <td>10.175</td>\n",
              "      <td>10.195</td>\n",
              "      <td>9.925</td>\n",
              "      <td>10.000</td>\n",
              "      <td>2755400.0</td>\n",
              "      <td>6.733003</td>\n",
              "      <td>10.05</td>\n",
              "      <td>NaN</td>\n",
              "      <td>NaN</td>\n",
              "      <td>9.950</td>\n",
              "    </tr>\n",
              "    <tr>\n",
              "      <th>2002-02-15</th>\n",
              "      <td>4770</td>\n",
              "      <td>10.000</td>\n",
              "      <td>10.025</td>\n",
              "      <td>9.850</td>\n",
              "      <td>9.950</td>\n",
              "      <td>2097400.0</td>\n",
              "      <td>6.699336</td>\n",
              "      <td>10.00</td>\n",
              "      <td>10.05</td>\n",
              "      <td>NaN</td>\n",
              "      <td>9.550</td>\n",
              "    </tr>\n",
              "    <tr>\n",
              "      <th>2002-02-19</th>\n",
              "      <td>4769</td>\n",
              "      <td>9.900</td>\n",
              "      <td>9.900</td>\n",
              "      <td>9.375</td>\n",
              "      <td>9.550</td>\n",
              "      <td>1852600.0</td>\n",
              "      <td>6.430017</td>\n",
              "      <td>9.95</td>\n",
              "      <td>10.00</td>\n",
              "      <td>10.05</td>\n",
              "      <td>9.875</td>\n",
              "    </tr>\n",
              "    <tr>\n",
              "      <th>2002-02-20</th>\n",
              "      <td>4768</td>\n",
              "      <td>9.600</td>\n",
              "      <td>9.875</td>\n",
              "      <td>9.525</td>\n",
              "      <td>9.875</td>\n",
              "      <td>1723200.0</td>\n",
              "      <td>6.648838</td>\n",
              "      <td>9.55</td>\n",
              "      <td>9.95</td>\n",
              "      <td>10.00</td>\n",
              "      <td>9.850</td>\n",
              "    </tr>\n",
              "  </tbody>\n",
              "</table>\n",
              "</div>"
            ],
            "text/plain": [
              "            index  open_price  ...  close_price_lag3  close_price_tomorrow\n",
              "date                           ...                                        \n",
              "2002-02-13   4772       9.625  ...               NaN                10.000\n",
              "2002-02-14   4771      10.175  ...               NaN                 9.950\n",
              "2002-02-15   4770      10.000  ...               NaN                 9.550\n",
              "2002-02-19   4769       9.900  ...             10.05                 9.875\n",
              "2002-02-20   4768       9.600  ...             10.00                 9.850\n",
              "\n",
              "[5 rows x 11 columns]"
            ]
          },
          "metadata": {
            "tags": []
          },
          "execution_count": 22
        }
      ]
    },
    {
      "cell_type": "code",
      "metadata": {
        "id": "8ICDaAtJo_eY"
      },
      "source": [
        "dates_training = pd.to_datetime(stock_df.index[4:train_size+4])\n",
        "dates_test = pd.to_datetime(stock_df.index[train_size+4:-1])"
      ],
      "execution_count": 23,
      "outputs": []
    },
    {
      "cell_type": "code",
      "metadata": {
        "id": "vhwadCXbmBry"
      },
      "source": [
        "X_train, X_test= X_scaled[:train_size],X_scaled[train_size:]\n",
        "Y_train, Y_test= Y_scaled[:train_size],Y_scaled[train_size:]"
      ],
      "execution_count": 24,
      "outputs": []
    },
    {
      "cell_type": "code",
      "metadata": {
        "colab": {
          "base_uri": "https://localhost:8080/"
        },
        "id": "fsNZ9sRv7HxQ",
        "outputId": "0cd65dbb-55ed-49f4-9411-5eb2040442f9"
      },
      "source": [
        "X_train.shape, X_test.shape"
      ],
      "execution_count": 25,
      "outputs": [
        {
          "output_type": "execute_result",
          "data": {
            "text/plain": [
              "((3815, 9), (953, 9))"
            ]
          },
          "metadata": {
            "tags": []
          },
          "execution_count": 25
        }
      ]
    },
    {
      "cell_type": "code",
      "metadata": {
        "colab": {
          "base_uri": "https://localhost:8080/"
        },
        "id": "F_cWbHM47Sow",
        "outputId": "60ef7a5a-ebab-432a-d936-fa3c6ac39b91"
      },
      "source": [
        "Y_train.shape, Y_test.shape"
      ],
      "execution_count": 26,
      "outputs": [
        {
          "output_type": "execute_result",
          "data": {
            "text/plain": [
              "((3815, 1), (953, 1))"
            ]
          },
          "metadata": {
            "tags": []
          },
          "execution_count": 26
        }
      ]
    },
    {
      "cell_type": "code",
      "metadata": {
        "id": "Id5nJX537dD2"
      },
      "source": [
        "X_train;"
      ],
      "execution_count": 27,
      "outputs": []
    },
    {
      "cell_type": "code",
      "metadata": {
        "id": "dP9txj_MOhJ5"
      },
      "source": [
        "Y_train;"
      ],
      "execution_count": 28,
      "outputs": []
    },
    {
      "cell_type": "markdown",
      "metadata": {
        "id": "Q7l0J9fgJBJc"
      },
      "source": [
        "Build the BPNN model"
      ]
    },
    {
      "cell_type": "code",
      "metadata": {
        "id": "vqi3sue0-Acp",
        "colab": {
          "base_uri": "https://localhost:8080/"
        },
        "outputId": "68cad54e-4056-4328-a756-2ffba021da3d"
      },
      "source": [
        "model=Sequential()  \n",
        "model.add(Dense(32,input_dim=9,kernel_initializer='uniform',activation='relu'))\n",
        "model.add(Dense(8,kernel_initializer='uniform',activation='relu')) #中间层\n",
        "model.add(Dense(1,activation='linear'))  ##输出层\n",
        "model.summary()\n",
        "#model.compile(loss='mean_squared_error',optimizer=keras.optimizers.Adam(lr=0.01),metrics = ['mse', 'mae']) #编译模型\n",
        "model.compile(loss='mean_squared_error',optimizer=keras.optimizers.Adam(),metrics = ['mse','mae']) #编译模型\n",
        "history=model.fit(X_train,\n",
        "          Y_train,\n",
        "          epochs=100,\n",
        "          batch_size=32,\n",
        "          validation_data=(X_test,Y_test))\n"
      ],
      "execution_count": 29,
      "outputs": [
        {
          "output_type": "stream",
          "text": [
            "Model: \"sequential\"\n",
            "_________________________________________________________________\n",
            "Layer (type)                 Output Shape              Param #   \n",
            "=================================================================\n",
            "dense (Dense)                (None, 32)                320       \n",
            "_________________________________________________________________\n",
            "dense_1 (Dense)              (None, 8)                 264       \n",
            "_________________________________________________________________\n",
            "dense_2 (Dense)              (None, 1)                 9         \n",
            "=================================================================\n",
            "Total params: 593\n",
            "Trainable params: 593\n",
            "Non-trainable params: 0\n",
            "_________________________________________________________________\n",
            "Epoch 1/100\n",
            "120/120 [==============================] - 1s 6ms/step - loss: 0.0025 - mse: 0.0025 - mae: 0.0375 - val_loss: 9.1192e-04 - val_mse: 9.1192e-04 - val_mae: 0.0076\n",
            "Epoch 2/100\n",
            "120/120 [==============================] - 0s 2ms/step - loss: 1.5157e-05 - mse: 1.5157e-05 - mae: 0.0027 - val_loss: 8.7120e-04 - val_mse: 8.7120e-04 - val_mae: 0.0065\n",
            "Epoch 3/100\n",
            "120/120 [==============================] - 0s 2ms/step - loss: 1.2549e-05 - mse: 1.2549e-05 - mae: 0.0024 - val_loss: 8.5063e-04 - val_mse: 8.5063e-04 - val_mae: 0.0057\n",
            "Epoch 4/100\n",
            "120/120 [==============================] - 0s 2ms/step - loss: 1.2299e-05 - mse: 1.2299e-05 - mae: 0.0024 - val_loss: 8.4235e-04 - val_mse: 8.4235e-04 - val_mae: 0.0051\n",
            "Epoch 5/100\n",
            "120/120 [==============================] - 0s 2ms/step - loss: 1.1482e-05 - mse: 1.1482e-05 - mae: 0.0024 - val_loss: 8.2880e-04 - val_mse: 8.2880e-04 - val_mae: 0.0046\n",
            "Epoch 6/100\n",
            "120/120 [==============================] - 0s 2ms/step - loss: 1.0884e-05 - mse: 1.0884e-05 - mae: 0.0022 - val_loss: 8.2341e-04 - val_mse: 8.2341e-04 - val_mae: 0.0043\n",
            "Epoch 7/100\n",
            "120/120 [==============================] - 0s 2ms/step - loss: 1.0076e-05 - mse: 1.0076e-05 - mae: 0.0022 - val_loss: 8.1156e-04 - val_mse: 8.1156e-04 - val_mae: 0.0042\n",
            "Epoch 8/100\n",
            "120/120 [==============================] - 0s 2ms/step - loss: 1.0472e-05 - mse: 1.0472e-05 - mae: 0.0022 - val_loss: 8.0600e-04 - val_mse: 8.0600e-04 - val_mae: 0.0039\n",
            "Epoch 9/100\n",
            "120/120 [==============================] - 0s 2ms/step - loss: 9.9366e-06 - mse: 9.9366e-06 - mae: 0.0021 - val_loss: 7.9334e-04 - val_mse: 7.9334e-04 - val_mae: 0.0036\n",
            "Epoch 10/100\n",
            "120/120 [==============================] - 0s 2ms/step - loss: 9.2321e-06 - mse: 9.2321e-06 - mae: 0.0021 - val_loss: 7.7519e-04 - val_mse: 7.7519e-04 - val_mae: 0.0036\n",
            "Epoch 11/100\n",
            "120/120 [==============================] - 0s 2ms/step - loss: 9.3242e-06 - mse: 9.3242e-06 - mae: 0.0021 - val_loss: 7.6690e-04 - val_mse: 7.6690e-04 - val_mae: 0.0034\n",
            "Epoch 12/100\n",
            "120/120 [==============================] - 0s 2ms/step - loss: 9.0235e-06 - mse: 9.0235e-06 - mae: 0.0021 - val_loss: 7.5848e-04 - val_mse: 7.5848e-04 - val_mae: 0.0034\n",
            "Epoch 13/100\n",
            "120/120 [==============================] - 0s 2ms/step - loss: 8.6730e-06 - mse: 8.6730e-06 - mae: 0.0020 - val_loss: 7.5387e-04 - val_mse: 7.5387e-04 - val_mae: 0.0032\n",
            "Epoch 14/100\n",
            "120/120 [==============================] - 0s 2ms/step - loss: 8.2461e-06 - mse: 8.2461e-06 - mae: 0.0020 - val_loss: 7.4149e-04 - val_mse: 7.4149e-04 - val_mae: 0.0031\n",
            "Epoch 15/100\n",
            "120/120 [==============================] - 0s 2ms/step - loss: 1.0100e-05 - mse: 1.0100e-05 - mae: 0.0022 - val_loss: 7.2978e-04 - val_mse: 7.2978e-04 - val_mae: 0.0035\n",
            "Epoch 16/100\n",
            "120/120 [==============================] - 0s 2ms/step - loss: 9.4452e-06 - mse: 9.4452e-06 - mae: 0.0021 - val_loss: 7.1807e-04 - val_mse: 7.1807e-04 - val_mae: 0.0033\n",
            "Epoch 17/100\n",
            "120/120 [==============================] - 0s 2ms/step - loss: 8.9588e-06 - mse: 8.9588e-06 - mae: 0.0020 - val_loss: 7.1376e-04 - val_mse: 7.1376e-04 - val_mae: 0.0031\n",
            "Epoch 18/100\n",
            "120/120 [==============================] - 0s 2ms/step - loss: 7.8300e-06 - mse: 7.8300e-06 - mae: 0.0019 - val_loss: 7.0384e-04 - val_mse: 7.0384e-04 - val_mae: 0.0032\n",
            "Epoch 19/100\n",
            "120/120 [==============================] - 0s 2ms/step - loss: 8.2817e-06 - mse: 8.2817e-06 - mae: 0.0019 - val_loss: 6.9385e-04 - val_mse: 6.9385e-04 - val_mae: 0.0031\n",
            "Epoch 20/100\n",
            "120/120 [==============================] - 0s 2ms/step - loss: 7.6378e-06 - mse: 7.6378e-06 - mae: 0.0019 - val_loss: 6.8704e-04 - val_mse: 6.8704e-04 - val_mae: 0.0030\n",
            "Epoch 21/100\n",
            "120/120 [==============================] - 0s 2ms/step - loss: 8.3863e-06 - mse: 8.3863e-06 - mae: 0.0019 - val_loss: 6.8368e-04 - val_mse: 6.8368e-04 - val_mae: 0.0028\n",
            "Epoch 22/100\n",
            "120/120 [==============================] - 0s 2ms/step - loss: 8.1376e-06 - mse: 8.1376e-06 - mae: 0.0020 - val_loss: 6.6704e-04 - val_mse: 6.6704e-04 - val_mae: 0.0031\n",
            "Epoch 23/100\n",
            "120/120 [==============================] - 0s 2ms/step - loss: 7.6733e-06 - mse: 7.6733e-06 - mae: 0.0019 - val_loss: 6.5803e-04 - val_mse: 6.5803e-04 - val_mae: 0.0031\n",
            "Epoch 24/100\n",
            "120/120 [==============================] - 0s 2ms/step - loss: 7.1401e-06 - mse: 7.1401e-06 - mae: 0.0018 - val_loss: 6.6634e-04 - val_mse: 6.6634e-04 - val_mae: 0.0026\n",
            "Epoch 25/100\n",
            "120/120 [==============================] - 0s 2ms/step - loss: 7.3885e-06 - mse: 7.3885e-06 - mae: 0.0019 - val_loss: 6.5596e-04 - val_mse: 6.5596e-04 - val_mae: 0.0032\n",
            "Epoch 26/100\n",
            "120/120 [==============================] - 0s 2ms/step - loss: 6.9291e-06 - mse: 6.9291e-06 - mae: 0.0018 - val_loss: 6.4202e-04 - val_mse: 6.4202e-04 - val_mae: 0.0030\n",
            "Epoch 27/100\n",
            "120/120 [==============================] - 0s 2ms/step - loss: 7.9022e-06 - mse: 7.9022e-06 - mae: 0.0019 - val_loss: 6.3883e-04 - val_mse: 6.3883e-04 - val_mae: 0.0037\n",
            "Epoch 28/100\n",
            "120/120 [==============================] - 0s 2ms/step - loss: 7.5077e-06 - mse: 7.5077e-06 - mae: 0.0019 - val_loss: 6.3404e-04 - val_mse: 6.3404e-04 - val_mae: 0.0030\n",
            "Epoch 29/100\n",
            "120/120 [==============================] - 0s 2ms/step - loss: 7.4230e-06 - mse: 7.4230e-06 - mae: 0.0019 - val_loss: 6.3258e-04 - val_mse: 6.3258e-04 - val_mae: 0.0029\n",
            "Epoch 30/100\n",
            "120/120 [==============================] - 0s 2ms/step - loss: 6.8539e-06 - mse: 6.8539e-06 - mae: 0.0018 - val_loss: 6.2174e-04 - val_mse: 6.2174e-04 - val_mae: 0.0032\n",
            "Epoch 31/100\n",
            "120/120 [==============================] - 0s 2ms/step - loss: 7.0012e-06 - mse: 7.0012e-06 - mae: 0.0018 - val_loss: 6.2335e-04 - val_mse: 6.2335e-04 - val_mae: 0.0040\n",
            "Epoch 32/100\n",
            "120/120 [==============================] - 0s 2ms/step - loss: 7.4703e-06 - mse: 7.4703e-06 - mae: 0.0019 - val_loss: 6.2058e-04 - val_mse: 6.2058e-04 - val_mae: 0.0034\n",
            "Epoch 33/100\n",
            "120/120 [==============================] - 0s 2ms/step - loss: 7.2465e-06 - mse: 7.2465e-06 - mae: 0.0019 - val_loss: 6.1656e-04 - val_mse: 6.1656e-04 - val_mae: 0.0029\n",
            "Epoch 34/100\n",
            "120/120 [==============================] - 0s 2ms/step - loss: 6.7180e-06 - mse: 6.7180e-06 - mae: 0.0018 - val_loss: 6.1494e-04 - val_mse: 6.1494e-04 - val_mae: 0.0024\n",
            "Epoch 35/100\n",
            "120/120 [==============================] - 0s 2ms/step - loss: 7.0502e-06 - mse: 7.0502e-06 - mae: 0.0017 - val_loss: 6.1362e-04 - val_mse: 6.1362e-04 - val_mae: 0.0032\n",
            "Epoch 36/100\n",
            "120/120 [==============================] - 0s 2ms/step - loss: 7.2434e-06 - mse: 7.2434e-06 - mae: 0.0018 - val_loss: 6.0704e-04 - val_mse: 6.0704e-04 - val_mae: 0.0027\n",
            "Epoch 37/100\n",
            "120/120 [==============================] - 0s 2ms/step - loss: 6.2816e-06 - mse: 6.2816e-06 - mae: 0.0017 - val_loss: 6.0616e-04 - val_mse: 6.0616e-04 - val_mae: 0.0032\n",
            "Epoch 38/100\n",
            "120/120 [==============================] - 0s 2ms/step - loss: 6.8999e-06 - mse: 6.8999e-06 - mae: 0.0018 - val_loss: 6.0451e-04 - val_mse: 6.0451e-04 - val_mae: 0.0031\n",
            "Epoch 39/100\n",
            "120/120 [==============================] - 0s 2ms/step - loss: 7.9220e-06 - mse: 7.9220e-06 - mae: 0.0020 - val_loss: 6.0417e-04 - val_mse: 6.0417e-04 - val_mae: 0.0024\n",
            "Epoch 40/100\n",
            "120/120 [==============================] - 0s 2ms/step - loss: 6.8823e-06 - mse: 6.8823e-06 - mae: 0.0018 - val_loss: 5.9842e-04 - val_mse: 5.9842e-04 - val_mae: 0.0033\n",
            "Epoch 41/100\n",
            "120/120 [==============================] - 0s 2ms/step - loss: 8.1334e-06 - mse: 8.1334e-06 - mae: 0.0020 - val_loss: 5.9294e-04 - val_mse: 5.9294e-04 - val_mae: 0.0028\n",
            "Epoch 42/100\n",
            "120/120 [==============================] - 0s 2ms/step - loss: 6.6222e-06 - mse: 6.6222e-06 - mae: 0.0018 - val_loss: 5.9467e-04 - val_mse: 5.9467e-04 - val_mae: 0.0028\n",
            "Epoch 43/100\n",
            "120/120 [==============================] - 0s 2ms/step - loss: 6.9600e-06 - mse: 6.9600e-06 - mae: 0.0017 - val_loss: 5.9526e-04 - val_mse: 5.9526e-04 - val_mae: 0.0025\n",
            "Epoch 44/100\n",
            "120/120 [==============================] - 0s 2ms/step - loss: 6.3567e-06 - mse: 6.3567e-06 - mae: 0.0017 - val_loss: 6.0088e-04 - val_mse: 6.0088e-04 - val_mae: 0.0024\n",
            "Epoch 45/100\n",
            "120/120 [==============================] - 0s 2ms/step - loss: 6.4269e-06 - mse: 6.4269e-06 - mae: 0.0017 - val_loss: 5.9902e-04 - val_mse: 5.9902e-04 - val_mae: 0.0024\n",
            "Epoch 46/100\n",
            "120/120 [==============================] - 0s 2ms/step - loss: 6.4976e-06 - mse: 6.4976e-06 - mae: 0.0017 - val_loss: 5.8998e-04 - val_mse: 5.8998e-04 - val_mae: 0.0028\n",
            "Epoch 47/100\n",
            "120/120 [==============================] - 0s 2ms/step - loss: 6.4357e-06 - mse: 6.4357e-06 - mae: 0.0017 - val_loss: 5.9385e-04 - val_mse: 5.9385e-04 - val_mae: 0.0030\n",
            "Epoch 48/100\n",
            "120/120 [==============================] - 0s 2ms/step - loss: 6.3455e-06 - mse: 6.3455e-06 - mae: 0.0017 - val_loss: 5.8907e-04 - val_mse: 5.8907e-04 - val_mae: 0.0029\n",
            "Epoch 49/100\n",
            "120/120 [==============================] - 0s 2ms/step - loss: 6.8641e-06 - mse: 6.8641e-06 - mae: 0.0018 - val_loss: 5.8793e-04 - val_mse: 5.8793e-04 - val_mae: 0.0025\n",
            "Epoch 50/100\n",
            "120/120 [==============================] - 0s 2ms/step - loss: 6.5606e-06 - mse: 6.5606e-06 - mae: 0.0017 - val_loss: 5.8529e-04 - val_mse: 5.8529e-04 - val_mae: 0.0026\n",
            "Epoch 51/100\n",
            "120/120 [==============================] - 0s 2ms/step - loss: 6.8327e-06 - mse: 6.8327e-06 - mae: 0.0017 - val_loss: 5.8764e-04 - val_mse: 5.8764e-04 - val_mae: 0.0030\n",
            "Epoch 52/100\n",
            "120/120 [==============================] - 0s 2ms/step - loss: 6.5936e-06 - mse: 6.5936e-06 - mae: 0.0017 - val_loss: 5.8447e-04 - val_mse: 5.8447e-04 - val_mae: 0.0032\n",
            "Epoch 53/100\n",
            "120/120 [==============================] - 0s 2ms/step - loss: 6.3621e-06 - mse: 6.3621e-06 - mae: 0.0017 - val_loss: 5.8771e-04 - val_mse: 5.8771e-04 - val_mae: 0.0028\n",
            "Epoch 54/100\n",
            "120/120 [==============================] - 0s 2ms/step - loss: 8.0342e-06 - mse: 8.0342e-06 - mae: 0.0020 - val_loss: 5.9029e-04 - val_mse: 5.9029e-04 - val_mae: 0.0043\n",
            "Epoch 55/100\n",
            "120/120 [==============================] - 0s 2ms/step - loss: 7.8684e-06 - mse: 7.8684e-06 - mae: 0.0019 - val_loss: 5.8387e-04 - val_mse: 5.8387e-04 - val_mae: 0.0034\n",
            "Epoch 56/100\n",
            "120/120 [==============================] - 0s 2ms/step - loss: 7.7189e-06 - mse: 7.7189e-06 - mae: 0.0019 - val_loss: 5.8693e-04 - val_mse: 5.8693e-04 - val_mae: 0.0023\n",
            "Epoch 57/100\n",
            "120/120 [==============================] - 0s 2ms/step - loss: 6.2945e-06 - mse: 6.2945e-06 - mae: 0.0017 - val_loss: 5.8763e-04 - val_mse: 5.8763e-04 - val_mae: 0.0030\n",
            "Epoch 58/100\n",
            "120/120 [==============================] - 0s 2ms/step - loss: 6.7245e-06 - mse: 6.7245e-06 - mae: 0.0017 - val_loss: 5.8501e-04 - val_mse: 5.8501e-04 - val_mae: 0.0035\n",
            "Epoch 59/100\n",
            "120/120 [==============================] - 0s 2ms/step - loss: 6.2973e-06 - mse: 6.2973e-06 - mae: 0.0017 - val_loss: 5.8346e-04 - val_mse: 5.8346e-04 - val_mae: 0.0023\n",
            "Epoch 60/100\n",
            "120/120 [==============================] - 0s 2ms/step - loss: 6.5288e-06 - mse: 6.5288e-06 - mae: 0.0017 - val_loss: 5.8627e-04 - val_mse: 5.8627e-04 - val_mae: 0.0024\n",
            "Epoch 61/100\n",
            "120/120 [==============================] - 0s 2ms/step - loss: 6.0856e-06 - mse: 6.0856e-06 - mae: 0.0016 - val_loss: 5.8269e-04 - val_mse: 5.8269e-04 - val_mae: 0.0039\n",
            "Epoch 62/100\n",
            "120/120 [==============================] - 0s 2ms/step - loss: 7.9255e-06 - mse: 7.9255e-06 - mae: 0.0020 - val_loss: 5.8327e-04 - val_mse: 5.8327e-04 - val_mae: 0.0027\n",
            "Epoch 63/100\n",
            "120/120 [==============================] - 0s 2ms/step - loss: 6.0107e-06 - mse: 6.0107e-06 - mae: 0.0016 - val_loss: 5.8256e-04 - val_mse: 5.8256e-04 - val_mae: 0.0038\n",
            "Epoch 64/100\n",
            "120/120 [==============================] - 0s 2ms/step - loss: 7.1961e-06 - mse: 7.1961e-06 - mae: 0.0018 - val_loss: 5.8462e-04 - val_mse: 5.8462e-04 - val_mae: 0.0023\n",
            "Epoch 65/100\n",
            "120/120 [==============================] - 0s 2ms/step - loss: 6.5234e-06 - mse: 6.5234e-06 - mae: 0.0017 - val_loss: 5.8411e-04 - val_mse: 5.8411e-04 - val_mae: 0.0024\n",
            "Epoch 66/100\n",
            "120/120 [==============================] - 0s 2ms/step - loss: 6.6848e-06 - mse: 6.6848e-06 - mae: 0.0016 - val_loss: 5.8281e-04 - val_mse: 5.8281e-04 - val_mae: 0.0034\n",
            "Epoch 67/100\n",
            "120/120 [==============================] - 0s 2ms/step - loss: 6.5280e-06 - mse: 6.5280e-06 - mae: 0.0018 - val_loss: 5.8483e-04 - val_mse: 5.8483e-04 - val_mae: 0.0027\n",
            "Epoch 68/100\n",
            "120/120 [==============================] - 0s 2ms/step - loss: 6.9452e-06 - mse: 6.9452e-06 - mae: 0.0018 - val_loss: 5.8283e-04 - val_mse: 5.8283e-04 - val_mae: 0.0037\n",
            "Epoch 69/100\n",
            "120/120 [==============================] - 0s 2ms/step - loss: 7.0849e-06 - mse: 7.0849e-06 - mae: 0.0018 - val_loss: 5.8432e-04 - val_mse: 5.8432e-04 - val_mae: 0.0024\n",
            "Epoch 70/100\n",
            "120/120 [==============================] - 0s 2ms/step - loss: 6.5395e-06 - mse: 6.5395e-06 - mae: 0.0018 - val_loss: 5.8187e-04 - val_mse: 5.8187e-04 - val_mae: 0.0023\n",
            "Epoch 71/100\n",
            "120/120 [==============================] - 0s 2ms/step - loss: 5.9799e-06 - mse: 5.9799e-06 - mae: 0.0017 - val_loss: 5.8070e-04 - val_mse: 5.8070e-04 - val_mae: 0.0037\n",
            "Epoch 72/100\n",
            "120/120 [==============================] - 0s 2ms/step - loss: 7.1239e-06 - mse: 7.1239e-06 - mae: 0.0019 - val_loss: 5.7688e-04 - val_mse: 5.7688e-04 - val_mae: 0.0029\n",
            "Epoch 73/100\n",
            "120/120 [==============================] - 0s 2ms/step - loss: 6.2863e-06 - mse: 6.2863e-06 - mae: 0.0017 - val_loss: 5.8289e-04 - val_mse: 5.8289e-04 - val_mae: 0.0030\n",
            "Epoch 74/100\n",
            "120/120 [==============================] - 0s 2ms/step - loss: 6.3823e-06 - mse: 6.3823e-06 - mae: 0.0017 - val_loss: 5.8361e-04 - val_mse: 5.8361e-04 - val_mae: 0.0024\n",
            "Epoch 75/100\n",
            "120/120 [==============================] - 0s 2ms/step - loss: 6.6781e-06 - mse: 6.6781e-06 - mae: 0.0018 - val_loss: 5.7918e-04 - val_mse: 5.7918e-04 - val_mae: 0.0027\n",
            "Epoch 76/100\n",
            "120/120 [==============================] - 0s 2ms/step - loss: 5.8919e-06 - mse: 5.8919e-06 - mae: 0.0016 - val_loss: 5.7872e-04 - val_mse: 5.7872e-04 - val_mae: 0.0024\n",
            "Epoch 77/100\n",
            "120/120 [==============================] - 0s 2ms/step - loss: 6.6094e-06 - mse: 6.6094e-06 - mae: 0.0017 - val_loss: 5.7722e-04 - val_mse: 5.7722e-04 - val_mae: 0.0024\n",
            "Epoch 78/100\n",
            "120/120 [==============================] - 0s 2ms/step - loss: 6.6508e-06 - mse: 6.6508e-06 - mae: 0.0018 - val_loss: 5.7675e-04 - val_mse: 5.7675e-04 - val_mae: 0.0025\n",
            "Epoch 79/100\n",
            "120/120 [==============================] - 0s 2ms/step - loss: 6.8915e-06 - mse: 6.8915e-06 - mae: 0.0017 - val_loss: 5.7909e-04 - val_mse: 5.7909e-04 - val_mae: 0.0023\n",
            "Epoch 80/100\n",
            "120/120 [==============================] - 0s 2ms/step - loss: 7.3549e-06 - mse: 7.3549e-06 - mae: 0.0018 - val_loss: 5.7737e-04 - val_mse: 5.7737e-04 - val_mae: 0.0028\n",
            "Epoch 81/100\n",
            "120/120 [==============================] - 0s 2ms/step - loss: 6.4716e-06 - mse: 6.4716e-06 - mae: 0.0017 - val_loss: 5.7623e-04 - val_mse: 5.7623e-04 - val_mae: 0.0029\n",
            "Epoch 82/100\n",
            "120/120 [==============================] - 0s 2ms/step - loss: 6.4583e-06 - mse: 6.4583e-06 - mae: 0.0017 - val_loss: 5.8089e-04 - val_mse: 5.8089e-04 - val_mae: 0.0030\n",
            "Epoch 83/100\n",
            "120/120 [==============================] - 0s 2ms/step - loss: 6.6791e-06 - mse: 6.6791e-06 - mae: 0.0018 - val_loss: 5.8163e-04 - val_mse: 5.8163e-04 - val_mae: 0.0024\n",
            "Epoch 84/100\n",
            "120/120 [==============================] - 0s 2ms/step - loss: 6.3079e-06 - mse: 6.3079e-06 - mae: 0.0017 - val_loss: 5.7779e-04 - val_mse: 5.7779e-04 - val_mae: 0.0025\n",
            "Epoch 85/100\n",
            "120/120 [==============================] - 0s 2ms/step - loss: 5.9047e-06 - mse: 5.9047e-06 - mae: 0.0016 - val_loss: 5.7757e-04 - val_mse: 5.7757e-04 - val_mae: 0.0027\n",
            "Epoch 86/100\n",
            "120/120 [==============================] - 0s 2ms/step - loss: 6.2845e-06 - mse: 6.2845e-06 - mae: 0.0017 - val_loss: 5.8395e-04 - val_mse: 5.8395e-04 - val_mae: 0.0028\n",
            "Epoch 87/100\n",
            "120/120 [==============================] - 0s 2ms/step - loss: 7.3112e-06 - mse: 7.3112e-06 - mae: 0.0018 - val_loss: 5.7592e-04 - val_mse: 5.7592e-04 - val_mae: 0.0036\n",
            "Epoch 88/100\n",
            "120/120 [==============================] - 0s 2ms/step - loss: 6.6666e-06 - mse: 6.6666e-06 - mae: 0.0017 - val_loss: 5.7681e-04 - val_mse: 5.7681e-04 - val_mae: 0.0023\n",
            "Epoch 89/100\n",
            "120/120 [==============================] - 0s 2ms/step - loss: 6.1133e-06 - mse: 6.1133e-06 - mae: 0.0017 - val_loss: 5.7769e-04 - val_mse: 5.7769e-04 - val_mae: 0.0023\n",
            "Epoch 90/100\n",
            "120/120 [==============================] - 0s 2ms/step - loss: 6.5563e-06 - mse: 6.5563e-06 - mae: 0.0018 - val_loss: 5.7025e-04 - val_mse: 5.7025e-04 - val_mae: 0.0025\n",
            "Epoch 91/100\n",
            "120/120 [==============================] - 0s 2ms/step - loss: 6.1902e-06 - mse: 6.1902e-06 - mae: 0.0017 - val_loss: 5.7226e-04 - val_mse: 5.7226e-04 - val_mae: 0.0026\n",
            "Epoch 92/100\n",
            "120/120 [==============================] - 0s 2ms/step - loss: 6.5765e-06 - mse: 6.5765e-06 - mae: 0.0017 - val_loss: 5.7400e-04 - val_mse: 5.7400e-04 - val_mae: 0.0039\n",
            "Epoch 93/100\n",
            "120/120 [==============================] - 0s 2ms/step - loss: 6.5373e-06 - mse: 6.5373e-06 - mae: 0.0018 - val_loss: 5.7467e-04 - val_mse: 5.7467e-04 - val_mae: 0.0026\n",
            "Epoch 94/100\n",
            "120/120 [==============================] - 0s 2ms/step - loss: 6.9458e-06 - mse: 6.9458e-06 - mae: 0.0018 - val_loss: 5.7656e-04 - val_mse: 5.7656e-04 - val_mae: 0.0025\n",
            "Epoch 95/100\n",
            "120/120 [==============================] - 0s 2ms/step - loss: 6.1838e-06 - mse: 6.1838e-06 - mae: 0.0017 - val_loss: 5.7334e-04 - val_mse: 5.7334e-04 - val_mae: 0.0034\n",
            "Epoch 96/100\n",
            "120/120 [==============================] - 0s 2ms/step - loss: 6.7161e-06 - mse: 6.7161e-06 - mae: 0.0017 - val_loss: 5.7347e-04 - val_mse: 5.7347e-04 - val_mae: 0.0033\n",
            "Epoch 97/100\n",
            "120/120 [==============================] - 0s 2ms/step - loss: 6.5534e-06 - mse: 6.5534e-06 - mae: 0.0017 - val_loss: 5.7861e-04 - val_mse: 5.7861e-04 - val_mae: 0.0024\n",
            "Epoch 98/100\n",
            "120/120 [==============================] - 0s 2ms/step - loss: 6.1590e-06 - mse: 6.1590e-06 - mae: 0.0017 - val_loss: 5.7734e-04 - val_mse: 5.7734e-04 - val_mae: 0.0028\n",
            "Epoch 99/100\n",
            "120/120 [==============================] - 0s 2ms/step - loss: 6.5654e-06 - mse: 6.5654e-06 - mae: 0.0017 - val_loss: 5.7565e-04 - val_mse: 5.7565e-04 - val_mae: 0.0023\n",
            "Epoch 100/100\n",
            "120/120 [==============================] - 0s 2ms/step - loss: 6.0285e-06 - mse: 6.0285e-06 - mae: 0.0016 - val_loss: 5.7604e-04 - val_mse: 5.7604e-04 - val_mae: 0.0023\n"
          ],
          "name": "stdout"
        }
      ]
    },
    {
      "cell_type": "code",
      "metadata": {
        "id": "kDZhrb0-lOEZ"
      },
      "source": [
        "#model.save('/content/drive/MyDrive/BPNN_Model/BPNN_1_model_update3.h5')\n",
        "model.save('/content/drive/MyDrive/BPNN_Model/BPNN_1_model.h5')"
      ],
      "execution_count": 49,
      "outputs": []
    },
    {
      "cell_type": "code",
      "metadata": {
        "id": "Jt_NKS6mSb1E"
      },
      "source": [
        "# from keras.models import load_model\n",
        "# model = load_model('/content/drive/MyDrive/BPNN_Model/BPNN_1_model.h5')\n",
        "# model.summary()"
      ],
      "execution_count": 31,
      "outputs": []
    },
    {
      "cell_type": "code",
      "metadata": {
        "id": "u5QP-FoWfJ92"
      },
      "source": [
        "def model_loss(history):\n",
        "  plt.figure(figsize=(11,7))\n",
        "  plt.plot(history.history['loss'], label='Train Loss')\n",
        "  plt.plot(history.history['val_loss'], label='Test Loss')\n",
        "  plt.title('model loss')\n",
        "  plt.ylabel('loss')\n",
        "  plt.xlabel('epochs')\n",
        "  plt.legend(loc='upper right')\n",
        "  plt.show();"
      ],
      "execution_count": 32,
      "outputs": []
    },
    {
      "cell_type": "code",
      "metadata": {
        "colab": {
          "base_uri": "https://localhost:8080/",
          "height": 458
        },
        "id": "mEljO6cOiQ-j",
        "outputId": "d6c0668d-cb82-4a6b-f23e-4e8e5186ab6d"
      },
      "source": [
        "model_loss(history)"
      ],
      "execution_count": 33,
      "outputs": [
        {
          "output_type": "display_data",
          "data": {
            "image/png": "[encoded data removed]",
            "text/plain": [
              "<Figure size 792x504 with 1 Axes>"
            ]
          },
          "metadata": {
            "tags": [],
            "needs_background": "light"
          }
        }
      ]
    },
    {
      "cell_type": "code",
      "metadata": {
        "id": "LUZZskliK74g"
      },
      "source": [
        "y_train_predict = model.predict(X_train)"
      ],
      "execution_count": 34,
      "outputs": []
    },
    {
      "cell_type": "markdown",
      "metadata": {
        "id": "F0xxZzvhaNGK"
      },
      "source": [
        "Use scaler.inverse_transform to convert scaled y value to true price value"
      ]
    },
    {
      "cell_type": "code",
      "metadata": {
        "id": "VkkBHun8dALs"
      },
      "source": [
        "def prediction_plot(Y_actual,Y_predict,title,dates):\n",
        "  plt.figure(figsize=(11,7))\n",
        "  Y_actual=pd.DataFrame(Y_actual,index=dates)\n",
        "  Y_predict=pd.DataFrame(Y_predict,index=dates)\n",
        "  plt.plot(Y_actual,color= 'blue',label='actual')\n",
        "  plt.plot(Y_predict, color= 'red',label='prediction')\n",
        "  #plt.tight_layout()\n",
        "  #sns.despine(top=True)\n",
        "  #plt.subplots_adjust(left=0.07)\n",
        "  plt.ylabel('stock_price',size=15)\n",
        "  plt.xlabel('Date',size=15)\n",
        "  plt.legend(fontsize=15)\n",
        "  plt.title('Prediction VS Actual Tomorrow Close Price_'+title+'\\n',size=15)\n",
        "  plt.show()"
      ],
      "execution_count": 35,
      "outputs": []
    },
    {
      "cell_type": "code",
      "metadata": {
        "id": "TBtpr2YsLUPr"
      },
      "source": [
        "y_pred_train=scaler_Y.inverse_transform(y_train_predict)\n",
        "y_actual_train=scaler_Y.inverse_transform(Y_train)"
      ],
      "execution_count": 36,
      "outputs": []
    },
    {
      "cell_type": "code",
      "metadata": {
        "colab": {
          "base_uri": "https://localhost:8080/",
          "height": 484
        },
        "id": "Mj6bJ5KcSnER",
        "outputId": "f55919ed-dcda-4a02-b6c9-40bab75d3b61"
      },
      "source": [
        "prediction_plot(y_actual_train,y_pred_train,'Train Data',dates_training)"
      ],
      "execution_count": 37,
      "outputs": [
        {
          "output_type": "display_data",
          "data": {
            "image/png": "[encoded data removed]",
            "text/plain": [
              "<Figure size 792x504 with 1 Axes>"
            ]
          },
          "metadata": {
            "tags": [],
            "needs_background": "light"
          }
        }
      ]
    },
    {
      "cell_type": "code",
      "metadata": {
        "id": "k19ya97rSvKE"
      },
      "source": [
        "y_test_predict=model.predict(X_test)\n",
        "y_pred_test=scaler_Y.inverse_transform(y_test_predict)\n",
        "y_actual_test=scaler_Y.inverse_transform(Y_test)"
      ],
      "execution_count": 38,
      "outputs": []
    },
    {
      "cell_type": "code",
      "metadata": {
        "colab": {
          "base_uri": "https://localhost:8080/",
          "height": 484
        },
        "id": "3Zh044I6dpAO",
        "outputId": "c82c97d1-0711-4a57-dd6c-76cfad465e75"
      },
      "source": [
        "prediction_plot(y_actual_test,y_pred_test,'Test Data',dates_test)"
      ],
      "execution_count": 39,
      "outputs": [
        {
          "output_type": "display_data",
          "data": {
            "image/png": "[encoded data removed]",
            "text/plain": [
              "<Figure size 792x504 with 1 Axes>"
            ]
          },
          "metadata": {
            "tags": [],
            "needs_background": "light"
          }
        }
      ]
    },
    {
      "cell_type": "markdown",
      "metadata": {
        "id": "A_VcBwJqwCCv"
      },
      "source": [
        "The test set has a unexpected sharp increase in the last 11 days, which would increase the MSE and MAE of test data."
      ]
    },
    {
      "cell_type": "markdown",
      "metadata": {
        "id": "RdM6snB4kGiy"
      },
      "source": [
        "The Three metrics:"
      ]
    },
    {
      "cell_type": "code",
      "metadata": {
        "id": "DRBZHyrS-Ers",
        "colab": {
          "base_uri": "https://localhost:8080/"
        },
        "outputId": "7f785500-b528-4787-f98b-3280c7c35128"
      },
      "source": [
        "RMSE_train = np.sqrt(mean_squared_error(y_actual_train,y_pred_train))\n",
        "RMSE_test = np.sqrt(mean_squared_error(y_actual_test,y_pred_test))\n",
        "print('The root mean square error (RMSE) for the train data is %.4f'%RMSE_train)\n",
        "print('The root mean square error (RMSE) for the test data is %.4f'%RMSE_test)"
      ],
      "execution_count": 40,
      "outputs": [
        {
          "output_type": "stream",
          "text": [
            "The root mean square error (RMSE) for the train data is 0.8169\n",
            "The root mean square error (RMSE) for the test data is 8.2733\n"
          ],
          "name": "stdout"
        }
      ]
    },
    {
      "cell_type": "code",
      "metadata": {
        "colab": {
          "base_uri": "https://localhost:8080/"
        },
        "id": "bEyb-xQ_icGs",
        "outputId": "5e1b04bc-688b-4b07-adeb-db90e6321399"
      },
      "source": [
        "MAE_train = mean_absolute_error(y_actual_train,y_pred_train)\n",
        "MAE_test = mean_absolute_error(y_actual_test,y_pred_test)\n",
        "print('The mean absolute error (MAE) for the train data is %.4f'%MAE_train)\n",
        "print('The mean absolute error (MAE) for the test data is %.4f'%MAE_test)"
      ],
      "execution_count": 41,
      "outputs": [
        {
          "output_type": "stream",
          "text": [
            "The mean absolute error (MAE) for the train data is 0.5324\n",
            "The mean absolute error (MAE) for the test data is 0.8041\n"
          ],
          "name": "stdout"
        }
      ]
    },
    {
      "cell_type": "code",
      "metadata": {
        "colab": {
          "base_uri": "https://localhost:8080/"
        },
        "id": "e0YTIiWehYV2",
        "outputId": "e3c9d485-5e2c-48d4-ef55-aba265170df2"
      },
      "source": [
        "R2_train = r2_score(y_actual_train,y_pred_train)\n",
        "R2_test = r2_score(y_actual_test,y_pred_test)\n",
        "print('The coefficient of determination (R^2) for the train data is %.4f'% R2_train)\n",
        "print('The coefficient of determination (R^2) for the test data is %.4f'% R2_test)"
      ],
      "execution_count": 42,
      "outputs": [
        {
          "output_type": "stream",
          "text": [
            "The coefficient of determination (R^2) for the train data is 0.9962\n",
            "The coefficient of determination (R^2) for the test data is 0.6887\n"
          ],
          "name": "stdout"
        }
      ]
    },
    {
      "cell_type": "code",
      "metadata": {
        "id": "4rVuUWnKdoZB",
        "colab": {
          "base_uri": "https://localhost:8080/"
        },
        "outputId": "fd9ebc40-2597-4343-fc16-dc469a3afcca"
      },
      "source": [
        "y_var_test=y_actual_test[1:]-y_actual_test[:len(y_actual_test)-1]\n",
        "y_var_predict=y_pred_test[1:]-y_pred_test[:len(y_pred_test)-1]\n",
        "txt=np.zeros(len(y_var_test))\n",
        "for i in range(len(y_var_test)-1):\n",
        "    txt[i]=np.sign(y_var_test[i])==np.sign(y_var_predict[i])\n",
        "result=sum(txt)/len(txt)\n",
        "print('up and down direction accuracy: %.4f'%result)"
      ],
      "execution_count": 43,
      "outputs": [
        {
          "output_type": "stream",
          "text": [
            "up and down direction accuracy: 0.4779\n"
          ],
          "name": "stdout"
        }
      ]
    },
    {
      "cell_type": "markdown",
      "metadata": {
        "id": "o7oa_nMzlBou"
      },
      "source": [
        "**Remove the last 11 data (they are increased suddenly)**"
      ]
    },
    {
      "cell_type": "code",
      "metadata": {
        "colab": {
          "base_uri": "https://localhost:8080/",
          "height": 484
        },
        "id": "bB1WtYASlF2e",
        "outputId": "8b96b7ac-c87b-4cf0-b372-7e8f2f208635"
      },
      "source": [
        "prediction_plot(y_actual_test[:-11],y_pred_test[:-11],'Test Data_without last 11 data',dates_test[:-11])"
      ],
      "execution_count": 44,
      "outputs": [
        {
          "output_type": "display_data",
          "data": {
            "image/png": "[encoded data removed]",
            "text/plain": [
              "<Figure size 792x504 with 1 Axes>"
            ]
          },
          "metadata": {
            "tags": [],
            "needs_background": "light"
          }
        }
      ]
    },
    {
      "cell_type": "code",
      "metadata": {
        "colab": {
          "base_uri": "https://localhost:8080/"
        },
        "id": "CQgGxQbul_2l",
        "outputId": "d3cf3746-deb1-47f7-b352-562870ce7196"
      },
      "source": [
        "RMSE_test = np.sqrt(mean_squared_error(y_actual_test[:-11],y_pred_test[:-11]))\n",
        "print('The root mean square error (RMSE) for the test data(without last 11 data) is %.4f'%RMSE_test)"
      ],
      "execution_count": 45,
      "outputs": [
        {
          "output_type": "stream",
          "text": [
            "The root mean square error (RMSE) for the test data(without last 11 data) is 0.5573\n"
          ],
          "name": "stdout"
        }
      ]
    },
    {
      "cell_type": "code",
      "metadata": {
        "colab": {
          "base_uri": "https://localhost:8080/"
        },
        "id": "mu2AmSbtmU_Z",
        "outputId": "8cea0459-366d-4583-d95e-e3614717d5be"
      },
      "source": [
        "MAE_test = mean_absolute_error(y_actual_test[:-11],y_pred_test[:-11])\n",
        "print('The mean absolute error (MAE) for the test data(without last 11 data) is %.4f'%MAE_test)"
      ],
      "execution_count": 46,
      "outputs": [
        {
          "output_type": "stream",
          "text": [
            "The mean absolute error (MAE) for the test data(without last 11 data) is 0.3613\n"
          ],
          "name": "stdout"
        }
      ]
    },
    {
      "cell_type": "code",
      "metadata": {
        "colab": {
          "base_uri": "https://localhost:8080/"
        },
        "id": "2bwU_BdYmnPk",
        "outputId": "c1ae52dc-e39c-4b8a-dd6b-2d985d3699d6"
      },
      "source": [
        "R2_test = r2_score(y_actual_test[:-11],y_pred_test[:-11])\n",
        "print('The coefficient of determination (R^2) for the test data(without last 11 data) is %.4f'% R2_test)"
      ],
      "execution_count": 47,
      "outputs": [
        {
          "output_type": "stream",
          "text": [
            "The coefficient of determination (R^2) for the test data(without last 11 data) is 0.9917\n"
          ],
          "name": "stdout"
        }
      ]
    },
    {
      "cell_type": "code",
      "metadata": {
        "colab": {
          "base_uri": "https://localhost:8080/"
        },
        "id": "cv5mVH9omiBH",
        "outputId": "2c17a0b1-c6ca-4105-b552-157964a6ed81"
      },
      "source": [
        "y_actual_test_sub=y_actual_test[:-11]\n",
        "y_pred_test_sub=y_pred_test[:-11]\n",
        "y_var_test=y_actual_test_sub[1:]-y_actual_test_sub[:len(y_actual_test_sub)-1]\n",
        "y_var_predict=y_pred_test_sub[1:]-y_pred_test_sub[:len(y_pred_test_sub)-1]\n",
        "txt=np.zeros(len(y_var_test))\n",
        "for i in range(len(y_var_test)-1):\n",
        "    txt[i]=np.sign(y_var_test[i])==np.sign(y_var_predict[i])\n",
        "result=sum(txt)/len(txt)\n",
        "print('up and down direction accuracy(without last 11 data): %.4f'%result)"
      ],
      "execution_count": 48,
      "outputs": [
        {
          "output_type": "stream",
          "text": [
            "up and down direction accuracy(without last 11 data): 0.4761\n"
          ],
          "name": "stdout"
        }
      ]
    },
    {
      "cell_type": "code",
      "metadata": {
        "id": "iysxTcLHoETC"
      },
      "source": [
        ""
      ],
      "execution_count": 48,
      "outputs": []
    }
  ]
}