{
  "nbformat": 4,
  "nbformat_minor": 0,
  "metadata": {
    "colab": {
      "name": "simpleRNN_predict_after_30days.ipynb",
      "provenance": [],
      "collapsed_sections": []
    },
    "kernelspec": {
      "name": "python3",
      "display_name": "Python 3"
    }
  },
  "cells": [
    {
      "cell_type": "code",
      "metadata": {
        "id": "xiOuLZJyyzpc"
      },
      "source": [
        "import numpy as np\n",
        "import pandas as pd\n",
        "import matplotlib.pyplot as plt\n",
        "import seaborn as sns\n",
        "from math import ceil"
      ],
      "execution_count": 1,
      "outputs": []
    },
    {
      "cell_type": "code",
      "metadata": {
        "id": "8qhXbJVi6Ves"
      },
      "source": [
        "import keras\n",
        "from keras.layers import Dense,Dropout\n",
        "from keras.models import Sequential\n",
        "from keras.optimizers import Adam\n",
        "from keras.utils.vis_utils import plot_model\n",
        "from sklearn.preprocessing import MinMaxScaler,StandardScaler\n",
        "from sklearn.metrics import r2_score, mean_squared_error,mean_absolute_error"
      ],
      "execution_count": 2,
      "outputs": []
    },
    {
      "cell_type": "code",
      "metadata": {
        "id": "SvnDKaWzUOQ3"
      },
      "source": [
        "from keras.models import Sequential\n",
        "from keras.layers import Dense, SimpleRNN\n",
        "from keras.callbacks import EarlyStopping"
      ],
      "execution_count": 3,
      "outputs": []
    },
    {
      "cell_type": "code",
      "metadata": {
        "colab": {
          "base_uri": "https://localhost:8080/"
        },
        "id": "n4cvxS1C6v55",
        "outputId": "0f2a621a-171d-40a3-de8f-66a062517523"
      },
      "source": [
        "###mounting google drive\n",
        "from google.colab import drive\n",
        "drive.mount('/content/drive')"
      ],
      "execution_count": 4,
      "outputs": [
        {
          "output_type": "stream",
          "text": [
            "Drive already mounted at /content/drive; to attempt to forcibly remount, call drive.mount(\"/content/drive\", force_remount=True).\n"
          ],
          "name": "stdout"
        }
      ]
    },
    {
      "cell_type": "markdown",
      "metadata": {
        "id": "SWSROxLE9TjF"
      },
      "source": [
        "Read the stock price data"
      ]
    },
    {
      "cell_type": "code",
      "metadata": {
        "id": "XG3lBu3f6bC-"
      },
      "source": [
        "stock_df= pd.read_csv('./drive/My Drive/Colab Notebooks/GME_stock.csv',parse_dates=[\"date\"])"
      ],
      "execution_count": 5,
      "outputs": []
    },
    {
      "cell_type": "code",
      "metadata": {
        "colab": {
          "base_uri": "https://localhost:8080/",
          "height": 204
        },
        "id": "dnrXLg-T6tzl",
        "outputId": "eac1fe1f-31c4-4ab7-aecd-29a489d8d566"
      },
      "source": [
        "stock_df.tail()"
      ],
      "execution_count": 6,
      "outputs": [
        {
          "output_type": "execute_result",
          "data": {
            "text/html": [
              "<div>\n",
              "<style scoped>\n",
              "    .dataframe tbody tr th:only-of-type {\n",
              "        vertical-align: middle;\n",
              "    }\n",
              "\n",
              "    .dataframe tbody tr th {\n",
              "        vertical-align: top;\n",
              "    }\n",
              "\n",
              "    .dataframe thead th {\n",
              "        text-align: right;\n",
              "    }\n",
              "</style>\n",
              "<table border=\"1\" class=\"dataframe\">\n",
              "  <thead>\n",
              "    <tr style=\"text-align: right;\">\n",
              "      <th></th>\n",
              "      <th>date</th>\n",
              "      <th>open_price</th>\n",
              "      <th>high_price</th>\n",
              "      <th>low_price</th>\n",
              "      <th>close_price</th>\n",
              "      <th>volume</th>\n",
              "      <th>adjclose_price</th>\n",
              "    </tr>\n",
              "  </thead>\n",
              "  <tbody>\n",
              "    <tr>\n",
              "      <th>4768</th>\n",
              "      <td>2002-02-20</td>\n",
              "      <td>9.600</td>\n",
              "      <td>9.875</td>\n",
              "      <td>9.525</td>\n",
              "      <td>9.875</td>\n",
              "      <td>1723200.0</td>\n",
              "      <td>6.648838</td>\n",
              "    </tr>\n",
              "    <tr>\n",
              "      <th>4769</th>\n",
              "      <td>2002-02-19</td>\n",
              "      <td>9.900</td>\n",
              "      <td>9.900</td>\n",
              "      <td>9.375</td>\n",
              "      <td>9.550</td>\n",
              "      <td>1852600.0</td>\n",
              "      <td>6.430017</td>\n",
              "    </tr>\n",
              "    <tr>\n",
              "      <th>4770</th>\n",
              "      <td>2002-02-15</td>\n",
              "      <td>10.000</td>\n",
              "      <td>10.025</td>\n",
              "      <td>9.850</td>\n",
              "      <td>9.950</td>\n",
              "      <td>2097400.0</td>\n",
              "      <td>6.699336</td>\n",
              "    </tr>\n",
              "    <tr>\n",
              "      <th>4771</th>\n",
              "      <td>2002-02-14</td>\n",
              "      <td>10.175</td>\n",
              "      <td>10.195</td>\n",
              "      <td>9.925</td>\n",
              "      <td>10.000</td>\n",
              "      <td>2755400.0</td>\n",
              "      <td>6.733003</td>\n",
              "    </tr>\n",
              "    <tr>\n",
              "      <th>4772</th>\n",
              "      <td>2002-02-13</td>\n",
              "      <td>9.625</td>\n",
              "      <td>10.060</td>\n",
              "      <td>9.525</td>\n",
              "      <td>10.050</td>\n",
              "      <td>19054000.0</td>\n",
              "      <td>6.766666</td>\n",
              "    </tr>\n",
              "  </tbody>\n",
              "</table>\n",
              "</div>"
            ],
            "text/plain": [
              "           date  open_price  ...      volume  adjclose_price\n",
              "4768 2002-02-20       9.600  ...   1723200.0        6.648838\n",
              "4769 2002-02-19       9.900  ...   1852600.0        6.430017\n",
              "4770 2002-02-15      10.000  ...   2097400.0        6.699336\n",
              "4771 2002-02-14      10.175  ...   2755400.0        6.733003\n",
              "4772 2002-02-13       9.625  ...  19054000.0        6.766666\n",
              "\n",
              "[5 rows x 7 columns]"
            ]
          },
          "metadata": {
            "tags": []
          },
          "execution_count": 6
        }
      ]
    },
    {
      "cell_type": "code",
      "metadata": {
        "colab": {
          "base_uri": "https://localhost:8080/",
          "height": 204
        },
        "id": "PUXk6WFZ8-jj",
        "outputId": "27cde31b-cc70-4f0a-fed7-8e3e24195036"
      },
      "source": [
        "stock_df.head()"
      ],
      "execution_count": 7,
      "outputs": [
        {
          "output_type": "execute_result",
          "data": {
            "text/html": [
              "<div>\n",
              "<style scoped>\n",
              "    .dataframe tbody tr th:only-of-type {\n",
              "        vertical-align: middle;\n",
              "    }\n",
              "\n",
              "    .dataframe tbody tr th {\n",
              "        vertical-align: top;\n",
              "    }\n",
              "\n",
              "    .dataframe thead th {\n",
              "        text-align: right;\n",
              "    }\n",
              "</style>\n",
              "<table border=\"1\" class=\"dataframe\">\n",
              "  <thead>\n",
              "    <tr style=\"text-align: right;\">\n",
              "      <th></th>\n",
              "      <th>date</th>\n",
              "      <th>open_price</th>\n",
              "      <th>high_price</th>\n",
              "      <th>low_price</th>\n",
              "      <th>close_price</th>\n",
              "      <th>volume</th>\n",
              "      <th>adjclose_price</th>\n",
              "    </tr>\n",
              "  </thead>\n",
              "  <tbody>\n",
              "    <tr>\n",
              "      <th>0</th>\n",
              "      <td>2021-01-28</td>\n",
              "      <td>265.000000</td>\n",
              "      <td>483.000000</td>\n",
              "      <td>112.250000</td>\n",
              "      <td>193.600006</td>\n",
              "      <td>58815800.0</td>\n",
              "      <td>193.600006</td>\n",
              "    </tr>\n",
              "    <tr>\n",
              "      <th>1</th>\n",
              "      <td>2021-01-27</td>\n",
              "      <td>354.829987</td>\n",
              "      <td>380.000000</td>\n",
              "      <td>249.000000</td>\n",
              "      <td>347.510010</td>\n",
              "      <td>93396700.0</td>\n",
              "      <td>347.510010</td>\n",
              "    </tr>\n",
              "    <tr>\n",
              "      <th>2</th>\n",
              "      <td>2021-01-26</td>\n",
              "      <td>88.559998</td>\n",
              "      <td>150.000000</td>\n",
              "      <td>80.199997</td>\n",
              "      <td>147.979996</td>\n",
              "      <td>178588000.0</td>\n",
              "      <td>147.979996</td>\n",
              "    </tr>\n",
              "    <tr>\n",
              "      <th>3</th>\n",
              "      <td>2021-01-25</td>\n",
              "      <td>96.730003</td>\n",
              "      <td>159.179993</td>\n",
              "      <td>61.130001</td>\n",
              "      <td>76.790001</td>\n",
              "      <td>177874000.0</td>\n",
              "      <td>76.790001</td>\n",
              "    </tr>\n",
              "    <tr>\n",
              "      <th>4</th>\n",
              "      <td>2021-01-22</td>\n",
              "      <td>42.590000</td>\n",
              "      <td>76.760002</td>\n",
              "      <td>42.320000</td>\n",
              "      <td>65.010002</td>\n",
              "      <td>196784300.0</td>\n",
              "      <td>65.010002</td>\n",
              "    </tr>\n",
              "  </tbody>\n",
              "</table>\n",
              "</div>"
            ],
            "text/plain": [
              "        date  open_price  high_price  ...  close_price       volume  adjclose_price\n",
              "0 2021-01-28  265.000000  483.000000  ...   193.600006   58815800.0      193.600006\n",
              "1 2021-01-27  354.829987  380.000000  ...   347.510010   93396700.0      347.510010\n",
              "2 2021-01-26   88.559998  150.000000  ...   147.979996  178588000.0      147.979996\n",
              "3 2021-01-25   96.730003  159.179993  ...    76.790001  177874000.0       76.790001\n",
              "4 2021-01-22   42.590000   76.760002  ...    65.010002  196784300.0       65.010002\n",
              "\n",
              "[5 rows x 7 columns]"
            ]
          },
          "metadata": {
            "tags": []
          },
          "execution_count": 7
        }
      ]
    },
    {
      "cell_type": "markdown",
      "metadata": {
        "id": "1dAn6WwCDsTo"
      },
      "source": [
        "The data has inverted order by date. We need to change it in  date ascending order."
      ]
    },
    {
      "cell_type": "code",
      "metadata": {
        "id": "VWBfM-nYDri7"
      },
      "source": [
        "stock_df=stock_df.sort_values(by=\"date\", ascending=True)\n",
        "stock_df.reset_index(inplace=True)\n",
        "stock_df.set_index('date',inplace=True)"
      ],
      "execution_count": 8,
      "outputs": []
    },
    {
      "cell_type": "code",
      "metadata": {
        "colab": {
          "base_uri": "https://localhost:8080/",
          "height": 235
        },
        "id": "YUD8clhZMqdg",
        "outputId": "e71d5787-6ab3-4a2e-b0ea-9bc7a8d5959a"
      },
      "source": [
        "stock_df.head()"
      ],
      "execution_count": 9,
      "outputs": [
        {
          "output_type": "execute_result",
          "data": {
            "text/html": [
              "<div>\n",
              "<style scoped>\n",
              "    .dataframe tbody tr th:only-of-type {\n",
              "        vertical-align: middle;\n",
              "    }\n",
              "\n",
              "    .dataframe tbody tr th {\n",
              "        vertical-align: top;\n",
              "    }\n",
              "\n",
              "    .dataframe thead th {\n",
              "        text-align: right;\n",
              "    }\n",
              "</style>\n",
              "<table border=\"1\" class=\"dataframe\">\n",
              "  <thead>\n",
              "    <tr style=\"text-align: right;\">\n",
              "      <th></th>\n",
              "      <th>index</th>\n",
              "      <th>open_price</th>\n",
              "      <th>high_price</th>\n",
              "      <th>low_price</th>\n",
              "      <th>close_price</th>\n",
              "      <th>volume</th>\n",
              "      <th>adjclose_price</th>\n",
              "    </tr>\n",
              "    <tr>\n",
              "      <th>date</th>\n",
              "      <th></th>\n",
              "      <th></th>\n",
              "      <th></th>\n",
              "      <th></th>\n",
              "      <th></th>\n",
              "      <th></th>\n",
              "      <th></th>\n",
              "    </tr>\n",
              "  </thead>\n",
              "  <tbody>\n",
              "    <tr>\n",
              "      <th>2002-02-13</th>\n",
              "      <td>4772</td>\n",
              "      <td>9.625</td>\n",
              "      <td>10.060</td>\n",
              "      <td>9.525</td>\n",
              "      <td>10.050</td>\n",
              "      <td>19054000.0</td>\n",
              "      <td>6.766666</td>\n",
              "    </tr>\n",
              "    <tr>\n",
              "      <th>2002-02-14</th>\n",
              "      <td>4771</td>\n",
              "      <td>10.175</td>\n",
              "      <td>10.195</td>\n",
              "      <td>9.925</td>\n",
              "      <td>10.000</td>\n",
              "      <td>2755400.0</td>\n",
              "      <td>6.733003</td>\n",
              "    </tr>\n",
              "    <tr>\n",
              "      <th>2002-02-15</th>\n",
              "      <td>4770</td>\n",
              "      <td>10.000</td>\n",
              "      <td>10.025</td>\n",
              "      <td>9.850</td>\n",
              "      <td>9.950</td>\n",
              "      <td>2097400.0</td>\n",
              "      <td>6.699336</td>\n",
              "    </tr>\n",
              "    <tr>\n",
              "      <th>2002-02-19</th>\n",
              "      <td>4769</td>\n",
              "      <td>9.900</td>\n",
              "      <td>9.900</td>\n",
              "      <td>9.375</td>\n",
              "      <td>9.550</td>\n",
              "      <td>1852600.0</td>\n",
              "      <td>6.430017</td>\n",
              "    </tr>\n",
              "    <tr>\n",
              "      <th>2002-02-20</th>\n",
              "      <td>4768</td>\n",
              "      <td>9.600</td>\n",
              "      <td>9.875</td>\n",
              "      <td>9.525</td>\n",
              "      <td>9.875</td>\n",
              "      <td>1723200.0</td>\n",
              "      <td>6.648838</td>\n",
              "    </tr>\n",
              "  </tbody>\n",
              "</table>\n",
              "</div>"
            ],
            "text/plain": [
              "            index  open_price  ...      volume  adjclose_price\n",
              "date                           ...                            \n",
              "2002-02-13   4772       9.625  ...  19054000.0        6.766666\n",
              "2002-02-14   4771      10.175  ...   2755400.0        6.733003\n",
              "2002-02-15   4770      10.000  ...   2097400.0        6.699336\n",
              "2002-02-19   4769       9.900  ...   1852600.0        6.430017\n",
              "2002-02-20   4768       9.600  ...   1723200.0        6.648838\n",
              "\n",
              "[5 rows x 7 columns]"
            ]
          },
          "metadata": {
            "tags": []
          },
          "execution_count": 9
        }
      ]
    },
    {
      "cell_type": "markdown",
      "metadata": {
        "id": "5YqL3pmOVyFa"
      },
      "source": [
        "data preprocessing for RNN model"
      ]
    },
    {
      "cell_type": "code",
      "metadata": {
        "colab": {
          "base_uri": "https://localhost:8080/"
        },
        "id": "bJGA19kgXykY",
        "outputId": "44c87b2a-b935-45c5-94e4-8029ab779ccf"
      },
      "source": [
        "## take close_price as target\n",
        "close_price=stock_df[['close_price']]\n",
        "close_price.shape"
      ],
      "execution_count": 10,
      "outputs": [
        {
          "output_type": "execute_result",
          "data": {
            "text/plain": [
              "(4773, 1)"
            ]
          },
          "metadata": {
            "tags": []
          },
          "execution_count": 10
        }
      ]
    },
    {
      "cell_type": "code",
      "metadata": {
        "id": "w7NWpLWmi3sS"
      },
      "source": [
        "scaler_X = StandardScaler()\n",
        "scaler_Y = StandardScaler()\n",
        "# scaler_X = MinMaxScaler()\n",
        "# scaler_Y = MinMaxScaler()"
      ],
      "execution_count": 11,
      "outputs": []
    },
    {
      "cell_type": "code",
      "metadata": {
        "id": "x7OPfaP0Xuo3"
      },
      "source": [
        "X_scaled = scaler_X.fit_transform(stock_df)\n",
        "Y_scaled = scaler_Y.fit_transform(close_price)"
      ],
      "execution_count": 12,
      "outputs": []
    },
    {
      "cell_type": "code",
      "metadata": {
        "id": "4ZXUWepxh9Ry"
      },
      "source": [
        "def convert2matrix(X_data_arr, Y_data_arr, look_back, forecast_n_after):\n",
        " X, Y =[], []\n",
        " for i in range(len(X_data_arr)-look_back-forecast_n_after):\n",
        "  d=i+look_back  \n",
        "  X.append(X_data_arr[i:d,1:])\n",
        "  Y.append(Y_data_arr[d+forecast_n_after,])\n",
        " return np.array(X), np.array(Y)"
      ],
      "execution_count": 13,
      "outputs": []
    },
    {
      "cell_type": "code",
      "metadata": {
        "id": "DssmmshTUvgs"
      },
      "source": [
        "look_back=30\n",
        "forecast_n_after=30\n",
        "\n",
        "##callback 30 previous days' close price data\n",
        "##predict the close price of the day after 30 days. \n",
        "# For example, in May 1, we want to predict the close price after 30 days, of which date is June 1. Then we callback the data from 4/2 to 5/1 to predict. \n",
        "X,Y=convert2matrix(X_scaled,Y_scaled,look_back,forecast_n_after)"
      ],
      "execution_count": 14,
      "outputs": []
    },
    {
      "cell_type": "code",
      "metadata": {
        "colab": {
          "base_uri": "https://localhost:8080/"
        },
        "id": "mMDMDDi_z4QO",
        "outputId": "6ab06d09-a277-481b-b9d9-2dba1cc57777"
      },
      "source": [
        "X.shape"
      ],
      "execution_count": 15,
      "outputs": [
        {
          "output_type": "execute_result",
          "data": {
            "text/plain": [
              "(4713, 30, 6)"
            ]
          },
          "metadata": {
            "tags": []
          },
          "execution_count": 15
        }
      ]
    },
    {
      "cell_type": "code",
      "metadata": {
        "colab": {
          "base_uri": "https://localhost:8080/"
        },
        "id": "UMUYKHZoXWjr",
        "outputId": "d2b30714-ec73-42bc-8ff9-f034150f1956"
      },
      "source": [
        "Y.shape"
      ],
      "execution_count": 16,
      "outputs": [
        {
          "output_type": "execute_result",
          "data": {
            "text/plain": [
              "(4713, 1)"
            ]
          },
          "metadata": {
            "tags": []
          },
          "execution_count": 16
        }
      ]
    },
    {
      "cell_type": "code",
      "metadata": {
        "id": "mZZr5QuaWMUK"
      },
      "source": [
        "train_size=ceil(X.shape[0]*0.8)\n",
        "trainX,testX=X[0:train_size],X[train_size:]\n",
        "trainY,testY=Y[0:train_size],Y[train_size:]"
      ],
      "execution_count": 17,
      "outputs": []
    },
    {
      "cell_type": "code",
      "metadata": {
        "colab": {
          "base_uri": "https://localhost:8080/"
        },
        "id": "jc4bMr9X6J1W",
        "outputId": "9f38e57a-f266-4af0-fb36-03abb9425dc5"
      },
      "source": [
        "train_size"
      ],
      "execution_count": 18,
      "outputs": [
        {
          "output_type": "execute_result",
          "data": {
            "text/plain": [
              "3771"
            ]
          },
          "metadata": {
            "tags": []
          },
          "execution_count": 18
        }
      ]
    },
    {
      "cell_type": "code",
      "metadata": {
        "id": "4HimIBb_ZBG-",
        "colab": {
          "base_uri": "https://localhost:8080/"
        },
        "outputId": "c155c13e-ca10-4271-a2bb-312f8e5601bd"
      },
      "source": [
        "trainX.shape , trainY.shape"
      ],
      "execution_count": 19,
      "outputs": [
        {
          "output_type": "execute_result",
          "data": {
            "text/plain": [
              "((3771, 30, 6), (3771, 1))"
            ]
          },
          "metadata": {
            "tags": []
          },
          "execution_count": 19
        }
      ]
    },
    {
      "cell_type": "code",
      "metadata": {
        "id": "rMLWP9cyZQf3",
        "colab": {
          "base_uri": "https://localhost:8080/"
        },
        "outputId": "76a580c0-5e74-4c22-a505-bdb8bde607d5"
      },
      "source": [
        "testX.shape, testY.shape"
      ],
      "execution_count": 20,
      "outputs": [
        {
          "output_type": "execute_result",
          "data": {
            "text/plain": [
              "((942, 30, 6), (942, 1))"
            ]
          },
          "metadata": {
            "tags": []
          },
          "execution_count": 20
        }
      ]
    },
    {
      "cell_type": "markdown",
      "metadata": {
        "id": "lXJLts4rX_DI"
      },
      "source": [
        "Below extract the date information in training and test dataset:"
      ]
    },
    {
      "cell_type": "code",
      "metadata": {
        "id": "rSYZyGq9U1y2"
      },
      "source": [
        "dates_training = pd.to_datetime(stock_df.index[29:train_size+29])\n",
        "dates_test = pd.to_datetime(stock_df.index[train_size+29:-31])"
      ],
      "execution_count": 21,
      "outputs": []
    },
    {
      "cell_type": "code",
      "metadata": {
        "colab": {
          "base_uri": "https://localhost:8080/"
        },
        "id": "UTfZpi1zZqid",
        "outputId": "af906848-6588-4335-f942-93b9a4980a9b"
      },
      "source": [
        "dates_training.shape, dates_test.shape"
      ],
      "execution_count": 22,
      "outputs": [
        {
          "output_type": "execute_result",
          "data": {
            "text/plain": [
              "((3771,), (942,))"
            ]
          },
          "metadata": {
            "tags": []
          },
          "execution_count": 22
        }
      ]
    },
    {
      "cell_type": "markdown",
      "metadata": {
        "id": "AwEp8l0Ayn88"
      },
      "source": [
        "**Build simpleRNN model**"
      ]
    },
    {
      "cell_type": "code",
      "metadata": {
        "id": "6oMlOPPhadMQ"
      },
      "source": [
        "def model_rnn(look_back):\n",
        "  model=Sequential()\n",
        "  #model.add(SimpleRNN(units=32,input_shape=(look_back,6),activation='relu',use_bias=False,recurrent_dropout=0.2,return_sequences=True))\n",
        " # model.add(SimpleRNN(units=32,input_shape=(look_back,6),activation='relu'))\n",
        "  model.add(SimpleRNN(units=32,input_shape=(look_back,6),activation='relu',return_sequences=True,use_bias=False,recurrent_dropout=0.2))\n",
        "  #model.add(Dropout(0.2))\n",
        "  #model.add(SimpleRNN(units=32,activation='relu',return_sequences=True,recurrent_dropout=0.2))\n",
        "  #model.add(SimpleRNN(units=32,activation='relu',return_sequences=True,use_bias=False,recurrent_dropout=0.2))\n",
        "  # model.add(Dropout(0.2))\n",
        "  # model.add(SimpleRNN(units=64,activation='tanh',return_sequences=True))\n",
        "  # model.add(Dropout(0.2))\n",
        "  # model.add(SimpleRNN(64,activation='tanh'))\n",
        "  # model.add(Dropout(0.2))\n",
        "  model.add(SimpleRNN(units=8,activation='relu',recurrent_dropout=0.2))\n",
        "  #model.add(Dense(8,activation='relu'))  \n",
        "  model.add(Dense(1))\n",
        "  model.compile(loss='mean_squared_error',optimizer='adam',metrics=['mse','mae'])\n",
        "  return model\n"
      ],
      "execution_count": 23,
      "outputs": []
    },
    {
      "cell_type": "code",
      "metadata": {
        "id": "ES00bIRpbh1T",
        "colab": {
          "base_uri": "https://localhost:8080/"
        },
        "outputId": "d3d408f3-1f14-4342-af7c-24370e66b002"
      },
      "source": [
        "model=model_rnn(30)\n",
        "model.summary()\n",
        "history=model.fit(trainX,trainY,\n",
        "                  epochs=100,\n",
        "                  batch_size=32,\n",
        "                  verbose=1,\n",
        "                  validation_data=(testX,testY),\n",
        "                  callbacks=[EarlyStopping(monitor='val_loss', mode='min',patience=50)],\n",
        "                  shuffle=False)"
      ],
      "execution_count": 24,
      "outputs": [
        {
          "output_type": "stream",
          "text": [
            "Model: \"sequential\"\n",
            "_________________________________________________________________\n",
            "Layer (type)                 Output Shape              Param #   \n",
            "=================================================================\n",
            "simple_rnn (SimpleRNN)       (None, 30, 32)            1216      \n",
            "_________________________________________________________________\n",
            "simple_rnn_1 (SimpleRNN)     (None, 8)                 328       \n",
            "_________________________________________________________________\n",
            "dense (Dense)                (None, 1)                 9         \n",
            "=================================================================\n",
            "Total params: 1,553\n",
            "Trainable params: 1,553\n",
            "Non-trainable params: 0\n",
            "_________________________________________________________________\n",
            "Epoch 1/100\n",
            "118/118 [==============================] - 4s 20ms/step - loss: 1.3481 - mse: 1.3481 - mae: 0.9199 - val_loss: 1.4191 - val_mse: 1.4191 - val_mae: 0.7358\n",
            "Epoch 2/100\n",
            "118/118 [==============================] - 2s 13ms/step - loss: 0.3394 - mse: 0.3394 - mae: 0.4670 - val_loss: 0.9284 - val_mse: 0.9284 - val_mae: 0.3046\n",
            "Epoch 3/100\n",
            "118/118 [==============================] - 2s 14ms/step - loss: 0.1067 - mse: 0.1067 - mae: 0.2292 - val_loss: 0.9403 - val_mse: 0.9403 - val_mae: 0.3516\n",
            "Epoch 4/100\n",
            "118/118 [==============================] - 2s 13ms/step - loss: 0.1010 - mse: 0.1010 - mae: 0.2254 - val_loss: 0.9059 - val_mse: 0.9059 - val_mae: 0.3184\n",
            "Epoch 5/100\n",
            "118/118 [==============================] - 2s 13ms/step - loss: 0.0814 - mse: 0.0814 - mae: 0.2018 - val_loss: 0.8972 - val_mse: 0.8972 - val_mae: 0.3157\n",
            "Epoch 6/100\n",
            "118/118 [==============================] - 2s 13ms/step - loss: 0.0818 - mse: 0.0818 - mae: 0.2007 - val_loss: 0.8923 - val_mse: 0.8923 - val_mae: 0.3127\n",
            "Epoch 7/100\n",
            "118/118 [==============================] - 2s 13ms/step - loss: 0.0775 - mse: 0.0775 - mae: 0.1983 - val_loss: 0.8890 - val_mse: 0.8890 - val_mae: 0.3102\n",
            "Epoch 8/100\n",
            "118/118 [==============================] - 2s 14ms/step - loss: 0.0770 - mse: 0.0770 - mae: 0.1956 - val_loss: 0.8861 - val_mse: 0.8861 - val_mae: 0.3051\n",
            "Epoch 9/100\n",
            "118/118 [==============================] - 2s 14ms/step - loss: 0.0748 - mse: 0.0748 - mae: 0.1900 - val_loss: 0.8894 - val_mse: 0.8894 - val_mae: 0.3127\n",
            "Epoch 10/100\n",
            "118/118 [==============================] - 2s 13ms/step - loss: 0.0754 - mse: 0.0754 - mae: 0.1957 - val_loss: 0.8807 - val_mse: 0.8807 - val_mae: 0.2952\n",
            "Epoch 11/100\n",
            "118/118 [==============================] - 2s 13ms/step - loss: 0.0727 - mse: 0.0727 - mae: 0.1881 - val_loss: 0.8829 - val_mse: 0.8829 - val_mae: 0.2985\n",
            "Epoch 12/100\n",
            "118/118 [==============================] - 2s 14ms/step - loss: 0.0721 - mse: 0.0721 - mae: 0.1869 - val_loss: 0.8814 - val_mse: 0.8814 - val_mae: 0.2966\n",
            "Epoch 13/100\n",
            "118/118 [==============================] - 2s 13ms/step - loss: 0.0723 - mse: 0.0723 - mae: 0.1869 - val_loss: 0.8821 - val_mse: 0.8821 - val_mae: 0.2994\n",
            "Epoch 14/100\n",
            "118/118 [==============================] - 2s 13ms/step - loss: 0.0725 - mse: 0.0725 - mae: 0.1878 - val_loss: 0.8777 - val_mse: 0.8777 - val_mae: 0.2895\n",
            "Epoch 15/100\n",
            "118/118 [==============================] - 2s 13ms/step - loss: 0.0704 - mse: 0.0704 - mae: 0.1832 - val_loss: 0.8811 - val_mse: 0.8811 - val_mae: 0.2937\n",
            "Epoch 16/100\n",
            "118/118 [==============================] - 2s 13ms/step - loss: 0.0710 - mse: 0.0710 - mae: 0.1846 - val_loss: 0.8811 - val_mse: 0.8811 - val_mae: 0.2866\n",
            "Epoch 17/100\n",
            "118/118 [==============================] - 2s 13ms/step - loss: 0.0709 - mse: 0.0709 - mae: 0.1875 - val_loss: 0.8864 - val_mse: 0.8864 - val_mae: 0.2953\n",
            "Epoch 18/100\n",
            "118/118 [==============================] - 2s 13ms/step - loss: 0.0707 - mse: 0.0707 - mae: 0.1852 - val_loss: 0.8867 - val_mse: 0.8867 - val_mae: 0.2889\n",
            "Epoch 19/100\n",
            "118/118 [==============================] - 2s 13ms/step - loss: 0.0708 - mse: 0.0708 - mae: 0.1879 - val_loss: 0.8891 - val_mse: 0.8891 - val_mae: 0.2972\n",
            "Epoch 20/100\n",
            "118/118 [==============================] - 2s 13ms/step - loss: 0.0695 - mse: 0.0695 - mae: 0.1831 - val_loss: 0.8869 - val_mse: 0.8869 - val_mae: 0.2855\n",
            "Epoch 21/100\n",
            "118/118 [==============================] - 2s 14ms/step - loss: 0.0695 - mse: 0.0695 - mae: 0.1855 - val_loss: 0.8862 - val_mse: 0.8862 - val_mae: 0.2900\n",
            "Epoch 22/100\n",
            "118/118 [==============================] - 2s 13ms/step - loss: 0.0695 - mse: 0.0695 - mae: 0.1847 - val_loss: 0.8817 - val_mse: 0.8817 - val_mae: 0.2749\n",
            "Epoch 23/100\n",
            "118/118 [==============================] - 2s 13ms/step - loss: 0.0686 - mse: 0.0686 - mae: 0.1838 - val_loss: 0.8862 - val_mse: 0.8862 - val_mae: 0.2855\n",
            "Epoch 24/100\n",
            "118/118 [==============================] - 2s 13ms/step - loss: 0.0684 - mse: 0.0684 - mae: 0.1825 - val_loss: 0.8835 - val_mse: 0.8835 - val_mae: 0.2747\n",
            "Epoch 25/100\n",
            "118/118 [==============================] - 2s 13ms/step - loss: 0.0670 - mse: 0.0670 - mae: 0.1804 - val_loss: 0.8950 - val_mse: 0.8950 - val_mae: 0.2983\n",
            "Epoch 26/100\n",
            "118/118 [==============================] - 2s 13ms/step - loss: 0.0686 - mse: 0.0686 - mae: 0.1834 - val_loss: 0.8905 - val_mse: 0.8905 - val_mae: 0.2802\n",
            "Epoch 27/100\n",
            "118/118 [==============================] - 2s 13ms/step - loss: 0.0684 - mse: 0.0684 - mae: 0.1854 - val_loss: 0.8897 - val_mse: 0.8897 - val_mae: 0.2844\n",
            "Epoch 28/100\n",
            "118/118 [==============================] - 2s 13ms/step - loss: 0.0681 - mse: 0.0681 - mae: 0.1826 - val_loss: 0.8843 - val_mse: 0.8843 - val_mae: 0.2703\n",
            "Epoch 29/100\n",
            "118/118 [==============================] - 2s 13ms/step - loss: 0.0666 - mse: 0.0666 - mae: 0.1811 - val_loss: 0.8959 - val_mse: 0.8959 - val_mae: 0.2942\n",
            "Epoch 30/100\n",
            "118/118 [==============================] - 2s 13ms/step - loss: 0.0681 - mse: 0.0681 - mae: 0.1846 - val_loss: 0.8947 - val_mse: 0.8947 - val_mae: 0.2875\n",
            "Epoch 31/100\n",
            "118/118 [==============================] - 2s 13ms/step - loss: 0.0686 - mse: 0.0686 - mae: 0.1861 - val_loss: 0.8963 - val_mse: 0.8963 - val_mae: 0.2980\n",
            "Epoch 32/100\n",
            "118/118 [==============================] - 2s 13ms/step - loss: 0.0692 - mse: 0.0692 - mae: 0.1874 - val_loss: 0.8918 - val_mse: 0.8918 - val_mae: 0.2791\n",
            "Epoch 33/100\n",
            "118/118 [==============================] - 2s 13ms/step - loss: 0.0679 - mse: 0.0679 - mae: 0.1848 - val_loss: 0.8876 - val_mse: 0.8876 - val_mae: 0.2805\n",
            "Epoch 34/100\n",
            "118/118 [==============================] - 2s 13ms/step - loss: 0.0664 - mse: 0.0664 - mae: 0.1810 - val_loss: 0.8858 - val_mse: 0.8858 - val_mae: 0.2688\n",
            "Epoch 35/100\n",
            "118/118 [==============================] - 2s 13ms/step - loss: 0.0659 - mse: 0.0659 - mae: 0.1797 - val_loss: 0.8829 - val_mse: 0.8829 - val_mae: 0.2688\n",
            "Epoch 36/100\n",
            "118/118 [==============================] - 2s 14ms/step - loss: 0.0655 - mse: 0.0655 - mae: 0.1780 - val_loss: 0.8814 - val_mse: 0.8814 - val_mae: 0.2608\n",
            "Epoch 37/100\n",
            "118/118 [==============================] - 2s 13ms/step - loss: 0.0649 - mse: 0.0649 - mae: 0.1767 - val_loss: 0.8891 - val_mse: 0.8891 - val_mae: 0.2806\n",
            "Epoch 38/100\n",
            "118/118 [==============================] - 2s 13ms/step - loss: 0.0657 - mse: 0.0657 - mae: 0.1788 - val_loss: 0.8848 - val_mse: 0.8848 - val_mae: 0.2673\n",
            "Epoch 39/100\n",
            "118/118 [==============================] - 2s 13ms/step - loss: 0.0652 - mse: 0.0652 - mae: 0.1783 - val_loss: 0.8886 - val_mse: 0.8886 - val_mae: 0.2831\n",
            "Epoch 40/100\n",
            "118/118 [==============================] - 2s 13ms/step - loss: 0.0661 - mse: 0.0661 - mae: 0.1799 - val_loss: 0.8879 - val_mse: 0.8879 - val_mae: 0.2732\n",
            "Epoch 41/100\n",
            "118/118 [==============================] - 2s 14ms/step - loss: 0.0671 - mse: 0.0671 - mae: 0.1813 - val_loss: 0.8897 - val_mse: 0.8897 - val_mae: 0.2857\n",
            "Epoch 42/100\n",
            "118/118 [==============================] - 2s 13ms/step - loss: 0.0673 - mse: 0.0673 - mae: 0.1830 - val_loss: 0.8883 - val_mse: 0.8883 - val_mae: 0.2800\n",
            "Epoch 43/100\n",
            "118/118 [==============================] - 2s 14ms/step - loss: 0.0662 - mse: 0.0662 - mae: 0.1814 - val_loss: 0.8832 - val_mse: 0.8832 - val_mae: 0.2671\n",
            "Epoch 44/100\n",
            "118/118 [==============================] - 2s 13ms/step - loss: 0.0650 - mse: 0.0650 - mae: 0.1779 - val_loss: 0.8875 - val_mse: 0.8875 - val_mae: 0.2814\n",
            "Epoch 45/100\n",
            "118/118 [==============================] - 2s 13ms/step - loss: 0.0656 - mse: 0.0656 - mae: 0.1800 - val_loss: 0.8888 - val_mse: 0.8888 - val_mae: 0.2809\n",
            "Epoch 46/100\n",
            "118/118 [==============================] - 2s 13ms/step - loss: 0.0659 - mse: 0.0659 - mae: 0.1809 - val_loss: 0.8864 - val_mse: 0.8864 - val_mae: 0.2718\n",
            "Epoch 47/100\n",
            "118/118 [==============================] - 2s 15ms/step - loss: 0.0640 - mse: 0.0640 - mae: 0.1758 - val_loss: 0.8854 - val_mse: 0.8854 - val_mae: 0.2672\n",
            "Epoch 48/100\n",
            "118/118 [==============================] - 2s 13ms/step - loss: 0.0635 - mse: 0.0635 - mae: 0.1738 - val_loss: 0.8816 - val_mse: 0.8816 - val_mae: 0.2599\n",
            "Epoch 49/100\n",
            "118/118 [==============================] - 2s 13ms/step - loss: 0.0634 - mse: 0.0634 - mae: 0.1724 - val_loss: 0.8826 - val_mse: 0.8826 - val_mae: 0.2652\n",
            "Epoch 50/100\n",
            "118/118 [==============================] - 2s 14ms/step - loss: 0.0629 - mse: 0.0629 - mae: 0.1719 - val_loss: 0.8807 - val_mse: 0.8807 - val_mae: 0.2623\n",
            "Epoch 51/100\n",
            "118/118 [==============================] - 2s 14ms/step - loss: 0.0633 - mse: 0.0633 - mae: 0.1731 - val_loss: 0.8853 - val_mse: 0.8853 - val_mae: 0.2680\n",
            "Epoch 52/100\n",
            "118/118 [==============================] - 2s 13ms/step - loss: 0.0641 - mse: 0.0641 - mae: 0.1752 - val_loss: 0.8880 - val_mse: 0.8880 - val_mae: 0.2758\n",
            "Epoch 53/100\n",
            "118/118 [==============================] - 2s 13ms/step - loss: 0.0637 - mse: 0.0637 - mae: 0.1746 - val_loss: 0.8856 - val_mse: 0.8856 - val_mae: 0.2691\n",
            "Epoch 54/100\n",
            "118/118 [==============================] - 2s 13ms/step - loss: 0.0639 - mse: 0.0639 - mae: 0.1742 - val_loss: 0.8865 - val_mse: 0.8865 - val_mae: 0.2700\n",
            "Epoch 55/100\n",
            "118/118 [==============================] - 2s 13ms/step - loss: 0.0630 - mse: 0.0630 - mae: 0.1736 - val_loss: 0.8852 - val_mse: 0.8852 - val_mae: 0.2659\n",
            "Epoch 56/100\n",
            "118/118 [==============================] - 2s 13ms/step - loss: 0.0631 - mse: 0.0631 - mae: 0.1730 - val_loss: 0.8864 - val_mse: 0.8864 - val_mae: 0.2678\n",
            "Epoch 57/100\n",
            "118/118 [==============================] - 2s 13ms/step - loss: 0.0630 - mse: 0.0630 - mae: 0.1727 - val_loss: 0.8848 - val_mse: 0.8848 - val_mae: 0.2648\n",
            "Epoch 58/100\n",
            "118/118 [==============================] - 2s 13ms/step - loss: 0.0621 - mse: 0.0621 - mae: 0.1707 - val_loss: 0.8843 - val_mse: 0.8843 - val_mae: 0.2658\n",
            "Epoch 59/100\n",
            "118/118 [==============================] - 2s 13ms/step - loss: 0.0619 - mse: 0.0619 - mae: 0.1698 - val_loss: 0.8827 - val_mse: 0.8827 - val_mae: 0.2684\n",
            "Epoch 60/100\n",
            "118/118 [==============================] - 2s 14ms/step - loss: 0.0619 - mse: 0.0619 - mae: 0.1704 - val_loss: 0.8816 - val_mse: 0.8816 - val_mae: 0.2682\n",
            "Epoch 61/100\n",
            "118/118 [==============================] - 2s 13ms/step - loss: 0.0628 - mse: 0.0628 - mae: 0.1711 - val_loss: 0.8796 - val_mse: 0.8796 - val_mae: 0.2640\n",
            "Epoch 62/100\n",
            "118/118 [==============================] - 2s 14ms/step - loss: 0.0618 - mse: 0.0618 - mae: 0.1697 - val_loss: 0.8808 - val_mse: 0.8808 - val_mae: 0.2714\n",
            "Epoch 63/100\n",
            "118/118 [==============================] - 2s 13ms/step - loss: 0.0621 - mse: 0.0621 - mae: 0.1695 - val_loss: 0.8801 - val_mse: 0.8801 - val_mae: 0.2677\n",
            "Epoch 64/100\n",
            "118/118 [==============================] - 2s 14ms/step - loss: 0.0611 - mse: 0.0611 - mae: 0.1679 - val_loss: 0.8806 - val_mse: 0.8806 - val_mae: 0.2710\n"
          ],
          "name": "stdout"
        }
      ]
    },
    {
      "cell_type": "code",
      "metadata": {
        "id": "GejE55rK81o4"
      },
      "source": [
        "model.save('/content/drive/MyDrive/simpleRNN_Model/RNN_30_model_3281.h5')"
      ],
      "execution_count": 46,
      "outputs": []
    },
    {
      "cell_type": "code",
      "metadata": {
        "id": "QGI1uYiKuaXM"
      },
      "source": [
        "# from keras.models import load_model\n",
        "# model = load_model('/content/drive/MyDrive/simpleRNN_Model/RNN_30_model.h5')"
      ],
      "execution_count": 26,
      "outputs": []
    },
    {
      "cell_type": "code",
      "metadata": {
        "colab": {
          "base_uri": "https://localhost:8080/"
        },
        "id": "-XR236FyuoHC",
        "outputId": "eff7a2be-84bb-467f-afc4-82a95ab7fe70"
      },
      "source": [
        "model.summary()"
      ],
      "execution_count": 27,
      "outputs": [
        {
          "output_type": "stream",
          "text": [
            "Model: \"sequential\"\n",
            "_________________________________________________________________\n",
            "Layer (type)                 Output Shape              Param #   \n",
            "=================================================================\n",
            "simple_rnn (SimpleRNN)       (None, 30, 32)            1216      \n",
            "_________________________________________________________________\n",
            "simple_rnn_1 (SimpleRNN)     (None, 8)                 328       \n",
            "_________________________________________________________________\n",
            "dense (Dense)                (None, 1)                 9         \n",
            "=================================================================\n",
            "Total params: 1,553\n",
            "Trainable params: 1,553\n",
            "Non-trainable params: 0\n",
            "_________________________________________________________________\n"
          ],
          "name": "stdout"
        }
      ]
    },
    {
      "cell_type": "code",
      "metadata": {
        "id": "-7TOBGf0cxXU"
      },
      "source": [
        "def model_loss(history):\n",
        "  plt.figure(figsize=(8,4))\n",
        "  plt.plot(history.history['loss'], label='Train Loss')\n",
        "  plt.plot(history.history['val_loss'], label='Test Loss')\n",
        "  plt.title('model loss')\n",
        "  plt.ylabel('loss')\n",
        "  plt.xlabel('epochs')\n",
        "  plt.legend(loc='upper right')\n",
        "  plt.show()"
      ],
      "execution_count": 28,
      "outputs": []
    },
    {
      "cell_type": "code",
      "metadata": {
        "id": "wQT9YhWIeVRM",
        "colab": {
          "base_uri": "https://localhost:8080/",
          "height": 329
        },
        "outputId": "8bf97653-b881-4385-92d8-3b4aa0bec86f"
      },
      "source": [
        "train_score = model.evaluate(trainX,trainY, verbose=0)  \n",
        "print('Train Root Mean Squared Error(RMSE): %.2f; Train Mean Absolute Error(MAE) : %.2f ' \n",
        "% (np.sqrt(train_score[1]), train_score[2]))  ###这里用了np.sqrt()\n",
        "test_score = model.evaluate(testX,testY, verbose=0)\n",
        "print('Test Root Mean Squared Error(RMSE): %.2f; Test Mean Absolute Error(MAE) : %.2f ' \n",
        "% (np.sqrt(test_score[1]), test_score[2]))\n",
        "model_loss(history)"
      ],
      "execution_count": 29,
      "outputs": [
        {
          "output_type": "stream",
          "text": [
            "Train Root Mean Squared Error(RMSE): 0.28; Train Mean Absolute Error(MAE) : 0.21 \n",
            "Test Root Mean Squared Error(RMSE): 0.94; Test Mean Absolute Error(MAE) : 0.27 \n"
          ],
          "name": "stdout"
        },
        {
          "output_type": "display_data",
          "data": {
            "image/png": "[encoded data removed]",
            "text/plain": [
              "<Figure size 576x288 with 1 Axes>"
            ]
          },
          "metadata": {
            "tags": [],
            "needs_background": "light"
          }
        }
      ]
    },
    {
      "cell_type": "code",
      "metadata": {
        "id": "iPYudtjWjKu0"
      },
      "source": [
        "def prediction_plot(Y_actual,Y_predict,title,dates):\n",
        "  plt.figure(figsize=(11,7))\n",
        "  Y_actual=pd.DataFrame(Y_actual,index=dates)\n",
        "  Y_predict=pd.DataFrame(Y_predict,index=dates)\n",
        "  plt.plot(Y_actual,color= 'blue',label='actual')\n",
        "  plt.plot(Y_predict, color= 'red',label='prediction')\n",
        "  #plt.tight_layout()\n",
        "  #sns.despine(top=True)\n",
        "  #plt.subplots_adjust(left=0.07)\n",
        "  plt.ylabel('stock_price',size=15)\n",
        "  plt.xlabel('Date',size=15)\n",
        "  plt.legend(fontsize=15)\n",
        "  plt.title('The 30-Day_after Stock Price Forecasting_'+title+'_via simpleRNN\\n',size=15)\n",
        "  plt.show()"
      ],
      "execution_count": 30,
      "outputs": []
    },
    {
      "cell_type": "code",
      "metadata": {
        "id": "KP0TR6vXexXn",
        "colab": {
          "base_uri": "https://localhost:8080/",
          "height": 484
        },
        "outputId": "6ab10e5c-4bac-430f-fe06-bb1b9e847400"
      },
      "source": [
        "train_predict=model.predict(trainX)\n",
        "trainY_predict_value=scaler_Y.inverse_transform(train_predict)\n",
        "trainY_actual_value=scaler_Y.inverse_transform(trainY)\n",
        "prediction_plot(trainY_actual_value,trainY_predict_value,'Train Data',dates_training)\n"
      ],
      "execution_count": 31,
      "outputs": [
        {
          "output_type": "display_data",
          "data": {
            "image/png": "[encoded data removed]",
            "text/plain": [
              "<Figure size 792x504 with 1 Axes>"
            ]
          },
          "metadata": {
            "tags": [],
            "needs_background": "light"
          }
        }
      ]
    },
    {
      "cell_type": "code",
      "metadata": {
        "colab": {
          "base_uri": "https://localhost:8080/"
        },
        "id": "KDvfj1A6m0Mm",
        "outputId": "8919c3d8-3a35-499a-d8a8-0a93bbe4bbc2"
      },
      "source": [
        "trainY_actual_value[0]"
      ],
      "execution_count": 32,
      "outputs": [
        {
          "output_type": "execute_result",
          "data": {
            "text/plain": [
              "array([11.02999973])"
            ]
          },
          "metadata": {
            "tags": []
          },
          "execution_count": 32
        }
      ]
    },
    {
      "cell_type": "code",
      "metadata": {
        "colab": {
          "base_uri": "https://localhost:8080/",
          "height": 173
        },
        "id": "RLh6PO59m4A1",
        "outputId": "380ce408-900a-4097-a3e0-8802a2e3cd37"
      },
      "source": [
        "close_price[60:63]"
      ],
      "execution_count": 33,
      "outputs": [
        {
          "output_type": "execute_result",
          "data": {
            "text/html": [
              "<div>\n",
              "<style scoped>\n",
              "    .dataframe tbody tr th:only-of-type {\n",
              "        vertical-align: middle;\n",
              "    }\n",
              "\n",
              "    .dataframe tbody tr th {\n",
              "        vertical-align: top;\n",
              "    }\n",
              "\n",
              "    .dataframe thead th {\n",
              "        text-align: right;\n",
              "    }\n",
              "</style>\n",
              "<table border=\"1\" class=\"dataframe\">\n",
              "  <thead>\n",
              "    <tr style=\"text-align: right;\">\n",
              "      <th></th>\n",
              "      <th>close_price</th>\n",
              "    </tr>\n",
              "    <tr>\n",
              "      <th>date</th>\n",
              "      <th></th>\n",
              "    </tr>\n",
              "  </thead>\n",
              "  <tbody>\n",
              "    <tr>\n",
              "      <th>2002-05-10</th>\n",
              "      <td>11.03</td>\n",
              "    </tr>\n",
              "    <tr>\n",
              "      <th>2002-05-13</th>\n",
              "      <td>10.75</td>\n",
              "    </tr>\n",
              "    <tr>\n",
              "      <th>2002-05-14</th>\n",
              "      <td>10.40</td>\n",
              "    </tr>\n",
              "  </tbody>\n",
              "</table>\n",
              "</div>"
            ],
            "text/plain": [
              "            close_price\n",
              "date                   \n",
              "2002-05-10        11.03\n",
              "2002-05-13        10.75\n",
              "2002-05-14        10.40"
            ]
          },
          "metadata": {
            "tags": []
          },
          "execution_count": 33
        }
      ]
    },
    {
      "cell_type": "code",
      "metadata": {
        "colab": {
          "base_uri": "https://localhost:8080/",
          "height": 484
        },
        "id": "gR1evUVjVe0r",
        "outputId": "e410fdc3-593f-4fdc-fe7b-0369ebd9d498"
      },
      "source": [
        "test_predict=model.predict(testX)\n",
        "testY_predict_value=scaler_Y.inverse_transform(test_predict)\n",
        "testY_actual_value=scaler_Y.inverse_transform(testY)\n",
        "prediction_plot(testY_actual_value,testY_predict_value,'Test Data',dates_test)\n"
      ],
      "execution_count": 34,
      "outputs": [
        {
          "output_type": "display_data",
          "data": {
            "image/png": "[encoded data removed]",
            "text/plain": [
              "<Figure size 792x504 with 1 Axes>"
            ]
          },
          "metadata": {
            "tags": [],
            "needs_background": "light"
          }
        }
      ]
    },
    {
      "cell_type": "code",
      "metadata": {
        "colab": {
          "base_uri": "https://localhost:8080/"
        },
        "id": "Hy_NfPSyXWtI",
        "outputId": "48183487-00cd-4d2b-c36d-5c5d8c67b572"
      },
      "source": [
        "testY_actual_value[0]"
      ],
      "execution_count": 35,
      "outputs": [
        {
          "output_type": "execute_result",
          "data": {
            "text/plain": [
              "array([23.96999931])"
            ]
          },
          "metadata": {
            "tags": []
          },
          "execution_count": 35
        }
      ]
    },
    {
      "cell_type": "code",
      "metadata": {
        "colab": {
          "base_uri": "https://localhost:8080/",
          "height": 204
        },
        "id": "6sOgU1wIXbZr",
        "outputId": "115d5205-b3f8-45ff-bd2d-f84456796e2d"
      },
      "source": [
        "close_price[3771+60: 3835]"
      ],
      "execution_count": 36,
      "outputs": [
        {
          "output_type": "execute_result",
          "data": {
            "text/html": [
              "<div>\n",
              "<style scoped>\n",
              "    .dataframe tbody tr th:only-of-type {\n",
              "        vertical-align: middle;\n",
              "    }\n",
              "\n",
              "    .dataframe tbody tr th {\n",
              "        vertical-align: top;\n",
              "    }\n",
              "\n",
              "    .dataframe thead th {\n",
              "        text-align: right;\n",
              "    }\n",
              "</style>\n",
              "<table border=\"1\" class=\"dataframe\">\n",
              "  <thead>\n",
              "    <tr style=\"text-align: right;\">\n",
              "      <th></th>\n",
              "      <th>close_price</th>\n",
              "    </tr>\n",
              "    <tr>\n",
              "      <th>date</th>\n",
              "      <th></th>\n",
              "    </tr>\n",
              "  </thead>\n",
              "  <tbody>\n",
              "    <tr>\n",
              "      <th>2017-05-03</th>\n",
              "      <td>23.969999</td>\n",
              "    </tr>\n",
              "    <tr>\n",
              "      <th>2017-05-04</th>\n",
              "      <td>23.570000</td>\n",
              "    </tr>\n",
              "    <tr>\n",
              "      <th>2017-05-05</th>\n",
              "      <td>24.000000</td>\n",
              "    </tr>\n",
              "    <tr>\n",
              "      <th>2017-05-08</th>\n",
              "      <td>24.379999</td>\n",
              "    </tr>\n",
              "  </tbody>\n",
              "</table>\n",
              "</div>"
            ],
            "text/plain": [
              "            close_price\n",
              "date                   \n",
              "2017-05-03    23.969999\n",
              "2017-05-04    23.570000\n",
              "2017-05-05    24.000000\n",
              "2017-05-08    24.379999"
            ]
          },
          "metadata": {
            "tags": []
          },
          "execution_count": 36
        }
      ]
    },
    {
      "cell_type": "markdown",
      "metadata": {
        "id": "S2aXl69V_ot8"
      },
      "source": [
        "The Three metrics:"
      ]
    },
    {
      "cell_type": "code",
      "metadata": {
        "colab": {
          "base_uri": "https://localhost:8080/"
        },
        "id": "G61CrKha_tN-",
        "outputId": "33facc17-c7bd-4f7c-97d4-9870653b507c"
      },
      "source": [
        "RMSE_train = np.sqrt(mean_squared_error(trainY_actual_value,trainY_predict_value))\n",
        "RMSE_test = np.sqrt(mean_squared_error(testY_actual_value,testY_predict_value))\n",
        "print('The root mean square error (RMSE) for the train data is %.3f'%RMSE_train)\n",
        "print('The root mean square error (RMSE) for the test data is %.3f'%RMSE_test)"
      ],
      "execution_count": 37,
      "outputs": [
        {
          "output_type": "stream",
          "text": [
            "The root mean square error (RMSE) for the train data is 4.108\n",
            "The root mean square error (RMSE) for the test data is 13.618\n"
          ],
          "name": "stdout"
        }
      ]
    },
    {
      "cell_type": "code",
      "metadata": {
        "colab": {
          "base_uri": "https://localhost:8080/"
        },
        "id": "dZVoFPWN_8mU",
        "outputId": "1860e135-e4cc-4019-b048-fedce4d50b8a"
      },
      "source": [
        "MAE_train = mean_absolute_error(trainY_actual_value,trainY_predict_value)\n",
        "MAE_test = mean_absolute_error(testY_actual_value,testY_predict_value)\n",
        "print('The mean absolute error (MAE) for the train data is %.3f'%MAE_train)\n",
        "print('The mean absolute error (MAE) for the test data is %.3f'%MAE_test)"
      ],
      "execution_count": 38,
      "outputs": [
        {
          "output_type": "stream",
          "text": [
            "The mean absolute error (MAE) for the train data is 3.057\n",
            "The mean absolute error (MAE) for the test data is 3.933\n"
          ],
          "name": "stdout"
        }
      ]
    },
    {
      "cell_type": "code",
      "metadata": {
        "colab": {
          "base_uri": "https://localhost:8080/"
        },
        "id": "ltXJAVElPejE",
        "outputId": "4b3da397-c609-4e7c-d8ab-2b379e11d2bf"
      },
      "source": [
        "R2_train = r2_score(trainY_actual_value,trainY_predict_value)\n",
        "R2_test = r2_score(testY_actual_value,testY_predict_value)\n",
        "print('The coefficient of determination (R^2) for the train data is %.3f'% R2_train)\n",
        "print('The coefficient of determination (R^2) for the test data is %.3f'% R2_test)"
      ],
      "execution_count": 39,
      "outputs": [
        {
          "output_type": "stream",
          "text": [
            "The coefficient of determination (R^2) for the train data is 0.903\n",
            "The coefficient of determination (R^2) for the test data is 0.162\n"
          ],
          "name": "stdout"
        }
      ]
    },
    {
      "cell_type": "code",
      "metadata": {
        "id": "bmORmQlQlT3j",
        "colab": {
          "base_uri": "https://localhost:8080/"
        },
        "outputId": "fb313388-a059-4d84-9549-6d550e273a24"
      },
      "source": [
        "y_var_test=testY_actual_value[1:]-testY_actual_value[:len(testY_actual_value)-1]\n",
        "y_var_predict=testY_predict_value[1:]-testY_predict_value[:len(testY_predict_value)-1]\n",
        "txt=np.zeros(len(y_var_test))\n",
        "for i in range(len(y_var_test)-1):\n",
        "    txt[i]=np.sign(y_var_test[i])==np.sign(y_var_predict[i])\n",
        "result=sum(txt)/len(txt)\n",
        "print('Accuracy of price changing direction:',result)\n"
      ],
      "execution_count": 40,
      "outputs": [
        {
          "output_type": "stream",
          "text": [
            "Accuracy of price changing direction: 0.49415515409139216\n"
          ],
          "name": "stdout"
        }
      ]
    },
    {
      "cell_type": "code",
      "metadata": {
        "id": "dBOIQzTQAa5c"
      },
      "source": [
        ""
      ],
      "execution_count": 40,
      "outputs": []
    },
    {
      "cell_type": "markdown",
      "metadata": {
        "id": "-Yt4WUxbCJ-Y"
      },
      "source": [
        "**Remove the last 11 data (they are increased suddenly)**"
      ]
    },
    {
      "cell_type": "code",
      "metadata": {
        "colab": {
          "base_uri": "https://localhost:8080/",
          "height": 484
        },
        "id": "9HBUk-lhCLZ9",
        "outputId": "eb8cc871-2b5f-4daf-ccbd-fcca3c535344"
      },
      "source": [
        "prediction_plot(testY_actual_value[:-11],testY_predict_value[:-11],'Test Data_without last 11 data',dates_test[:-11])"
      ],
      "execution_count": 41,
      "outputs": [
        {
          "output_type": "display_data",
          "data": {
            "image/png": "[encoded data removed]",
            "text/plain": [
              "<Figure size 792x504 with 1 Axes>"
            ]
          },
          "metadata": {
            "tags": [],
            "needs_background": "light"
          }
        }
      ]
    },
    {
      "cell_type": "code",
      "metadata": {
        "colab": {
          "base_uri": "https://localhost:8080/"
        },
        "id": "zCTGJVkRCUOb",
        "outputId": "65ba9bcf-77ca-48f5-f80c-8673492aff38"
      },
      "source": [
        "RMSE_test = np.sqrt(mean_squared_error(testY_actual_value[:-11],testY_predict_value[:-11]))\n",
        "print('The root mean square error (RMSE) for the test data(without last 11 data) is %.3f'%RMSE_test)"
      ],
      "execution_count": 42,
      "outputs": [
        {
          "output_type": "stream",
          "text": [
            "The root mean square error (RMSE) for the test data(without last 11 data) is 3.509\n"
          ],
          "name": "stdout"
        }
      ]
    },
    {
      "cell_type": "code",
      "metadata": {
        "colab": {
          "base_uri": "https://localhost:8080/"
        },
        "id": "0pmqELP7Cd5s",
        "outputId": "528e50dc-eb86-4eba-f3d7-4adb0f0219f8"
      },
      "source": [
        "MAE_test = mean_absolute_error(testY_actual_value[:-11],testY_predict_value[:-11])\n",
        "print('The mean absolute error (MAE) for the test data(without last 11 data) is %.3f'%MAE_test)"
      ],
      "execution_count": 43,
      "outputs": [
        {
          "output_type": "stream",
          "text": [
            "The mean absolute error (MAE) for the test data(without last 11 data) is 3.078\n"
          ],
          "name": "stdout"
        }
      ]
    },
    {
      "cell_type": "code",
      "metadata": {
        "colab": {
          "base_uri": "https://localhost:8080/"
        },
        "id": "QgJ4_-YPCh_9",
        "outputId": "110abcc6-8545-4638-a04a-9d52e1d7bb55"
      },
      "source": [
        "R2_test = r2_score(testY_actual_value[:-11],testY_predict_value[:-11])\n",
        "print('The coefficient of determination (R^2) for the test data(without last 11 data) is %.3f'% R2_test)"
      ],
      "execution_count": 44,
      "outputs": [
        {
          "output_type": "stream",
          "text": [
            "The coefficient of determination (R^2) for the test data(without last 11 data) is 0.660\n"
          ],
          "name": "stdout"
        }
      ]
    },
    {
      "cell_type": "code",
      "metadata": {
        "id": "liJj4CTACkRO",
        "colab": {
          "base_uri": "https://localhost:8080/"
        },
        "outputId": "428b664a-6b46-4082-9bff-bf7511a0106e"
      },
      "source": [
        "testY_actual_value=testY_actual_value[:-11]\n",
        "testY_predict_value=testY_predict_value[:-11]\n",
        "y_var_test=testY_actual_value[1:]-testY_actual_value[:len(testY_actual_value)-1]\n",
        "y_var_predict=testY_predict_value[1:]-testY_predict_value[:len(testY_predict_value)-1]\n",
        "txt=np.zeros(len(y_var_test))\n",
        "for i in range(len(y_var_test)-1):\n",
        "    txt[i]=np.sign(y_var_test[i])==np.sign(y_var_predict[i])\n",
        "result=sum(txt)/len(txt)\n",
        "print('Accuracy of price changing direction:',result)"
      ],
      "execution_count": 45,
      "outputs": [
        {
          "output_type": "stream",
          "text": [
            "Accuracy of price changing direction: 0.4913978494623656\n"
          ],
          "name": "stdout"
        }
      ]
    },
    {
      "cell_type": "code",
      "metadata": {
        "id": "sbLgKm2mfU0f"
      },
      "source": [
        ""
      ],
      "execution_count": 45,
      "outputs": []
    }
  ]
}