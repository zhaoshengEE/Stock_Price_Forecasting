{
 "cells": [
  {
   "cell_type": "markdown",
   "metadata": {},
   "source": [
    "***\n",
    "##### This module builds a Recurrent Neural Network (RNN) model with Gated Recurrent Unit (GRU) architecture. The main task is to train a GRU model to do stock price forecasting, and the forecasting is about the next-day stock price prediction\n",
    "\n",
    "##### This module split the original data set into training set and test set. After training the GRU model with the training set, the module computes the root mean square error (RMSE) and the coefficient of determination (R<sup>2</sup>) in the test set. Plus, the module computes the accuracy of trend prediction in the test set. In order to improve the data visualization, this module also plots the actual stock price and the predicted stock price on the same figure.\n",
    " \n",
    "##### Authored by Menghong Huang and Zhaosheng Li.\n",
    "***"
   ]
  },
  {
   "cell_type": "markdown",
   "metadata": {},
   "source": [
    "## Importing python packages"
   ]
  },
  {
   "cell_type": "code",
   "execution_count": 1,
   "metadata": {},
   "outputs": [],
   "source": [
    "%matplotlib inline\n",
    "import numpy as np                # advanced math library\n",
    "import matplotlib.pyplot as plt   # MATLAB like plotting routines\n",
    "import pandas as pd               # For loading the data into dataframe\n",
    "\n",
    "# For calculating RMSE, the usage refers to https://stackoverflow.com/a/18623635 \n",
    "from sklearn.metrics import mean_squared_error\n",
    "from math import sqrt\n",
    "\n",
    "# For splitting data set into training and test sets\n",
    "from sklearn.model_selection import train_test_split\n",
    "from math import ceil\n",
    "\n",
    "# For calculating the coefficient of determination (R^2), \n",
    "# the usage refers to https://scikit-learn.org/stable/modules/generated/sklearn.metrics.r2_score.html\n",
    "from sklearn.metrics import r2_score\n",
    "\n",
    "# For applying normalization before feeding the data into the GRU model\n",
    "from sklearn.preprocessing import MinMaxScaler \n",
    "\n",
    "# Import some packages that will be used in modeling GRU\n",
    "import keras\n",
    "from keras.layers import Dense, GRU, Dropout\n",
    "from keras.models import Sequential\n",
    "\n",
    "# For loading the trained model\n",
    "from keras.models import load_model"
   ]
  },
  {
   "cell_type": "markdown",
   "metadata": {},
   "source": [
    "## Loading data into dataframe by using `panda` module"
   ]
  },
  {
   "cell_type": "code",
   "execution_count": 2,
   "metadata": {},
   "outputs": [],
   "source": [
    "df = pd.read_csv(\"data/GME_stock.csv\")"
   ]
  },
  {
   "cell_type": "markdown",
   "metadata": {},
   "source": [
    "### Preserving the data into a datetime variable for later plotting"
   ]
  },
  {
   "cell_type": "code",
   "execution_count": 3,
   "metadata": {},
   "outputs": [],
   "source": [
    "date = pd.to_datetime(df['date'])"
   ]
  },
  {
   "cell_type": "markdown",
   "metadata": {},
   "source": [
    "### Reset the index of dataframe as 'date'"
   ]
  },
  {
   "cell_type": "code",
   "execution_count": 4,
   "metadata": {},
   "outputs": [],
   "source": [
    "df.reset_index(inplace = True)\n",
    "df.set_index(\"date\", inplace = True)"
   ]
  },
  {
   "cell_type": "code",
   "execution_count": 5,
   "metadata": {},
   "outputs": [
    {
     "data": {
      "text/html": [
       "<div>\n",
       "<style scoped>\n",
       "    .dataframe tbody tr th:only-of-type {\n",
       "        vertical-align: middle;\n",
       "    }\n",
       "\n",
       "    .dataframe tbody tr th {\n",
       "        vertical-align: top;\n",
       "    }\n",
       "\n",
       "    .dataframe thead th {\n",
       "        text-align: right;\n",
       "    }\n",
       "</style>\n",
       "<table border=\"1\" class=\"dataframe\">\n",
       "  <thead>\n",
       "    <tr style=\"text-align: right;\">\n",
       "      <th></th>\n",
       "      <th>index</th>\n",
       "      <th>open_price</th>\n",
       "      <th>high_price</th>\n",
       "      <th>low_price</th>\n",
       "      <th>close_price</th>\n",
       "      <th>volume</th>\n",
       "      <th>adjclose_price</th>\n",
       "    </tr>\n",
       "    <tr>\n",
       "      <th>date</th>\n",
       "      <th></th>\n",
       "      <th></th>\n",
       "      <th></th>\n",
       "      <th></th>\n",
       "      <th></th>\n",
       "      <th></th>\n",
       "      <th></th>\n",
       "    </tr>\n",
       "  </thead>\n",
       "  <tbody>\n",
       "    <tr>\n",
       "      <th>2002-02-13</th>\n",
       "      <td>0</td>\n",
       "      <td>9.625</td>\n",
       "      <td>10.060</td>\n",
       "      <td>9.525</td>\n",
       "      <td>10.050</td>\n",
       "      <td>19054000</td>\n",
       "      <td>6.766666</td>\n",
       "    </tr>\n",
       "    <tr>\n",
       "      <th>2002-02-14</th>\n",
       "      <td>1</td>\n",
       "      <td>10.175</td>\n",
       "      <td>10.195</td>\n",
       "      <td>9.925</td>\n",
       "      <td>10.000</td>\n",
       "      <td>2755400</td>\n",
       "      <td>6.733003</td>\n",
       "    </tr>\n",
       "    <tr>\n",
       "      <th>2002-02-15</th>\n",
       "      <td>2</td>\n",
       "      <td>10.000</td>\n",
       "      <td>10.025</td>\n",
       "      <td>9.850</td>\n",
       "      <td>9.950</td>\n",
       "      <td>2097400</td>\n",
       "      <td>6.699336</td>\n",
       "    </tr>\n",
       "    <tr>\n",
       "      <th>2002-02-19</th>\n",
       "      <td>3</td>\n",
       "      <td>9.900</td>\n",
       "      <td>9.900</td>\n",
       "      <td>9.375</td>\n",
       "      <td>9.550</td>\n",
       "      <td>1852600</td>\n",
       "      <td>6.430017</td>\n",
       "    </tr>\n",
       "    <tr>\n",
       "      <th>2002-02-20</th>\n",
       "      <td>4</td>\n",
       "      <td>9.600</td>\n",
       "      <td>9.875</td>\n",
       "      <td>9.525</td>\n",
       "      <td>9.875</td>\n",
       "      <td>1723200</td>\n",
       "      <td>6.648838</td>\n",
       "    </tr>\n",
       "  </tbody>\n",
       "</table>\n",
       "</div>"
      ],
      "text/plain": [
       "            index  open_price  high_price  low_price  close_price    volume  \\\n",
       "date                                                                          \n",
       "2002-02-13      0       9.625      10.060      9.525       10.050  19054000   \n",
       "2002-02-14      1      10.175      10.195      9.925       10.000   2755400   \n",
       "2002-02-15      2      10.000      10.025      9.850        9.950   2097400   \n",
       "2002-02-19      3       9.900       9.900      9.375        9.550   1852600   \n",
       "2002-02-20      4       9.600       9.875      9.525        9.875   1723200   \n",
       "\n",
       "            adjclose_price  \n",
       "date                        \n",
       "2002-02-13        6.766666  \n",
       "2002-02-14        6.733003  \n",
       "2002-02-15        6.699336  \n",
       "2002-02-19        6.430017  \n",
       "2002-02-20        6.648838  "
      ]
     },
     "execution_count": 5,
     "metadata": {},
     "output_type": "execute_result"
    }
   ],
   "source": [
    "df.head()"
   ]
  },
  {
   "cell_type": "markdown",
   "metadata": {},
   "source": [
    "## Set the `close price` as label"
   ]
  },
  {
   "cell_type": "code",
   "execution_count": 6,
   "metadata": {},
   "outputs": [],
   "source": [
    "close_price = df[['close_price']]"
   ]
  },
  {
   "cell_type": "code",
   "execution_count": 7,
   "metadata": {},
   "outputs": [
    {
     "data": {
      "text/html": [
       "<div>\n",
       "<style scoped>\n",
       "    .dataframe tbody tr th:only-of-type {\n",
       "        vertical-align: middle;\n",
       "    }\n",
       "\n",
       "    .dataframe tbody tr th {\n",
       "        vertical-align: top;\n",
       "    }\n",
       "\n",
       "    .dataframe thead th {\n",
       "        text-align: right;\n",
       "    }\n",
       "</style>\n",
       "<table border=\"1\" class=\"dataframe\">\n",
       "  <thead>\n",
       "    <tr style=\"text-align: right;\">\n",
       "      <th></th>\n",
       "      <th>close_price</th>\n",
       "    </tr>\n",
       "    <tr>\n",
       "      <th>date</th>\n",
       "      <th></th>\n",
       "    </tr>\n",
       "  </thead>\n",
       "  <tbody>\n",
       "    <tr>\n",
       "      <th>2002-02-13</th>\n",
       "      <td>10.050</td>\n",
       "    </tr>\n",
       "    <tr>\n",
       "      <th>2002-02-14</th>\n",
       "      <td>10.000</td>\n",
       "    </tr>\n",
       "    <tr>\n",
       "      <th>2002-02-15</th>\n",
       "      <td>9.950</td>\n",
       "    </tr>\n",
       "    <tr>\n",
       "      <th>2002-02-19</th>\n",
       "      <td>9.550</td>\n",
       "    </tr>\n",
       "    <tr>\n",
       "      <th>2002-02-20</th>\n",
       "      <td>9.875</td>\n",
       "    </tr>\n",
       "  </tbody>\n",
       "</table>\n",
       "</div>"
      ],
      "text/plain": [
       "            close_price\n",
       "date                   \n",
       "2002-02-13       10.050\n",
       "2002-02-14       10.000\n",
       "2002-02-15        9.950\n",
       "2002-02-19        9.550\n",
       "2002-02-20        9.875"
      ]
     },
     "execution_count": 7,
     "metadata": {},
     "output_type": "execute_result"
    }
   ],
   "source": [
    "close_price.head()"
   ]
  },
  {
   "cell_type": "markdown",
   "metadata": {},
   "source": [
    "## Normalizing all the features and label to avoid overfitting"
   ]
  },
  {
   "cell_type": "code",
   "execution_count": 8,
   "metadata": {},
   "outputs": [],
   "source": [
    "scaler = MinMaxScaler(feature_range = (0,1))"
   ]
  },
  {
   "cell_type": "code",
   "execution_count": 9,
   "metadata": {},
   "outputs": [],
   "source": [
    "df_scaled = scaler.fit_transform(df.values)[:, 1:]\n",
    "close_price = scaler.fit_transform(close_price.values)"
   ]
  },
  {
   "cell_type": "markdown",
   "metadata": {},
   "source": [
    "## Initializing the time step for GRU"
   ]
  },
  {
   "cell_type": "code",
   "execution_count": 10,
   "metadata": {},
   "outputs": [],
   "source": [
    "time_steps = 4"
   ]
  },
  {
   "cell_type": "markdown",
   "metadata": {},
   "source": [
    "## Loading all the features and label from dataframe to list"
   ]
  },
  {
   "cell_type": "code",
   "execution_count": 11,
   "metadata": {},
   "outputs": [],
   "source": [
    "X = []\n",
    "y = []\n",
    "for index in range(time_steps, df_scaled.shape[0]):\n",
    "    X.append(df_scaled[index - time_steps:index, :])\n",
    "    y.append(close_price[index, :])"
   ]
  },
  {
   "cell_type": "markdown",
   "metadata": {},
   "source": [
    "## Initializing the number of features for GRU"
   ]
  },
  {
   "cell_type": "code",
   "execution_count": 12,
   "metadata": {},
   "outputs": [
    {
     "data": {
      "text/plain": [
       "6"
      ]
     },
     "execution_count": 12,
     "metadata": {},
     "output_type": "execute_result"
    }
   ],
   "source": [
    "features = X[0].shape[1]\n",
    "features"
   ]
  },
  {
   "cell_type": "markdown",
   "metadata": {},
   "source": [
    "## Splitting the dataset into training and test sets"
   ]
  },
  {
   "cell_type": "code",
   "execution_count": 13,
   "metadata": {},
   "outputs": [],
   "source": [
    "X_train, X_test, y_train, y_test = train_test_split(X, y, test_size = 0.2, shuffle = False)"
   ]
  },
  {
   "cell_type": "code",
   "execution_count": 14,
   "metadata": {},
   "outputs": [],
   "source": [
    "split_date_index = time_steps - 1 + len(X_train)  # The 'date' splits the dataset into the two sets\n",
    "\n",
    "dates_training = date[time_steps - 1:split_date_index]\n",
    "dates_test = date[split_date_index:split_date_index + len(X_test)]"
   ]
  },
  {
   "cell_type": "markdown",
   "metadata": {},
   "source": [
    "## Loading the trained GRU model"
   ]
  },
  {
   "cell_type": "code",
   "execution_count": 15,
   "metadata": {},
   "outputs": [],
   "source": [
    "model = load_model('GRU_Model/GRU_1_model.h5')"
   ]
  },
  {
   "cell_type": "markdown",
   "metadata": {},
   "source": [
    "## Building the GRU model"
   ]
  },
  {
   "cell_type": "markdown",
   "metadata": {},
   "source": [
    "##### If you have already loaded the GRU model in the `Load the trained GRU model` section, please feel free to skip this step"
   ]
  },
  {
   "cell_type": "code",
   "execution_count": 16,
   "metadata": {},
   "outputs": [
    {
     "name": "stdout",
     "output_type": "stream",
     "text": [
      "Model: \"sequential\"\n",
      "_________________________________________________________________\n",
      "Layer (type)                 Output Shape              Param #   \n",
      "=================================================================\n",
      "gru (GRU)                    (None, 4, 64)             13824     \n",
      "_________________________________________________________________\n",
      "dropout (Dropout)            (None, 4, 64)             0         \n",
      "_________________________________________________________________\n",
      "gru_1 (GRU)                  (None, 4, 64)             24960     \n",
      "_________________________________________________________________\n",
      "dropout_1 (Dropout)          (None, 4, 64)             0         \n",
      "_________________________________________________________________\n",
      "gru_2 (GRU)                  (None, 64)                24960     \n",
      "_________________________________________________________________\n",
      "dropout_2 (Dropout)          (None, 64)                0         \n",
      "_________________________________________________________________\n",
      "dense (Dense)                (None, 1)                 65        \n",
      "=================================================================\n",
      "Total params: 63,809\n",
      "Trainable params: 63,809\n",
      "Non-trainable params: 0\n",
      "_________________________________________________________________\n"
     ]
    }
   ],
   "source": [
    "model = Sequential()\n",
    "\n",
    "model.add(GRU(units = 64, return_sequences = True, input_shape = (time_steps, features)))\n",
    "model.add(Dropout(0.2))\n",
    "model.add(GRU(units = 64, return_sequences = True))\n",
    "model.add(Dropout(0.2))\n",
    "model.add(GRU(units = 64))\n",
    "model.add(Dropout(0.2))\n",
    "model.add(Dense(units = 1))\n",
    "\n",
    "model.summary()\n",
    "model.compile(optimizer = 'adam', loss = 'mean_squared_error')"
   ]
  },
  {
   "cell_type": "markdown",
   "metadata": {},
   "source": [
    "## Training the GRU model"
   ]
  },
  {
   "cell_type": "markdown",
   "metadata": {},
   "source": [
    "##### If you have already loaded the GRU model in the `Load the trained GRU model` section, please feel free to skip this step"
   ]
  },
  {
   "cell_type": "code",
   "execution_count": 17,
   "metadata": {},
   "outputs": [
    {
     "name": "stdout",
     "output_type": "stream",
     "text": [
      "Epoch 1/100\n",
      "120/120 [==============================] - 10s 11ms/step - loss: 8.2795e-04\n",
      "Epoch 2/100\n",
      "120/120 [==============================] - 1s 11ms/step - loss: 7.0653e-05\n",
      "Epoch 3/100\n",
      "120/120 [==============================] - 1s 10ms/step - loss: 5.3605e-05\n",
      "Epoch 4/100\n",
      "120/120 [==============================] - 1s 11ms/step - loss: 4.9842e-05: 0s - loss: 5\n",
      "Epoch 5/100\n",
      "120/120 [==============================] - 1s 10ms/step - loss: 4.7561e-05\n",
      "Epoch 6/100\n",
      "120/120 [==============================] - 1s 10ms/step - loss: 4.1428e-05\n",
      "Epoch 7/100\n",
      "120/120 [==============================] - 1s 10ms/step - loss: 3.9350e-05\n",
      "Epoch 8/100\n",
      "120/120 [==============================] - 1s 10ms/step - loss: 4.0558e-05\n",
      "Epoch 9/100\n",
      "120/120 [==============================] - 1s 11ms/step - loss: 4.0008e-05\n",
      "Epoch 10/100\n",
      "120/120 [==============================] - 1s 11ms/step - loss: 4.0293e-05\n",
      "Epoch 11/100\n",
      "120/120 [==============================] - 1s 10ms/step - loss: 3.3828e-05\n",
      "Epoch 12/100\n",
      "120/120 [==============================] - 1s 11ms/step - loss: 2.6933e-05\n",
      "Epoch 13/100\n",
      "120/120 [==============================] - 1s 10ms/step - loss: 2.7695e-05\n",
      "Epoch 14/100\n",
      "120/120 [==============================] - 1s 10ms/step - loss: 2.9691e-05\n",
      "Epoch 15/100\n",
      "120/120 [==============================] - 1s 11ms/step - loss: 2.8191e-05\n",
      "Epoch 16/100\n",
      "120/120 [==============================] - 1s 10ms/step - loss: 2.8120e-05\n",
      "Epoch 17/100\n",
      "120/120 [==============================] - 1s 10ms/step - loss: 3.0911e-05\n",
      "Epoch 18/100\n",
      "120/120 [==============================] - 1s 11ms/step - loss: 2.9398e-05\n",
      "Epoch 19/100\n",
      "120/120 [==============================] - 1s 11ms/step - loss: 2.5099e-05\n",
      "Epoch 20/100\n",
      "120/120 [==============================] - 1s 11ms/step - loss: 2.1618e-05\n",
      "Epoch 21/100\n",
      "120/120 [==============================] - 1s 11ms/step - loss: 2.6655e-05\n",
      "Epoch 22/100\n",
      "120/120 [==============================] - 1s 10ms/step - loss: 2.4270e-05\n",
      "Epoch 23/100\n",
      "120/120 [==============================] - 1s 11ms/step - loss: 2.6252e-05\n",
      "Epoch 24/100\n",
      "120/120 [==============================] - 1s 11ms/step - loss: 2.4615e-05\n",
      "Epoch 25/100\n",
      "120/120 [==============================] - 1s 10ms/step - loss: 2.3754e-05\n",
      "Epoch 26/100\n",
      "120/120 [==============================] - 1s 10ms/step - loss: 2.2246e-05\n",
      "Epoch 27/100\n",
      "120/120 [==============================] - 1s 10ms/step - loss: 2.4030e-05\n",
      "Epoch 28/100\n",
      "120/120 [==============================] - 1s 10ms/step - loss: 2.5332e-05\n",
      "Epoch 29/100\n",
      "120/120 [==============================] - 1s 10ms/step - loss: 2.1906e-05\n",
      "Epoch 30/100\n",
      "120/120 [==============================] - 1s 10ms/step - loss: 3.1539e-05\n",
      "Epoch 31/100\n",
      "120/120 [==============================] - 1s 11ms/step - loss: 2.2695e-05\n",
      "Epoch 32/100\n",
      "120/120 [==============================] - 1s 10ms/step - loss: 2.3132e-05\n",
      "Epoch 33/100\n",
      "120/120 [==============================] - 1s 10ms/step - loss: 2.3287e-05\n",
      "Epoch 34/100\n",
      "120/120 [==============================] - 1s 11ms/step - loss: 2.5101e-05\n",
      "Epoch 35/100\n",
      "120/120 [==============================] - 1s 10ms/step - loss: 2.5292e-05\n",
      "Epoch 36/100\n",
      "120/120 [==============================] - 1s 10ms/step - loss: 2.0725e-05\n",
      "Epoch 37/100\n",
      "120/120 [==============================] - 1s 10ms/step - loss: 1.9749e-05\n",
      "Epoch 38/100\n",
      "120/120 [==============================] - 1s 10ms/step - loss: 2.1819e-05\n",
      "Epoch 39/100\n",
      "120/120 [==============================] - 1s 10ms/step - loss: 2.0251e-05\n",
      "Epoch 40/100\n",
      "120/120 [==============================] - 1s 10ms/step - loss: 2.4209e-05\n",
      "Epoch 41/100\n",
      "120/120 [==============================] - 1s 10ms/step - loss: 2.2313e-05\n",
      "Epoch 42/100\n",
      "120/120 [==============================] - 1s 10ms/step - loss: 2.2885e-05\n",
      "Epoch 43/100\n",
      "120/120 [==============================] - 1s 10ms/step - loss: 2.3818e-05\n",
      "Epoch 44/100\n",
      "120/120 [==============================] - 1s 10ms/step - loss: 1.9413e-05\n",
      "Epoch 45/100\n",
      "120/120 [==============================] - 1s 10ms/step - loss: 2.2763e-05: 0s - loss: 2.2\n",
      "Epoch 46/100\n",
      "120/120 [==============================] - 1s 10ms/step - loss: 2.0748e-05\n",
      "Epoch 47/100\n",
      "120/120 [==============================] - 1s 10ms/step - loss: 2.2097e-05\n",
      "Epoch 48/100\n",
      "120/120 [==============================] - 1s 10ms/step - loss: 2.1743e-05\n",
      "Epoch 49/100\n",
      "120/120 [==============================] - 1s 10ms/step - loss: 2.1087e-05\n",
      "Epoch 50/100\n",
      "120/120 [==============================] - 1s 10ms/step - loss: 2.1502e-05\n",
      "Epoch 51/100\n",
      "120/120 [==============================] - 1s 11ms/step - loss: 2.0562e-05: \n",
      "Epoch 52/100\n",
      "120/120 [==============================] - 1s 12ms/step - loss: 2.4632e-05\n",
      "Epoch 53/100\n",
      "120/120 [==============================] - 1s 11ms/step - loss: 1.9023e-05\n",
      "Epoch 54/100\n",
      "120/120 [==============================] - 1s 11ms/step - loss: 2.2898e-05\n",
      "Epoch 55/100\n",
      "120/120 [==============================] - 1s 10ms/step - loss: 2.0929e-05\n",
      "Epoch 56/100\n",
      "120/120 [==============================] - 1s 10ms/step - loss: 2.1276e-05\n",
      "Epoch 57/100\n",
      "120/120 [==============================] - 1s 11ms/step - loss: 2.0643e-05\n",
      "Epoch 58/100\n",
      "120/120 [==============================] - 1s 11ms/step - loss: 1.9787e-05\n",
      "Epoch 59/100\n",
      "120/120 [==============================] - 1s 10ms/step - loss: 2.3825e-05\n",
      "Epoch 60/100\n",
      "120/120 [==============================] - 1s 11ms/step - loss: 1.9748e-05\n",
      "Epoch 61/100\n",
      "120/120 [==============================] - 1s 10ms/step - loss: 2.1184e-05\n",
      "Epoch 62/100\n",
      "120/120 [==============================] - 1s 10ms/step - loss: 1.8416e-05\n",
      "Epoch 63/100\n",
      "120/120 [==============================] - 1s 10ms/step - loss: 1.8484e-05\n",
      "Epoch 64/100\n",
      "120/120 [==============================] - 1s 10ms/step - loss: 1.9534e-05\n",
      "Epoch 65/100\n",
      "120/120 [==============================] - 1s 10ms/step - loss: 1.9757e-05\n",
      "Epoch 66/100\n",
      "120/120 [==============================] - 1s 11ms/step - loss: 1.9430e-05\n",
      "Epoch 67/100\n",
      "120/120 [==============================] - 1s 12ms/step - loss: 2.3123e-05\n",
      "Epoch 68/100\n",
      "120/120 [==============================] - 1s 11ms/step - loss: 1.8214e-05: 0s - loss: 1.8129\n",
      "Epoch 69/100\n",
      "120/120 [==============================] - 1s 11ms/step - loss: 2.0806e-05\n",
      "Epoch 70/100\n",
      "120/120 [==============================] - 1s 11ms/step - loss: 1.9505e-05\n",
      "Epoch 71/100\n",
      "120/120 [==============================] - 1s 11ms/step - loss: 2.2154e-05\n",
      "Epoch 72/100\n",
      "120/120 [==============================] - 1s 11ms/step - loss: 1.8423e-05\n",
      "Epoch 73/100\n",
      "120/120 [==============================] - 1s 11ms/step - loss: 2.1473e-05\n",
      "Epoch 74/100\n",
      "120/120 [==============================] - 1s 11ms/step - loss: 1.7469e-05\n",
      "Epoch 75/100\n",
      "120/120 [==============================] - 1s 12ms/step - loss: 2.1126e-05\n",
      "Epoch 76/100\n",
      "120/120 [==============================] - 1s 11ms/step - loss: 2.1372e-05\n",
      "Epoch 77/100\n",
      "120/120 [==============================] - 1s 11ms/step - loss: 2.1746e-05\n",
      "Epoch 78/100\n",
      "120/120 [==============================] - 1s 11ms/step - loss: 1.9990e-05\n",
      "Epoch 79/100\n",
      "120/120 [==============================] - 1s 11ms/step - loss: 1.8458e-05\n",
      "Epoch 80/100\n",
      "120/120 [==============================] - 1s 11ms/step - loss: 1.9621e-05\n",
      "Epoch 81/100\n",
      "120/120 [==============================] - 1s 11ms/step - loss: 1.7359e-05\n",
      "Epoch 82/100\n",
      "120/120 [==============================] - 1s 11ms/step - loss: 1.9246e-05\n",
      "Epoch 83/100\n",
      "120/120 [==============================] - 1s 11ms/step - loss: 2.0170e-05\n",
      "Epoch 84/100\n",
      "120/120 [==============================] - 1s 11ms/step - loss: 2.0181e-05\n",
      "Epoch 85/100\n",
      "120/120 [==============================] - 1s 10ms/step - loss: 2.1091e-05\n",
      "Epoch 86/100\n",
      "120/120 [==============================] - 1s 11ms/step - loss: 1.7866e-05:\n",
      "Epoch 87/100\n",
      "120/120 [==============================] - 1s 11ms/step - loss: 2.3127e-05\n",
      "Epoch 88/100\n",
      "120/120 [==============================] - 1s 11ms/step - loss: 2.0102e-05\n",
      "Epoch 89/100\n",
      "120/120 [==============================] - 1s 11ms/step - loss: 1.9242e-05\n",
      "Epoch 90/100\n",
      "120/120 [==============================] - 1s 11ms/step - loss: 1.9913e-05\n",
      "Epoch 91/100\n",
      "120/120 [==============================] - 1s 11ms/step - loss: 1.9108e-05\n",
      "Epoch 92/100\n",
      "120/120 [==============================] - 1s 10ms/step - loss: 2.0733e-05\n",
      "Epoch 93/100\n",
      "120/120 [==============================] - 1s 11ms/step - loss: 1.9530e-05\n",
      "Epoch 94/100\n",
      "120/120 [==============================] - 1s 11ms/step - loss: 1.9463e-05\n",
      "Epoch 95/100\n",
      "120/120 [==============================] - 1s 11ms/step - loss: 1.9171e-05\n",
      "Epoch 96/100\n",
      "120/120 [==============================] - 1s 11ms/step - loss: 2.2191e-05\n",
      "Epoch 97/100\n",
      "120/120 [==============================] - 1s 11ms/step - loss: 1.8551e-05\n",
      "Epoch 98/100\n",
      "120/120 [==============================] - 1s 11ms/step - loss: 2.1010e-05\n",
      "Epoch 99/100\n",
      "120/120 [==============================] - 1s 11ms/step - loss: 2.3326e-05\n",
      "Epoch 100/100\n",
      "120/120 [==============================] - 1s 11ms/step - loss: 2.3165e-05: \n"
     ]
    },
    {
     "data": {
      "text/plain": [
       "<tensorflow.python.keras.callbacks.History at 0x20f5e169c40>"
      ]
     },
     "execution_count": 17,
     "metadata": {},
     "output_type": "execute_result"
    }
   ],
   "source": [
    "model.fit(np.array(X_train), np.array(y_train), epochs = 100)"
   ]
  },
  {
   "cell_type": "markdown",
   "metadata": {},
   "source": [
    "## Save the trained GRU model"
   ]
  },
  {
   "cell_type": "markdown",
   "metadata": {},
   "source": [
    "##### If you have already loaded the GRU model in the `Load the trained GRU model` section, please feel free to skip this step"
   ]
  },
  {
   "cell_type": "code",
   "execution_count": 18,
   "metadata": {},
   "outputs": [],
   "source": [
    "model.save('GRU_Model/GRU_1_model.h5')"
   ]
  },
  {
   "cell_type": "markdown",
   "metadata": {},
   "source": [
    "## Plotting the actual price and predicted price in the training set"
   ]
  },
  {
   "cell_type": "markdown",
   "metadata": {},
   "source": [
    "### Denormalizing the training data"
   ]
  },
  {
   "cell_type": "code",
   "execution_count": 19,
   "metadata": {},
   "outputs": [],
   "source": [
    "train_predicted_value = scaler.inverse_transform(model.predict(np.array(X_train)))\n",
    "train_actual_value = scaler.inverse_transform(np.array(y_train))"
   ]
  },
  {
   "cell_type": "markdown",
   "metadata": {},
   "source": [
    "### Making the plot"
   ]
  },
  {
   "cell_type": "code",
   "execution_count": 20,
   "metadata": {},
   "outputs": [
    {
     "data": {
      "image/png": "[encoded data removed]",
      "text/plain": [
       "<Figure size 792x504 with 1 Axes>"
      ]
     },
     "metadata": {
      "needs_background": "light"
     },
     "output_type": "display_data"
    }
   ],
   "source": [
    "plt.figure(figsize = (11, 7))\n",
    "plt.plot(dates_training, train_actual_value, color= 'blue', label= 'Actual price')\n",
    "plt.plot(dates_training, train_predicted_value, color= 'red', label= 'Predicted price') \n",
    "plt.xlabel('Date')\n",
    "plt.ylabel('Price')\n",
    "plt.title('Training result of next-day forcasting via GRU')\n",
    "plt.legend()\n",
    "plt.savefig('img/GRU_1_training_result.png')\n",
    "plt.show()"
   ]
  },
  {
   "cell_type": "markdown",
   "metadata": {},
   "source": [
    "## Plotting the actual price and predicted price in the test set"
   ]
  },
  {
   "cell_type": "markdown",
   "metadata": {},
   "source": [
    "### Denormalizing the test data"
   ]
  },
  {
   "cell_type": "code",
   "execution_count": 21,
   "metadata": {},
   "outputs": [],
   "source": [
    "test_predicted_value = scaler.inverse_transform(model.predict(np.array(X_test)))\n",
    "test_actual_value = scaler.inverse_transform(np.array(y_test))"
   ]
  },
  {
   "cell_type": "markdown",
   "metadata": {},
   "source": [
    "### Making the plot"
   ]
  },
  {
   "cell_type": "code",
   "execution_count": 22,
   "metadata": {},
   "outputs": [
    {
     "data": {
      "image/png": "[encoded data removed]",
      "text/plain": [
       "<Figure size 792x504 with 1 Axes>"
      ]
     },
     "metadata": {
      "needs_background": "light"
     },
     "output_type": "display_data"
    }
   ],
   "source": [
    "plt.figure(figsize = (11, 7))\n",
    "plt.plot(dates_test, test_actual_value, color= 'blue', label= 'Actual price')\n",
    "plt.plot(dates_test, test_predicted_value, color= 'red', label= 'Predicted price') \n",
    "plt.xlabel('Date')\n",
    "plt.ylabel('Price')\n",
    "plt.title('The next-day stock price forcasting via GRU')\n",
    "plt.legend()\n",
    "plt.savefig('img/GRU_1_test_result.png')\n",
    "plt.show()"
   ]
  },
  {
   "cell_type": "markdown",
   "metadata": {},
   "source": [
    "### Computing the root mean square error (RMSE)"
   ]
  },
  {
   "cell_type": "code",
   "execution_count": 23,
   "metadata": {},
   "outputs": [
    {
     "name": "stdout",
     "output_type": "stream",
     "text": [
      "The root mean square error (RMSE) for the GRU model is 8.307225480464616\n"
     ]
    }
   ],
   "source": [
    "RMSE = sqrt(mean_squared_error(test_actual_value, test_predicted_value))\n",
    "print(f'The root mean square error (RMSE) for the GRU model is {RMSE}')"
   ]
  },
  {
   "cell_type": "markdown",
   "metadata": {},
   "source": [
    "### Computing the coefficient of determination (R<sup>2</sup>)"
   ]
  },
  {
   "cell_type": "code",
   "execution_count": 24,
   "metadata": {},
   "outputs": [
    {
     "name": "stdout",
     "output_type": "stream",
     "text": [
      "The coefficient of determination (R^2) for the GRU model is 0.685937421305086\n"
     ]
    }
   ],
   "source": [
    "R_2 = r2_score(test_actual_value, test_predicted_value)\n",
    "print(f'The coefficient of determination (R^2) for the GRU model is {R_2}')"
   ]
  },
  {
   "cell_type": "markdown",
   "metadata": {},
   "source": [
    "### Building a function to compute the trend prediction accuracy"
   ]
  },
  {
   "cell_type": "code",
   "execution_count": 25,
   "metadata": {},
   "outputs": [],
   "source": [
    "def accForTrendPredict(test_actual_value, test_predicted_value):\n",
    "    y_var_test = test_actual_value[1:] - test_actual_value[:len(test_actual_value)-1]\n",
    "    y_var_predict = test_predicted_value[1:] - test_predicted_value[:len(test_predicted_value)-1]\n",
    "\n",
    "    return (np.sum(np.sign(y_var_test) == np.sign(y_var_predict)) / len(y_var_test)) * 100"
   ]
  },
  {
   "cell_type": "markdown",
   "metadata": {},
   "source": [
    "### Computing the accuracy of trend prediction"
   ]
  },
  {
   "cell_type": "code",
   "execution_count": 26,
   "metadata": {},
   "outputs": [
    {
     "name": "stdout",
     "output_type": "stream",
     "text": [
      "The accuracy of trend prediction is 50.05246589716684%\n"
     ]
    }
   ],
   "source": [
    "acc_trend_prediction = accForTrendPredict(test_actual_value, test_predicted_value)\n",
    "print(f'The accuracy of trend prediction is {acc_trend_prediction}%')"
   ]
  },
  {
   "cell_type": "markdown",
   "metadata": {},
   "source": [
    "## Removing the last 11 days"
   ]
  },
  {
   "cell_type": "markdown",
   "metadata": {},
   "source": [
    "### Denormalizing the test data without the last 11 days"
   ]
  },
  {
   "cell_type": "code",
   "execution_count": 27,
   "metadata": {},
   "outputs": [],
   "source": [
    "test_predicted_value = scaler.inverse_transform(model.predict(np.array(X_test[:-11])))\n",
    "test_actual_value = scaler.inverse_transform(np.array(y_test[:-11]))"
   ]
  },
  {
   "cell_type": "markdown",
   "metadata": {},
   "source": [
    "### Making the plot"
   ]
  },
  {
   "cell_type": "code",
   "execution_count": 28,
   "metadata": {},
   "outputs": [
    {
     "data": {
      "image/png": "[encoded data removed]",
      "text/plain": [
       "<Figure size 792x504 with 1 Axes>"
      ]
     },
     "metadata": {
      "needs_background": "light"
     },
     "output_type": "display_data"
    }
   ],
   "source": [
    "plt.figure(figsize = (11, 7))\n",
    "plt.plot(dates_test[:-11], test_actual_value, color= 'blue', label= 'Actual price')\n",
    "plt.plot(dates_test[:-11], test_predicted_value, color= 'red', label= 'Predicted price') \n",
    "plt.xlabel('Date')\n",
    "plt.ylabel('Price')\n",
    "plt.title('The next-day stock price forcasting without the last 11 days via GRU')\n",
    "plt.legend()\n",
    "plt.savefig('img/GRU_1_without_last_11_days.png')\n",
    "plt.show()"
   ]
  },
  {
   "cell_type": "markdown",
   "metadata": {},
   "source": [
    "### Computing the root mean square error (RMSE)"
   ]
  },
  {
   "cell_type": "code",
   "execution_count": 29,
   "metadata": {},
   "outputs": [
    {
     "name": "stdout",
     "output_type": "stream",
     "text": [
      "The root mean square error (RMSE) for the GRU model is 0.6627560380273391\n"
     ]
    }
   ],
   "source": [
    "RMSE = sqrt(mean_squared_error(test_actual_value, test_predicted_value))\n",
    "print(f'The root mean square error (RMSE) for the GRU model is {RMSE}')"
   ]
  },
  {
   "cell_type": "markdown",
   "metadata": {},
   "source": [
    "### Computing the coefficient of determination (R<sup>2</sup>)"
   ]
  },
  {
   "cell_type": "code",
   "execution_count": 30,
   "metadata": {},
   "outputs": [
    {
     "name": "stdout",
     "output_type": "stream",
     "text": [
      "The coefficient of determination (R^2) for the GRU model is 0.9882391594479066\n"
     ]
    }
   ],
   "source": [
    "R_2 = r2_score(test_actual_value, test_predicted_value)\n",
    "print(f'The coefficient of determination (R^2) for the GRU model is {R_2}')"
   ]
  },
  {
   "cell_type": "markdown",
   "metadata": {},
   "source": [
    "### Computing the accuracy of trend prediction"
   ]
  },
  {
   "cell_type": "code",
   "execution_count": 31,
   "metadata": {},
   "outputs": [
    {
     "name": "stdout",
     "output_type": "stream",
     "text": [
      "The accuracy of trend prediction is 49.78768577494692%\n"
     ]
    }
   ],
   "source": [
    "acc_trend_prediction = accForTrendPredict(test_actual_value, test_predicted_value)\n",
    "print(f'The accuracy of trend prediction is {acc_trend_prediction}%')"
   ]
  }
 ],
 "metadata": {
  "kernelspec": {
   "display_name": "Python 3",
   "language": "python",
   "name": "python3"
  },
  "language_info": {
   "codemirror_mode": {
    "name": "ipython",
    "version": 3
   },
   "file_extension": ".py",
   "mimetype": "text/x-python",
   "name": "python",
   "nbconvert_exporter": "python",
   "pygments_lexer": "ipython3",
   "version": "3.8.3"
  }
 },
 "nbformat": 4,
 "nbformat_minor": 4
}
