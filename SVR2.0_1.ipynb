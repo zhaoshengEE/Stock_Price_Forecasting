{
 "cells": [
  {
   "cell_type": "markdown",
   "metadata": {},
   "source": [
    "***\n",
    "##### This module builds a Support Vector Regression (SVR) model, whose kernel function is radial basis fucntion. The main task is to train a SVR model to do stock price forecasting, and the forecasting is about the next-day stock price prediction. \n",
    "\n",
    "##### This module splits the original data set into training set and test set. After training the SVR model with the training set, the module computes the root mean square error (RMSE) and the coefficient of determination (R<sup>2</sup>) in the test set. Plus, the module computes the accuracy of trend prediction in the test set. In order to improve the data visualization, this module also plots the actual stock price and the predicted stock price on the same figure.\n",
    "\n",
    "##### To make comparison, this module also trains a Linear Regression model to do the same type of forecasting.\n",
    " \n",
    "##### Authored by Menghong Huang and Zhaosheng Li.\n",
    "***"
   ]
  },
  {
   "cell_type": "markdown",
   "metadata": {},
   "source": [
    "## Importing python packages"
   ]
  },
  {
   "cell_type": "code",
   "execution_count": 1,
   "metadata": {},
   "outputs": [],
   "source": [
    "%matplotlib inline\n",
    "import numpy as np                                  # advanced math library\n",
    "from sklearn.svm import SVR                         # Support Vector Regression model\n",
    "from sklearn.linear_model import LinearRegression   # Linear regression model\n",
    "import matplotlib.pyplot as plt                     # MATLAB like plotting routines\n",
    "import pandas as pd                                 # For loading the data into dataframe\n",
    "import joblib                                       # For saving and loading model\n",
    "\n",
    "# For calculating RMSE, the usage refers to https://stackoverflow.com/a/18623635 \n",
    "from sklearn.metrics import mean_squared_error\n",
    "from math import sqrt\n",
    "\n",
    "# For calculating the coefficient of determination (R^2), \n",
    "# The usage refers to https://scikit-learn.org/stable/modules/generated/sklearn.metrics.r2_score.html\n",
    "from sklearn.metrics import r2_score\n",
    "\n",
    "# For splitting data set into training and test sets\n",
    "from sklearn.model_selection import train_test_split"
   ]
  },
  {
   "cell_type": "markdown",
   "metadata": {},
   "source": [
    "## Loading data into dataframe by using `panda` module"
   ]
  },
  {
   "cell_type": "code",
   "execution_count": 2,
   "metadata": {},
   "outputs": [],
   "source": [
    "df = pd.read_csv(\"data/GME_stock.csv\")"
   ]
  },
  {
   "cell_type": "markdown",
   "metadata": {},
   "source": [
    "### Reset the index of dataframe as 'date' for later plotting"
   ]
  },
  {
   "cell_type": "code",
   "execution_count": 3,
   "metadata": {},
   "outputs": [],
   "source": [
    "df.reset_index(inplace = True)\n",
    "df.set_index(\"date\", inplace = True)"
   ]
  },
  {
   "cell_type": "markdown",
   "metadata": {},
   "source": [
    "### Taking a look at the first and last five entries of the dataframe"
   ]
  },
  {
   "cell_type": "code",
   "execution_count": 4,
   "metadata": {},
   "outputs": [
    {
     "data": {
      "text/html": [
       "<div>\n",
       "<style scoped>\n",
       "    .dataframe tbody tr th:only-of-type {\n",
       "        vertical-align: middle;\n",
       "    }\n",
       "\n",
       "    .dataframe tbody tr th {\n",
       "        vertical-align: top;\n",
       "    }\n",
       "\n",
       "    .dataframe thead th {\n",
       "        text-align: right;\n",
       "    }\n",
       "</style>\n",
       "<table border=\"1\" class=\"dataframe\">\n",
       "  <thead>\n",
       "    <tr style=\"text-align: right;\">\n",
       "      <th></th>\n",
       "      <th>index</th>\n",
       "      <th>open_price</th>\n",
       "      <th>high_price</th>\n",
       "      <th>low_price</th>\n",
       "      <th>close_price</th>\n",
       "      <th>volume</th>\n",
       "      <th>adjclose_price</th>\n",
       "    </tr>\n",
       "    <tr>\n",
       "      <th>date</th>\n",
       "      <th></th>\n",
       "      <th></th>\n",
       "      <th></th>\n",
       "      <th></th>\n",
       "      <th></th>\n",
       "      <th></th>\n",
       "      <th></th>\n",
       "    </tr>\n",
       "  </thead>\n",
       "  <tbody>\n",
       "    <tr>\n",
       "      <th>2002-02-13</th>\n",
       "      <td>0</td>\n",
       "      <td>9.625</td>\n",
       "      <td>10.060</td>\n",
       "      <td>9.525</td>\n",
       "      <td>10.050</td>\n",
       "      <td>19054000</td>\n",
       "      <td>6.766666</td>\n",
       "    </tr>\n",
       "    <tr>\n",
       "      <th>2002-02-14</th>\n",
       "      <td>1</td>\n",
       "      <td>10.175</td>\n",
       "      <td>10.195</td>\n",
       "      <td>9.925</td>\n",
       "      <td>10.000</td>\n",
       "      <td>2755400</td>\n",
       "      <td>6.733003</td>\n",
       "    </tr>\n",
       "    <tr>\n",
       "      <th>2002-02-15</th>\n",
       "      <td>2</td>\n",
       "      <td>10.000</td>\n",
       "      <td>10.025</td>\n",
       "      <td>9.850</td>\n",
       "      <td>9.950</td>\n",
       "      <td>2097400</td>\n",
       "      <td>6.699336</td>\n",
       "    </tr>\n",
       "    <tr>\n",
       "      <th>2002-02-19</th>\n",
       "      <td>3</td>\n",
       "      <td>9.900</td>\n",
       "      <td>9.900</td>\n",
       "      <td>9.375</td>\n",
       "      <td>9.550</td>\n",
       "      <td>1852600</td>\n",
       "      <td>6.430017</td>\n",
       "    </tr>\n",
       "    <tr>\n",
       "      <th>2002-02-20</th>\n",
       "      <td>4</td>\n",
       "      <td>9.600</td>\n",
       "      <td>9.875</td>\n",
       "      <td>9.525</td>\n",
       "      <td>9.875</td>\n",
       "      <td>1723200</td>\n",
       "      <td>6.648838</td>\n",
       "    </tr>\n",
       "  </tbody>\n",
       "</table>\n",
       "</div>"
      ],
      "text/plain": [
       "            index  open_price  high_price  low_price  close_price    volume  \\\n",
       "date                                                                          \n",
       "2002-02-13      0       9.625      10.060      9.525       10.050  19054000   \n",
       "2002-02-14      1      10.175      10.195      9.925       10.000   2755400   \n",
       "2002-02-15      2      10.000      10.025      9.850        9.950   2097400   \n",
       "2002-02-19      3       9.900       9.900      9.375        9.550   1852600   \n",
       "2002-02-20      4       9.600       9.875      9.525        9.875   1723200   \n",
       "\n",
       "            adjclose_price  \n",
       "date                        \n",
       "2002-02-13        6.766666  \n",
       "2002-02-14        6.733003  \n",
       "2002-02-15        6.699336  \n",
       "2002-02-19        6.430017  \n",
       "2002-02-20        6.648838  "
      ]
     },
     "execution_count": 4,
     "metadata": {},
     "output_type": "execute_result"
    }
   ],
   "source": [
    "df.head()"
   ]
  },
  {
   "cell_type": "code",
   "execution_count": 5,
   "metadata": {},
   "outputs": [
    {
     "data": {
      "text/html": [
       "<div>\n",
       "<style scoped>\n",
       "    .dataframe tbody tr th:only-of-type {\n",
       "        vertical-align: middle;\n",
       "    }\n",
       "\n",
       "    .dataframe tbody tr th {\n",
       "        vertical-align: top;\n",
       "    }\n",
       "\n",
       "    .dataframe thead th {\n",
       "        text-align: right;\n",
       "    }\n",
       "</style>\n",
       "<table border=\"1\" class=\"dataframe\">\n",
       "  <thead>\n",
       "    <tr style=\"text-align: right;\">\n",
       "      <th></th>\n",
       "      <th>index</th>\n",
       "      <th>open_price</th>\n",
       "      <th>high_price</th>\n",
       "      <th>low_price</th>\n",
       "      <th>close_price</th>\n",
       "      <th>volume</th>\n",
       "      <th>adjclose_price</th>\n",
       "    </tr>\n",
       "    <tr>\n",
       "      <th>date</th>\n",
       "      <th></th>\n",
       "      <th></th>\n",
       "      <th></th>\n",
       "      <th></th>\n",
       "      <th></th>\n",
       "      <th></th>\n",
       "      <th></th>\n",
       "    </tr>\n",
       "  </thead>\n",
       "  <tbody>\n",
       "    <tr>\n",
       "      <th>2021-01-22</th>\n",
       "      <td>4768</td>\n",
       "      <td>42.590000</td>\n",
       "      <td>76.760002</td>\n",
       "      <td>42.320000</td>\n",
       "      <td>65.010002</td>\n",
       "      <td>196784300</td>\n",
       "      <td>65.010002</td>\n",
       "    </tr>\n",
       "    <tr>\n",
       "      <th>2021-01-25</th>\n",
       "      <td>4769</td>\n",
       "      <td>96.730003</td>\n",
       "      <td>159.179993</td>\n",
       "      <td>61.130001</td>\n",
       "      <td>76.790001</td>\n",
       "      <td>177874000</td>\n",
       "      <td>76.790001</td>\n",
       "    </tr>\n",
       "    <tr>\n",
       "      <th>2021-01-26</th>\n",
       "      <td>4770</td>\n",
       "      <td>88.559998</td>\n",
       "      <td>150.000000</td>\n",
       "      <td>80.199997</td>\n",
       "      <td>147.979996</td>\n",
       "      <td>178588000</td>\n",
       "      <td>147.979996</td>\n",
       "    </tr>\n",
       "    <tr>\n",
       "      <th>2021-01-27</th>\n",
       "      <td>4771</td>\n",
       "      <td>354.829987</td>\n",
       "      <td>380.000000</td>\n",
       "      <td>249.000000</td>\n",
       "      <td>347.510010</td>\n",
       "      <td>93396700</td>\n",
       "      <td>347.510010</td>\n",
       "    </tr>\n",
       "    <tr>\n",
       "      <th>2021-01-28</th>\n",
       "      <td>4772</td>\n",
       "      <td>265.000000</td>\n",
       "      <td>483.000000</td>\n",
       "      <td>112.250000</td>\n",
       "      <td>193.600006</td>\n",
       "      <td>58815800</td>\n",
       "      <td>193.600006</td>\n",
       "    </tr>\n",
       "  </tbody>\n",
       "</table>\n",
       "</div>"
      ],
      "text/plain": [
       "            index  open_price  high_price   low_price  close_price     volume  \\\n",
       "date                                                                            \n",
       "2021-01-22   4768   42.590000   76.760002   42.320000    65.010002  196784300   \n",
       "2021-01-25   4769   96.730003  159.179993   61.130001    76.790001  177874000   \n",
       "2021-01-26   4770   88.559998  150.000000   80.199997   147.979996  178588000   \n",
       "2021-01-27   4771  354.829987  380.000000  249.000000   347.510010   93396700   \n",
       "2021-01-28   4772  265.000000  483.000000  112.250000   193.600006   58815800   \n",
       "\n",
       "            adjclose_price  \n",
       "date                        \n",
       "2021-01-22       65.010002  \n",
       "2021-01-25       76.790001  \n",
       "2021-01-26      147.979996  \n",
       "2021-01-27      347.510010  \n",
       "2021-01-28      193.600006  "
      ]
     },
     "execution_count": 5,
     "metadata": {},
     "output_type": "execute_result"
    }
   ],
   "source": [
    "df.tail()"
   ]
  },
  {
   "cell_type": "markdown",
   "metadata": {},
   "source": [
    "### Extracting `close_price` from the dataframe"
   ]
  },
  {
   "cell_type": "code",
   "execution_count": 6,
   "metadata": {},
   "outputs": [],
   "source": [
    "df = df[['close_price']]"
   ]
  },
  {
   "cell_type": "markdown",
   "metadata": {},
   "source": [
    "## Initializing the time step variable"
   ]
  },
  {
   "cell_type": "code",
   "execution_count": 7,
   "metadata": {},
   "outputs": [],
   "source": [
    "forecasting_time_step = 1"
   ]
  },
  {
   "cell_type": "markdown",
   "metadata": {},
   "source": [
    "## Creating a new column named `target_close_price`"
   ]
  },
  {
   "cell_type": "code",
   "execution_count": 8,
   "metadata": {},
   "outputs": [],
   "source": [
    "df['target_close_price'] = df['close_price'].shift(-forecasting_time_step)"
   ]
  },
  {
   "cell_type": "markdown",
   "metadata": {},
   "source": [
    "#### Taking a look at the first and last five entries of the new dataframe"
   ]
  },
  {
   "cell_type": "code",
   "execution_count": 9,
   "metadata": {},
   "outputs": [
    {
     "data": {
      "text/html": [
       "<div>\n",
       "<style scoped>\n",
       "    .dataframe tbody tr th:only-of-type {\n",
       "        vertical-align: middle;\n",
       "    }\n",
       "\n",
       "    .dataframe tbody tr th {\n",
       "        vertical-align: top;\n",
       "    }\n",
       "\n",
       "    .dataframe thead th {\n",
       "        text-align: right;\n",
       "    }\n",
       "</style>\n",
       "<table border=\"1\" class=\"dataframe\">\n",
       "  <thead>\n",
       "    <tr style=\"text-align: right;\">\n",
       "      <th></th>\n",
       "      <th>close_price</th>\n",
       "      <th>target_close_price</th>\n",
       "    </tr>\n",
       "    <tr>\n",
       "      <th>date</th>\n",
       "      <th></th>\n",
       "      <th></th>\n",
       "    </tr>\n",
       "  </thead>\n",
       "  <tbody>\n",
       "    <tr>\n",
       "      <th>2002-02-13</th>\n",
       "      <td>10.050</td>\n",
       "      <td>10.000</td>\n",
       "    </tr>\n",
       "    <tr>\n",
       "      <th>2002-02-14</th>\n",
       "      <td>10.000</td>\n",
       "      <td>9.950</td>\n",
       "    </tr>\n",
       "    <tr>\n",
       "      <th>2002-02-15</th>\n",
       "      <td>9.950</td>\n",
       "      <td>9.550</td>\n",
       "    </tr>\n",
       "    <tr>\n",
       "      <th>2002-02-19</th>\n",
       "      <td>9.550</td>\n",
       "      <td>9.875</td>\n",
       "    </tr>\n",
       "    <tr>\n",
       "      <th>2002-02-20</th>\n",
       "      <td>9.875</td>\n",
       "      <td>9.850</td>\n",
       "    </tr>\n",
       "  </tbody>\n",
       "</table>\n",
       "</div>"
      ],
      "text/plain": [
       "            close_price  target_close_price\n",
       "date                                       \n",
       "2002-02-13       10.050              10.000\n",
       "2002-02-14       10.000               9.950\n",
       "2002-02-15        9.950               9.550\n",
       "2002-02-19        9.550               9.875\n",
       "2002-02-20        9.875               9.850"
      ]
     },
     "execution_count": 9,
     "metadata": {},
     "output_type": "execute_result"
    }
   ],
   "source": [
    "df.head()"
   ]
  },
  {
   "cell_type": "code",
   "execution_count": 10,
   "metadata": {},
   "outputs": [
    {
     "data": {
      "text/html": [
       "<div>\n",
       "<style scoped>\n",
       "    .dataframe tbody tr th:only-of-type {\n",
       "        vertical-align: middle;\n",
       "    }\n",
       "\n",
       "    .dataframe tbody tr th {\n",
       "        vertical-align: top;\n",
       "    }\n",
       "\n",
       "    .dataframe thead th {\n",
       "        text-align: right;\n",
       "    }\n",
       "</style>\n",
       "<table border=\"1\" class=\"dataframe\">\n",
       "  <thead>\n",
       "    <tr style=\"text-align: right;\">\n",
       "      <th></th>\n",
       "      <th>close_price</th>\n",
       "      <th>target_close_price</th>\n",
       "    </tr>\n",
       "    <tr>\n",
       "      <th>date</th>\n",
       "      <th></th>\n",
       "      <th></th>\n",
       "    </tr>\n",
       "  </thead>\n",
       "  <tbody>\n",
       "    <tr>\n",
       "      <th>2021-01-22</th>\n",
       "      <td>65.010002</td>\n",
       "      <td>76.790001</td>\n",
       "    </tr>\n",
       "    <tr>\n",
       "      <th>2021-01-25</th>\n",
       "      <td>76.790001</td>\n",
       "      <td>147.979996</td>\n",
       "    </tr>\n",
       "    <tr>\n",
       "      <th>2021-01-26</th>\n",
       "      <td>147.979996</td>\n",
       "      <td>347.510010</td>\n",
       "    </tr>\n",
       "    <tr>\n",
       "      <th>2021-01-27</th>\n",
       "      <td>347.510010</td>\n",
       "      <td>193.600006</td>\n",
       "    </tr>\n",
       "    <tr>\n",
       "      <th>2021-01-28</th>\n",
       "      <td>193.600006</td>\n",
       "      <td>NaN</td>\n",
       "    </tr>\n",
       "  </tbody>\n",
       "</table>\n",
       "</div>"
      ],
      "text/plain": [
       "            close_price  target_close_price\n",
       "date                                       \n",
       "2021-01-22    65.010002           76.790001\n",
       "2021-01-25    76.790001          147.979996\n",
       "2021-01-26   147.979996          347.510010\n",
       "2021-01-27   347.510010          193.600006\n",
       "2021-01-28   193.600006                 NaN"
      ]
     },
     "execution_count": 10,
     "metadata": {},
     "output_type": "execute_result"
    }
   ],
   "source": [
    "df.tail()"
   ]
  },
  {
   "cell_type": "markdown",
   "metadata": {},
   "source": [
    "## Removing all the `NaN` entries from the new dataframe"
   ]
  },
  {
   "cell_type": "code",
   "execution_count": 11,
   "metadata": {},
   "outputs": [],
   "source": [
    "df = df[:-forecasting_time_step]"
   ]
  },
  {
   "cell_type": "code",
   "execution_count": 12,
   "metadata": {},
   "outputs": [
    {
     "data": {
      "text/html": [
       "<div>\n",
       "<style scoped>\n",
       "    .dataframe tbody tr th:only-of-type {\n",
       "        vertical-align: middle;\n",
       "    }\n",
       "\n",
       "    .dataframe tbody tr th {\n",
       "        vertical-align: top;\n",
       "    }\n",
       "\n",
       "    .dataframe thead th {\n",
       "        text-align: right;\n",
       "    }\n",
       "</style>\n",
       "<table border=\"1\" class=\"dataframe\">\n",
       "  <thead>\n",
       "    <tr style=\"text-align: right;\">\n",
       "      <th></th>\n",
       "      <th>close_price</th>\n",
       "      <th>target_close_price</th>\n",
       "    </tr>\n",
       "    <tr>\n",
       "      <th>date</th>\n",
       "      <th></th>\n",
       "      <th></th>\n",
       "    </tr>\n",
       "  </thead>\n",
       "  <tbody>\n",
       "    <tr>\n",
       "      <th>2021-01-21</th>\n",
       "      <td>43.029999</td>\n",
       "      <td>65.010002</td>\n",
       "    </tr>\n",
       "    <tr>\n",
       "      <th>2021-01-22</th>\n",
       "      <td>65.010002</td>\n",
       "      <td>76.790001</td>\n",
       "    </tr>\n",
       "    <tr>\n",
       "      <th>2021-01-25</th>\n",
       "      <td>76.790001</td>\n",
       "      <td>147.979996</td>\n",
       "    </tr>\n",
       "    <tr>\n",
       "      <th>2021-01-26</th>\n",
       "      <td>147.979996</td>\n",
       "      <td>347.510010</td>\n",
       "    </tr>\n",
       "    <tr>\n",
       "      <th>2021-01-27</th>\n",
       "      <td>347.510010</td>\n",
       "      <td>193.600006</td>\n",
       "    </tr>\n",
       "  </tbody>\n",
       "</table>\n",
       "</div>"
      ],
      "text/plain": [
       "            close_price  target_close_price\n",
       "date                                       \n",
       "2021-01-21    43.029999           65.010002\n",
       "2021-01-22    65.010002           76.790001\n",
       "2021-01-25    76.790001          147.979996\n",
       "2021-01-26   147.979996          347.510010\n",
       "2021-01-27   347.510010          193.600006"
      ]
     },
     "execution_count": 12,
     "metadata": {},
     "output_type": "execute_result"
    }
   ],
   "source": [
    "df.tail()"
   ]
  },
  {
   "cell_type": "markdown",
   "metadata": {},
   "source": [
    "## Putting feature and label into two lists"
   ]
  },
  {
   "cell_type": "code",
   "execution_count": 13,
   "metadata": {},
   "outputs": [],
   "source": [
    "X = np.array(df['close_price']).reshape(-1, 1)\n",
    "Y = np.array(df['target_close_price'])"
   ]
  },
  {
   "cell_type": "markdown",
   "metadata": {},
   "source": [
    "## Splitting the dataset into training and test sets"
   ]
  },
  {
   "cell_type": "code",
   "execution_count": 14,
   "metadata": {},
   "outputs": [],
   "source": [
    "x_train, x_test, y_train, y_test = train_test_split(X, Y, test_size = 0.2, shuffle = False)"
   ]
  },
  {
   "cell_type": "code",
   "execution_count": 16,
   "metadata": {},
   "outputs": [],
   "source": [
    "dates_training = pd.to_datetime(df.index[:len(x_train)])\n",
    "dates_test = pd.to_datetime(df.index[len(x_train):])"
   ]
  },
  {
   "cell_type": "markdown",
   "metadata": {},
   "source": [
    "## Loading the SVR and LR models"
   ]
  },
  {
   "cell_type": "code",
   "execution_count": 24,
   "metadata": {},
   "outputs": [],
   "source": [
    "SVR_RBF = joblib.load(\"SVR_Model/SVR_1_model.pkl\")"
   ]
  },
  {
   "cell_type": "code",
   "execution_count": 25,
   "metadata": {},
   "outputs": [],
   "source": [
    "LR = joblib.load(\"LR_Model/LR_1_model.pkl\")"
   ]
  },
  {
   "cell_type": "markdown",
   "metadata": {},
   "source": [
    "## Building the SVR and LR models"
   ]
  },
  {
   "cell_type": "markdown",
   "metadata": {},
   "source": [
    "##### If you have already loaded the two models in the `Loading the trained SVR and LR models` section, please feel free to skip this step"
   ]
  },
  {
   "cell_type": "code",
   "execution_count": 18,
   "metadata": {},
   "outputs": [],
   "source": [
    "SVR_RBF = SVR(kernel = 'rbf', C = 1e3, gamma = 0.1)"
   ]
  },
  {
   "cell_type": "code",
   "execution_count": 19,
   "metadata": {},
   "outputs": [],
   "source": [
    "LR = LinearRegression()"
   ]
  },
  {
   "cell_type": "markdown",
   "metadata": {},
   "source": [
    "## Training the SVR and LR models"
   ]
  },
  {
   "cell_type": "markdown",
   "metadata": {},
   "source": [
    "##### If you have already loaded the two models in the `Loading the trained SVR and LR models` section, please feel free to skip this step"
   ]
  },
  {
   "cell_type": "code",
   "execution_count": 20,
   "metadata": {},
   "outputs": [
    {
     "data": {
      "text/plain": [
       "SVR(C=1000.0, gamma=0.1)"
      ]
     },
     "execution_count": 20,
     "metadata": {},
     "output_type": "execute_result"
    }
   ],
   "source": [
    "SVR_RBF.fit(x_train, y_train)"
   ]
  },
  {
   "cell_type": "code",
   "execution_count": 21,
   "metadata": {},
   "outputs": [
    {
     "data": {
      "text/plain": [
       "LinearRegression()"
      ]
     },
     "execution_count": 21,
     "metadata": {},
     "output_type": "execute_result"
    }
   ],
   "source": [
    "LR.fit(x_train, y_train)"
   ]
  },
  {
   "cell_type": "markdown",
   "metadata": {},
   "source": [
    "## Saving the trained SVR and LR models"
   ]
  },
  {
   "cell_type": "markdown",
   "metadata": {},
   "source": [
    "##### If you have already loaded the two models in the `Loading the trained SVR and LR models` section, please feel free to skip this step"
   ]
  },
  {
   "cell_type": "code",
   "execution_count": 22,
   "metadata": {},
   "outputs": [
    {
     "data": {
      "text/plain": [
       "['SVR_Model/SVR_1_model.pkl']"
      ]
     },
     "execution_count": 22,
     "metadata": {},
     "output_type": "execute_result"
    }
   ],
   "source": [
    "joblib.dump(SVR_RBF, \"SVR_Model/SVR_1_model.pkl\")"
   ]
  },
  {
   "cell_type": "code",
   "execution_count": 23,
   "metadata": {},
   "outputs": [
    {
     "data": {
      "text/plain": [
       "['LR_Model/LR_1_model.pkl']"
      ]
     },
     "execution_count": 23,
     "metadata": {},
     "output_type": "execute_result"
    }
   ],
   "source": [
    "joblib.dump(LR, \"LR_Model/LR_1_model.pkl\")"
   ]
  },
  {
   "cell_type": "markdown",
   "metadata": {},
   "source": [
    "## Plotting the actual price and predicted price in the training set"
   ]
  },
  {
   "cell_type": "code",
   "execution_count": 47,
   "metadata": {},
   "outputs": [
    {
     "data": {
      "image/png": "[encoded data removed]",
      "text/plain": [
       "<Figure size 792x504 with 1 Axes>"
      ]
     },
     "metadata": {
      "needs_background": "light"
     },
     "output_type": "display_data"
    }
   ],
   "source": [
    "plt.figure(figsize = (11, 7))\n",
    "plt.plot(dates_training, y_train, color= 'blue', label= 'Actual price')\n",
    "plt.plot(dates_training, LR.predict(x_train), color= 'black', label= 'Predicted price by LR') \n",
    "plt.plot(dates_training, SVR_RBF.predict(x_train), color= 'red', label= 'Predicted price by SVR')\n",
    "plt.xlabel('Date')\n",
    "plt.ylabel('Price')\n",
    "plt.title('Training result of next-day forcasting via SVR & LR')\n",
    "plt.legend()\n",
    "plt.savefig('img/SVR_1_training_result.png')\n",
    "plt.show()"
   ]
  },
  {
   "cell_type": "markdown",
   "metadata": {},
   "source": [
    "## Plotting the actual price and predicted price in the test set"
   ]
  },
  {
   "cell_type": "code",
   "execution_count": 48,
   "metadata": {},
   "outputs": [
    {
     "data": {
      "image/png": "[encoded data removed]",
      "text/plain": [
       "<Figure size 792x504 with 1 Axes>"
      ]
     },
     "metadata": {
      "needs_background": "light"
     },
     "output_type": "display_data"
    }
   ],
   "source": [
    "plt.figure(figsize = (11, 7))\n",
    "plt.plot(dates_test, y_test, color= 'blue', label= 'Actual price')\n",
    "plt.plot(dates_test, LR.predict(x_test), color= 'black', label= 'Predicted price by LR') \n",
    "plt.plot(dates_test, SVR_RBF.predict(x_test), color= 'red', label= 'Predicted price by SVR')\n",
    "plt.xlabel('Date')\n",
    "plt.ylabel('Price')\n",
    "plt.title('The next-day stock price forcasting via SVR & LR')\n",
    "plt.legend()\n",
    "plt.savefig('img/SVR_1_test_result.png')\n",
    "plt.show()"
   ]
  },
  {
   "cell_type": "markdown",
   "metadata": {},
   "source": [
    "### Computing the root mean square error (RMSE)"
   ]
  },
  {
   "cell_type": "code",
   "execution_count": 49,
   "metadata": {},
   "outputs": [
    {
     "name": "stdout",
     "output_type": "stream",
     "text": [
      "The root mean square error (RMSE) for SVR model is 12.006865572658864\n"
     ]
    }
   ],
   "source": [
    "print(f'The root mean square error (RMSE) for SVR model is {sqrt(mean_squared_error(y_test, SVR_RBF.predict(x_test)))}')"
   ]
  },
  {
   "cell_type": "code",
   "execution_count": 50,
   "metadata": {},
   "outputs": [
    {
     "name": "stdout",
     "output_type": "stream",
     "text": [
      "The root mean square error (RMSE) for LR model is 8.537212587525197\n"
     ]
    }
   ],
   "source": [
    "print(f'The root mean square error (RMSE) for LR model is {sqrt(mean_squared_error(y_test, LR.predict(x_test)))}')"
   ]
  },
  {
   "cell_type": "markdown",
   "metadata": {},
   "source": [
    "### Computing the coefficient of determination (R<sup>2</sup>)"
   ]
  },
  {
   "cell_type": "code",
   "execution_count": 51,
   "metadata": {},
   "outputs": [
    {
     "name": "stdout",
     "output_type": "stream",
     "text": [
      "The coefficient of determination (R^2) for the SVR model is 0.34350254172291117\n"
     ]
    }
   ],
   "source": [
    "print(f'The coefficient of determination (R^2) for the SVR model is {SVR_RBF.score(x_test, y_test)}')"
   ]
  },
  {
   "cell_type": "code",
   "execution_count": 52,
   "metadata": {},
   "outputs": [
    {
     "name": "stdout",
     "output_type": "stream",
     "text": [
      "The coefficient of determination (R^2) for the LR model is 0.6681009996336738\n"
     ]
    }
   ],
   "source": [
    "print(f'The coefficient of determination (R^2) for the LR model is {LR.score(x_test, y_test)}')"
   ]
  },
  {
   "cell_type": "markdown",
   "metadata": {},
   "source": [
    "### Building a function to compute the trend prediction accuracy"
   ]
  },
  {
   "cell_type": "code",
   "execution_count": 53,
   "metadata": {},
   "outputs": [],
   "source": [
    "def accForTrendPredict(test_actual_value, test_predicted_value):\n",
    "    y_var_test = test_actual_value[1:] - test_actual_value[:len(test_actual_value)-1]\n",
    "    y_var_predict = test_predicted_value[1:] - test_predicted_value[:len(test_predicted_value)-1]\n",
    "\n",
    "    return (np.sum(np.sign(y_var_test) == np.sign(y_var_predict)) / len(y_var_test)) * 100"
   ]
  },
  {
   "cell_type": "markdown",
   "metadata": {},
   "source": [
    "### Computing the accuracy of trend prediction"
   ]
  },
  {
   "cell_type": "code",
   "execution_count": 54,
   "metadata": {},
   "outputs": [
    {
     "name": "stdout",
     "output_type": "stream",
     "text": [
      "The accuracy of trend prediction for SVR model is 48.63731656184486%\n"
     ]
    }
   ],
   "source": [
    "acc_SVR = accForTrendPredict(y_test.reshape(-1, 1), SVR_RBF.predict(x_test).reshape(-1, 1))\n",
    "print(f'The accuracy of trend prediction for SVR model is {acc_SVR}%')"
   ]
  },
  {
   "cell_type": "code",
   "execution_count": 55,
   "metadata": {},
   "outputs": [
    {
     "name": "stdout",
     "output_type": "stream",
     "text": [
      "The accuracy of trend prediction for LR model is 50.10482180293501%\n"
     ]
    }
   ],
   "source": [
    "acc_LR = accForTrendPredict(y_test.reshape(-1, 1), LR.predict(x_test).reshape(-1, 1))\n",
    "print(f'The accuracy of trend prediction for LR model is {acc_LR}%')"
   ]
  },
  {
   "cell_type": "markdown",
   "metadata": {},
   "source": [
    "## Removing the last 11 days"
   ]
  },
  {
   "cell_type": "markdown",
   "metadata": {},
   "source": [
    "### Making the plot"
   ]
  },
  {
   "cell_type": "code",
   "execution_count": 56,
   "metadata": {},
   "outputs": [
    {
     "data": {
      "image/png": "[encoded data removed]",
      "text/plain": [
       "<Figure size 792x504 with 1 Axes>"
      ]
     },
     "metadata": {
      "needs_background": "light"
     },
     "output_type": "display_data"
    }
   ],
   "source": [
    "plt.figure(figsize = (11, 7))\n",
    "plt.plot(dates_test[:-11], y_test[:-11], color= 'blue', label= 'Actual price')\n",
    "plt.plot(dates_test[:-11], LR.predict(x_test[:-11]), color= 'black', label= 'Predicted price by LR') \n",
    "plt.plot(dates_test[:-11], SVR_RBF.predict(x_test[:-11]), color= 'red', label= 'Predicted price by SVR')\n",
    "plt.xlabel('Date')\n",
    "plt.ylabel('Price')\n",
    "plt.title('The next-day stock price forcasting without the last 11 days via SVR & LR')\n",
    "plt.legend()\n",
    "plt.savefig('img/SVR_1_without_last_11_days.png')\n",
    "plt.show()"
   ]
  },
  {
   "cell_type": "markdown",
   "metadata": {},
   "source": [
    "### Computing the root mean square error (RMSE)"
   ]
  },
  {
   "cell_type": "code",
   "execution_count": 57,
   "metadata": {},
   "outputs": [
    {
     "name": "stdout",
     "output_type": "stream",
     "text": [
      "The root mean square error (RMSE) for SVR model is 0.5275305837804011\n"
     ]
    }
   ],
   "source": [
    "print(f'The root mean square error (RMSE) for SVR model is {sqrt(mean_squared_error(y_test[:-11], SVR_RBF.predict(x_test[:-11])))}')"
   ]
  },
  {
   "cell_type": "code",
   "execution_count": 58,
   "metadata": {},
   "outputs": [
    {
     "name": "stdout",
     "output_type": "stream",
     "text": [
      "The root mean square error (RMSE) for LR model is 0.5017622075576466\n"
     ]
    }
   ],
   "source": [
    "print(f'The root mean square error (RMSE) for LR model is {sqrt(mean_squared_error(y_test[:-11], LR.predict(x_test[:-11])))}')"
   ]
  },
  {
   "cell_type": "markdown",
   "metadata": {},
   "source": [
    "### Computing the coefficient of determination (R<sup>2</sup>)"
   ]
  },
  {
   "cell_type": "code",
   "execution_count": 59,
   "metadata": {},
   "outputs": [
    {
     "name": "stdout",
     "output_type": "stream",
     "text": [
      "The coefficient of determination (R^2) for the SVR model is 0.9925638835273992\n"
     ]
    }
   ],
   "source": [
    "print(f'The coefficient of determination (R^2) for the SVR model is {SVR_RBF.score(x_test[:-11], y_test[:-11])}')"
   ]
  },
  {
   "cell_type": "code",
   "execution_count": 60,
   "metadata": {},
   "outputs": [
    {
     "name": "stdout",
     "output_type": "stream",
     "text": [
      "The coefficient of determination (R^2) for the LR model is 0.9932726071053891\n"
     ]
    }
   ],
   "source": [
    "print(f'The coefficient of determination (R^2) for the LR model is {LR.score(x_test[:-11], y_test[:-11])}')"
   ]
  },
  {
   "cell_type": "markdown",
   "metadata": {},
   "source": [
    "### Computing the accuracy of trend prediction"
   ]
  },
  {
   "cell_type": "code",
   "execution_count": 61,
   "metadata": {},
   "outputs": [
    {
     "name": "stdout",
     "output_type": "stream",
     "text": [
      "The accuracy of trend prediction for SVR model is 48.63731656184486%\n"
     ]
    }
   ],
   "source": [
    "acc_SVR = accForTrendPredict(y_test.reshape(-1, 1), SVR_RBF.predict(x_test).reshape(-1, 1))\n",
    "print(f'The accuracy of trend prediction for SVR model is {acc_SVR}%')"
   ]
  },
  {
   "cell_type": "code",
   "execution_count": 62,
   "metadata": {},
   "outputs": [
    {
     "name": "stdout",
     "output_type": "stream",
     "text": [
      "The accuracy of trend prediction for LR model is 50.10482180293501%\n"
     ]
    }
   ],
   "source": [
    "acc_LR = accForTrendPredict(y_test.reshape(-1, 1), LR.predict(x_test).reshape(-1, 1))\n",
    "print(f'The accuracy of trend prediction for LR model is {acc_LR}%')"
   ]
  }
 ],
 "metadata": {
  "kernelspec": {
   "display_name": "Python 3",
   "language": "python",
   "name": "python3"
  },
  "language_info": {
   "codemirror_mode": {
    "name": "ipython",
    "version": 3
   },
   "file_extension": ".py",
   "mimetype": "text/x-python",
   "name": "python",
   "nbconvert_exporter": "python",
   "pygments_lexer": "ipython3",
   "version": "3.8.3"
  }
 },
 "nbformat": 4,
 "nbformat_minor": 4
}
